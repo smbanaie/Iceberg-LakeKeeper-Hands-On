{
 "cells": [
  {
   "cell_type": "markdown",
   "metadata": {},
   "source": [
    "# Lakekeeper Bootstrap Process - Technical Deep Dive\n",
    "\n",
    "This document provides a comprehensive explanation of the Lakekeeper bootstrap process, analyzing each step from the `02-01-Bootstrap.ipynb` notebook with technical details from the Keycloak realm configuration.\n",
    "\n",
    "## 🎯 **Overview**\n",
    "\n",
    "The bootstrap process initializes Lakekeeper with the first administrative user and sets up the foundational access control system. This is a **one-time operation** that can only be performed when the system is in an uninitialized state.\n",
    "\n",
    "## 📋 **Prerequisites**\n",
    "\n",
    "### Required Services\n",
    "- **Keycloak** (Identity Provider) - Running on port 30080\n",
    "- **Lakekeeper** (Data Catalog) - Running on port 8181\n",
    "- **OpenFGA** (Authorization Backend) - Running internally\n",
    "- **PostgreSQL** (Metadata Database) - Running internally\n",
    "\n",
    "### Keycloak Configuration\n",
    "From `realm.json`, the system is configured with:\n",
    "\n",
    "#### **Realm Settings**\n",
    "- **Realm Name**: `iceberg`\n",
    "- **Access Token Lifespan**: 300 seconds (5 minutes)\n",
    "- **SSO Session Timeout**: 1800 seconds (30 minutes)\n",
    "- **Default Signature Algorithm**: RS256\n",
    "\n",
    "#### **Pre-configured Users**\n",
    "1. **Human Users**:\n",
    "   - `peter` (peter@example.com) - Admin user\n",
    "   - `anna` (anna@example.com) - Regular user with no initial permissions\n",
    "\n",
    "2. **Service Accounts** (Technical Users):\n",
    "   - `spark` - Used for bootstrap process\n",
    "   - `trino` - Query engine access\n",
    "   - `duckdb` - Query engine access  \n",
    "   - `starrocks` - Query engine access\n",
    "   - `openfga` - Authorization backend\n",
    "\n",
    "## 🔧 **Step-by-Step Process Analysis**\n",
    "\n",
    "### **Step 1: Install Dependencies**"
   ]
  },
  {
   "cell_type": "code",
   "execution_count": 1,
   "metadata": {},
   "outputs": [
    {
     "name": "stdout",
     "output_type": "stream",
     "text": [
      "\u001b[33mWARNING: Running pip as the 'root' user can result in broken permissions and conflicting behaviour with the system package manager, possibly rendering your system unusable. It is recommended to use a virtual environment instead: https://pip.pypa.io/warnings/venv. Use the --root-user-action option if you know what you are doing and want to suppress this warning.\u001b[0m\u001b[33m\n",
      "\u001b[0m\n",
      "\u001b[1m[\u001b[0m\u001b[34;49mnotice\u001b[0m\u001b[1;39;49m]\u001b[0m\u001b[39;49m A new release of pip is available: \u001b[0m\u001b[31;49m25.0.1\u001b[0m\u001b[39;49m -> \u001b[0m\u001b[32;49m25.2\u001b[0m\n",
      "\u001b[1m[\u001b[0m\u001b[34;49mnotice\u001b[0m\u001b[1;39;49m]\u001b[0m\u001b[39;49m To update, run: \u001b[0m\u001b[32;49mpip install --upgrade pip\u001b[0m\n"
     ]
    }
   ],
   "source": [
    "!pip install -q pyjwt"
   ]
  },
  {
   "cell_type": "markdown",
   "metadata": {},
   "source": [
    "**What Happens:**\n",
    "- Installs the `pyjwt` library for JWT token handling\n",
    "- This library allows us to decode JWT tokens without signature verification\n",
    "- Essential for inspecting token contents during the bootstrap process\n",
    "\n",
    "**Technical Details:**\n",
    "- **Library Purpose**: JWT (JSON Web Token) decoding and validation\n",
    "- **Security Note**: Running as root in Docker container (expected behavior)\n",
    "- **Usage**: We'll use this to inspect tokens received from Keycloak\n",
    "\n",
    "### **Step 2: Import Libraries and Define URLs**"
   ]
  },
  {
   "cell_type": "code",
   "execution_count": 2,
   "metadata": {},
   "outputs": [],
   "source": [
    "import requests, jwt\n",
    "from IPython.display import JSON\n",
    "\n",
    "CATALOG_URL = \"http://lakekeeper:8181/catalog\"\n",
    "MANAGEMENT_URL = \"http://lakekeeper:8181/management\"\n",
    "KEYCLOAK_TOKEN_URL = \"http://keycloak:8080/realms/iceberg/protocol/openid-connect/token\""
   ]
  },
  {
   "cell_type": "markdown",
   "metadata": {},
   "source": [
    "**What Happens:**\n",
    "- Imports required libraries for HTTP requests and JWT handling\n",
    "- Defines service endpoints for internal communication\n",
    "- Sets up the OAuth2/OIDC token endpoint for Keycloak\n",
    "\n",
    "**Technical Details:**\n",
    "- **Internal Communication**: All services communicate via Docker network\n",
    "- **OAuth2 Flow**: Using client credentials grant type\n",
    "- **Service Discovery**: URLs point to internal Docker service names\n",
    "\n",
    "### **Step 3: Authenticate with Keycloak**"
   ]
  },
  {
   "cell_type": "markdown",
   "metadata": {},
   "source": [
    "#### Bootstraping Lakekeeper\n",
    "Initially, Lakekeeper needs to be bootstrapped.\n",
    "During bootstrapping the initial `admin` is set. Bootstrapping can only be performed once. The first user calling the bootstrap endpoint, will become the `admin`.\n",
    "\n",
    "This Notebook performs bootstrapping via python requests. It only works if the server hasn't previously bootstrapped using the UI!"
   ]
  },
  {
   "cell_type": "markdown",
   "metadata": {},
   "source": [
    "## 1. Sign in\n",
    "First, we need to obtain a token from our Identity Provider. In this example a `Keycloak` is running as a pod beside Lakekeeper. A few users have been pre-created in Keycloak for this example. We are now logging into Keycloak as the technical user (client) `spark`. If a human user bootstraps the catalog, we recommend to use the UI.\n",
    "\n",
    "Keycloak can be accessed at http://localhost:30080 in this example. Use `admin` as username and password. Then select the `iceberg` realm on the top left corner."
   ]
  },
  {
   "cell_type": "code",
   "execution_count": 3,
   "metadata": {},
   "outputs": [],
   "source": [
    "# Login to Keycloak\n",
    "CLIENT_ID = \"spark\"\n",
    "CLIENT_SECRET = \"2OR3eRvYfSZzzZ16MlPd95jhLnOaLM52\"\n",
    "\n",
    "response = requests.post(\n",
    "    url=KEYCLOAK_TOKEN_URL,\n",
    "    data={\n",
    "        \"grant_type\": \"client_credentials\",\n",
    "        \"client_id\": CLIENT_ID,\n",
    "        \"client_secret\": CLIENT_SECRET,\n",
    "        \"scope\": \"lakekeeper\"\n",
    "    },\n",
    "    headers={\"Content-type\": \"application/x-www-form-urlencoded\"},\n",
    ")\n",
    "response.raise_for_status()\n",
    "access_token = response.json()['access_token']\n"
   ]
  },
  {
   "cell_type": "markdown",
   "metadata": {},
   "source": [
    "\n",
    "**What Happens:**\n",
    "- Authenticates as the `spark` service account using client credentials\n",
    "- Requests an access token with `lakekeeper` scope\n",
    "- Receives a JWT token for subsequent API calls\n",
    "\n",
    "**Technical Details:**\n",
    "- **Grant Type**: `client_credentials` (machine-to-machine authentication)\n",
    "- **Client ID**: `spark` (pre-configured service account)\n",
    "- **Scope**: `lakekeeper` (specific permission scope)\n",
    "- **Token Type**: JWT (JSON Web Token)\n",
    "- **Token Lifespan**: 300 seconds (5 minutes)\n",
    "\n",
    "**From realm.json - Spark Client Configuration:**\n",
    "```json\n",
    "{\n",
    "  \"clientId\": \"spark\",\n",
    "  \"secret\": \"2OR3eRvYfSZzzZ16MlPd95jhLnOaLM52\",\n",
    "  \"serviceAccountsEnabled\": true,\n",
    "  \"standardFlowEnabled\": false,\n",
    "  \"directAccessGrantsEnabled\": false\n",
    "}\n",
    "```\n",
    "Now that we have the access token, we can query the server info Endpoint. \n",
    "On first launch it will show bootstrapped `'bootstrapped': false`.\n",
    "The full API documentation is available as part of the Repository and hosted by Lakekeeper: [http://localhost:8181/swagger-ui/#/](http://localhost:8181/swagger-ui/#/)\n",
    "\n",
    "### **Step 4: Inspect the JWT Token**"
   ]
  },
  {
   "cell_type": "code",
   "execution_count": 4,
   "metadata": {},
   "outputs": [
    {
     "data": {
      "application/json": {
       "acr": "1",
       "allowed-origins": [
        "/*"
       ],
       "aud": [
        "lakekeeper",
        "account"
       ],
       "azp": "spark",
       "clientAddress": "172.18.0.5",
       "clientHost": "172.18.0.5",
       "client_id": "spark",
       "email_verified": false,
       "exp": 1754391059,
       "iat": 1754387459,
       "iss": "http://keycloak:8080/realms/iceberg",
       "jti": "trrtcc:cd24cf1f-7087-fd22-1d86-eab5516a8781",
       "preferred_username": "service-account-spark",
       "realm_access": {
        "roles": [
         "offline_access",
         "uma_authorization",
         "default-roles-iceberg"
        ]
       },
       "resource_access": {
        "account": {
         "roles": [
          "manage-account",
          "manage-account-links",
          "view-profile"
         ]
        }
       },
       "scope": "email profile",
       "sub": "9410d0bf-4487-4177-a34f-af364cac0a59",
       "typ": "Bearer"
      },
      "text/plain": [
       "<IPython.core.display.JSON object>"
      ]
     },
     "execution_count": 4,
     "metadata": {
      "application/json": {
       "expanded": false,
       "root": "root"
      }
     },
     "output_type": "execute_result"
    }
   ],
   "source": [
    "# Lets inspect the token we got to see that our application name is available:\n",
    "JSON(jwt.decode(access_token, options={\"verify_signature\": False}))"
   ]
  },
  {
   "cell_type": "markdown",
   "metadata": {},
   "source": [
    "**What Happens:**\n",
    "- Decodes the JWT token to inspect its contents\n",
    "- Shows user information, permissions, and token metadata\n",
    "- Verifies the authentication was successful\n",
    "\n",
    "**Expected Token Structure:**\n",
    "```json\n",
    "{\n",
    "  \"acr\": \"1\",\n",
    "  \"aud\": [\"lakekeeper\", \"account\"],\n",
    "  \"azp\": \"spark\",\n",
    "  \"client_id\": \"spark\",\n",
    "  \"exp\": 1754303226,\n",
    "  \"iat\": 1754299626,\n",
    "  \"iss\": \"http://keycloak:8080/realms/iceberg\",\n",
    "  \"preferred_username\": \"service-account-spark\",\n",
    "  \"realm_access\": {\n",
    "    \"roles\": [\"offline_access\", \"uma_authorization\", \"default-roles-iceberg\"]\n",
    "  },\n",
    "  \"scope\": \"email profile\",\n",
    "  \"sub\": \"9410d0bf-4487-4177-a34f-af364cac0a59\",\n",
    "  \"typ\": \"Bearer\"\n",
    "}\n",
    "```\n",
    "\n",
    "**Technical Details:**\n",
    "- **Subject (sub)**: Unique user identifier\n",
    "- **Issuer (iss)**: Keycloak realm URL\n",
    "- **Audience (aud)**: Intended recipients (lakekeeper, account)\n",
    "- **Expiration (exp)**: Token expiration timestamp\n",
    "- **Roles**: Default realm roles assigned to service account\n",
    "\n",
    "### **Step 5: Check Server Status**"
   ]
  },
  {
   "cell_type": "code",
   "execution_count": 5,
   "metadata": {},
   "outputs": [
    {
     "data": {
      "application/json": {
       "authz-backend": "openfga",
       "aws-system-identities-enabled": false,
       "azure-system-identities-enabled": false,
       "bootstrapped": false,
       "default-project-id": "00000000-0000-0000-0000-000000000000",
       "gcp-system-identities-enabled": false,
       "queues": [
        "tabular_expiration",
        "tabular_purge"
       ],
       "server-id": "00000000-0000-0000-0000-000000000000",
       "version": "0.9.3"
      },
      "text/plain": [
       "<IPython.core.display.JSON object>"
      ]
     },
     "execution_count": 5,
     "metadata": {
      "application/json": {
       "expanded": false,
       "root": "root"
      }
     },
     "output_type": "execute_result"
    }
   ],
   "source": [
    "response = requests.get(\n",
    "    url=f\"{MANAGEMENT_URL}/v1/info\",\n",
    "    headers={\"Authorization\": f\"Bearer {access_token}\"},\n",
    ")\n",
    "response.raise_for_status()\n",
    "JSON(response.json())\n",
    "# On first launch it shows \"bootstrapped\": False"
   ]
  },
  {
   "cell_type": "markdown",
   "metadata": {},
   "source": [
    "**What Happens:**\n",
    "- Queries Lakekeeper's server information endpoint\n",
    "- Checks if the system has been bootstrapped\n",
    "- Verifies the authentication token is valid\n",
    "\n",
    "**Expected Response (Before Bootstrap):**\n",
    "```json\n",
    "{\n",
    "  \"authz-backend\": \"openfga\",\n",
    "  \"aws-system-identities-enabled\": false,\n",
    "  \"azure-system-identities-enabled\": false,\n",
    "  \"bootstrapped\": false,\n",
    "  \"default-project-id\": \"00000000-0000-0000-0000-000000000000\",\n",
    "  \"gcp-system-identities-enabled\": false,\n",
    "  \"queues\": [\"tabular_purge\", \"tabular_expiration\"],\n",
    "  \"server-id\": \"00000000-0000-0000-0000-000000000000\",\n",
    "  \"version\": \"0.9.3\"\n",
    "}\n",
    "```\n",
    "\n",
    "**Technical Details:**\n",
    "- **Bootstrapped**: `false` indicates system needs initialization\n",
    "- **Authz Backend**: OpenFGA is configured for authorization\n",
    "- **Version**: Lakekeeper version information\n",
    "- **Queues**: Background processing queues\n",
    "\n",
    "### **Step 6: Perform Bootstrap**"
   ]
  },
  {
   "cell_type": "markdown",
   "metadata": {},
   "source": [
    "## 2. Bootstrap"
   ]
  },
  {
   "cell_type": "code",
   "execution_count": 8,
   "metadata": {},
   "outputs": [],
   "source": [
    "response = requests.post(\n",
    "    url=f\"{MANAGEMENT_URL}/v1/bootstrap\",\n",
    "    headers={\n",
    "        \"Authorization\": f\"Bearer {access_token}\"\n",
    "    },\n",
    "    json={\n",
    "        \"accept-terms-of-use\": True,\n",
    "        # Optionally, we can override the name / type of the user:\n",
    "        # \"user-email\": \"user@example.com\",\n",
    "        # \"user-name\": \"Roald Amundsen\",\n",
    "        # \"user-type\": \"human\"\n",
    "    },\n",
    ")\n",
    "response.raise_for_status()"
   ]
  },
  {
   "cell_type": "markdown",
   "metadata": {},
   "source": [
    "**What Happens:**\n",
    "- Initiates the bootstrap process\n",
    "- Creates the first administrative user\n",
    "- Sets up the foundational system configuration\n",
    "- **Critical**: This can only be done once!\n",
    "\n",
    "**Technical Details:**\n",
    "- **One-time Operation**: Bootstrap can only be performed once\n",
    "- **Admin Creation**: The calling user becomes the system administrator\n",
    "- **Terms Acceptance**: Required for legal compliance\n",
    "- **System Initialization**: Sets up default projects and permissions\n",
    "\n",
    "### **Step 7: Grant Permissions to Human Users**"
   ]
  },
  {
   "cell_type": "markdown",
   "metadata": {},
   "source": [
    "## 3. Grant access to UI User\n",
    "In keycloak the user \"Peter\" exists which we are now also assigning the \"admin\" role.\n",
    "\n",
    "Before executing the next cell, login to the UI at http://localhost:8181 using:\n",
    "* Username: `peter`\n",
    "* Password: `iceberg`\n",
    "\n",
    "You should see \"You don't have any projects assignments\".\n",
    "\n",
    "Lets assign permissions to peter:"
   ]
  },
  {
   "cell_type": "code",
   "execution_count": 9,
   "metadata": {},
   "outputs": [
    {
     "data": {
      "application/json": {
       "next-page-token": "MSYxNzU0Mzg3NTg1MDIwOTU5Jm9pZGN-OTQxMGQwYmYtNDQ4Ny00MTc3LWEzNGYtYWYzNjRjYWMwYTU5",
       "users": [
        {
         "created-at": "2025-08-05T09:53:05.020959Z",
         "email": null,
         "id": "oidc~9410d0bf-4487-4177-a34f-af364cac0a59",
         "last-updated-with": "update-endpoint",
         "name": "service-account-spark",
         "updated-at": null,
         "user-type": "application"
        }
       ]
      },
      "text/plain": [
       "<IPython.core.display.JSON object>"
      ]
     },
     "execution_count": 9,
     "metadata": {
      "application/json": {
       "expanded": false,
       "root": "root"
      }
     },
     "output_type": "execute_result"
    }
   ],
   "source": [
    "\n",
    "# Users will show up in the /v1/user endpoint after the first login via the UI\n",
    "# or the first call to the /catalog/v1/config endpoint.\n",
    "response = requests.get(\n",
    "    url=f\"{MANAGEMENT_URL}/v1/user\",\n",
    "    headers={\"Authorization\": f\"Bearer {access_token}\"},\n",
    ")\n",
    "response.raise_for_status()\n",
    "JSON(response.json())"
   ]
  },
  {
   "cell_type": "code",
   "execution_count": 10,
   "metadata": {},
   "outputs": [],
   "source": [
    "response = requests.post(\n",
    "    url=f\"{MANAGEMENT_URL}/v1/permissions/server/assignments\",\n",
    "    headers={\"Authorization\": f\"Bearer {access_token}\"},\n",
    "    json={\n",
    "      \"writes\": [\n",
    "        {\n",
    "          \"type\": \"admin\",\n",
    "          \"user\": \"oidc~cfb55bf6-fcbb-4a1e-bfec-30c6649b52f8\"\n",
    "        }\n",
    "      ]\n",
    "    }\n",
    ")\n",
    "response.raise_for_status()"
   ]
  },
  {
   "cell_type": "markdown",
   "metadata": {},
   "source": [
    "**What Happens:**\n",
    "- Grants server-level admin permissions to Peter\n",
    "- Allows Peter to manage the entire Lakekeeper system\n",
    "- Uses OpenID Connect user identifier format\n",
    "\n",
    "**Technical Details:**\n",
    "- **User ID Format**: `oidc~{keycloak-user-id}`\n",
    "- **Permission Type**: `admin` (highest level access)\n",
    "- **Scope**: Server-wide permissions\n",
    "- **User ID**: `cfb55bf6-fcbb-4a1e-bfec-30c6649b52f8` (Peter's Keycloak ID)\n",
    "\n",
    "#### **7.2: Assign Project Admin Role**\n",
    "You can now refresh the UI page and should see the default Lakehouse."
   ]
  },
  {
   "cell_type": "code",
   "execution_count": 11,
   "metadata": {},
   "outputs": [],
   "source": [
    "response = requests.post(\n",
    "    url=f\"{MANAGEMENT_URL}/v1/permissions/project/assignments\",\n",
    "    headers={\"Authorization\": f\"Bearer {access_token}\"},\n",
    "    json={\n",
    "      \"writes\": [\n",
    "        {\n",
    "          \"type\": \"project_admin\",\n",
    "          \"user\": \"oidc~cfb55bf6-fcbb-4a1e-bfec-30c6649b52f8\"\n",
    "        }\n",
    "      ]\n",
    "    }\n",
    ")\n",
    "response.raise_for_status()"
   ]
  },
  {
   "cell_type": "markdown",
   "metadata": {},
   "source": [
    "**What Happens:**\n",
    "- Grants project-level admin permissions to Peter\n",
    "- Allows Peter to manage data projects and resources\n",
    "- Enables full access to data lake operations\n",
    "\n",
    "**Technical Details:**\n",
    "- **Permission Type**: `project_admin` (project-level administration)\n",
    "- **Scope**: Project and data resource management\n",
    "- **Hierarchy**: Project admin is below server admin in permission levels\n",
    "\n",
    "### **Step 8: Register Query Engine Service Accounts**"
   ]
  },
  {
   "cell_type": "markdown",
   "metadata": {},
   "source": [
    "### 3.1 Grant Access to trino & duckdb & starrocks User"
   ]
  },
  {
   "cell_type": "code",
   "execution_count": 12,
   "metadata": {},
   "outputs": [],
   "source": [
    "# First we login as the trino user, so that the user is known to\n",
    "# Lakekeeper.\n",
    "\n",
    "for client_id, client_secret in [(\"trino\", \"AK48QgaKsqdEpP9PomRJw7l2T7qWGHdZ\"), (\"duckdb\", \"r2dHUlb7XrkSRcvrRqG5XZwQfnUS5NlL\"), (\"starrocks\", \"X5IWbfDJBTcU1F3PGZWgxDJwLyuFQmSf\")]:\n",
    "    response = requests.post(\n",
    "        url=KEYCLOAK_TOKEN_URL,\n",
    "        data={\n",
    "            \"grant_type\": \"client_credentials\",\n",
    "            \"client_id\": client_id,\n",
    "            \"client_secret\": client_secret,\n",
    "            \"scope\": \"lakekeeper\"\n",
    "        },\n",
    "        headers={\"Content-type\": \"application/x-www-form-urlencoded\"},\n",
    "    )\n",
    "    response.raise_for_status()\n",
    "    access_token_client = response.json()['access_token']\n",
    "    \n",
    "    response = requests.post(\n",
    "        url=f\"{MANAGEMENT_URL}/v1/user\",\n",
    "        headers={\"Authorization\": f\"Bearer {access_token_client}\"},\n",
    "        json={\"update-if-exists\": True}\n",
    "    )\n",
    "    response.raise_for_status()"
   ]
  },
  {
   "cell_type": "markdown",
   "metadata": {},
   "source": [
    "**What Happens:**\n",
    "- Authenticates each query engine service account\n",
    "- Registers them as users in Lakekeeper\n",
    "- Enables query engines to access the data catalog\n",
    "\n",
    "**Technical Details:**\n",
    "- **Service Accounts**: Machine-to-machine authentication\n",
    "- **Client Secrets**: Pre-configured in Keycloak realm\n",
    "- **User Registration**: Creates user records in Lakekeeper\n",
    "- **Scope**: `lakekeeper` for catalog access"
   ]
  },
  {
   "cell_type": "code",
   "execution_count": 13,
   "metadata": {
    "scrolled": true
   },
   "outputs": [
    {
     "data": {
      "application/json": {
       "next-page-token": "MSYxNzU0Mzg3NzA1NTQwMTU2Jm9pZGN-NzUxNWJlNGItY2U1Yi00MzcxLWFiMzEtZjQwYjk3Zjc0ZWM2",
       "users": [
        {
         "created-at": "2025-08-05T09:53:05.020959Z",
         "email": null,
         "id": "oidc~9410d0bf-4487-4177-a34f-af364cac0a59",
         "last-updated-with": "update-endpoint",
         "name": "service-account-spark",
         "updated-at": null,
         "user-type": "application"
        },
        {
         "created-at": "2025-08-05T09:55:05.288158Z",
         "email": null,
         "id": "oidc~94eb1d88-7854-43a0-b517-a75f92c533a5",
         "last-updated-with": "create-endpoint",
         "name": "service-account-trino",
         "updated-at": null,
         "user-type": "application"
        },
        {
         "created-at": "2025-08-05T09:55:05.358748Z",
         "email": null,
         "id": "oidc~7a5da0c5-24e2-4148-a8d9-71c748275928",
         "last-updated-with": "create-endpoint",
         "name": "service-account-duckdb",
         "updated-at": null,
         "user-type": "application"
        },
        {
         "created-at": "2025-08-05T09:55:05.540156Z",
         "email": null,
         "id": "oidc~7515be4b-ce5b-4371-ab31-f40b97f74ec6",
         "last-updated-with": "create-endpoint",
         "name": "service-account-starrocks",
         "updated-at": null,
         "user-type": "application"
        }
       ]
      },
      "text/plain": [
       "<IPython.core.display.JSON object>"
      ]
     },
     "execution_count": 13,
     "metadata": {
      "application/json": {
       "expanded": false,
       "root": "root"
      }
     },
     "output_type": "execute_result"
    }
   ],
   "source": [
    "# Users will show up in the /v1/user endpoint after the first login via the UI\n",
    "# or the first call to the /catalog/v1/config endpoint.\n",
    "response = requests.get(\n",
    "    url=f\"{MANAGEMENT_URL}/v1/user\",\n",
    "    headers={\"Authorization\": f\"Bearer {access_token}\"},\n",
    ")\n",
    "response.raise_for_status()\n",
    "JSON(response.json())"
   ]
  },
  {
   "cell_type": "code",
   "execution_count": 14,
   "metadata": {},
   "outputs": [],
   "source": [
    "response = requests.post(\n",
    "    url=f\"{MANAGEMENT_URL}/v1/permissions/project/assignments\",\n",
    "    headers={\"Authorization\": f\"Bearer {access_token}\"},\n",
    "    json={\n",
    "      \"writes\": [\n",
    "        {\n",
    "            \"type\": \"project_admin\",\n",
    "            \"user\": \"oidc~94eb1d88-7854-43a0-b517-a75f92c533a5\"\n",
    "        },\n",
    "        {\n",
    "            \"type\": \"project_admin\",\n",
    "            \"user\": \"oidc~7515be4b-ce5b-4371-ab31-f40b97f74ec6\"\n",
    "        },\n",
    "        {\n",
    "            \"type\": \"project_admin\",\n",
    "            \"user\": \"oidc~7a5da0c5-24e2-4148-a8d9-71c748275928\"\n",
    "        }\n",
    "      ]\n",
    "    }\n",
    ")\n",
    "response.raise_for_status()"
   ]
  },
  {
   "cell_type": "markdown",
   "metadata": {},
   "source": [
    "**What Happens:**\n",
    "- Grants project admin permissions to all query engines\n",
    "- Enables query engines to read/write data and metadata\n",
    "- Allows engines to manage their own data resources\n",
    "\n",
    "### **Step 9: Validate Bootstrap Completion**"
   ]
  },
  {
   "cell_type": "markdown",
   "metadata": {},
   "source": [
    "## 4. Validate Bootstrap"
   ]
  },
  {
   "cell_type": "code",
   "execution_count": 15,
   "metadata": {},
   "outputs": [
    {
     "data": {
      "application/json": {
       "authz-backend": "openfga",
       "aws-system-identities-enabled": false,
       "azure-system-identities-enabled": false,
       "bootstrapped": true,
       "default-project-id": "00000000-0000-0000-0000-000000000000",
       "gcp-system-identities-enabled": false,
       "queues": [
        "tabular_expiration",
        "tabular_purge"
       ],
       "server-id": "00000000-0000-0000-0000-000000000000",
       "version": "0.9.3"
      },
      "text/plain": [
       "<IPython.core.display.JSON object>"
      ]
     },
     "execution_count": 15,
     "metadata": {
      "application/json": {
       "expanded": false,
       "root": "root"
      }
     },
     "output_type": "execute_result"
    }
   ],
   "source": [
    "# The server is now bootstrapped:\n",
    "response = requests.get(\n",
    "    url=f\"{MANAGEMENT_URL}/v1/info\",\n",
    "    headers={\"Authorization\": f\"Bearer {access_token}\"},\n",
    ")\n",
    "response.raise_for_status()\n",
    "JSON(response.json())"
   ]
  },
  {
   "cell_type": "markdown",
   "metadata": {},
   "source": [
    "**Expected Response (After Bootstrap):**\n",
    "```json\n",
    "{\n",
    "  \"authz-backend\": \"openfga\",\n",
    "  \"bootstrapped\": true,\n",
    "  \"default-project-id\": \"00000000-0000-0000-0000-000000000000\",\n",
    "  \"server-id\": \"00000000-0000-0000-0000-000000000000\",\n",
    "  \"version\": \"0.9.3\"\n",
    "}\n",
    "```\n",
    "\n",
    "**Technical Details:**\n",
    "- **Bootstrapped**: Now `true` indicating successful initialization\n",
    "- **System Ready**: Lakekeeper is now operational\n",
    "- **Admin User**: Service account `spark` is the system administrator\n",
    "\n",
    "#### **9.2: Verify User List**"
   ]
  },
  {
   "cell_type": "code",
   "execution_count": 16,
   "metadata": {},
   "outputs": [
    {
     "data": {
      "application/json": {
       "next-page-token": "MSYxNzU0Mzg3NzA1NTQwMTU2Jm9pZGN-NzUxNWJlNGItY2U1Yi00MzcxLWFiMzEtZjQwYjk3Zjc0ZWM2",
       "users": [
        {
         "created-at": "2025-08-05T09:53:05.020959Z",
         "email": null,
         "id": "oidc~9410d0bf-4487-4177-a34f-af364cac0a59",
         "last-updated-with": "update-endpoint",
         "name": "service-account-spark",
         "updated-at": null,
         "user-type": "application"
        },
        {
         "created-at": "2025-08-05T09:55:05.288158Z",
         "email": null,
         "id": "oidc~94eb1d88-7854-43a0-b517-a75f92c533a5",
         "last-updated-with": "create-endpoint",
         "name": "service-account-trino",
         "updated-at": null,
         "user-type": "application"
        },
        {
         "created-at": "2025-08-05T09:55:05.358748Z",
         "email": null,
         "id": "oidc~7a5da0c5-24e2-4148-a8d9-71c748275928",
         "last-updated-with": "create-endpoint",
         "name": "service-account-duckdb",
         "updated-at": null,
         "user-type": "application"
        },
        {
         "created-at": "2025-08-05T09:55:05.540156Z",
         "email": null,
         "id": "oidc~7515be4b-ce5b-4371-ab31-f40b97f74ec6",
         "last-updated-with": "create-endpoint",
         "name": "service-account-starrocks",
         "updated-at": null,
         "user-type": "application"
        }
       ]
      },
      "text/plain": [
       "<IPython.core.display.JSON object>"
      ]
     },
     "execution_count": 16,
     "metadata": {
      "application/json": {
       "expanded": false,
       "root": "root"
      }
     },
     "output_type": "execute_result"
    }
   ],
   "source": [
    "# An initial user was created\n",
    "response = requests.get(\n",
    "    url=f\"{MANAGEMENT_URL}/v1/user\",\n",
    "    headers={\"Authorization\": f\"Bearer {access_token}\"},\n",
    ")\n",
    "response.raise_for_status()\n",
    "JSON(response.json())"
   ]
  },
  {
   "cell_type": "markdown",
   "metadata": {},
   "source": [
    "\n",
    "**Expected Users:**\n",
    "1. **service-account-spark** (System Admin)\n",
    "2. **Peter Cold** (Human Admin)\n",
    "3. **service-account-trino** (Query Engine)\n",
    "4. **service-account-duckdb** (Query Engine)\n",
    "5. **service-account-starrocks** (Query Engine)\n",
    "\n",
    "#### **9.3: Verify Admin Permissions**"
   ]
  },
  {
   "cell_type": "code",
   "execution_count": 17,
   "metadata": {},
   "outputs": [
    {
     "data": {
      "application/json": {
       "assignments": [
        {
         "type": "admin",
         "user": "oidc~9410d0bf-4487-4177-a34f-af364cac0a59"
        },
        {
         "type": "admin",
         "user": "oidc~cfb55bf6-fcbb-4a1e-bfec-30c6649b52f8"
        }
       ]
      },
      "text/plain": [
       "<IPython.core.display.JSON object>"
      ]
     },
     "execution_count": 17,
     "metadata": {
      "application/json": {
       "expanded": false,
       "root": "root"
      }
     },
     "output_type": "execute_result"
    }
   ],
   "source": [
    "# The \"admin\" role has been assigned:\n",
    "response = requests.get(\n",
    "    url=f\"{MANAGEMENT_URL}/v1/permissions/server/assignments\",\n",
    "    headers={\"Authorization\": f\"Bearer {access_token}\"},\n",
    ")\n",
    "response.raise_for_status()\n",
    "user_id = response.json()['assignments'][0]['user']\n",
    "JSON(response.json())"
   ]
  },
  {
   "cell_type": "code",
   "execution_count": 18,
   "metadata": {},
   "outputs": [
    {
     "data": {
      "application/json": {
       "allowed-actions": [
        "create_project",
        "update_users",
        "delete_users",
        "list_users",
        "grant_admin",
        "provision_users",
        "read_assignments"
       ]
      },
      "text/plain": [
       "<IPython.core.display.JSON object>"
      ]
     },
     "execution_count": 18,
     "metadata": {
      "application/json": {
       "expanded": false,
       "root": "root"
      }
     },
     "output_type": "execute_result"
    }
   ],
   "source": [
    "# This user is the global admin, which has all access rights to the server:\n",
    "response = requests.get(\n",
    "    url=f\"{MANAGEMENT_URL}/v1/permissions/server/access\",\n",
    "    headers={\"Authorization\": f\"Bearer {access_token}\"},\n",
    ")\n",
    "response.raise_for_status()\n",
    "JSON(response.json())"
   ]
  },
  {
   "cell_type": "code",
   "execution_count": 21,
   "metadata": {},
   "outputs": [
    {
     "data": {
      "application/json": {
       "created-at": "2025-08-05T07:44:59.087285Z",
       "email": null,
       "id": "oidc~9410d0bf-4487-4177-a34f-af364cac0a59",
       "last-updated-with": "update-endpoint",
       "name": "service-account-spark",
       "updated-at": null,
       "user-type": "application"
      },
      "text/plain": [
       "<IPython.core.display.JSON object>"
      ]
     },
     "execution_count": 21,
     "metadata": {
      "application/json": {
       "expanded": false,
       "root": "root"
      }
     },
     "output_type": "execute_result"
    }
   ],
   "source": [
    "# Lets see who this user is:\n",
    "response = requests.get(\n",
    "    url=f\"{MANAGEMENT_URL}/v1/user/{user_id}\",\n",
    "    headers={\"Authorization\": f\"Bearer {access_token}\"},\n",
    ")\n",
    "response.raise_for_status()\n",
    "JSON(response.json())"
   ]
  },
  {
   "cell_type": "markdown",
   "metadata": {},
   "source": [
    "\n",
    "**Expected Permissions:**\n",
    "```json\n",
    "{\n",
    "  \"allowed-actions\": [\n",
    "    \"create_project\",\n",
    "    \"update_users\", \n",
    "    \"delete_users\",\n",
    "    \"list_users\",\n",
    "    \"grant_admin\",\n",
    "    \"provision_users\",\n",
    "    \"read_assignments\"\n",
    "  ]\n",
    "}\n",
    "```\n",
    "\n",
    "## 🔐 **Security Architecture**\n",
    "\n",
    "### **Authentication Flow**\n",
    "1. **Service Account Authentication**: Using client credentials\n",
    "2. **JWT Token Generation**: Keycloak issues signed tokens\n",
    "3. **Token Validation**: Lakekeeper validates tokens with Keycloak\n",
    "4. **Permission Checking**: OpenFGA handles authorization decisions\n",
    "\n",
    "### **Authorization Model**\n",
    "- **Server Admin**: Full system access\n",
    "- **Project Admin**: Project and data resource management\n",
    "- **Query Engines**: Data access and metadata management\n",
    "- **Human Users**: Role-based access control\n",
    "\n",
    "### **Keycloak Realm Configuration**\n",
    "From `realm.json`:\n",
    "- **Realm**: `iceberg`\n",
    "- **Users**: 7 pre-configured users (2 human, 5 service accounts)\n",
    "- **Clients**: 10 configured clients including query engines\n",
    "- **Roles**: Default roles with UMA authorization support\n",
    "\n",
    "## ⚠️ **Important Notes**\n",
    "\n",
    "### **Bootstrap Limitations**\n",
    "- **One-time Operation**: Bootstrap can only be performed once\n",
    "- **Admin Assignment**: First user to bootstrap becomes system admin\n",
    "- **UI Restriction**: Should not use UI for bootstrap (use notebook instead)\n",
    "\n",
    "### **Security Considerations**\n",
    "- **Service Account Secrets**: Pre-configured in realm.json\n",
    "- **Token Lifespan**: 5 minutes for access tokens\n",
    "- **Internal Communication**: All services communicate via Docker network\n",
    "- **Permission Inheritance**: Server admin > Project admin > User permissions\n",
    "\n",
    "### **Troubleshooting**\n",
    "- **Token Expiration**: Re-authenticate if tokens expire\n",
    "- **Service Dependencies**: Ensure all services are healthy before bootstrap\n",
    "- **Permission Errors**: Verify user IDs and permission assignments\n",
    "- **Network Issues**: Check Docker network connectivity\n",
    "\n",
    "## 🎯 **Next Steps**\n",
    "\n",
    "After successful bootstrap:\n",
    "1. **Login to UI**: Use Peter's credentials (peter/iceberg)\n",
    "2. **Create Warehouses**: Set up data storage locations\n",
    "3. **Test Query Engines**: Verify Spark, Trino, StarRocks access\n",
    "4. **Configure Permissions**: Set up additional user access as needed\n",
    "\n",
    "---\n",
    "\n",
    "**The bootstrap process establishes the foundational security and access control system for the entire data lake platform.** "
   ]
  }
 ],
 "metadata": {
  "kernelspec": {
   "display_name": "Python 3 (ipykernel)",
   "language": "python",
   "name": "python3"
  },
  "language_info": {
   "codemirror_mode": {
    "name": "ipython",
    "version": 3
   },
   "file_extension": ".py",
   "mimetype": "text/x-python",
   "name": "python",
   "nbconvert_exporter": "python",
   "pygments_lexer": "ipython3",
   "version": "3.12.11"
  }
 },
 "nbformat": 4,
 "nbformat_minor": 4
}
