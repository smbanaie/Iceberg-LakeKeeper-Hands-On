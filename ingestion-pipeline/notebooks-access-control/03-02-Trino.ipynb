{
 "cells": [
  {
   "cell_type": "code",
   "execution_count": 1,
   "metadata": {},
   "outputs": [
    {
     "name": "stdout",
     "output_type": "stream",
     "text": [
      "\u001b[33mWARNING: Running pip as the 'root' user can result in broken permissions and conflicting behaviour with the system package manager, possibly rendering your system unusable. It is recommended to use a virtual environment instead: https://pip.pypa.io/warnings/venv. Use the --root-user-action option if you know what you are doing and want to suppress this warning.\u001b[0m\u001b[33m\n",
      "\u001b[0m\n",
      "\u001b[1m[\u001b[0m\u001b[34;49mnotice\u001b[0m\u001b[1;39;49m]\u001b[0m\u001b[39;49m A new release of pip is available: \u001b[0m\u001b[31;49m25.0.1\u001b[0m\u001b[39;49m -> \u001b[0m\u001b[32;49m25.2\u001b[0m\n",
      "\u001b[1m[\u001b[0m\u001b[34;49mnotice\u001b[0m\u001b[1;39;49m]\u001b[0m\u001b[39;49m To update, run: \u001b[0m\u001b[32;49mpip install --upgrade pip\u001b[0m\n"
     ]
    }
   ],
   "source": [
    "!pip install -q trino"
   ]
  },
  {
   "cell_type": "code",
   "execution_count": 2,
   "metadata": {},
   "outputs": [],
   "source": [
    "CATALOG_URL = \"http://lakekeeper:8181/catalog\"\n",
    "TRINO_URI = \"http://trino:8080\"\n",
    "KEYCLOAK_TOKEN_ENDPOINT = \"http://keycloak:8080/realms/iceberg/protocol/openid-connect/token\"\n",
    "WAREHOUSE = \"irisa-ot\"  # Changed from \"demo\" to match DuckDB\n",
    "\n",
    "CLIENT_ID = \"trino\"  # Use trino client as configured in bootstrap\n",
    "CLIENT_SECRET = \"AK48QgaKsqdEpP9PomRJw7l2T7qWGHdZ\"  # Use trino client secret"
   ]
  },
  {
   "cell_type": "markdown",
   "metadata": {},
   "source": [
    "# Create Trino Catalog"
   ]
  },
  {
   "cell_type": "code",
   "execution_count": 3,
   "metadata": {},
   "outputs": [],
   "source": [
    "from trino.dbapi import connect\n",
    "\n",
    "conn = connect(host=TRINO_URI, user=\"trino\")"
   ]
  },
  {
   "cell_type": "code",
   "execution_count": 4,
   "metadata": {
    "scrolled": true
   },
   "outputs": [
    {
     "data": {
      "text/plain": [
       "<trino.dbapi.Cursor at 0x7521b6d09520>"
      ]
     },
     "execution_count": 4,
     "metadata": {},
     "output_type": "execute_result"
    }
   ],
   "source": [
    "cur = conn.cursor()\n",
    "cur.execute(\n",
    "    f\"\"\"\n",
    "    CREATE CATALOG lakekeeper USING iceberg\n",
    "    WITH (\n",
    "        \"iceberg.catalog.type\" = 'rest',\n",
    "        \"iceberg.rest-catalog.uri\" = '{CATALOG_URL}',\n",
    "        \"iceberg.rest-catalog.warehouse\" = '{WAREHOUSE}',\n",
    "        \"iceberg.rest-catalog.security\" = 'OAUTH2',\n",
    "        \"iceberg.rest-catalog.oauth2.credential\" = '{CLIENT_ID}:{CLIENT_SECRET}',\n",
    "        \"iceberg.rest-catalog.vended-credentials-enabled\" = 'true',\n",
    "        \"iceberg.rest-catalog.oauth2.scope\" = 'lakekeeper',\n",
    "        \"iceberg.rest-catalog.oauth2.server-uri\" = '{KEYCLOAK_TOKEN_ENDPOINT}',\n",
    "        \"s3.region\"= 'dummy',\n",
    "        \"s3.path-style-access\" = 'true',\n",
    "        \"s3.endpoint\" = 'http://minio:9000',\n",
    "        \"fs.native-s3.enabled\" = 'true'\n",
    "    )\n",
    "\"\"\"\n",
    ")"
   ]
  },
  {
   "cell_type": "markdown",
   "metadata": {},
   "source": [
    "## Read and Write Tables"
   ]
  },
  {
   "cell_type": "code",
   "execution_count": 5,
   "metadata": {},
   "outputs": [],
   "source": [
    "# Connect directly to demo catalog, so that we don't have to use it as a prefix\n",
    "conn = connect(host=TRINO_URI, user=\"trino\", catalog=\"lakekeeper\")\n",
    "cur = conn.cursor()"
   ]
  },
  {
   "cell_type": "code",
   "execution_count": 6,
   "metadata": {},
   "outputs": [
    {
     "data": {
      "text/plain": [
       "<trino.dbapi.Cursor at 0x7521b6d0a630>"
      ]
     },
     "execution_count": 6,
     "metadata": {},
     "output_type": "execute_result"
    }
   ],
   "source": [
    "cur.execute(\"CREATE SCHEMA IF NOT EXISTS irisa\")  # Match DuckDB namespace"
   ]
  },
  {
   "cell_type": "code",
   "execution_count": null,
   "metadata": {},
   "outputs": [],
   "source": [
    "# cur.execute(\n",
    "#     \"CREATE TABLE trino_namespace.my_table (my_ints INT, my_floats DOUBLE, strings VARCHAR) WITH (format='PARQUET')\"\n",
    "# )\n",
    "# cur.execute(\n",
    "#     \"INSERT INTO trino_namespace.my_table VALUES (1, 1.0, 'a'), (2, 2.0, 'b')\"\n",
    "# )"
   ]
  },
  {
   "cell_type": "code",
   "execution_count": 7,
   "metadata": {},
   "outputs": [
    {
     "data": {
      "text/plain": [
       "[[1,\n",
       "  6826,\n",
       "  1,\n",
       "  1,\n",
       "  datetime.datetime(2024, 6, 25, 20, 39, 44),\n",
       "  datetime.datetime(2024, 6, 25, 21, 21, 44),\n",
       "  'Message body for record 1 from source 2 to destination 5'],\n",
       " [28,\n",
       "  8797,\n",
       "  2,\n",
       "  5,\n",
       "  datetime.datetime(2024, 6, 14, 16, 46, 43),\n",
       "  datetime.datetime(2024, 6, 14, 16, 50, 43),\n",
       "  'Message body for record 28 from source 5 to destination 4'],\n",
       " [29,\n",
       "  5441,\n",
       "  3,\n",
       "  4,\n",
       "  datetime.datetime(2024, 6, 30, 15, 46, 44),\n",
       "  datetime.datetime(2024, 6, 30, 16, 15, 44),\n",
       "  'Message body for record 29 from source 3 to destination 5'],\n",
       " [10,\n",
       "  1531,\n",
       "  5,\n",
       "  5,\n",
       "  datetime.datetime(2024, 6, 1, 19, 56, 54),\n",
       "  datetime.datetime(2024, 6, 1, 20, 35, 54),\n",
       "  'Message body for record 10 from source 3 to destination 2'],\n",
       " [15,\n",
       "  8321,\n",
       "  2,\n",
       "  2,\n",
       "  datetime.datetime(2024, 6, 20, 4, 38),\n",
       "  datetime.datetime(2024, 6, 20, 5, 33),\n",
       "  'Message body for record 15 from source 4 to destination 5']]"
      ]
     },
     "execution_count": 7,
     "metadata": {},
     "output_type": "execute_result"
    }
   ],
   "source": [
    "# Query the existing table from DuckDB notebook\n",
    "cur.execute(\"SELECT * FROM irisa.fake_seclink LIMIT 5\").fetchall()"
   ]
  },
  {
   "cell_type": "code",
   "execution_count": 8,
   "metadata": {},
   "outputs": [
    {
     "name": "stdout",
     "output_type": "stream",
     "text": [
      "📊 Query 1: Total record count\n",
      "Total records: 10000\n"
     ]
    }
   ],
   "source": [
    "print(\"📊 Query 1: Total record count\")\n",
    "total_count = cur.execute(\"SELECT COUNT(*) FROM irisa.fake_seclink\").fetchone()[0]\n",
    "print(f\"Total records: {total_count}\")"
   ]
  },
  {
   "cell_type": "code",
   "execution_count": 9,
   "metadata": {},
   "outputs": [
    {
     "name": "stdout",
     "output_type": "stream",
     "text": [
      "📅 Query 2: Records by month (partitioning test)\n",
      "Month 1 (2024-01): 1709 records\n",
      "Month 2 (2024-02): 1572 records\n",
      "Month 3 (2024-03): 1696 records\n",
      "Month 4 (2024-04): 1622 records\n",
      "Month 5 (2024-05): 1754 records\n",
      "Month 6 (2024-06): 1647 records\n"
     ]
    }
   ],
   "source": [
    "# Cell 11: Records by Month (Partitioning Test)\n",
    "print(\"📅 Query 2: Records by month (partitioning test)\")\n",
    "for month in range(1, 7):\n",
    "    result = cur.execute(f\"\"\"\n",
    "        SELECT COUNT(*) FROM irisa.fake_seclink\n",
    "        WHERE EXTRACT(MONTH FROM DateIn) = {month} AND EXTRACT(YEAR FROM DateIn) = 2024\n",
    "    \"\"\").fetchone()[0]\n",
    "    print(f\"Month {month} (2024-{month:02d}): {result} records\")"
   ]
  },
  {
   "cell_type": "code",
   "execution_count": 10,
   "metadata": {},
   "outputs": [
    {
     "name": "stdout",
     "output_type": "stream",
     "text": [
      "🏢 Query 3: Top sources by record count\n",
      "Source 5: 2035 records\n",
      "Source 4: 2015 records\n",
      "Source 3: 2014 records\n",
      "Source 2: 1973 records\n",
      "Source 1: 1963 records\n"
     ]
    }
   ],
   "source": [
    "# Cell 12: Top Sources by Record Count\n",
    "print(\"🏢 Query 3: Top sources by record count\")\n",
    "top_sources = cur.execute(\"\"\"\n",
    "    SELECT Source, COUNT(*) as count\n",
    "    FROM irisa.fake_seclink\n",
    "    GROUP BY Source\n",
    "    ORDER BY count DESC\n",
    "    LIMIT 5\n",
    "\"\"\").fetchall()\n",
    "for source, count in top_sources:\n",
    "    print(f\"Source {source}: {count} records\")"
   ]
  },
  {
   "cell_type": "code",
   "execution_count": 13,
   "metadata": {},
   "outputs": [
    {
     "name": "stdout",
     "output_type": "stream",
     "text": [
      "⏱️ Query 4: Average processing time analysis\n",
      "Average processing time: 30.62 minutes\n",
      "Min processing time: 1.00 minutes\n",
      "Max processing time: 60.00 minutes\n"
     ]
    }
   ],
   "source": [
    "# Cell 13: Average Processing Time Analysis\n",
    "print(\"⏱️ Query 4: Average processing time analysis\")\n",
    "avg_stats = cur.execute(\"\"\"\n",
    "    SELECT \n",
    "        AVG(date_diff('minute', DateIn, DateOut)) as avg_min,\n",
    "        MIN(date_diff('minute', DateIn, DateOut)) as min_min,\n",
    "        MAX(date_diff('minute', DateIn, DateOut)) as max_min\n",
    "    FROM irisa.fake_seclink\n",
    "    WHERE DateOut IS NOT NULL AND DateIn IS NOT NULL\n",
    "\"\"\").fetchone()\n",
    "print(f\"Average processing time: {avg_stats[0]:.2f} minutes\")\n",
    "print(f\"Min processing time: {avg_stats[1]:.2f} minutes\")\n",
    "print(f\"Max processing time: {avg_stats[2]:.2f} minutes\")"
   ]
  },
  {
   "cell_type": "code",
   "execution_count": 14,
   "metadata": {},
   "outputs": [
    {
     "name": "stdout",
     "output_type": "stream",
     "text": [
      "🕐 Query 5: Busiest hour of the day\n",
      "Busiest hour: 6:00 with 465 records\n"
     ]
    }
   ],
   "source": [
    "# Cell 14: Busiest Hour of the Day\n",
    "print(\"🕐 Query 5: Busiest hour of the day\")\n",
    "hour_stats = cur.execute(\"\"\"\n",
    "    SELECT EXTRACT(HOUR FROM DateIn) as hour_of_day, COUNT(*) as count\n",
    "    FROM irisa.fake_seclink\n",
    "    GROUP BY EXTRACT(HOUR FROM DateIn)\n",
    "    ORDER BY count DESC\n",
    "    LIMIT 1\n",
    "\"\"\").fetchone()\n",
    "print(f\"Busiest hour: {int(hour_stats[0])}:00 with {hour_stats[1]} records\")"
   ]
  }
 ],
 "metadata": {
  "kernelspec": {
   "display_name": "Python 3 (ipykernel)",
   "language": "python",
   "name": "python3"
  },
  "language_info": {
   "codemirror_mode": {
    "name": "ipython",
    "version": 3
   },
   "file_extension": ".py",
   "mimetype": "text/x-python",
   "name": "python",
   "nbconvert_exporter": "python",
   "pygments_lexer": "ipython3",
   "version": "3.12.11"
  }
 },
 "nbformat": 4,
 "nbformat_minor": 4
}
