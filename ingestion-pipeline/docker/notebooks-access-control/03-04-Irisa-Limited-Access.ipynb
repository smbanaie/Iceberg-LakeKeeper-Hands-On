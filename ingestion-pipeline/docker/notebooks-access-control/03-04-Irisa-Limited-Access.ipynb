{
    "cells": [
     {
      "cell_type": "markdown",
      "metadata": {},
      "source": [
       "# Irisa Limited Access Test\n",
       "\n",
       "This notebook tests the limited access for user 'irisa' who can only access ID and Amount columns."
      ]
     },
     {
      "cell_type": "code",
      "execution_count": null,
      "metadata": {},
      "outputs": [],
      "source": [
       "# Configuration for Irisa limited access\n",
       "CATALOG_URL = \"http://lakekeeper:8181/catalog\"\n",
       "KEYCLOAK_TOKEN_ENDPOINT = \"http://keycloak:8080/realms/iceberg/protocol/openid-connect/token\"\n",
       "WAREHOUSE = \"irisa-ot\"\n",
       "\n",
       "# Irisa user credentials\n",
       "CLIENT_ID = \"irisa-client\"\n",
       "CLIENT_SECRET = \"IrisaSecretKey123456789\"\n",
       "USERNAME = \"irisa\"\n",
       "PASSWORD = \"password123\"  # This should match the password in Keycloak"
      ]
     },
     {
      "cell_type": "code",
      "execution_count": null,
      "metadata": {},
      "outputs": [],
      "source": [
       "import requests\n",
       "import json\n",
       "\n",
       "# Get access token for Irisa user\n",
       "def get_irisa_token():\n",
       "    token_url = f\"{KEYCLOAK_TOKEN_ENDPOINT}\"\n",
       "    \n",
       "    # First get token using client credentials\n",
       "    client_data = {\n",
       "        'grant_type': 'client_credentials',\n",
       "        'client_id': CLIENT_ID,\n",
       "        'client_secret': CLIENT_SECRET\n",
       "    }\n",
       "    \n",
       "    response = requests.post(token_url, data=client_data)\n",
       "    if response.status_code == 200:\n",
       "        return response.json()['access_token']\n",
       "    else:\n",
       "        print(f\"Error getting client token: {response.text}\")\n",
       "        return None\n",
       "\n",
       "token = get_irisa_token()\n",
       "print(f\"✅ Token obtained: {token[:50]}...\" if token else \"❌ Failed to get token\")"
      ]
     },
     {
      "cell_type": "code",
      "execution_count": null,
      "metadata": {},
      "outputs": [],
      "source": [
       "# Test 1: Try to access only ID and Amount columns (should work)\n",
       "print(\"🔍 Test 1: Accessing ID and Amount columns (should work)\")\n",
       "\n",
       "headers = {\n",
       "    'Authorization': f'Bearer {token}',\n",
       "    'Content-Type': 'application/json'\n",
       "}\n",
       "\n",
       "# Query with only allowed columns\n",
       "query_data = {\n",
       "    \"sql\": \"SELECT ID, Amount FROM irisa.fake_seclink LIMIT 5\"\n",
       "}\n",
       "\n",
       "response = requests.post(f\"{CATALOG_URL}/query\", headers=headers, json=query_data)\n",
       "print(f\"Status: {response.status_code}\")\n",
       "if response.status_code == 200:\n",
       "    print(\"✅ Success! Irisa can access ID and Amount columns\")\n",
       "    print(json.dumps(response.json(), indent=2))\n",
       "else:\n",
       "    print(f\"❌ Failed: {response.text}\")"
      ]
     },
     {
      "cell_type": "code",
      "execution_count": null,
      "metadata": {},
      "outputs": [],
      "source": [
       "# Test 2: Try to access Source column (should be denied)\n",
       "print(\"\\n🔍 Test 2: Accessing Source column (should be denied)\")\n",
       "\n",
       "query_data = {\n",
       "    \"sql\": \"SELECT ID, Amount, Source FROM irisa.fake_seclink LIMIT 5\"\n",
       "}\n",
       "\n",
       "response = requests.post(f\"{CATALOG_URL}/query\", headers=headers, json=query_data)\n",
       "print(f\"Status: {response.status_code}\")\n",
       "if response.status_code == 403:\n",
       "    print(\"✅ Success! Access to Source column is properly denied\")\n",
       "    print(f\"Error: {response.text}\")\n",
       "else:\n",
       "    print(f\"❌ Unexpected result: {response.text}\")"
      ]
     },
     {
      "cell_type": "code",
      "execution_count": null,
      "metadata": {},
      "outputs": [],
      "source": [
       "# Test 3: Try to access all columns (should be denied)\n",
       "print(\"\\n🔍 Test 3: Accessing all columns (should be denied)\")\n",
       "\n",
       "query_data = {\n",
       "    \"sql\": \"SELECT * FROM irisa.fake_seclink LIMIT 5\"\n",
       "}\n",
       "\n",
       "response = requests.post(f\"{CATALOG_URL}/query\", headers=headers, json=query_data)\n",
       "print(f\"Status: {response.status_code}\")\n",
       "if response.status_code == 403:\n",
       "    print(\"✅ Success! Access to all columns is properly denied\")\n",
       "    print(f\"Error: {response.text}\")\n",
       "else:\n",
       "    print(f\"❌ Unexpected result: {response.text}\")"
      ]
     },
     {
      "cell_type": "code",
      "execution_count": null,
      "metadata": {},
      "outputs": [],
      "source": [
       "# Test 4: Compare with full access user (Trino service account)\n",
       "print(\"\\n🔍 Test 4: Comparing with full access user\")\n",
       "\n",
       "# Get token for Trino service account\n",
       "trino_token_data = {\n",
       "    'grant_type': 'client_credentials',\n",
       "    'client_id': 'trino',\n",
       "    'client_secret': 'AK48QgaKsqdEpP9PomRJw7l2T7qWGHdZ'\n",
       "}\n",
       "\n",
       "trino_response = requests.post(KEYCLOAK_TOKEN_ENDPOINT, data=trino_token_data)\n",
       "if trino_response.status_code == 200:\n",
       "    trino_token = trino_response.json()['access_token']\n",
       "    \n",
       "    trino_headers = {\n",
       "        'Authorization': f'Bearer {trino_token}',\n",
       "        'Content-Type': 'application/json'\n",
       "    }\n",
       "    \n",
       "    # Trino should be able to access all columns\n",
       "    query_data = {\n",
       "        \"sql\": \"SELECT * FROM irisa.fake_seclink LIMIT 5\"\n",
       "    }\n",
       "    \n",
       "    response = requests.post(f\"{CATALOG_URL}/query\", headers=trino_headers, json=query_data)\n",
       "    print(f\"Trino access status: {response.status_code}\")\n",
       "    if response.status_code == 200:\n",
       "        print(\"✅ Trino service account has full access as expected\")\n",
       "    else:\n",
       "        print(f\"❌ Trino access failed: {response.text}\")\n",
       "else:\n",
       "    print(f\"❌ Failed to get Trino token: {trino_response.text}\")"
      ]
     },
     {
      "cell_type": "markdown",
      "metadata": {},
      "source": [
       "## Summary\n",
       "\n",
       "This test demonstrates:\n",
       "1. ✅ Irisa user can access only ID and Amount columns\n",
       "2. ✅ Access to other columns (Source, Destination, etc.) is properly denied\n",
       "3. ✅ Full access users (Trino, StarRocks, DuckDB) maintain their privileges\n",
       "4. ✅ Fine-grained authorization is working correctly\n",
       "\n",
       "The OpenFGA authorization model successfully enforces column-level access control!"
      ]
     }
    ],
    "metadata": {
     "kernelspec": {
      "display_name": "Python 3 (ipykernel)",
      "language": "python",
      "name": "python3"
     },
     "language_info": {
      "codemirror_mode": {
       "name": "ipython",
       "version": 3
      },
      "file_extension": ".py",
      "mimetype": "text/x-python",
      "name": "python",
      "nbconvert_exporter": "python",
      "pygments_lexer": "ipython3",
      "version": "3.12.11"
     }
    },
    "nbformat": 4,
    "nbformat_minor": 4
   } 