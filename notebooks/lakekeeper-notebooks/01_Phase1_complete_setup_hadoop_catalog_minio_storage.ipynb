{
 "cells": [
  {
   "cell_type": "markdown",
   "metadata": {},
   "source": [
    "# Complete Banking Reconciliation Setup - Phase 1\n",
    "## MinIO S3-backed Iceberg Catalog\n",
    "\n",
    "## 🎯 Learning Objectives\n",
    "\n",
    "This notebook demonstrates how to set up Apache Iceberg with a **MinIO S3-compatible object storage catalog** for a banking reconciliation system. You will learn:\n",
    "\n",
    "### **Apache Iceberg Fundamentals**\n",
    "- **Catalog System**: Understanding how Iceberg catalogs work with S3/MinIO\n",
    "- **MinIO Storage**: How Iceberg stores metadata and data in MinIO buckets\n",
    "- **Table Structure**: The file organization created by Iceberg tables in S3\n",
    "- **Partitioning**: How Iceberg handles partitioned tables\n",
    "\n",
    "### **What You'll Build**\n",
    "- A complete banking reconciliation system with three core tables\n",
    "- S3-based storage with MinIO integration\n",
    "- Partitioned tables for efficient querying\n",
    "- Comprehensive audit trail and validation\n",
    "\n",
    "### **Key Concepts Explained**\n",
    "\n",
    "#### **1. Iceberg Catalog with MinIO (S3)**\n",
    "```python\n",
    "spark.sql.catalog.minio.type = \"hadoop\"\n",
    "spark.sql.catalog.minio.warehouse = \"s3a://warehouse/\"\n",
    "```\n",
    "- **Catalog**: A namespace for tables, schemas, and functions\n",
    "- **MinIO**: S3-compatible object storage for all table data and metadata\n",
    "- **Warehouse**: Data and metadata stored in MinIO buckets\n",
    "\n",
    "#### **2. File Structure Created by Iceberg in S3**\n",
    "\n",
    "```\n",
    "s3a://warehouse/banking/table_name/\n",
    "├── metadata/ # Table metadata and version history\n",
    "│ ├── v1.metadata.json # Current table schema and properties\n",
    "│ ├── version-hint.text # Points to latest metadata version\n",
    "│ └── ..crc # Checksums for data integrity\n",
    "├── data/ # Actual data files (Parquet format)\n",
    "│ └── partition_paths/ # Partitioned data organized by partition keys\n",
    "└── snapshots/ # Table snapshots for time travel\n",
    "```\n",
    "\n",
    "\n",
    "#### **3. Partitioning Strategy**\n",
    "- **source_transactions**: Partitioned by `days(transaction_date)` and `source_system`\n",
    "- **reconciliation_results**: Partitioned by `days(reconciliation_timestamp)` and `match_status`\n",
    "- **reconciliation_batches**: No partitioning (small lookup table)\n",
    "\n",
    "## Phase 1: Foundation Setup\n"
   ]
  },
  {
   "cell_type": "markdown",
   "metadata": {},
   "source": [
    "## Step 1: Import Required Libraries\n",
    "\n",
    "**Purpose**: Import all necessary libraries for Spark, MinIO, and file operations.\n",
    "\n",
    "**Key Libraries**:\n",
    "- `pyspark.sql.SparkSession`: Core Spark functionality\n",
    "- `boto3`: AWS S3/MinIO client for object storage\n",
    "- `os`, `json`, `datetime`: File and data manipulation utilities"
   ]
  },
  {
   "cell_type": "code",
   "execution_count": 1,
   "metadata": {},
   "outputs": [],
   "source": [
    "# Import required libraries\n",
    "!pip install --root-user-action=ignore rich --quiet\n",
    "from rich import print\n",
    "import pyspark\n",
    "from pyspark.conf import SparkConf\n",
    "from pyspark.sql import SparkSession\n",
    "import pandas as pd\n",
    "\n",
    "# This CATALOG_URL works for the \"docker compose\" testing and development environment\n",
    "# Change 'lakekeeper' if you are not running on \"docker compose\" (f. ex. 'localhost' if Lakekeeper is running locally).\n",
    "CATALOG_URL = \"http://lakekeeper:8181/catalog\"\n",
    "WAREHOUSE = \"demo\"\n",
    "\n",
    "SPARK_VERSION = pyspark.__version__\n",
    "SPARK_MINOR_VERSION = '.'.join(SPARK_VERSION.split('.')[:2])\n",
    "ICEBERG_VERSION = \"1.9.2\""
   ]
  },
  {
   "cell_type": "markdown",
   "metadata": {},
   "source": [
    "## Step 2: Stop any existing Spark session\n",
    "\n",
    "**Purpose**: Ensure a clean Spark environment by stopping any existing sessions.\n",
    "\n",
    "**Why This Matters**:\n",
    "- Prevents configuration conflicts\n",
    "- Ensures fresh Iceberg catalog initialization\n",
    "- Clears any cached metadata or connections"
   ]
  },
  {
   "cell_type": "code",
   "execution_count": 2,
   "metadata": {},
   "outputs": [
    {
     "name": "stderr",
     "output_type": "stream",
     "text": [
      "Setting default log level to \"WARN\".\n",
      "To adjust logging level use sc.setLogLevel(newLevel). For SparkR, use setLogLevel(newLevel).\n",
      "25/07/16 10:09:17 WARN NativeCodeLoader: Unable to load native-hadoop library for your platform... using builtin-java classes where applicable\n"
     ]
    },
    {
     "data": {
      "text/html": [
       "<pre style=\"white-space:pre;overflow-x:auto;line-height:normal;font-family:Menlo,'DejaVu Sans Mono',consolas,'Courier New',monospace\">✓ Stopped existing Spark session\n",
       "</pre>\n"
      ],
      "text/plain": [
       "✓ Stopped existing Spark session\n"
      ]
     },
     "metadata": {},
     "output_type": "display_data"
    }
   ],
   "source": [
    "# Stop any existing Spark session\n",
    "try:\n",
    "    SparkSession.builder.getOrCreate().stop()\n",
    "    print(\"✓ Stopped existing Spark session\")\n",
    "except:\n",
    "    print(\"ℹ No existing Spark session to stop\")"
   ]
  },
  {
   "cell_type": "markdown",
   "metadata": {},
   "source": [
    "## Step 3: Create Spark Session with Iceberg + MinIO (S3) Configuration\n",
    "\n",
    "**Purpose**: Initialize Spark with Apache Iceberg extensions and MinIO S3-compatible catalog configuration.\n",
    "\n",
    "### **Configuration Breakdown**:\n",
    "\n",
    "#### **Iceberg Extensions**\n",
    "```python\n",
    "spark.sql.extensions = \"org.apache.iceberg.spark.extensions.IcebergSparkSessionExtensions\"\n",
    "```\n",
    "- Enables Iceberg-specific SQL commands (CREATE TABLE, MERGE, etc.)\n",
    "- Provides time travel, schema evolution, and partition evolution capabilities\n",
    "\n",
    "#### **Catalog Configuration**\n",
    "```python\n",
    "spark.sql.catalog.minio = \"org.apache.iceberg.spark.SparkCatalog\"\n",
    "spark.sql.catalog.minio.type = \"hadoop\"\n",
    "spark.sql.catalog.minio.warehouse = \"s3a://warehouse/\"\n",
    "spark.hadoop.fs.s3a.endpoint = \"http://minio:9000\"\n",
    "spark.hadoop.fs.s3a.access.key = \"minio\"\n",
    "spark.hadoop.fs.s3a.secret.key = \"minio123\"\n",
    "spark.hadoop.fs.s3a.path.style.access = \"true\"\n",
    "spark.hadoop.fs.s3a.impl = \"org.apache.hadoop.fs.s3a.S3AFileSystem\"\n",
    "```\n",
    "- **minio**: Our custom catalog name for S3/MinIO\n",
    "- **warehouse**: S3 bucket path for table data and metadata\n",
    "\n",
    "#### **Default Catalog**\n",
    "- You will use `minio` as the catalog name in all SQL operations."
   ]
  },
  {
   "cell_type": "code",
   "execution_count": 4,
   "metadata": {},
   "outputs": [
    {
     "name": "stderr",
     "output_type": "stream",
     "text": [
      "25/07/21 11:15:22 WARN Utils: Service 'SparkUI' could not bind on port 4040. Attempting port 4041.\n"
     ]
    },
    {
     "data": {
      "text/html": [
       "<pre style=\"white-space:pre;overflow-x:auto;line-height:normal;font-family:Menlo,'DejaVu Sans Mono',consolas,'Courier New',monospace\">✓ Spark session created successfully\n",
       "</pre>\n"
      ],
      "text/plain": [
       "✓ Spark session created successfully\n"
      ]
     },
     "metadata": {},
     "output_type": "display_data"
    },
    {
     "data": {
      "text/html": [
       "<pre style=\"white-space:pre;overflow-x:auto;line-height:normal;font-family:Menlo,'DejaVu Sans Mono',consolas,'Courier New',monospace\">Spark version: <span style=\"color: #008080; text-decoration-color: #008080; font-weight: bold\">3.5</span>.<span style=\"color: #008080; text-decoration-color: #008080; font-weight: bold\">6</span>\n",
       "</pre>\n"
      ],
      "text/plain": [
       "Spark version: \u001b[1;36m3.5\u001b[0m.\u001b[1;36m6\u001b[0m\n"
      ]
     },
     "metadata": {},
     "output_type": "display_data"
    },
    {
     "data": {
      "text/html": [
       "<pre style=\"white-space:pre;overflow-x:auto;line-height:normal;font-family:Menlo,'DejaVu Sans Mono',consolas,'Courier New',monospace\">Default catalog: lakekeeper\n",
       "</pre>\n"
      ],
      "text/plain": [
       "Default catalog: lakekeeper\n"
      ]
     },
     "metadata": {},
     "output_type": "display_data"
    }
   ],
   "source": [
    "# Create warehouse directory if it doesn't exist\n",
    "config = {\n",
    "    f\"spark.sql.catalog.lakekeeper\": \"org.apache.iceberg.spark.SparkCatalog\",\n",
    "    f\"spark.sql.catalog.lakekeeper.type\": \"rest\",\n",
    "    f\"spark.sql.catalog.lakekeeper.uri\": CATALOG_URL,\n",
    "    f\"spark.sql.catalog.lakekeeper.warehouse\": WAREHOUSE,\n",
    "    f\"spark.sql.catalog.lakekeeper.io-impl\": \"org.apache.iceberg.aws.s3.S3FileIO\",\n",
    "    \"spark.sql.extensions\": \"org.apache.iceberg.spark.extensions.IcebergSparkSessionExtensions\",\n",
    "    \"spark.sql.defaultCatalog\": \"lakekeeper\",\n",
    "    \"spark.jars.packages\": f\"org.apache.iceberg:iceberg-spark-runtime-{SPARK_MINOR_VERSION}_2.12:{ICEBERG_VERSION},org.apache.iceberg:iceberg-aws-bundle:{ICEBERG_VERSION}\",\n",
    "}\n",
    "\n",
    "spark_config = SparkConf().setMaster('spark://spark-master:7077').setAppName(\"Iceberg-REST-Cluster\")\n",
    "for k, v in config.items():\n",
    "    spark_config = spark_config.set(k, v)\n",
    "\n",
    "spark = SparkSession.builder.config(conf=spark_config).getOrCreate()\n",
    "\n",
    "spark.sql(\"USE lakekeeper\")\n",
    "print(\"✓ Spark session created successfully\")\n",
    "print(f\"Spark version: {spark.version}\")\n",
    "print(f\"Default catalog: {spark.conf.get('spark.sql.defaultCatalog')}\")\n"
   ]
  },
  {
   "cell_type": "markdown",
   "metadata": {},
   "source": [
    "## Step 4: Initialize MinIO Client and Check Health\n",
    "\n",
    "**Purpose**: Set up MinIO (S3-compatible object storage) for future data operations.\n",
    "\n",
    "### **MinIO Configuration**:\n",
    "- **Endpoint**: `http://minio:9000` (Docker service name)\n",
    "- **Credentials**: `minio`/`minio123` (default development credentials)\n",
    "- **Region**: `us-east-1` (standard region)\n",
    "- **Signature Version**: `s3v4` (AWS Signature Version 4)\n",
    "\n",
    "### **Health Check Strategy**:\n",
    "- Retry logic with exponential backoff\n",
    "- Graceful handling of connection failures\n",
    "- Detailed logging for troubleshooting"
   ]
  },
  {
   "cell_type": "code",
   "execution_count": 4,
   "metadata": {},
   "outputs": [
    {
     "data": {
      "text/html": [
       "<pre style=\"white-space:pre;overflow-x:auto;line-height:normal;font-family:Menlo,'DejaVu Sans Mono',consolas,'Courier New',monospace\">✓ MinIO client initialized\n",
       "</pre>\n"
      ],
      "text/plain": [
       "✓ MinIO client initialized\n"
      ]
     },
     "metadata": {},
     "output_type": "display_data"
    },
    {
     "data": {
      "text/html": [
       "<pre style=\"white-space:pre;overflow-x:auto;line-height:normal;font-family:Menlo,'DejaVu Sans Mono',consolas,'Courier New',monospace\">Endpoint: <span style=\"color: #0000ff; text-decoration-color: #0000ff; text-decoration: underline\">http://minio:9000</span>\n",
       "</pre>\n"
      ],
      "text/plain": [
       "Endpoint: \u001b[4;94mhttp://minio:9000\u001b[0m\n"
      ]
     },
     "metadata": {},
     "output_type": "display_data"
    },
    {
     "data": {
      "text/html": [
       "<pre style=\"white-space:pre;overflow-x:auto;line-height:normal;font-family:Menlo,'DejaVu Sans Mono',consolas,'Courier New',monospace\">Access Key: minio\n",
       "</pre>\n"
      ],
      "text/plain": [
       "Access Key: minio\n"
      ]
     },
     "metadata": {},
     "output_type": "display_data"
    },
    {
     "data": {
      "text/html": [
       "<pre style=\"white-space:pre;overflow-x:auto;line-height:normal;font-family:Menlo,'DejaVu Sans Mono',consolas,'Courier New',monospace\">Signature Version: s3v4\n",
       "</pre>\n"
      ],
      "text/plain": [
       "Signature Version: s3v4\n"
      ]
     },
     "metadata": {},
     "output_type": "display_data"
    }
   ],
   "source": [
    "# Initialize MinIO client\n",
    "s3_client = boto3.client(\n",
    "    's3',\n",
    "    endpoint_url='http://minio:9000',\n",
    "    aws_access_key_id='minio',\n",
    "    aws_secret_access_key='minio123',\n",
    "    config=Config(signature_version='s3v4'),\n",
    "    region_name='us-east-1'\n",
    ")\n",
    "\n",
    "print(\"✓ MinIO client initialized\")\n",
    "print(f\"Endpoint: http://minio:9000\")\n",
    "print(f\"Access Key: minio\")\n",
    "print(f\"Signature Version: s3v4\")"
   ]
  },
  {
   "cell_type": "code",
   "execution_count": 5,
   "metadata": {},
   "outputs": [
    {
     "data": {
      "text/html": [
       "<pre style=\"white-space:pre;overflow-x:auto;line-height:normal;font-family:Menlo,'DejaVu Sans Mono',consolas,'Courier New',monospace\">Checking MinIO health<span style=\"color: #808000; text-decoration-color: #808000\">...</span>\n",
       "</pre>\n"
      ],
      "text/plain": [
       "Checking MinIO health\u001b[33m...\u001b[0m\n"
      ]
     },
     "metadata": {},
     "output_type": "display_data"
    },
    {
     "data": {
      "text/html": [
       "<pre style=\"white-space:pre;overflow-x:auto;line-height:normal;font-family:Menlo,'DejaVu Sans Mono',consolas,'Courier New',monospace\">✓ MinIO is ready! Found <span style=\"color: #008080; text-decoration-color: #008080; font-weight: bold\">0</span> existing buckets\n",
       "</pre>\n"
      ],
      "text/plain": [
       "✓ MinIO is ready! Found \u001b[1;36m0\u001b[0m existing buckets\n"
      ]
     },
     "metadata": {},
     "output_type": "display_data"
    }
   ],
   "source": [
    "# Check MinIO health with retries\n",
    "print(\"Checking MinIO health...\")\n",
    "max_attempts = 30\n",
    "attempt = 1\n",
    "\n",
    "while attempt <= max_attempts:\n",
    "    try:\n",
    "        # Try to list buckets to check connectivity\n",
    "        buckets = s3_client.list_buckets()\n",
    "        print(f\"✓ MinIO is ready! Found {len(buckets['Buckets'])} existing buckets\")\n",
    "        break\n",
    "    except Exception as e:\n",
    "        print(f\"Waiting for MinIO... (attempt {attempt}/{max_attempts}): {str(e)}\")\n",
    "        if attempt >= max_attempts:\n",
    "            print(\"⚠ MinIO failed to start within the expected time. Continuing anyway...\")\n",
    "            break\n",
    "        time.sleep(2)\n",
    "        attempt += 1"
   ]
  },
  {
   "cell_type": "markdown",
   "metadata": {},
   "source": [
    "## Step 5: Initialize MinIO Buckets\n",
    "\n",
    "**Purpose**: Create the required S3 buckets for different stages of data processing.\n",
    "\n",
    "### **Bucket Strategy**:\n",
    "\n",
    "| Bucket | Purpose | Data Type |\n",
    "|--------|---------|-----------|\n",
    "| `warehouse` | Iceberg table data and metadata | Structured data |\n",
    "| `raw-data` | Original source files | CSV, JSON, etc. |\n",
    "| `stage-data` | Intermediate processing data | Transformed data |\n",
    "| `reconciled-data` | Final reconciliation results | Processed results |\n",
    "\n",
    "### **Benefits of This Structure**:\n",
    "- **Data Lineage**: Clear separation of data stages\n",
    "- **Cost Optimization**: Different retention policies per bucket\n",
    "- **Security**: Granular access controls per bucket\n",
    "- **Performance**: Optimized storage for each data type"
   ]
  },
  {
   "cell_type": "code",
   "execution_count": 6,
   "metadata": {},
   "outputs": [
    {
     "data": {
      "text/html": [
       "<pre style=\"white-space:pre;overflow-x:auto;line-height:normal;font-family:Menlo,'DejaVu Sans Mono',consolas,'Courier New',monospace\">Existing buckets: <span style=\"font-weight: bold\">[]</span>\n",
       "</pre>\n"
      ],
      "text/plain": [
       "Existing buckets: \u001b[1m[\u001b[0m\u001b[1m]\u001b[0m\n"
      ]
     },
     "metadata": {},
     "output_type": "display_data"
    },
    {
     "data": {
      "text/html": [
       "<pre style=\"white-space:pre;overflow-x:auto;line-height:normal;font-family:Menlo,'DejaVu Sans Mono',consolas,'Courier New',monospace\">✓ Created bucket: warehouse <span style=\"font-weight: bold\">(</span>Iceberg table data and metadata<span style=\"font-weight: bold\">)</span>\n",
       "</pre>\n"
      ],
      "text/plain": [
       "✓ Created bucket: warehouse \u001b[1m(\u001b[0mIceberg table data and metadata\u001b[1m)\u001b[0m\n"
      ]
     },
     "metadata": {},
     "output_type": "display_data"
    },
    {
     "data": {
      "text/html": [
       "<pre style=\"white-space:pre;overflow-x:auto;line-height:normal;font-family:Menlo,'DejaVu Sans Mono',consolas,'Courier New',monospace\">✓ Created bucket: raw-data <span style=\"font-weight: bold\">(</span>Original source files <span style=\"font-weight: bold\">(</span>CSV, JSON<span style=\"font-weight: bold\">))</span>\n",
       "</pre>\n"
      ],
      "text/plain": [
       "✓ Created bucket: raw-data \u001b[1m(\u001b[0mOriginal source files \u001b[1m(\u001b[0mCSV, JSON\u001b[1m)\u001b[0m\u001b[1m)\u001b[0m\n"
      ]
     },
     "metadata": {},
     "output_type": "display_data"
    },
    {
     "data": {
      "text/html": [
       "<pre style=\"white-space:pre;overflow-x:auto;line-height:normal;font-family:Menlo,'DejaVu Sans Mono',consolas,'Courier New',monospace\">✓ Created bucket: stage-data <span style=\"font-weight: bold\">(</span>Intermediate processing data<span style=\"font-weight: bold\">)</span>\n",
       "</pre>\n"
      ],
      "text/plain": [
       "✓ Created bucket: stage-data \u001b[1m(\u001b[0mIntermediate processing data\u001b[1m)\u001b[0m\n"
      ]
     },
     "metadata": {},
     "output_type": "display_data"
    },
    {
     "data": {
      "text/html": [
       "<pre style=\"white-space:pre;overflow-x:auto;line-height:normal;font-family:Menlo,'DejaVu Sans Mono',consolas,'Courier New',monospace\">✓ Created bucket: reconciled-data <span style=\"font-weight: bold\">(</span>Final reconciliation results<span style=\"font-weight: bold\">)</span>\n",
       "</pre>\n"
      ],
      "text/plain": [
       "✓ Created bucket: reconciled-data \u001b[1m(\u001b[0mFinal reconciliation results\u001b[1m)\u001b[0m\n"
      ]
     },
     "metadata": {},
     "output_type": "display_data"
    },
    {
     "data": {
      "text/html": [
       "<pre style=\"white-space:pre;overflow-x:auto;line-height:normal;font-family:Menlo,'DejaVu Sans Mono',consolas,'Courier New',monospace\">\n",
       "📊 Bucket Summary:\n",
       "</pre>\n"
      ],
      "text/plain": [
       "\n",
       "📊 Bucket Summary:\n"
      ]
     },
     "metadata": {},
     "output_type": "display_data"
    },
    {
     "data": {
      "text/html": [
       "<pre style=\"white-space:pre;overflow-x:auto;line-height:normal;font-family:Menlo,'DejaVu Sans Mono',consolas,'Courier New',monospace\">- Total buckets: <span style=\"color: #008080; text-decoration-color: #008080; font-weight: bold\">4</span>\n",
       "</pre>\n"
      ],
      "text/plain": [
       "- Total buckets: \u001b[1;36m4\u001b[0m\n"
      ]
     },
     "metadata": {},
     "output_type": "display_data"
    },
    {
     "data": {
      "text/html": [
       "<pre style=\"white-space:pre;overflow-x:auto;line-height:normal;font-family:Menlo,'DejaVu Sans Mono',consolas,'Courier New',monospace\">- Newly created: <span style=\"color: #008080; text-decoration-color: #008080; font-weight: bold\">4</span>\n",
       "</pre>\n"
      ],
      "text/plain": [
       "- Newly created: \u001b[1;36m4\u001b[0m\n"
      ]
     },
     "metadata": {},
     "output_type": "display_data"
    },
    {
     "data": {
      "text/html": [
       "<pre style=\"white-space:pre;overflow-x:auto;line-height:normal;font-family:Menlo,'DejaVu Sans Mono',consolas,'Courier New',monospace\">- Already existed: <span style=\"color: #008080; text-decoration-color: #008080; font-weight: bold\">0</span>\n",
       "</pre>\n"
      ],
      "text/plain": [
       "- Already existed: \u001b[1;36m0\u001b[0m\n"
      ]
     },
     "metadata": {},
     "output_type": "display_data"
    }
   ],
   "source": [
    "# List existing buckets\n",
    "try:\n",
    "    existing_buckets = [bucket['Name'] for bucket in s3_client.list_buckets()['Buckets']]\n",
    "    print(f\"Existing buckets: {existing_buckets}\")\n",
    "except Exception as e:\n",
    "    print(f\"Error listing buckets: {str(e)}\")\n",
    "    existing_buckets = []\n",
    "\n",
    "# Define required buckets with their purposes\n",
    "bucket_purposes = {\n",
    "    'warehouse': 'Iceberg table data and metadata',\n",
    "    'raw-data': 'Original source files (CSV, JSON)',\n",
    "    'stage-data': 'Intermediate processing data',\n",
    "    'reconciled-data': 'Final reconciliation results'\n",
    "}\n",
    "\n",
    "# Create buckets if they don't exist\n",
    "created_buckets = []\n",
    "for bucket, purpose in bucket_purposes.items():\n",
    "    if bucket not in existing_buckets:\n",
    "        try:\n",
    "            s3_client.create_bucket(Bucket=bucket)\n",
    "            created_buckets.append(bucket)\n",
    "            print(f\"✓ Created bucket: {bucket} ({purpose})\")\n",
    "        except Exception as e:\n",
    "            print(f\"✗ Error creating bucket {bucket}: {str(e)}\")\n",
    "    else:\n",
    "        print(f\"ℹ Bucket already exists: {bucket} ({purpose})\")\n",
    "\n",
    "print(f\"\\n📊 Bucket Summary:\")\n",
    "print(f\"- Total buckets: {len(existing_buckets) + len(created_buckets)}\")\n",
    "print(f\"- Newly created: {len(created_buckets)}\")\n",
    "print(f\"- Already existed: {len(existing_buckets)}\")"
   ]
  },
  {
   "cell_type": "markdown",
   "metadata": {},
   "source": [
    "## Step 6: Create Banking Namespace\n",
    "\n",
    "**Purpose**: Create a logical namespace to organize related tables in MinIO.\n",
    "\n",
    "### **Namespace Benefits**:\n",
    "- **Organization**: Groups related tables together\n",
    "- **Access Control**: Apply permissions at namespace level\n",
    "- **Naming**: Avoid table name conflicts\n",
    "- **Discovery**: Easier to find related tables\n",
    "\n",
    "### **S3 Impact**:\n",
    "The namespace creates a directory structure in your MinIO bucket:\n",
    "```\n",
    "s3a://warehouse/banking/\n",
    "├── source_transactions/\n",
    "├── reconciliation_results/\n",
    "└── reconciliation_batches/\n",
    "```\n"
   ]
  },
  {
   "cell_type": "code",
   "execution_count": 5,
   "metadata": {},
   "outputs": [
    {
     "data": {
      "text/html": [
       "<pre style=\"white-space:pre;overflow-x:auto;line-height:normal;font-family:Menlo,'DejaVu Sans Mono',consolas,'Courier New',monospace\">✓ Created namespace: lakekeeper.banking\n",
       "</pre>\n"
      ],
      "text/plain": [
       "✓ Created namespace: lakekeeper.banking\n"
      ]
     },
     "metadata": {},
     "output_type": "display_data"
    },
    {
     "data": {
      "text/html": [
       "<pre style=\"white-space:pre;overflow-x:auto;line-height:normal;font-family:Menlo,'DejaVu Sans Mono',consolas,'Courier New',monospace\">Namespace location: lakekeeper/banking\n",
       "</pre>\n"
      ],
      "text/plain": [
       "Namespace location: lakekeeper/banking\n"
      ]
     },
     "metadata": {},
     "output_type": "display_data"
    }
   ],
   "source": [
    "# Create the banking namespace\n",
    "try:\n",
    "    spark.sql(\"CREATE NAMESPACE IF NOT EXISTS lakekeeper.banking\")\n",
    "    print(\"✓ Created namespace: lakekeeper.banking\")\n",
    "    print(f\"Namespace location: lakekeeper/banking\")\n",
    "except Exception as e:\n",
    "    print(f\"✗ Error creating namespace: {str(e)}\")"
   ]
  },
  {
   "cell_type": "markdown",
   "metadata": {},
   "source": [
    "## Step 6b: Verify Namespace Creation\n",
    "\n",
    "**Purpose**: Confirm that the namespace directory structure exists in your MinIO bucket.\n",
    "\n",
    "> Note: You can use MinIO Console (http://localhost:9001) or `mc` CLI to browse the S3 structure:\n",
    "> - `s3a://warehouse/banking/`"
   ]
  },
  {
   "cell_type": "markdown",
   "metadata": {},
   "source": [
    "## Step 7: Create Iceberg Tables in MinIO\n",
    "\n",
    "**Purpose**: Create the core tables for the banking reconciliation system in the MinIO S3 bucket.\n",
    "\n",
    "### **Table Design Strategy**:\n",
    "\n",
    "#### **1. source_transactions**\n",
    "- **Purpose**: Store all transaction data from different source systems\n",
    "- **Partitioning**: By `days(transaction_date)` and `source_system`\n",
    "- **Benefits**: Efficient querying by date range and source\n",
    "- **Schema**: Comprehensive transaction metadata\n",
    "\n",
    "#### **2. reconciliation_results**\n",
    "- **Purpose**: Store reconciliation outcomes and discrepancies\n",
    "- **Partitioning**: By `days(reconciliation_timestamp)` and `match_status`\n",
    "- **Benefits**: Easy analysis of reconciliation performance\n",
    "- **Schema**: Detailed discrepancy tracking\n",
    "\n",
    "#### **3. reconciliation_batches**\n",
    "- **Purpose**: Track reconciliation batch metadata\n",
    "- **Partitioning**: None (small lookup table)\n",
    "- **Benefits**: Batch-level monitoring and reporting\n",
    "- **Schema**: Batch execution metadata\n",
    "\n",
    "> All tables will be created under the `minio.banking` namespace and stored in your MinIO S3 bucket."
   ]
  },
  {
   "cell_type": "code",
   "execution_count": 6,
   "metadata": {},
   "outputs": [
    {
     "data": {
      "text/html": [
       "<pre style=\"white-space:pre;overflow-x:auto;line-height:normal;font-family:Menlo,'DejaVu Sans Mono',consolas,'Courier New',monospace\">Creating source_transactions table<span style=\"color: #808000; text-decoration-color: #808000\">...</span>\n",
       "</pre>\n"
      ],
      "text/plain": [
       "Creating source_transactions table\u001b[33m...\u001b[0m\n"
      ]
     },
     "metadata": {},
     "output_type": "display_data"
    },
    {
     "data": {
      "text/html": [
       "<pre style=\"white-space:pre;overflow-x:auto;line-height:normal;font-family:Menlo,'DejaVu Sans Mono',consolas,'Courier New',monospace\">✓ Created table: minio.banking.source_transactions\n",
       "</pre>\n"
      ],
      "text/plain": [
       "✓ Created table: minio.banking.source_transactions\n"
      ]
     },
     "metadata": {},
     "output_type": "display_data"
    },
    {
     "data": {
      "text/html": [
       "<pre style=\"white-space:pre;overflow-x:auto;line-height:normal;font-family:Menlo,'DejaVu Sans Mono',consolas,'Courier New',monospace\">  - Partitioned by: <span style=\"color: #800080; text-decoration-color: #800080; font-weight: bold\">days</span><span style=\"font-weight: bold\">(</span>transaction_date<span style=\"font-weight: bold\">)</span>, source_system\n",
       "</pre>\n"
      ],
      "text/plain": [
       "  - Partitioned by: \u001b[1;35mdays\u001b[0m\u001b[1m(\u001b[0mtransaction_date\u001b[1m)\u001b[0m, source_system\n"
      ]
     },
     "metadata": {},
     "output_type": "display_data"
    },
    {
     "data": {
      "text/html": [
       "<pre style=\"white-space:pre;overflow-x:auto;line-height:normal;font-family:Menlo,'DejaVu Sans Mono',consolas,'Courier New',monospace\">  - Purpose: Store all transaction data from different sources\n",
       "</pre>\n"
      ],
      "text/plain": [
       "  - Purpose: Store all transaction data from different sources\n"
      ]
     },
     "metadata": {},
     "output_type": "display_data"
    }
   ],
   "source": [
    "# Create source_transactions table\n",
    "print(\"Creating source_transactions table...\")\n",
    "try:\n",
    "    spark.sql(\"\"\"\n",
    "    CREATE TABLE IF NOT EXISTS lakekeeper.banking.source_transactions (\n",
    "      transaction_id STRING,\n",
    "      source_system STRING,\n",
    "      transaction_date TIMESTAMP,\n",
    "      amount DECIMAL(18,2),\n",
    "      account_id STRING,\n",
    "      transaction_type STRING,\n",
    "      reference_id STRING,\n",
    "      status STRING,\n",
    "      payload STRING,\n",
    "      created_at TIMESTAMP,\n",
    "      processing_timestamp TIMESTAMP\n",
    "    )\n",
    "    USING iceberg\n",
    "    PARTITIONED BY (days(transaction_date), source_system)\n",
    "    \"\"\")\n",
    "    print(\"✓ Created table: lakekeeper.banking.source_transactions\")\n",
    "    print(\"  - Partitioned by: days(transaction_date), source_system\")\n",
    "    print(\"  - Purpose: Store all transaction data from different sources\")\n",
    "except Exception as e:\n",
    "    print(f\"✗ Error creating source_transactions table: {str(e)}\")"
   ]
  },
  {
   "cell_type": "code",
   "execution_count": 7,
   "metadata": {},
   "outputs": [
    {
     "data": {
      "text/html": [
       "<pre style=\"white-space:pre;overflow-x:auto;line-height:normal;font-family:Menlo,'DejaVu Sans Mono',consolas,'Courier New',monospace\">Creating reconciliation_results table<span style=\"color: #808000; text-decoration-color: #808000\">...</span>\n",
       "</pre>\n"
      ],
      "text/plain": [
       "Creating reconciliation_results table\u001b[33m...\u001b[0m\n"
      ]
     },
     "metadata": {},
     "output_type": "display_data"
    },
    {
     "data": {
      "text/html": [
       "<pre style=\"white-space:pre;overflow-x:auto;line-height:normal;font-family:Menlo,'DejaVu Sans Mono',consolas,'Courier New',monospace\">✓ Created table: lakekeeper.banking.reconciliation_results\n",
       "</pre>\n"
      ],
      "text/plain": [
       "✓ Created table: lakekeeper.banking.reconciliation_results\n"
      ]
     },
     "metadata": {},
     "output_type": "display_data"
    },
    {
     "data": {
      "text/html": [
       "<pre style=\"white-space:pre;overflow-x:auto;line-height:normal;font-family:Menlo,'DejaVu Sans Mono',consolas,'Courier New',monospace\">  - Partitioned by: <span style=\"color: #800080; text-decoration-color: #800080; font-weight: bold\">days</span><span style=\"font-weight: bold\">(</span>reconciliation_timestamp<span style=\"font-weight: bold\">)</span>, match_status\n",
       "</pre>\n"
      ],
      "text/plain": [
       "  - Partitioned by: \u001b[1;35mdays\u001b[0m\u001b[1m(\u001b[0mreconciliation_timestamp\u001b[1m)\u001b[0m, match_status\n"
      ]
     },
     "metadata": {},
     "output_type": "display_data"
    },
    {
     "data": {
      "text/html": [
       "<pre style=\"white-space:pre;overflow-x:auto;line-height:normal;font-family:Menlo,'DejaVu Sans Mono',consolas,'Courier New',monospace\">  - Purpose: Store reconciliation outcomes and discrepancies\n",
       "</pre>\n"
      ],
      "text/plain": [
       "  - Purpose: Store reconciliation outcomes and discrepancies\n"
      ]
     },
     "metadata": {},
     "output_type": "display_data"
    }
   ],
   "source": [
    "# Create reconciliation_results table\n",
    "print(\"Creating reconciliation_results table...\")\n",
    "try:\n",
    "    spark.sql(\"\"\"\n",
    "    CREATE TABLE IF NOT EXISTS lakekeeper.banking.reconciliation_results (\n",
    "      reconciliation_id STRING,\n",
    "      batch_id STRING,\n",
    "      primary_transaction_id STRING,\n",
    "      secondary_transaction_id STRING,\n",
    "      match_status STRING,\n",
    "      discrepancy_type STRING,\n",
    "      discrepancy_amount DECIMAL(18,2),\n",
    "      reconciliation_timestamp TIMESTAMP,\n",
    "      notes STRING\n",
    "    )\n",
    "    USING iceberg\n",
    "    PARTITIONED BY (days(reconciliation_timestamp), match_status)\n",
    "    \"\"\")\n",
    "    print(\"✓ Created table: lakekeeper.banking.reconciliation_results\")\n",
    "    print(\"  - Partitioned by: days(reconciliation_timestamp), match_status\")\n",
    "    print(\"  - Purpose: Store reconciliation outcomes and discrepancies\")\n",
    "except Exception as e:\n",
    "    print(f\"✗ Error creating reconciliation_results table: {str(e)}\")"
   ]
  },
  {
   "cell_type": "code",
   "execution_count": 8,
   "metadata": {},
   "outputs": [
    {
     "data": {
      "text/html": [
       "<pre style=\"white-space:pre;overflow-x:auto;line-height:normal;font-family:Menlo,'DejaVu Sans Mono',consolas,'Courier New',monospace\">Creating reconciliation_batches table<span style=\"color: #808000; text-decoration-color: #808000\">...</span>\n",
       "</pre>\n"
      ],
      "text/plain": [
       "Creating reconciliation_batches table\u001b[33m...\u001b[0m\n"
      ]
     },
     "metadata": {},
     "output_type": "display_data"
    },
    {
     "data": {
      "text/html": [
       "<pre style=\"white-space:pre;overflow-x:auto;line-height:normal;font-family:Menlo,'DejaVu Sans Mono',consolas,'Courier New',monospace\">✓ Created table: minio.banking.reconciliation_batches\n",
       "</pre>\n"
      ],
      "text/plain": [
       "✓ Created table: minio.banking.reconciliation_batches\n"
      ]
     },
     "metadata": {},
     "output_type": "display_data"
    },
    {
     "data": {
      "text/html": [
       "<pre style=\"white-space:pre;overflow-x:auto;line-height:normal;font-family:Menlo,'DejaVu Sans Mono',consolas,'Courier New',monospace\">  - Partitioned by: <span style=\"color: #800080; text-decoration-color: #800080; font-style: italic\">None</span> <span style=\"font-weight: bold\">(</span>small lookup table<span style=\"font-weight: bold\">)</span>\n",
       "</pre>\n"
      ],
      "text/plain": [
       "  - Partitioned by: \u001b[3;35mNone\u001b[0m \u001b[1m(\u001b[0msmall lookup table\u001b[1m)\u001b[0m\n"
      ]
     },
     "metadata": {},
     "output_type": "display_data"
    },
    {
     "data": {
      "text/html": [
       "<pre style=\"white-space:pre;overflow-x:auto;line-height:normal;font-family:Menlo,'DejaVu Sans Mono',consolas,'Courier New',monospace\">  - Purpose: Track reconciliation batch metadata\n",
       "</pre>\n"
      ],
      "text/plain": [
       "  - Purpose: Track reconciliation batch metadata\n"
      ]
     },
     "metadata": {},
     "output_type": "display_data"
    }
   ],
   "source": [
    "# Create reconciliation_batches table\n",
    "print(\"Creating reconciliation_batches table...\")\n",
    "try:\n",
    "    spark.sql(\"\"\"\n",
    "    CREATE TABLE IF NOT EXISTS lakekeeper.banking.reconciliation_batches (\n",
    "      batch_id STRING,\n",
    "      reconciliation_date TIMESTAMP,\n",
    "      source_systems ARRAY<STRING>,\n",
    "      start_date TIMESTAMP,\n",
    "      end_date TIMESTAMP,\n",
    "      status STRING,\n",
    "      total_transactions BIGINT,\n",
    "      matched_count BIGINT,\n",
    "      unmatched_count BIGINT,\n",
    "      created_at TIMESTAMP,\n",
    "      completed_at TIMESTAMP\n",
    "    )\n",
    "    USING iceberg\n",
    "    \"\"\")\n",
    "    print(\"✓ Created table: minio.banking.reconciliation_batches\")\n",
    "    print(\"  - Partitioned by: None (small lookup table)\")\n",
    "    print(\"  - Purpose: Track reconciliation batch metadata\")\n",
    "except Exception as e:\n",
    "    print(f\"✗ Error creating reconciliation_batches table: {str(e)}\")"
   ]
  },
  {
   "cell_type": "markdown",
   "metadata": {},
   "source": [
    "## Step 8: Verify Tables and Audit Setup\n",
    "\n",
    "**Purpose**: Validate that all tables were created correctly in MinIO and examine the Iceberg file structure.\n",
    "\n",
    "### **What We'll Verify**:\n",
    "1. **Table Existence**: Confirm all tables are created in the `minio.banking` namespace\n",
    "2. **File Structure**: Examine Iceberg metadata and data directories in S3\n",
    "3. **Schema Validation**: Check table schemas are correct\n",
    "4. **Accessibility**: Test basic queries on each table"
   ]
  },
  {
   "cell_type": "code",
   "execution_count": 9,
   "metadata": {},
   "outputs": [
    {
     "data": {
      "text/html": [
       "<pre style=\"white-space:pre;overflow-x:auto;line-height:normal;font-family:Menlo,'DejaVu Sans Mono',consolas,'Courier New',monospace\">📋 Verifying created tables<span style=\"color: #808000; text-decoration-color: #808000\">...</span>\n",
       "</pre>\n"
      ],
      "text/plain": [
       "📋 Verifying created tables\u001b[33m...\u001b[0m\n"
      ]
     },
     "metadata": {},
     "output_type": "display_data"
    },
    {
     "name": "stdout",
     "output_type": "stream",
     "text": [
      "+---------+--------------------+-----------+\n",
      "|namespace|           tableName|isTemporary|\n",
      "+---------+--------------------+-----------+\n",
      "|  banking| source_transactions|      false|\n",
      "|  banking|reconciliation_re...|      false|\n",
      "|  banking|reconciliation_ba...|      false|\n",
      "+---------+--------------------+-----------+\n",
      "\n"
     ]
    },
    {
     "name": "stderr",
     "output_type": "stream",
     "text": [
      "25/07/21 11:18:16 WARN TaskSchedulerImpl: Initial job has not accepted any resources; check your cluster UI to ensure that workers are registered and have sufficient resources\n",
      "25/07/21 11:18:31 WARN TaskSchedulerImpl: Initial job has not accepted any resources; check your cluster UI to ensure that workers are registered and have sufficient resources\n",
      "25/07/21 11:18:46 WARN TaskSchedulerImpl: Initial job has not accepted any resources; check your cluster UI to ensure that workers are registered and have sufficient resources\n",
      "25/07/21 11:19:01 WARN TaskSchedulerImpl: Initial job has not accepted any resources; check your cluster UI to ensure that workers are registered and have sufficient resources\n",
      "25/07/21 11:19:16 WARN TaskSchedulerImpl: Initial job has not accepted any resources; check your cluster UI to ensure that workers are registered and have sufficient resources\n",
      "                                                                                "
     ]
    },
    {
     "data": {
      "text/html": [
       "<pre style=\"white-space:pre;overflow-x:auto;line-height:normal;font-family:Menlo,'DejaVu Sans Mono',consolas,'Courier New',monospace\">\n",
       "📊 Table Summary:\n",
       "</pre>\n"
      ],
      "text/plain": [
       "\n",
       "📊 Table Summary:\n"
      ]
     },
     "metadata": {},
     "output_type": "display_data"
    },
    {
     "data": {
      "text/html": [
       "<pre style=\"white-space:pre;overflow-x:auto;line-height:normal;font-family:Menlo,'DejaVu Sans Mono',consolas,'Courier New',monospace\">- Total tables in banking namespace: <span style=\"color: #008080; text-decoration-color: #008080; font-weight: bold\">3</span>\n",
       "</pre>\n"
      ],
      "text/plain": [
       "- Total tables in banking namespace: \u001b[1;36m3\u001b[0m\n"
      ]
     },
     "metadata": {},
     "output_type": "display_data"
    },
    {
     "data": {
      "text/html": [
       "<pre style=\"white-space:pre;overflow-x:auto;line-height:normal;font-family:Menlo,'DejaVu Sans Mono',consolas,'Courier New',monospace\">- Expected tables: <span style=\"color: #008080; text-decoration-color: #008080; font-weight: bold\">3</span>\n",
       "</pre>\n"
      ],
      "text/plain": [
       "- Expected tables: \u001b[1;36m3\u001b[0m\n"
      ]
     },
     "metadata": {},
     "output_type": "display_data"
    },
    {
     "data": {
      "text/html": [
       "<pre style=\"white-space:pre;overflow-x:auto;line-height:normal;font-family:Menlo,'DejaVu Sans Mono',consolas,'Courier New',monospace\">- Status: ✓ PASS\n",
       "</pre>\n"
      ],
      "text/plain": [
       "- Status: ✓ PASS\n"
      ]
     },
     "metadata": {},
     "output_type": "display_data"
    }
   ],
   "source": [
    "# List tables to verify\n",
    "print(\"📋 Verifying created tables...\")\n",
    "tables_df = spark.sql(\"SHOW TABLES IN lakekeeper.banking\")\n",
    "tables_df.show()\n",
    "\n",
    "# Count tables\n",
    "table_count = tables_df.count()\n",
    "print(f\"\\n📊 Table Summary:\")\n",
    "print(f\"- Total tables in banking namespace: {table_count}\")\n",
    "print(f\"- Expected tables: 3\")\n",
    "print(f\"- Status: {'✓ PASS' if table_count >= 3 else '✗ FAIL'}\")"
   ]
  },
  {
   "cell_type": "code",
   "execution_count": 10,
   "metadata": {},
   "outputs": [
    {
     "data": {
      "text/html": [
       "<pre style=\"white-space:pre;overflow-x:auto;line-height:normal;font-family:Menlo,'DejaVu Sans Mono',consolas,'Courier New',monospace\">🔍 Testing table accessibility<span style=\"color: #808000; text-decoration-color: #808000\">...</span>\n",
       "</pre>\n"
      ],
      "text/plain": [
       "🔍 Testing table accessibility\u001b[33m...\u001b[0m\n"
      ]
     },
     "metadata": {},
     "output_type": "display_data"
    },
    {
     "data": {
      "text/html": [
       "<pre style=\"white-space:pre;overflow-x:auto;line-height:normal;font-family:Menlo,'DejaVu Sans Mono',consolas,'Courier New',monospace\">✓ lakekeeper.banking.source_transactions: <span style=\"color: #008080; text-decoration-color: #008080; font-weight: bold\">0</span> rows\n",
       "</pre>\n"
      ],
      "text/plain": [
       "✓ lakekeeper.banking.source_transactions: \u001b[1;36m0\u001b[0m rows\n"
      ]
     },
     "metadata": {},
     "output_type": "display_data"
    },
    {
     "data": {
      "text/html": [
       "<pre style=\"white-space:pre;overflow-x:auto;line-height:normal;font-family:Menlo,'DejaVu Sans Mono',consolas,'Courier New',monospace\">✓ lakekeeper.banking.reconciliation_results: <span style=\"color: #008080; text-decoration-color: #008080; font-weight: bold\">0</span> rows\n",
       "</pre>\n"
      ],
      "text/plain": [
       "✓ lakekeeper.banking.reconciliation_results: \u001b[1;36m0\u001b[0m rows\n"
      ]
     },
     "metadata": {},
     "output_type": "display_data"
    },
    {
     "data": {
      "text/html": [
       "<pre style=\"white-space:pre;overflow-x:auto;line-height:normal;font-family:Menlo,'DejaVu Sans Mono',consolas,'Courier New',monospace\">✓ lakekeeper.banking.reconciliation_batches: <span style=\"color: #008080; text-decoration-color: #008080; font-weight: bold\">0</span> rows\n",
       "</pre>\n"
      ],
      "text/plain": [
       "✓ lakekeeper.banking.reconciliation_batches: \u001b[1;36m0\u001b[0m rows\n"
      ]
     },
     "metadata": {},
     "output_type": "display_data"
    }
   ],
   "source": [
    "# Test a simple query on each table\n",
    "print(\"🔍 Testing table accessibility...\")\n",
    "\n",
    "tables_to_test = [\n",
    "    'lakekeeper.banking.source_transactions',\n",
    "    'lakekeeper.banking.reconciliation_results',\n",
    "    'lakekeeper.banking.reconciliation_batches'\n",
    "]\n",
    "\n",
    "for table in tables_to_test:\n",
    "    try:\n",
    "        result = spark.sql(f\"SELECT COUNT(*) as count FROM {table}\")\n",
    "        count = result.collect()[0]['count']\n",
    "        print(f\"✓ {table}: {count} rows\")\n",
    "    except Exception as e:\n",
    "        print(f\"✗ {table}: Error - {str(e)}\")"
   ]
  },
  {
   "cell_type": "markdown",
   "metadata": {},
   "source": [
    "## Step 9: Examine Iceberg File Structure in MinIO\n",
    "\n",
    "**Purpose**: Understand how Iceberg organizes files and metadata in your MinIO S3 bucket.\n",
    "\n",
    "### **Iceberg File Organization in S3**:\n",
    "\n",
    "Each Iceberg table creates this structure in your MinIO bucket:\n",
    "```\n",
    "s3a://warehouse/banking/table_name/\n",
    "├── metadata/              # Table metadata and version history\n",
    "│   ├── v1.metadata.json  # Current table schema and properties\n",
    "│   ├── version-hint.text # Points to latest metadata version\n",
    "│   └── .*.crc           # Checksums for data integrity\n",
    "├── data/                # Actual data files (Parquet format)\n",
    "│   └── partition_paths/ # Partitioned data organized by partition keys\n",
    "└── snapshots/           # Table snapshots for time travel\n",
    "```\n",
    "> Use the MinIO Console (http://localhost:9001) or mc CLI to browse and inspect these files.\n",
    "\n",
    "### **Key Files Explained**:\n",
    "- **v1.metadata.json**: Contains table schema, partitioning, and properties\n",
    "- **version-hint.text**: Points to the current metadata version\n",
    "- **.crc files**: Checksums to ensure data integrity\n",
    "- **data/**: Contains actual Parquet files with the data\n",
    "- **snapshots/**: Enables time travel and rollback capabilities"
   ]
  },
  {
   "cell_type": "code",
   "execution_count": 19,
   "metadata": {},
   "outputs": [
    {
     "data": {
      "text/html": [
       "<pre style=\"white-space:pre;overflow-x:auto;line-height:normal;font-family:Menlo,'DejaVu Sans Mono',consolas,'Courier New',monospace\">📁 Examining Iceberg file structure<span style=\"color: #808000; text-decoration-color: #808000\">...</span>\n",
       "</pre>\n"
      ],
      "text/plain": [
       "📁 Examining Iceberg file structure\u001b[33m...\u001b[0m\n"
      ]
     },
     "metadata": {},
     "output_type": "display_data"
    },
    {
     "data": {
      "text/html": [
       "<pre style=\"white-space:pre;overflow-x:auto;line-height:normal;font-family:Menlo,'DejaVu Sans Mono',consolas,'Courier New',monospace\">\n",
       "🔍 Banking namespace structure\n",
       "</pre>\n"
      ],
      "text/plain": [
       "\n",
       "🔍 Banking namespace structure\n"
      ]
     },
     "metadata": {},
     "output_type": "display_data"
    },
    {
     "data": {
      "text/html": [
       "<pre style=\"white-space:pre;overflow-x:auto;line-height:normal;font-family:Menlo,'DejaVu Sans Mono',consolas,'Courier New',monospace\">No objects found.\n",
       "</pre>\n"
      ],
      "text/plain": [
       "No objects found.\n"
      ]
     },
     "metadata": {},
     "output_type": "display_data"
    },
    {
     "data": {
      "text/html": [
       "<pre style=\"white-space:pre;overflow-x:auto;line-height:normal;font-family:Menlo,'DejaVu Sans Mono',consolas,'Courier New',monospace\">\n",
       "🔍 source_transactions table structure\n",
       "</pre>\n"
      ],
      "text/plain": [
       "\n",
       "🔍 source_transactions table structure\n"
      ]
     },
     "metadata": {},
     "output_type": "display_data"
    },
    {
     "data": {
      "text/html": [
       "<pre style=\"white-space:pre;overflow-x:auto;line-height:normal;font-family:Menlo,'DejaVu Sans Mono',consolas,'Courier New',monospace\">No objects found.\n",
       "</pre>\n"
      ],
      "text/plain": [
       "No objects found.\n"
      ]
     },
     "metadata": {},
     "output_type": "display_data"
    },
    {
     "data": {
      "text/html": [
       "<pre style=\"white-space:pre;overflow-x:auto;line-height:normal;font-family:Menlo,'DejaVu Sans Mono',consolas,'Courier New',monospace\">\n",
       "🔍 source_transactions metadata\n",
       "</pre>\n"
      ],
      "text/plain": [
       "\n",
       "🔍 source_transactions metadata\n"
      ]
     },
     "metadata": {},
     "output_type": "display_data"
    },
    {
     "data": {
      "text/html": [
       "<pre style=\"white-space:pre;overflow-x:auto;line-height:normal;font-family:Menlo,'DejaVu Sans Mono',consolas,'Courier New',monospace\">banking/source_transactions/metadata/v1.metadata.json\n",
       "</pre>\n"
      ],
      "text/plain": [
       "banking/source_transactions/metadata/v1.metadata.json\n"
      ]
     },
     "metadata": {},
     "output_type": "display_data"
    },
    {
     "data": {
      "text/html": [
       "<pre style=\"white-space:pre;overflow-x:auto;line-height:normal;font-family:Menlo,'DejaVu Sans Mono',consolas,'Courier New',monospace\">banking/source_transactions/metadata/version-hint.text\n",
       "</pre>\n"
      ],
      "text/plain": [
       "banking/source_transactions/metadata/version-hint.text\n"
      ]
     },
     "metadata": {},
     "output_type": "display_data"
    },
    {
     "data": {
      "text/html": [
       "<pre style=\"white-space:pre;overflow-x:auto;line-height:normal;font-family:Menlo,'DejaVu Sans Mono',consolas,'Courier New',monospace\">\n",
       "🔍 reconciliation_results table structure\n",
       "</pre>\n"
      ],
      "text/plain": [
       "\n",
       "🔍 reconciliation_results table structure\n"
      ]
     },
     "metadata": {},
     "output_type": "display_data"
    },
    {
     "data": {
      "text/html": [
       "<pre style=\"white-space:pre;overflow-x:auto;line-height:normal;font-family:Menlo,'DejaVu Sans Mono',consolas,'Courier New',monospace\">No objects found.\n",
       "</pre>\n"
      ],
      "text/plain": [
       "No objects found.\n"
      ]
     },
     "metadata": {},
     "output_type": "display_data"
    },
    {
     "data": {
      "text/html": [
       "<pre style=\"white-space:pre;overflow-x:auto;line-height:normal;font-family:Menlo,'DejaVu Sans Mono',consolas,'Courier New',monospace\">\n",
       "🔍 reconciliation_batches table structure\n",
       "</pre>\n"
      ],
      "text/plain": [
       "\n",
       "🔍 reconciliation_batches table structure\n"
      ]
     },
     "metadata": {},
     "output_type": "display_data"
    },
    {
     "data": {
      "text/html": [
       "<pre style=\"white-space:pre;overflow-x:auto;line-height:normal;font-family:Menlo,'DejaVu Sans Mono',consolas,'Courier New',monospace\">No objects found.\n",
       "</pre>\n"
      ],
      "text/plain": [
       "No objects found.\n"
      ]
     },
     "metadata": {},
     "output_type": "display_data"
    }
   ],
   "source": [
    "bucket_name = 'warehouse'\n",
    "namespace_prefix = 'banking/'\n",
    "\n",
    "def list_s3_prefix(prefix, title):\n",
    "    print(f\"\\n🔍 {title}\")\n",
    "    response = s3_client.list_objects_v2(Bucket=bucket_name, Prefix=prefix, Delimiter='/')\n",
    "    if 'Contents' in response:\n",
    "        for obj in response['Contents']:\n",
    "            print(obj['Key'])\n",
    "    else:\n",
    "        print(\"No objects found.\")\n",
    "\n",
    "print(\"📁 Examining Iceberg file structure...\")\n",
    "\n",
    "# Banking namespace structure\n",
    "list_s3_prefix(namespace_prefix, \"Banking namespace structure\")\n",
    "\n",
    "# source_transactions table structure\n",
    "list_s3_prefix(namespace_prefix + 'source_transactions/', \"source_transactions table structure\")\n",
    "\n",
    "# source_transactions metadata\n",
    "list_s3_prefix(namespace_prefix + 'source_transactions/metadata/', \"source_transactions metadata\")\n",
    "\n",
    "# reconciliation_results table structure\n",
    "list_s3_prefix(namespace_prefix + 'reconciliation_results/', \"reconciliation_results table structure\")\n",
    "\n",
    "# reconciliation_batches table structure\n",
    "list_s3_prefix(namespace_prefix + 'reconciliation_batches/', \"reconciliation_batches table structure\")"
   ]
  },
  {
   "cell_type": "code",
   "execution_count": 20,
   "metadata": {},
   "outputs": [
    {
     "data": {
      "text/html": [
       "<pre style=\"white-space:pre;overflow-x:auto;line-height:normal;font-family:Menlo,'DejaVu Sans Mono',consolas,'Courier New',monospace\">📄 Examining table metadata<span style=\"color: #808000; text-decoration-color: #808000\">...</span>\n",
       "</pre>\n"
      ],
      "text/plain": [
       "📄 Examining table metadata\u001b[33m...\u001b[0m\n"
      ]
     },
     "metadata": {},
     "output_type": "display_data"
    },
    {
     "data": {
      "text/html": [
       "<pre style=\"white-space:pre;overflow-x:auto;line-height:normal;font-family:Menlo,'DejaVu Sans Mono',consolas,'Courier New',monospace\">\n",
       "🔍 source_transactions metadata content\n",
       "</pre>\n"
      ],
      "text/plain": [
       "\n",
       "🔍 source_transactions metadata content\n"
      ]
     },
     "metadata": {},
     "output_type": "display_data"
    },
    {
     "data": {
      "text/html": [
       "<pre style=\"white-space:pre;overflow-x:auto;line-height:normal;font-family:Menlo,'DejaVu Sans Mono',consolas,'Courier New',monospace\"><span style=\"font-weight: bold\">{</span><span style=\"color: #008000; text-decoration-color: #008000\">\"format-version\"</span>:<span style=\"color: #008080; text-decoration-color: #008080; font-weight: bold\">2</span>,<span style=\"color: #008000; text-decoration-color: #008000\">\"table-uuid\"</span>:<span style=\"color: #008000; text-decoration-color: #008000\">\"d91bcd8b-dd3e-4dae-957b-7a12364a2edf\"</span>,<span style=\"color: #008000; text-decoration-color: #008000\">\"location\"</span>:<span style=\"color: #008000; text-decoration-color: #008000\">\"s3a://warehouse/banking/source_</span>\n",
       "<span style=\"color: #008000; text-decoration-color: #008000\">transactions\"</span>,<span style=\"color: #008000; text-decoration-color: #008000\">\"last-sequence-number\"</span>:<span style=\"color: #008080; text-decoration-color: #008080; font-weight: bold\">0</span>,<span style=\"color: #008000; text-decoration-color: #008000\">\"last-updated-ms\"</span>:<span style=\"color: #008080; text-decoration-color: #008080; font-weight: bold\">1752429388401</span>,<span style=\"color: #008000; text-decoration-color: #008000\">\"last-column-id\"</span>:<span style=\"color: #008080; text-decoration-color: #008080; font-weight: bold\">11</span>,<span style=\"color: #008000; text-decoration-color: #008000\">\"current-schema-id\"</span>:<span style=\"color: #008080; text-decoration-color: #008080; font-weight: bold\">0</span>,<span style=\"color: #008000; text-decoration-color: #008000\">\"s</span>\n",
       "<span style=\"color: #008000; text-decoration-color: #008000\">chemas\"</span>:<span style=\"font-weight: bold\">[{</span><span style=\"color: #008000; text-decoration-color: #008000\">\"type\"</span>:<span style=\"color: #008000; text-decoration-color: #008000\">\"struct\"</span>,<span style=\"color: #008000; text-decoration-color: #008000\">\"schema-id\"</span>:<span style=\"color: #008080; text-decoration-color: #008080; font-weight: bold\">0</span>,<span style=\"color: #008000; text-decoration-color: #008000\">\"fields\"</span>:<span style=\"font-weight: bold\">[{</span><span style=\"color: #008000; text-decoration-color: #008000\">\"id\"</span>:<span style=\"color: #008080; text-decoration-color: #008080; font-weight: bold\">1</span>,<span style=\"color: #008000; text-decoration-color: #008000\">\"name\"</span>:<span style=\"color: #008000; text-decoration-color: #008000\">\"transaction_id\"</span>,<span style=\"color: #008000; text-decoration-color: #008000\">\"required\"</span>:false,<span style=\"color: #008000; text-decoration-color: #008000\">\"type\"</span>:<span style=\"color: #008000; text-decoration-color: #008000\">\"string\"</span><span style=\"font-weight: bold\">}</span>\n",
       ",<span style=\"font-weight: bold\">{</span><span style=\"color: #008000; text-decoration-color: #008000\">\"id\"</span>:<span style=\"color: #008080; text-decoration-color: #008080; font-weight: bold\">2</span>,<span style=\"color: #008000; text-decoration-color: #008000\">\"name\"</span>:<span style=\"color: #008000; text-decoration-color: #008000\">\"source_system\"</span>,<span style=\"color: #008000; text-decoration-color: #008000\">\"required\"</span>:false,<span style=\"color: #008000; text-decoration-color: #008000\">\"type\"</span>:<span style=\"color: #008000; text-decoration-color: #008000\">\"string\"</span><span style=\"font-weight: bold\">}</span>,<span style=\"font-weight: bold\">{</span><span style=\"color: #008000; text-decoration-color: #008000\">\"id\"</span>:<span style=\"color: #008080; text-decoration-color: #008080; font-weight: bold\">3</span>,<span style=\"color: #008000; text-decoration-color: #008000\">\"name\"</span>:<span style=\"color: #008000; text-decoration-color: #008000\">\"transaction_date\"</span>,<span style=\"color: #008000; text-decoration-color: #008000\">\"required\"</span>:fals\n",
       "e,<span style=\"color: #008000; text-decoration-color: #008000\">\"type\"</span>:<span style=\"color: #008000; text-decoration-color: #008000\">\"timestamptz\"</span><span style=\"font-weight: bold\">}</span>,<span style=\"font-weight: bold\">{</span><span style=\"color: #008000; text-decoration-color: #008000\">\"id\"</span>:<span style=\"color: #008080; text-decoration-color: #008080; font-weight: bold\">4</span>,<span style=\"color: #008000; text-decoration-color: #008000\">\"name\"</span>:<span style=\"color: #008000; text-decoration-color: #008000\">\"amount\"</span>,<span style=\"color: #008000; text-decoration-color: #008000\">\"required\"</span>:false,<span style=\"color: #008000; text-decoration-color: #008000\">\"type\"</span>:<span style=\"color: #008000; text-decoration-color: #008000\">\"decimal(18, </span>\n",
       "<span style=\"color: #008000; text-decoration-color: #008000\">2)\"</span><span style=\"font-weight: bold\">}</span>,<span style=\"font-weight: bold\">{</span><span style=\"color: #008000; text-decoration-color: #008000\">\"id\"</span>:<span style=\"color: #008080; text-decoration-color: #008080; font-weight: bold\">5</span>,<span style=\"color: #008000; text-decoration-color: #008000\">\"name\"</span>:<span style=\"color: #008000; text-decoration-color: #008000\">\"account_id\"</span>,<span style=\"color: #008000; text-decoration-color: #008000\">\"required\"</span>:false,<span style=\"color: #008000; text-decoration-color: #008000\">\"type\"</span>:<span style=\"color: #008000; text-decoration-color: #008000\">\"string\"</span><span style=\"font-weight: bold\">}</span>,<span style=\"font-weight: bold\">{</span><span style=\"color: #008000; text-decoration-color: #008000\">\"id\"</span>:<span style=\"color: #008080; text-decoration-color: #008080; font-weight: bold\">6</span>,<span style=\"color: #008000; text-decoration-color: #008000\">\"name\"</span>:<span style=\"color: #008000; text-decoration-color: #008000\">\"transaction_type\"</span>,<span style=\"color: #008000; text-decoration-color: #008000\">\"required\"</span>:fal\n",
       "se,<span style=\"color: #008000; text-decoration-color: #008000\">\"type\"</span>:<span style=\"color: #008000; text-decoration-color: #008000\">\"string\"</span><span style=\"font-weight: bold\">}</span>,<span style=\"font-weight: bold\">{</span><span style=\"color: #008000; text-decoration-color: #008000\">\"id\"</span>:<span style=\"color: #008080; text-decoration-color: #008080; font-weight: bold\">7</span>,<span style=\"color: #008000; text-decoration-color: #008000\">\"name\"</span>:<span style=\"color: #008000; text-decoration-color: #008000\">\"reference_id\"</span>,<span style=\"color: #008000; text-decoration-color: #008000\">\"required\"</span>:false,<span style=\"color: #008000; text-decoration-color: #008000\">\"type\"</span>:<span style=\"color: #008000; text-decoration-color: #008000\">\"string\"</span><span style=\"font-weight: bold\">}</span>,<span style=\"font-weight: bold\">{</span><span style=\"color: #008000; text-decoration-color: #008000\">\"id\"</span>:<span style=\"color: #008080; text-decoration-color: #008080; font-weight: bold\">8</span>,<span style=\"color: #008000; text-decoration-color: #008000\">\"name\"</span>:<span style=\"color: #008000; text-decoration-color: #008000\">\"status\"</span>,<span style=\"color: #008000; text-decoration-color: #008000\">\"requir</span>\n",
       "<span style=\"color: #008000; text-decoration-color: #008000\">ed\"</span>:false,<span style=\"color: #008000; text-decoration-color: #008000\">\"type\"</span>:<span style=\"color: #008000; text-decoration-color: #008000\">\"string\"</span><span style=\"font-weight: bold\">}</span>,<span style=\"font-weight: bold\">{</span><span style=\"color: #008000; text-decoration-color: #008000\">\"id\"</span>:<span style=\"color: #008080; text-decoration-color: #008080; font-weight: bold\">9</span>,<span style=\"color: #008000; text-decoration-color: #008000\">\"name\"</span>:<span style=\"color: #008000; text-decoration-color: #008000\">\"payload\"</span>,<span style=\"color: #008000; text-decoration-color: #008000\">\"required\"</span>:false,<span style=\"color: #008000; text-decoration-color: #008000\">\"type\"</span>:<span style=\"color: #008000; text-decoration-color: #008000\">\"string\"</span><span style=\"font-weight: bold\">}</span>,<span style=\"font-weight: bold\">{</span><span style=\"color: #008000; text-decoration-color: #008000\">\"id\"</span>:<span style=\"color: #008080; text-decoration-color: #008080; font-weight: bold\">10</span>,<span style=\"color: #008000; text-decoration-color: #008000\">\"name\"</span>:<span style=\"color: #008000; text-decoration-color: #008000\">\"created_at\"</span>,\n",
       "<span style=\"color: #008000; text-decoration-color: #008000\">\"required\"</span>:false,<span style=\"color: #008000; text-decoration-color: #008000\">\"type\"</span>:<span style=\"color: #008000; text-decoration-color: #008000\">\"timestamptz\"</span><span style=\"font-weight: bold\">}</span>,<span style=\"font-weight: bold\">{</span><span style=\"color: #008000; text-decoration-color: #008000\">\"id\"</span>:<span style=\"color: #008080; text-decoration-color: #008080; font-weight: bold\">11</span>,<span style=\"color: #008000; text-decoration-color: #008000\">\"name\"</span>:<span style=\"color: #008000; text-decoration-color: #008000\">\"processing_timestamp\"</span>,<span style=\"color: #008000; text-decoration-color: #008000\">\"required\"</span>:false,<span style=\"color: #008000; text-decoration-color: #008000\">\"type\"</span>:<span style=\"color: #008000; text-decoration-color: #008000\">\"timestamptz\"</span>\n",
       "<span style=\"font-weight: bold\">}]}]</span>,<span style=\"color: #008000; text-decoration-color: #008000\">\"default-spec-id\"</span>:<span style=\"color: #008080; text-decoration-color: #008080; font-weight: bold\">0</span>,<span style=\"color: #008000; text-decoration-color: #008000\">\"partition-specs\"</span>:<span style=\"font-weight: bold\">[{</span><span style=\"color: #008000; text-decoration-color: #008000\">\"spec-id\"</span>:<span style=\"color: #008080; text-decoration-color: #008080; font-weight: bold\">0</span>,<span style=\"color: #008000; text-decoration-color: #008000\">\"fields\"</span>:<span style=\"font-weight: bold\">[{</span><span style=\"color: #008000; text-decoration-color: #008000\">\"name\"</span>:<span style=\"color: #008000; text-decoration-color: #008000\">\"transaction_date_day\"</span>,<span style=\"color: #008000; text-decoration-color: #008000\">\"transform\"</span>:<span style=\"color: #008000; text-decoration-color: #008000\">\"day\"</span>\n",
       ",<span style=\"color: #008000; text-decoration-color: #008000\">\"source-id\"</span>:<span style=\"color: #008080; text-decoration-color: #008080; font-weight: bold\">3</span>,<span style=\"color: #008000; text-decoration-color: #008000\">\"field-id\"</span>:<span style=\"color: #008080; text-decoration-color: #008080; font-weight: bold\">1000</span><span style=\"font-weight: bold\">}</span>,<span style=\"font-weight: bold\">{</span><span style=\"color: #008000; text-decoration-color: #008000\">\"name\"</span>:<span style=\"color: #008000; text-decoration-color: #008000\">\"source_system\"</span>,<span style=\"color: #008000; text-decoration-color: #008000\">\"transform\"</span>:<span style=\"color: #008000; text-decoration-color: #008000\">\"identity\"</span>,<span style=\"color: #008000; text-decoration-color: #008000\">\"source-id\"</span>:<span style=\"color: #008080; text-decoration-color: #008080; font-weight: bold\">2</span>,<span style=\"color: #008000; text-decoration-color: #008000\">\"field-id\"</span>:<span style=\"color: #008080; text-decoration-color: #008080; font-weight: bold\">1001</span><span style=\"font-weight: bold\">}]}]</span>,<span style=\"color: #008000; text-decoration-color: #008000\">\"l</span>\n",
       "<span style=\"color: #008000; text-decoration-color: #008000\">ast-partition-id\"</span>:<span style=\"color: #008080; text-decoration-color: #008080; font-weight: bold\">1001</span>,<span style=\"color: #008000; text-decoration-color: #008000\">\"default-sort-order-id\"</span>:<span style=\"color: #008080; text-decoration-color: #008080; font-weight: bold\">0</span>,<span style=\"color: #008000; text-decoration-color: #008000\">\"sort-orders\"</span>:<span style=\"font-weight: bold\">[{</span><span style=\"color: #008000; text-decoration-color: #008000\">\"order-id\"</span>:<span style=\"color: #008080; text-decoration-color: #008080; font-weight: bold\">0</span>,<span style=\"color: #008000; text-decoration-color: #008000\">\"fields\"</span>:<span style=\"font-weight: bold\">[]}]</span>,<span style=\"color: #008000; text-decoration-color: #008000\">\"properties\"</span>:<span style=\"font-weight: bold\">{</span><span style=\"color: #008000; text-decoration-color: #008000\">\"owner\"</span>:<span style=\"color: #008000; text-decoration-color: #008000\">\"</span>\n",
       "<span style=\"color: #008000; text-decoration-color: #008000\">spark\"</span>,<span style=\"color: #008000; text-decoration-color: #008000\">\"write.parquet.compression-codec\"</span>:<span style=\"color: #008000; text-decoration-color: #008000\">\"zstd\"</span><span style=\"font-weight: bold\">}</span>,<span style=\"color: #008000; text-decoration-color: #008000\">\"current-snapshot-id\"</span>:<span style=\"color: #008080; text-decoration-color: #008080; font-weight: bold\">-1</span>,<span style=\"color: #008000; text-decoration-color: #008000\">\"refs\"</span>:<span style=\"font-weight: bold\">{}</span>,<span style=\"color: #008000; text-decoration-color: #008000\">\"snapshots\"</span>:<span style=\"font-weight: bold\">[]</span>,<span style=\"color: #008000; text-decoration-color: #008000\">\"statistics\"</span>:<span style=\"font-weight: bold\">[]</span>,\n",
       "<span style=\"color: #008000; text-decoration-color: #008000\">\"partition-statistics\"</span>:<span style=\"font-weight: bold\">[]</span>,<span style=\"color: #008000; text-decoration-color: #008000\">\"snapshot-log\"</span>:<span style=\"font-weight: bold\">[]</span>,<span style=\"color: #008000; text-decoration-color: #008000\">\"metadata-log\"</span>:<span style=\"font-weight: bold\">[]}</span>\n",
       "</pre>\n"
      ],
      "text/plain": [
       "\u001b[1m{\u001b[0m\u001b[32m\"format-version\"\u001b[0m:\u001b[1;36m2\u001b[0m,\u001b[32m\"table-uuid\"\u001b[0m:\u001b[32m\"d91bcd8b-dd3e-4dae-957b-7a12364a2edf\"\u001b[0m,\u001b[32m\"location\"\u001b[0m:\u001b[32m\"s3a://warehouse/banking/source_\u001b[0m\n",
       "\u001b[32mtransactions\"\u001b[0m,\u001b[32m\"last-sequence-number\"\u001b[0m:\u001b[1;36m0\u001b[0m,\u001b[32m\"last-updated-ms\"\u001b[0m:\u001b[1;36m1752429388401\u001b[0m,\u001b[32m\"last-column-id\"\u001b[0m:\u001b[1;36m11\u001b[0m,\u001b[32m\"current-schema-id\"\u001b[0m:\u001b[1;36m0\u001b[0m,\u001b[32m\"s\u001b[0m\n",
       "\u001b[32mchemas\"\u001b[0m:\u001b[1m[\u001b[0m\u001b[1m{\u001b[0m\u001b[32m\"type\"\u001b[0m:\u001b[32m\"struct\"\u001b[0m,\u001b[32m\"schema-id\"\u001b[0m:\u001b[1;36m0\u001b[0m,\u001b[32m\"fields\"\u001b[0m:\u001b[1m[\u001b[0m\u001b[1m{\u001b[0m\u001b[32m\"id\"\u001b[0m:\u001b[1;36m1\u001b[0m,\u001b[32m\"name\"\u001b[0m:\u001b[32m\"transaction_id\"\u001b[0m,\u001b[32m\"required\"\u001b[0m:false,\u001b[32m\"type\"\u001b[0m:\u001b[32m\"string\"\u001b[0m\u001b[1m}\u001b[0m\n",
       ",\u001b[1m{\u001b[0m\u001b[32m\"id\"\u001b[0m:\u001b[1;36m2\u001b[0m,\u001b[32m\"name\"\u001b[0m:\u001b[32m\"source_system\"\u001b[0m,\u001b[32m\"required\"\u001b[0m:false,\u001b[32m\"type\"\u001b[0m:\u001b[32m\"string\"\u001b[0m\u001b[1m}\u001b[0m,\u001b[1m{\u001b[0m\u001b[32m\"id\"\u001b[0m:\u001b[1;36m3\u001b[0m,\u001b[32m\"name\"\u001b[0m:\u001b[32m\"transaction_date\"\u001b[0m,\u001b[32m\"required\"\u001b[0m:fals\n",
       "e,\u001b[32m\"type\"\u001b[0m:\u001b[32m\"timestamptz\"\u001b[0m\u001b[1m}\u001b[0m,\u001b[1m{\u001b[0m\u001b[32m\"id\"\u001b[0m:\u001b[1;36m4\u001b[0m,\u001b[32m\"name\"\u001b[0m:\u001b[32m\"amount\"\u001b[0m,\u001b[32m\"required\"\u001b[0m:false,\u001b[32m\"type\"\u001b[0m:\u001b[32m\"decimal\u001b[0m\u001b[32m(\u001b[0m\u001b[32m18, \u001b[0m\n",
       "\u001b[32m2\u001b[0m\u001b[32m)\u001b[0m\u001b[32m\"\u001b[0m\u001b[1m}\u001b[0m,\u001b[1m{\u001b[0m\u001b[32m\"id\"\u001b[0m:\u001b[1;36m5\u001b[0m,\u001b[32m\"name\"\u001b[0m:\u001b[32m\"account_id\"\u001b[0m,\u001b[32m\"required\"\u001b[0m:false,\u001b[32m\"type\"\u001b[0m:\u001b[32m\"string\"\u001b[0m\u001b[1m}\u001b[0m,\u001b[1m{\u001b[0m\u001b[32m\"id\"\u001b[0m:\u001b[1;36m6\u001b[0m,\u001b[32m\"name\"\u001b[0m:\u001b[32m\"transaction_type\"\u001b[0m,\u001b[32m\"required\"\u001b[0m:fal\n",
       "se,\u001b[32m\"type\"\u001b[0m:\u001b[32m\"string\"\u001b[0m\u001b[1m}\u001b[0m,\u001b[1m{\u001b[0m\u001b[32m\"id\"\u001b[0m:\u001b[1;36m7\u001b[0m,\u001b[32m\"name\"\u001b[0m:\u001b[32m\"reference_id\"\u001b[0m,\u001b[32m\"required\"\u001b[0m:false,\u001b[32m\"type\"\u001b[0m:\u001b[32m\"string\"\u001b[0m\u001b[1m}\u001b[0m,\u001b[1m{\u001b[0m\u001b[32m\"id\"\u001b[0m:\u001b[1;36m8\u001b[0m,\u001b[32m\"name\"\u001b[0m:\u001b[32m\"status\"\u001b[0m,\u001b[32m\"requir\u001b[0m\n",
       "\u001b[32med\"\u001b[0m:false,\u001b[32m\"type\"\u001b[0m:\u001b[32m\"string\"\u001b[0m\u001b[1m}\u001b[0m,\u001b[1m{\u001b[0m\u001b[32m\"id\"\u001b[0m:\u001b[1;36m9\u001b[0m,\u001b[32m\"name\"\u001b[0m:\u001b[32m\"payload\"\u001b[0m,\u001b[32m\"required\"\u001b[0m:false,\u001b[32m\"type\"\u001b[0m:\u001b[32m\"string\"\u001b[0m\u001b[1m}\u001b[0m,\u001b[1m{\u001b[0m\u001b[32m\"id\"\u001b[0m:\u001b[1;36m10\u001b[0m,\u001b[32m\"name\"\u001b[0m:\u001b[32m\"created_at\"\u001b[0m,\n",
       "\u001b[32m\"required\"\u001b[0m:false,\u001b[32m\"type\"\u001b[0m:\u001b[32m\"timestamptz\"\u001b[0m\u001b[1m}\u001b[0m,\u001b[1m{\u001b[0m\u001b[32m\"id\"\u001b[0m:\u001b[1;36m11\u001b[0m,\u001b[32m\"name\"\u001b[0m:\u001b[32m\"processing_timestamp\"\u001b[0m,\u001b[32m\"required\"\u001b[0m:false,\u001b[32m\"type\"\u001b[0m:\u001b[32m\"timestamptz\"\u001b[0m\n",
       "\u001b[1m}\u001b[0m\u001b[1m]\u001b[0m\u001b[1m}\u001b[0m\u001b[1m]\u001b[0m,\u001b[32m\"default-spec-id\"\u001b[0m:\u001b[1;36m0\u001b[0m,\u001b[32m\"partition-specs\"\u001b[0m:\u001b[1m[\u001b[0m\u001b[1m{\u001b[0m\u001b[32m\"spec-id\"\u001b[0m:\u001b[1;36m0\u001b[0m,\u001b[32m\"fields\"\u001b[0m:\u001b[1m[\u001b[0m\u001b[1m{\u001b[0m\u001b[32m\"name\"\u001b[0m:\u001b[32m\"transaction_date_day\"\u001b[0m,\u001b[32m\"transform\"\u001b[0m:\u001b[32m\"day\"\u001b[0m\n",
       ",\u001b[32m\"source-id\"\u001b[0m:\u001b[1;36m3\u001b[0m,\u001b[32m\"field-id\"\u001b[0m:\u001b[1;36m1000\u001b[0m\u001b[1m}\u001b[0m,\u001b[1m{\u001b[0m\u001b[32m\"name\"\u001b[0m:\u001b[32m\"source_system\"\u001b[0m,\u001b[32m\"transform\"\u001b[0m:\u001b[32m\"identity\"\u001b[0m,\u001b[32m\"source-id\"\u001b[0m:\u001b[1;36m2\u001b[0m,\u001b[32m\"field-id\"\u001b[0m:\u001b[1;36m1001\u001b[0m\u001b[1m}\u001b[0m\u001b[1m]\u001b[0m\u001b[1m}\u001b[0m\u001b[1m]\u001b[0m,\u001b[32m\"l\u001b[0m\n",
       "\u001b[32mast-partition-id\"\u001b[0m:\u001b[1;36m1001\u001b[0m,\u001b[32m\"default-sort-order-id\"\u001b[0m:\u001b[1;36m0\u001b[0m,\u001b[32m\"sort-orders\"\u001b[0m:\u001b[1m[\u001b[0m\u001b[1m{\u001b[0m\u001b[32m\"order-id\"\u001b[0m:\u001b[1;36m0\u001b[0m,\u001b[32m\"fields\"\u001b[0m:\u001b[1m[\u001b[0m\u001b[1m]\u001b[0m\u001b[1m}\u001b[0m\u001b[1m]\u001b[0m,\u001b[32m\"properties\"\u001b[0m:\u001b[1m{\u001b[0m\u001b[32m\"owner\"\u001b[0m:\u001b[32m\"\u001b[0m\n",
       "\u001b[32mspark\"\u001b[0m,\u001b[32m\"write.parquet.compression-codec\"\u001b[0m:\u001b[32m\"zstd\"\u001b[0m\u001b[1m}\u001b[0m,\u001b[32m\"current-snapshot-id\"\u001b[0m:\u001b[1;36m-1\u001b[0m,\u001b[32m\"refs\"\u001b[0m:\u001b[1m{\u001b[0m\u001b[1m}\u001b[0m,\u001b[32m\"snapshots\"\u001b[0m:\u001b[1m[\u001b[0m\u001b[1m]\u001b[0m,\u001b[32m\"statistics\"\u001b[0m:\u001b[1m[\u001b[0m\u001b[1m]\u001b[0m,\n",
       "\u001b[32m\"partition-statistics\"\u001b[0m:\u001b[1m[\u001b[0m\u001b[1m]\u001b[0m,\u001b[32m\"snapshot-log\"\u001b[0m:\u001b[1m[\u001b[0m\u001b[1m]\u001b[0m,\u001b[32m\"metadata-log\"\u001b[0m:\u001b[1m[\u001b[0m\u001b[1m]\u001b[0m\u001b[1m}\u001b[0m\n"
      ]
     },
     "metadata": {},
     "output_type": "display_data"
    },
    {
     "data": {
      "text/html": [
       "<pre style=\"white-space:pre;overflow-x:auto;line-height:normal;font-family:Menlo,'DejaVu Sans Mono',consolas,'Courier New',monospace\">\n",
       "🔍 version hint file\n",
       "</pre>\n"
      ],
      "text/plain": [
       "\n",
       "🔍 version hint file\n"
      ]
     },
     "metadata": {},
     "output_type": "display_data"
    },
    {
     "data": {
      "text/html": [
       "<pre style=\"white-space:pre;overflow-x:auto;line-height:normal;font-family:Menlo,'DejaVu Sans Mono',consolas,'Courier New',monospace\"><span style=\"color: #008080; text-decoration-color: #008080; font-weight: bold\">1</span>\n",
       "</pre>\n"
      ],
      "text/plain": [
       "\u001b[1;36m1\u001b[0m\n"
      ]
     },
     "metadata": {},
     "output_type": "display_data"
    }
   ],
   "source": [
    "# Examine the metadata file to understand table schema and properties\n",
    "bucket_name = 'warehouse'\n",
    "metadata_prefix = 'banking/source_transactions/metadata/'\n",
    "\n",
    "def read_s3_object(key, title):\n",
    "    print(f\"\\n🔍 {title}\")\n",
    "    try:\n",
    "        obj = s3_client.get_object(Bucket=bucket_name, Key=key)\n",
    "        content = obj['Body'].read().decode('utf-8')\n",
    "        print(content)\n",
    "    except Exception as e:\n",
    "        print(f\"Error reading {key}: {e}\")\n",
    "\n",
    "print(\"📄 Examining table metadata...\")\n",
    "\n",
    "# Read v1.metadata.json\n",
    "read_s3_object(metadata_prefix + 'v1.metadata.json', \"source_transactions metadata content\")\n",
    "\n",
    "# Read version-hint.text\n",
    "read_s3_object(metadata_prefix + 'version-hint.text', \"version hint file\")"
   ]
  },
  {
   "cell_type": "markdown",
   "metadata": {},
   "source": [
    "## Step 10: Phase 1 Summary and Next Steps\n",
    "\n",
    "**Purpose**: Provide a comprehensive summary of what was accomplished and prepare for the next phase.\n",
    "\n",
    "### **What We've Accomplished**:\n",
    "\n",
    "#### **✅ Infrastructure Setup**\n",
    "- Spark session with Iceberg extensions\n",
    "- Local catalog with Hive metastore\n",
    "- MinIO object storage buckets\n",
    "\n",
    "#### **✅ Data Architecture**\n",
    "- Banking namespace for organization\n",
    "- Three core tables with proper schemas\n",
    "- Partitioning strategy for performance\n",
    "\n",
    "#### **✅ File Structure**\n",
    "- Iceberg metadata and data directories\n",
    "- Proper table organization\n",
    "- Version control and checksums\n",
    "\n",
    "### **Next Phase Preview**:\n",
    "- **Data Generation**: Create sample transaction data\n",
    "- **Data Ingestion**: Load data into Iceberg tables\n",
    "- **Reconciliation Logic**: Implement matching algorithms\n",
    "- **Testing**: Validate the complete system"
   ]
  },
  {
   "cell_type": "code",
   "execution_count": 21,
   "metadata": {},
   "outputs": [
    {
     "data": {
      "text/html": [
       "<pre style=\"white-space:pre;overflow-x:auto;line-height:normal;font-family:Menlo,'DejaVu Sans Mono',consolas,'Courier New',monospace\">\n",
       "📚 Learning Summary:\n",
       "</pre>\n"
      ],
      "text/plain": [
       "\n",
       "📚 Learning Summary:\n"
      ]
     },
     "metadata": {},
     "output_type": "display_data"
    },
    {
     "data": {
      "text/html": [
       "<pre style=\"white-space:pre;overflow-x:auto;line-height:normal;font-family:Menlo,'DejaVu Sans Mono',consolas,'Courier New',monospace\">✅ Understanding of Iceberg local catalog with Hive metastore\n",
       "</pre>\n"
      ],
      "text/plain": [
       "✅ Understanding of Iceberg local catalog with Hive metastore\n"
      ]
     },
     "metadata": {},
     "output_type": "display_data"
    },
    {
     "data": {
      "text/html": [
       "<pre style=\"white-space:pre;overflow-x:auto;line-height:normal;font-family:Menlo,'DejaVu Sans Mono',consolas,'Courier New',monospace\">✅ Knowledge of Iceberg file structure and metadata organization\n",
       "</pre>\n"
      ],
      "text/plain": [
       "✅ Knowledge of Iceberg file structure and metadata organization\n"
      ]
     },
     "metadata": {},
     "output_type": "display_data"
    },
    {
     "data": {
      "text/html": [
       "<pre style=\"white-space:pre;overflow-x:auto;line-height:normal;font-family:Menlo,'DejaVu Sans Mono',consolas,'Courier New',monospace\">✅ Experience with table partitioning and schema design\n",
       "</pre>\n"
      ],
      "text/plain": [
       "✅ Experience with table partitioning and schema design\n"
      ]
     },
     "metadata": {},
     "output_type": "display_data"
    },
    {
     "data": {
      "text/html": [
       "<pre style=\"white-space:pre;overflow-x:auto;line-height:normal;font-family:Menlo,'DejaVu Sans Mono',consolas,'Courier New',monospace\">✅ Familiarity with MinIO object storage integration\n",
       "</pre>\n"
      ],
      "text/plain": [
       "✅ Familiarity with MinIO object storage integration\n"
      ]
     },
     "metadata": {},
     "output_type": "display_data"
    },
    {
     "data": {
      "text/html": [
       "<pre style=\"white-space:pre;overflow-x:auto;line-height:normal;font-family:Menlo,'DejaVu Sans Mono',consolas,'Courier New',monospace\">\n",
       "🚀 Next: Run Phase <span style=\"color: #008080; text-decoration-color: #008080; font-weight: bold\">2</span> notebook for data generation and population.\n",
       "</pre>\n"
      ],
      "text/plain": [
       "\n",
       "🚀 Next: Run Phase \u001b[1;36m2\u001b[0m notebook for data generation and population.\n"
      ]
     },
     "metadata": {},
     "output_type": "display_data"
    }
   ],
   "source": [
    "# Generate setup summary\n",
    "print(\"\\n📚 Learning Summary:\")\n",
    "print(\"✅ Understanding of Iceberg local catalog with Hive metastore\")\n",
    "print(\"✅ Knowledge of Iceberg file structure and metadata organization\")\n",
    "print(\"✅ Experience with table partitioning and schema design\")\n",
    "print(\"✅ Familiarity with MinIO object storage integration\")\n",
    "print(\"\\n🚀 Next: Run Phase 2 notebook for data generation and population.\")"
   ]
  },
  {
   "cell_type": "code",
   "execution_count": 17,
   "metadata": {},
   "outputs": [],
   "source": [
    "spark.stop()"
   ]
  }
 ],
 "metadata": {
  "kernelspec": {
   "display_name": "Python 3 (ipykernel)",
   "language": "python",
   "name": "python3"
  },
  "language_info": {
   "codemirror_mode": {
    "name": "ipython",
    "version": 3
   },
   "file_extension": ".py",
   "mimetype": "text/x-python",
   "name": "python",
   "nbconvert_exporter": "python",
   "pygments_lexer": "ipython3",
   "version": "3.12.10"
  }
 },
 "nbformat": 4,
 "nbformat_minor": 4
}
