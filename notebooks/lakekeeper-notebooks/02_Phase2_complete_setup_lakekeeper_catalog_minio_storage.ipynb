{
 "cells": [
  {
   "cell_type": "markdown",
   "metadata": {},
   "source": [
    "# Complete Banking Reconciliation Setup – Phase 2\n",
    "\n",
    "## 🎯 Learning Objectives\n",
    "\n",
    "This notebook demonstrates how to generate and populate data into Apache Iceberg tables using a **Lakekeeper catalog**. You will learn:\n",
    "\n",
    "### **Data Generation Fundamentals**\n",
    "- **Realistic Data Creation:** Generate banking transactions that mimic real-world scenarios\n",
    "- **Multi-System Simulation:** Create data from different source systems (core banking, card processor, payment gateway)\n",
    "- **Discrepancy Introduction:** Intentionally create mismatches to test reconciliation logic\n",
    "- **Data Quality:** Ensure generated data meets business requirements\n",
    "\n",
    "### **Data Ingestion with Iceberg**\n",
    "- **CSV to Iceberg:** Convert CSV files to Iceberg table format\n",
    "- **Partitioning Strategy:** Understand how data is organized by date and source system\n",
    "- **Metadata Management:** Learn how Iceberg tracks data lineage\n",
    "- **Incremental Loading:** Add new data without affecting existing records\n",
    "\n",
    "### **Audit and Validation**\n",
    "- **Data Quality Checks:** Verify data integrity and completeness\n",
    "- **Performance Analysis:** Monitor query performance with real data\n",
    "- **File Structure Analysis:** Examine how Iceberg organizes data files\n",
    "- **Reconciliation Readiness:** Ensure data is ready for reconciliation processes\n",
    "\n",
    "## Phase 2: Data Generation and Population\n",
    "\n"
   ]
  },
  {
   "cell_type": "markdown",
   "metadata": {},
   "source": [
    "## Step 1: Import Required Libraries and Setup\n",
    "\n",
    "**Purpose**: Import all necessary libraries for data generation, manipulation, and Iceberg operations.\n",
    "\n",
    "### **Key Libraries**:\n",
    "- `pyspark.sql`: Spark DataFrame operations and Iceberg integration\n",
    "- `pandas`: Data manipulation and CSV handling\n",
    "- `faker`: Generate realistic fake data\n",
    "- `uuid`, `random`, `datetime`: Data generation utilities\n",
    "- `json`: Handle complex payload structures"
   ]
  },
  {
   "cell_type": "code",
   "execution_count": 5,
   "metadata": {},
   "outputs": [
    {
     "data": {
      "text/html": [
       "<pre style=\"white-space:pre;overflow-x:auto;line-height:normal;font-family:Menlo,'DejaVu Sans Mono',consolas,'Courier New',monospace\">✓ All required libraries imported successfully\n",
       "</pre>\n"
      ],
      "text/plain": [
       "✓ All required libraries imported successfully\n"
      ]
     },
     "metadata": {},
     "output_type": "display_data"
    },
    {
     "data": {
      "text/html": [
       "<pre style=\"white-space:pre;overflow-x:auto;line-height:normal;font-family:Menlo,'DejaVu Sans Mono',consolas,'Courier New',monospace\">Faker locale: <span style=\"font-weight: bold\">&lt;</span><span style=\"color: #ff00ff; text-decoration-color: #ff00ff; font-weight: bold\">bound</span><span style=\"color: #000000; text-decoration-color: #000000\"> method BaseProvider.locale of &lt;faker.providers.user_agent.Provider object at </span><span style=\"color: #008080; text-decoration-color: #008080; font-weight: bold\">0x79e99fcd4d70</span><span style=\"color: #000000; text-decoration-color: #000000\">&gt;</span><span style=\"font-weight: bold\">&gt;</span>\n",
       "</pre>\n"
      ],
      "text/plain": [
       "Faker locale: \u001b[1m<\u001b[0m\u001b[1;95mbound\u001b[0m\u001b[39m method BaseProvider.locale of <faker.providers.user_agent.Provider object at \u001b[0m\u001b[1;36m0x79e99fcd4d70\u001b[0m\u001b[39m>\u001b[0m\u001b[1m>\u001b[0m\n"
      ]
     },
     "metadata": {},
     "output_type": "display_data"
    },
    {
     "data": {
      "text/html": [
       "<pre style=\"white-space:pre;overflow-x:auto;line-height:normal;font-family:Menlo,'DejaVu Sans Mono',consolas,'Courier New',monospace\">Current timestamp: <span style=\"color: #008080; text-decoration-color: #008080; font-weight: bold\">2025</span>-<span style=\"color: #008080; text-decoration-color: #008080; font-weight: bold\">07</span>-<span style=\"color: #008080; text-decoration-color: #008080; font-weight: bold\">21</span> <span style=\"color: #00ff00; text-decoration-color: #00ff00; font-weight: bold\">13:16:26</span>.<span style=\"color: #008080; text-decoration-color: #008080; font-weight: bold\">294115</span>\n",
       "</pre>\n"
      ],
      "text/plain": [
       "Current timestamp: \u001b[1;36m2025\u001b[0m-\u001b[1;36m07\u001b[0m-\u001b[1;36m21\u001b[0m \u001b[1;92m13:16:26\u001b[0m.\u001b[1;36m294115\u001b[0m\n"
      ]
     },
     "metadata": {},
     "output_type": "display_data"
    }
   ],
   "source": [
    "!pip install --root-user-action=ignore rich faker --quiet\n",
    "from rich import print\n",
    "import pyspark\n",
    "# Import required libraries for data generation and manipulation\n",
    "from pyspark.sql import SparkSession\n",
    "from pyspark.conf import SparkConf\n",
    "from pyspark.sql.functions import col, expr, when, lit, current_timestamp\n",
    "import pandas as pd\n",
    "import json\n",
    "import uuid\n",
    "import random\n",
    "from datetime import datetime, timedelta\n",
    "import os\n",
    "from faker import Faker\n",
    "\n",
    "# Initialize Faker for realistic data generation\n",
    "fake = Faker()\n",
    "\n",
    "print(\"✓ All required libraries imported successfully\")\n",
    "print(f\"Faker locale: {fake.locale}\")\n",
    "print(f\"Current timestamp: {datetime.now()}\")\n"
   ]
  },
  {
   "cell_type": "markdown",
   "metadata": {},
   "source": [
    "Here is the **rewritten markdown for Cell 3**:\n",
    "\n",
    "---\n",
    "\n",
    "## Step 2: Create Spark Session with Iceberg Configuration\n",
    "\n",
    "**Purpose:**  \n",
    "Initialize Spark with the same Iceberg configuration from Phase 1.\n",
    "\n",
    "### **Configuration Consistency:**\n",
    "- Uses the same Lakekeeper catalog configuration\n",
    "- Maintains warehouse directory structure\n",
    "- Ensures compatibility with existing tables\n",
    "\n",
    "### **Why This Matters:**\n",
    "- **Session Continuity:** Same configuration as Phase 1\n",
    "- **Table Access:** Can access previously created tables\n",
    "- **Data Consistency:** Ensures data is written to the correct location\n",
    "\n"
   ]
  },
  {
   "cell_type": "code",
   "execution_count": 8,
   "metadata": {},
   "outputs": [
    {
     "data": {
      "text/html": [
       "<pre style=\"white-space:pre;overflow-x:auto;line-height:normal;font-family:Menlo,'DejaVu Sans Mono',consolas,'Courier New',monospace\">Spark Version: <span style=\"color: #008080; text-decoration-color: #008080; font-weight: bold\">3.5</span>.<span style=\"color: #008080; text-decoration-color: #008080; font-weight: bold\">6</span> - Spark Minor Version: <span style=\"color: #008080; text-decoration-color: #008080; font-weight: bold\">3.5</span> - Iceberg Version: <span style=\"color: #008080; text-decoration-color: #008080; font-weight: bold\">1.9</span>.<span style=\"color: #008080; text-decoration-color: #008080; font-weight: bold\">2</span>\n",
       "</pre>\n"
      ],
      "text/plain": [
       "Spark Version: \u001b[1;36m3.5\u001b[0m.\u001b[1;36m6\u001b[0m - Spark Minor Version: \u001b[1;36m3.5\u001b[0m - Iceberg Version: \u001b[1;36m1.9\u001b[0m.\u001b[1;36m2\u001b[0m\n"
      ]
     },
     "metadata": {},
     "output_type": "display_data"
    },
    {
     "data": {
      "text/html": [
       "<pre style=\"white-space:pre;overflow-x:auto;line-height:normal;font-family:Menlo,'DejaVu Sans Mono',consolas,'Courier New',monospace\">✓ Stopped existing Spark session\n",
       "</pre>\n"
      ],
      "text/plain": [
       "✓ Stopped existing Spark session\n"
      ]
     },
     "metadata": {},
     "output_type": "display_data"
    },
    {
     "data": {
      "text/html": [
       "<pre style=\"white-space:pre;overflow-x:auto;line-height:normal;font-family:Menlo,'DejaVu Sans Mono',consolas,'Courier New',monospace\">✓ Spark session created successfully\n",
       "</pre>\n"
      ],
      "text/plain": [
       "✓ Spark session created successfully\n"
      ]
     },
     "metadata": {},
     "output_type": "display_data"
    },
    {
     "data": {
      "text/html": [
       "<pre style=\"white-space:pre;overflow-x:auto;line-height:normal;font-family:Menlo,'DejaVu Sans Mono',consolas,'Courier New',monospace\">Spark version: <span style=\"color: #008080; text-decoration-color: #008080; font-weight: bold\">3.5</span>.<span style=\"color: #008080; text-decoration-color: #008080; font-weight: bold\">6</span>\n",
       "</pre>\n"
      ],
      "text/plain": [
       "Spark version: \u001b[1;36m3.5\u001b[0m.\u001b[1;36m6\u001b[0m\n"
      ]
     },
     "metadata": {},
     "output_type": "display_data"
    },
    {
     "data": {
      "text/html": [
       "<pre style=\"white-space:pre;overflow-x:auto;line-height:normal;font-family:Menlo,'DejaVu Sans Mono',consolas,'Courier New',monospace\">Default catalog: lakekeeper\n",
       "</pre>\n"
      ],
      "text/plain": [
       "Default catalog: lakekeeper\n"
      ]
     },
     "metadata": {},
     "output_type": "display_data"
    }
   ],
   "source": [
    "# This CATALOG_URL works for the \"docker compose\" testing and development environment\n",
    "# Change 'lakekeeper' if you are not running on \"docker compose\" (f. ex. 'localhost' if Lakekeeper is running locally).\n",
    "CATALOG_URL = \"http://lakekeeper:8181/catalog\"\n",
    "WAREHOUSE = \"irisa-ot\" # as is in lakekeeper : http://localhost:8181/ui/warehouse\n",
    "\n",
    "SPARK_VERSION = pyspark.__version__\n",
    "SPARK_MINOR_VERSION = '.'.join(SPARK_VERSION.split('.')[:2])\n",
    "ICEBERG_VERSION = \"1.9.2\"\n",
    "\n",
    "print(f\"Spark Version: {SPARK_VERSION} - Spark Minor Version: {SPARK_MINOR_VERSION} - Iceberg Version: {ICEBERG_VERSION}\")\n",
    "# Stop any existing Spark session\n",
    "try:\n",
    "    SparkSession.builder.getOrCreate().stop()\n",
    "    print(\"✓ Stopped existing Spark session\")\n",
    "except:\n",
    "    print(\"ℹ No existing Spark session to stop\")\n",
    "\n",
    "# Create warehouse directory if it doesn't exist\n",
    "config = {\n",
    "    f\"spark.sql.catalog.lakekeeper\": \"org.apache.iceberg.spark.SparkCatalog\",\n",
    "    f\"spark.sql.catalog.lakekeeper.type\": \"rest\",\n",
    "    f\"spark.sql.catalog.lakekeeper.uri\": CATALOG_URL,\n",
    "    f\"spark.sql.catalog.lakekeeper.warehouse\": WAREHOUSE,\n",
    "    f\"spark.sql.catalog.lakekeeper.io-impl\": \"org.apache.iceberg.aws.s3.S3FileIO\",\n",
    "    \"spark.sql.extensions\": \"org.apache.iceberg.spark.extensions.IcebergSparkSessionExtensions\",\n",
    "    \"spark.sql.defaultCatalog\": \"lakekeeper\",\n",
    "    \"spark.executor.memory\": \"1024m\",\n",
    "    \"spark.executor.cores\": \"1\",\n",
    "    \"spark.jars.packages\": f\"org.apache.iceberg:iceberg-spark-runtime-{SPARK_MINOR_VERSION}_2.12:{ICEBERG_VERSION},org.apache.iceberg:iceberg-aws-bundle:{ICEBERG_VERSION}\",\n",
    "}\n",
    "\n",
    "spark_config = SparkConf().setMaster('spark://spark-master:7077').setAppName(\"Iceberg-REST-Cluster-Banking-Sample-Phase2\")\n",
    "for k, v in config.items():\n",
    "    spark_config = spark_config.set(k, v)\n",
    "\n",
    "spark = SparkSession.builder.config(conf=spark_config).getOrCreate()\n",
    "\n",
    "spark.sql(\"USE lakekeeper\")\n",
    "print(\"✓ Spark session created successfully\")\n",
    "print(f\"Spark version: {spark.version}\")\n",
    "print(f\"Default catalog: {spark.conf.get('spark.sql.defaultCatalog')}\")    "
   ]
  },
  {
   "cell_type": "markdown",
   "metadata": {},
   "source": [
    "## Step 3: Verify Existing Tables and Data\n",
    "\n",
    "**Purpose**: Confirm that tables from Phase 1 exist and are accessible.\n",
    "\n",
    "### **What We'll Check**:\n",
    "1. **Table Existence**: Verify all three tables are present\n",
    "2. **Schema Validation**: Confirm table schemas are correct\n",
    "3. **Current Data State**: Check if any data already exists\n",
    "4. **Partitioning**: Verify partitioning strategy is in place"
   ]
  },
  {
   "cell_type": "code",
   "execution_count": 9,
   "metadata": {},
   "outputs": [
    {
     "data": {
      "text/html": [
       "<pre style=\"white-space:pre;overflow-x:auto;line-height:normal;font-family:Menlo,'DejaVu Sans Mono',consolas,'Courier New',monospace\"> Verifying existing tables from Phase <span style=\"color: #008080; text-decoration-color: #008080; font-weight: bold\">1</span><span style=\"color: #808000; text-decoration-color: #808000\">...</span>\n",
       "</pre>\n"
      ],
      "text/plain": [
       " Verifying existing tables from Phase \u001b[1;36m1\u001b[0m\u001b[33m...\u001b[0m\n"
      ]
     },
     "metadata": {},
     "output_type": "display_data"
    },
    {
     "data": {
      "text/html": [
       "<pre style=\"white-space:pre;overflow-x:auto;line-height:normal;font-family:Menlo,'DejaVu Sans Mono',consolas,'Courier New',monospace\">\n",
       " Available tables:\n",
       "</pre>\n"
      ],
      "text/plain": [
       "\n",
       " Available tables:\n"
      ]
     },
     "metadata": {},
     "output_type": "display_data"
    },
    {
     "name": "stdout",
     "output_type": "stream",
     "text": [
      "+---------+--------------------+-----------+\n",
      "|namespace|           tableName|isTemporary|\n",
      "+---------+--------------------+-----------+\n",
      "|  banking| source_transactions|      false|\n",
      "|  banking|reconciliation_re...|      false|\n",
      "|  banking|reconciliation_ba...|      false|\n",
      "+---------+--------------------+-----------+\n",
      "\n"
     ]
    },
    {
     "data": {
      "text/html": [
       "<pre style=\"white-space:pre;overflow-x:auto;line-height:normal;font-family:Menlo,'DejaVu Sans Mono',consolas,'Courier New',monospace\">\n",
       "📊 Current data counts:\n",
       "</pre>\n"
      ],
      "text/plain": [
       "\n",
       "📊 Current data counts:\n"
      ]
     },
     "metadata": {},
     "output_type": "display_data"
    },
    {
     "name": "stderr",
     "output_type": "stream",
     "text": [
      "                                                                                "
     ]
    },
    {
     "data": {
      "text/html": [
       "<pre style=\"white-space:pre;overflow-x:auto;line-height:normal;font-family:Menlo,'DejaVu Sans Mono',consolas,'Courier New',monospace\">✓ lakekeeper.banking.source_transactions: <span style=\"color: #008080; text-decoration-color: #008080; font-weight: bold\">0</span> rows\n",
       "</pre>\n"
      ],
      "text/plain": [
       "✓ lakekeeper.banking.source_transactions: \u001b[1;36m0\u001b[0m rows\n"
      ]
     },
     "metadata": {},
     "output_type": "display_data"
    },
    {
     "data": {
      "text/html": [
       "<pre style=\"white-space:pre;overflow-x:auto;line-height:normal;font-family:Menlo,'DejaVu Sans Mono',consolas,'Courier New',monospace\">✓ lakekeeper.banking.reconciliation_results: <span style=\"color: #008080; text-decoration-color: #008080; font-weight: bold\">0</span> rows\n",
       "</pre>\n"
      ],
      "text/plain": [
       "✓ lakekeeper.banking.reconciliation_results: \u001b[1;36m0\u001b[0m rows\n"
      ]
     },
     "metadata": {},
     "output_type": "display_data"
    },
    {
     "data": {
      "text/html": [
       "<pre style=\"white-space:pre;overflow-x:auto;line-height:normal;font-family:Menlo,'DejaVu Sans Mono',consolas,'Courier New',monospace\">✓ lakekeeper.banking.reconciliation_batches: <span style=\"color: #008080; text-decoration-color: #008080; font-weight: bold\">0</span> rows\n",
       "</pre>\n"
      ],
      "text/plain": [
       "✓ lakekeeper.banking.reconciliation_batches: \u001b[1;36m0\u001b[0m rows\n"
      ]
     },
     "metadata": {},
     "output_type": "display_data"
    },
    {
     "data": {
      "text/html": [
       "<pre style=\"white-space:pre;overflow-x:auto;line-height:normal;font-family:Menlo,'DejaVu Sans Mono',consolas,'Courier New',monospace\">\n",
       " Table schemas:\n",
       "</pre>\n"
      ],
      "text/plain": [
       "\n",
       " Table schemas:\n"
      ]
     },
     "metadata": {},
     "output_type": "display_data"
    },
    {
     "data": {
      "text/html": [
       "<pre style=\"white-space:pre;overflow-x:auto;line-height:normal;font-family:Menlo,'DejaVu Sans Mono',consolas,'Courier New',monospace\">\n",
       "📋 lakekeeper.banking.source_transactions schema:\n",
       "</pre>\n"
      ],
      "text/plain": [
       "\n",
       "📋 lakekeeper.banking.source_transactions schema:\n"
      ]
     },
     "metadata": {},
     "output_type": "display_data"
    },
    {
     "name": "stdout",
     "output_type": "stream",
     "text": [
      "+--------------------+--------------------+-------+\n",
      "|            col_name|           data_type|comment|\n",
      "+--------------------+--------------------+-------+\n",
      "|      transaction_id|              string|   NULL|\n",
      "|       source_system|              string|   NULL|\n",
      "|    transaction_date|           timestamp|   NULL|\n",
      "|              amount|       decimal(18,2)|   NULL|\n",
      "|          account_id|              string|   NULL|\n",
      "|    transaction_type|              string|   NULL|\n",
      "|        reference_id|              string|   NULL|\n",
      "|              status|              string|   NULL|\n",
      "|             payload|              string|   NULL|\n",
      "|          created_at|           timestamp|   NULL|\n",
      "|processing_timestamp|           timestamp|   NULL|\n",
      "|                    |                    |       |\n",
      "|      # Partitioning|                    |       |\n",
      "|              Part 0|days(transaction_...|       |\n",
      "|              Part 1|       source_system|       |\n",
      "+--------------------+--------------------+-------+\n",
      "\n"
     ]
    },
    {
     "data": {
      "text/html": [
       "<pre style=\"white-space:pre;overflow-x:auto;line-height:normal;font-family:Menlo,'DejaVu Sans Mono',consolas,'Courier New',monospace\">\n",
       "📋 lakekeeper.banking.reconciliation_results schema:\n",
       "</pre>\n"
      ],
      "text/plain": [
       "\n",
       "📋 lakekeeper.banking.reconciliation_results schema:\n"
      ]
     },
     "metadata": {},
     "output_type": "display_data"
    },
    {
     "name": "stdout",
     "output_type": "stream",
     "text": [
      "+--------------------+--------------------+-------+\n",
      "|            col_name|           data_type|comment|\n",
      "+--------------------+--------------------+-------+\n",
      "|   reconciliation_id|              string|   NULL|\n",
      "|            batch_id|              string|   NULL|\n",
      "|primary_transacti...|              string|   NULL|\n",
      "|secondary_transac...|              string|   NULL|\n",
      "|        match_status|              string|   NULL|\n",
      "|    discrepancy_type|              string|   NULL|\n",
      "|  discrepancy_amount|       decimal(18,2)|   NULL|\n",
      "|reconciliation_ti...|           timestamp|   NULL|\n",
      "|               notes|              string|   NULL|\n",
      "|                    |                    |       |\n",
      "|      # Partitioning|                    |       |\n",
      "|              Part 0|days(reconciliati...|       |\n",
      "|              Part 1|        match_status|       |\n",
      "+--------------------+--------------------+-------+\n",
      "\n"
     ]
    },
    {
     "data": {
      "text/html": [
       "<pre style=\"white-space:pre;overflow-x:auto;line-height:normal;font-family:Menlo,'DejaVu Sans Mono',consolas,'Courier New',monospace\">\n",
       "📋 lakekeeper.banking.reconciliation_batches schema:\n",
       "</pre>\n"
      ],
      "text/plain": [
       "\n",
       "📋 lakekeeper.banking.reconciliation_batches schema:\n"
      ]
     },
     "metadata": {},
     "output_type": "display_data"
    },
    {
     "name": "stdout",
     "output_type": "stream",
     "text": [
      "+-------------------+-------------+-------+\n",
      "|           col_name|    data_type|comment|\n",
      "+-------------------+-------------+-------+\n",
      "|           batch_id|       string|   NULL|\n",
      "|reconciliation_date|    timestamp|   NULL|\n",
      "|     source_systems|array<string>|   NULL|\n",
      "|         start_date|    timestamp|   NULL|\n",
      "|           end_date|    timestamp|   NULL|\n",
      "|             status|       string|   NULL|\n",
      "| total_transactions|       bigint|   NULL|\n",
      "|      matched_count|       bigint|   NULL|\n",
      "|    unmatched_count|       bigint|   NULL|\n",
      "|         created_at|    timestamp|   NULL|\n",
      "|       completed_at|    timestamp|   NULL|\n",
      "+-------------------+-------------+-------+\n",
      "\n"
     ]
    }
   ],
   "source": [
    "# Verify existing tables from Phase 1\n",
    "print(\" Verifying existing tables from Phase 1...\")\n",
    "\n",
    "# List tables in banking namespace\n",
    "tables_df = spark.sql(\"SHOW TABLES IN lakekeeper.banking\")\n",
    "print(\"\\n Available tables:\")\n",
    "tables_df.show()\n",
    "\n",
    "# Check current data counts\n",
    "print(\"\\n📊 Current data counts:\")\n",
    "tables_to_check = [\n",
    "    'lakekeeper.banking.source_transactions',\n",
    "    'lakekeeper.banking.reconciliation_results',\n",
    "    'lakekeeper.banking.reconciliation_batches'\n",
    "]\n",
    "\n",
    "for table in tables_to_check:\n",
    "    try:\n",
    "        count = spark.sql(f\"SELECT COUNT(*) as count FROM {table}\").collect()[0]['count']\n",
    "        print(f\"✓ {table}: {count} rows\")\n",
    "    except Exception as e:\n",
    "        print(f\"✗ {table}: Error - {str(e)}\")\n",
    "\n",
    "# Verify table schemas\n",
    "print(\"\\n Table schemas:\")\n",
    "for table in tables_to_check:\n",
    "    try:\n",
    "        schema = spark.sql(f\"DESCRIBE {table}\")\n",
    "        print(f\"\\n📋 {table} schema:\")\n",
    "        schema.show()\n",
    "    except Exception as e:\n",
    "        print(f\"✗ Error getting schema for {table}: {str(e)}\")"
   ]
  },
  {
   "cell_type": "markdown",
   "metadata": {},
   "source": [
    "## Step 4: Define Data Generation Configuration\n",
    "\n",
    "**Purpose**: Set up the configuration for generating realistic banking transaction data.\n",
    "\n",
    "### **Data Generation Strategy**:\n",
    "\n",
    "#### **Source Systems**\n",
    "- **core_banking**: Primary system with complete transaction records\n",
    "- **card_processor**: Secondary system with some discrepancies\n",
    "- **payment_gateway**: Tertiary system with additional discrepancies\n",
    "\n",
    "#### **Transaction Types**\n",
    "- **deposit**: Money added to account\n",
    "- **withdrawal**: Money removed from account\n",
    "- **transfer**: Money moved between accounts\n",
    "- **payment**: Payment to merchant/service\n",
    "- **refund**: Money returned to account\n",
    "- **fee**: Service charges and fees\n",
    "\n",
    "#### **Discrepancy Types**\n",
    "- **amount**: Slight differences in transaction amounts\n",
    "- **date**: Timing differences in transaction dates\n",
    "- **status**: Different transaction statuses\n",
    "- **missing**: Transactions that exist in one system but not another"
   ]
  },
  {
   "cell_type": "code",
   "execution_count": 10,
   "metadata": {},
   "outputs": [
    {
     "data": {
      "text/html": [
       "<pre style=\"white-space:pre;overflow-x:auto;line-height:normal;font-family:Menlo,'DejaVu Sans Mono',consolas,'Courier New',monospace\">⚙️ Setting up data generation configuration<span style=\"color: #808000; text-decoration-color: #808000\">...</span>\n",
       "</pre>\n"
      ],
      "text/plain": [
       "⚙️ Setting up data generation configuration\u001b[33m...\u001b[0m\n"
      ]
     },
     "metadata": {},
     "output_type": "display_data"
    },
    {
     "data": {
      "text/html": [
       "<pre style=\"white-space:pre;overflow-x:auto;line-height:normal;font-family:Menlo,'DejaVu Sans Mono',consolas,'Courier New',monospace\">Source systems: <span style=\"font-weight: bold\">[</span><span style=\"color: #008000; text-decoration-color: #008000\">'core_banking'</span>, <span style=\"color: #008000; text-decoration-color: #008000\">'card_processor'</span>, <span style=\"color: #008000; text-decoration-color: #008000\">'payment_gateway'</span><span style=\"font-weight: bold\">]</span>\n",
       "</pre>\n"
      ],
      "text/plain": [
       "Source systems: \u001b[1m[\u001b[0m\u001b[32m'core_banking'\u001b[0m, \u001b[32m'card_processor'\u001b[0m, \u001b[32m'payment_gateway'\u001b[0m\u001b[1m]\u001b[0m\n"
      ]
     },
     "metadata": {},
     "output_type": "display_data"
    },
    {
     "data": {
      "text/html": [
       "<pre style=\"white-space:pre;overflow-x:auto;line-height:normal;font-family:Menlo,'DejaVu Sans Mono',consolas,'Courier New',monospace\">Transaction types: <span style=\"font-weight: bold\">[</span><span style=\"color: #008000; text-decoration-color: #008000\">'deposit'</span>, <span style=\"color: #008000; text-decoration-color: #008000\">'withdrawal'</span>, <span style=\"color: #008000; text-decoration-color: #008000\">'transfer'</span>, <span style=\"color: #008000; text-decoration-color: #008000\">'payment'</span>, <span style=\"color: #008000; text-decoration-color: #008000\">'refund'</span>, <span style=\"color: #008000; text-decoration-color: #008000\">'fee'</span><span style=\"font-weight: bold\">]</span>\n",
       "</pre>\n"
      ],
      "text/plain": [
       "Transaction types: \u001b[1m[\u001b[0m\u001b[32m'deposit'\u001b[0m, \u001b[32m'withdrawal'\u001b[0m, \u001b[32m'transfer'\u001b[0m, \u001b[32m'payment'\u001b[0m, \u001b[32m'refund'\u001b[0m, \u001b[32m'fee'\u001b[0m\u001b[1m]\u001b[0m\n"
      ]
     },
     "metadata": {},
     "output_type": "display_data"
    },
    {
     "data": {
      "text/html": [
       "<pre style=\"white-space:pre;overflow-x:auto;line-height:normal;font-family:Menlo,'DejaVu Sans Mono',consolas,'Courier New',monospace\">Status values: <span style=\"font-weight: bold\">[</span><span style=\"color: #008000; text-decoration-color: #008000\">'completed'</span>, <span style=\"color: #008000; text-decoration-color: #008000\">'pending'</span>, <span style=\"color: #008000; text-decoration-color: #008000\">'failed'</span>, <span style=\"color: #008000; text-decoration-color: #008000\">'reversed'</span><span style=\"font-weight: bold\">]</span>\n",
       "</pre>\n"
      ],
      "text/plain": [
       "Status values: \u001b[1m[\u001b[0m\u001b[32m'completed'\u001b[0m, \u001b[32m'pending'\u001b[0m, \u001b[32m'failed'\u001b[0m, \u001b[32m'reversed'\u001b[0m\u001b[1m]\u001b[0m\n"
      ]
     },
     "metadata": {},
     "output_type": "display_data"
    },
    {
     "data": {
      "text/html": [
       "<pre style=\"white-space:pre;overflow-x:auto;line-height:normal;font-family:Menlo,'DejaVu Sans Mono',consolas,'Courier New',monospace\">\n",
       "📊 Data generation parameters:\n",
       "</pre>\n"
      ],
      "text/plain": [
       "\n",
       "📊 Data generation parameters:\n"
      ]
     },
     "metadata": {},
     "output_type": "display_data"
    },
    {
     "data": {
      "text/html": [
       "<pre style=\"white-space:pre;overflow-x:auto;line-height:normal;font-family:Menlo,'DejaVu Sans Mono',consolas,'Courier New',monospace\">  - num_accounts: <span style=\"color: #008080; text-decoration-color: #008080; font-weight: bold\">100</span>\n",
       "</pre>\n"
      ],
      "text/plain": [
       "  - num_accounts: \u001b[1;36m100\u001b[0m\n"
      ]
     },
     "metadata": {},
     "output_type": "display_data"
    },
    {
     "data": {
      "text/html": [
       "<pre style=\"white-space:pre;overflow-x:auto;line-height:normal;font-family:Menlo,'DejaVu Sans Mono',consolas,'Courier New',monospace\">  - primary_transactions: <span style=\"color: #008080; text-decoration-color: #008080; font-weight: bold\">5000</span>\n",
       "</pre>\n"
      ],
      "text/plain": [
       "  - primary_transactions: \u001b[1;36m5000\u001b[0m\n"
      ]
     },
     "metadata": {},
     "output_type": "display_data"
    },
    {
     "data": {
      "text/html": [
       "<pre style=\"white-space:pre;overflow-x:auto;line-height:normal;font-family:Menlo,'DejaVu Sans Mono',consolas,'Courier New',monospace\">  - date_range_days: <span style=\"color: #008080; text-decoration-color: #008080; font-weight: bold\">30</span>\n",
       "</pre>\n"
      ],
      "text/plain": [
       "  - date_range_days: \u001b[1;36m30\u001b[0m\n"
      ]
     },
     "metadata": {},
     "output_type": "display_data"
    },
    {
     "data": {
      "text/html": [
       "<pre style=\"white-space:pre;overflow-x:auto;line-height:normal;font-family:Menlo,'DejaVu Sans Mono',consolas,'Courier New',monospace\">  - error_rate: <span style=\"color: #008080; text-decoration-color: #008080; font-weight: bold\">0.05</span>\n",
       "</pre>\n"
      ],
      "text/plain": [
       "  - error_rate: \u001b[1;36m0.05\u001b[0m\n"
      ]
     },
     "metadata": {},
     "output_type": "display_data"
    },
    {
     "data": {
      "text/html": [
       "<pre style=\"white-space:pre;overflow-x:auto;line-height:normal;font-family:Menlo,'DejaVu Sans Mono',consolas,'Courier New',monospace\">  - extra_transactions_rate: <span style=\"color: #008080; text-decoration-color: #008080; font-weight: bold\">0.02</span>\n",
       "</pre>\n"
      ],
      "text/plain": [
       "  - extra_transactions_rate: \u001b[1;36m0.02\u001b[0m\n"
      ]
     },
     "metadata": {},
     "output_type": "display_data"
    },
    {
     "data": {
      "text/html": [
       "<pre style=\"white-space:pre;overflow-x:auto;line-height:normal;font-family:Menlo,'DejaVu Sans Mono',consolas,'Courier New',monospace\">\n",
       " Date range: <span style=\"color: #008080; text-decoration-color: #008080; font-weight: bold\">2025</span>-<span style=\"color: #008080; text-decoration-color: #008080; font-weight: bold\">06</span>-<span style=\"color: #008080; text-decoration-color: #008080; font-weight: bold\">21</span> to <span style=\"color: #008080; text-decoration-color: #008080; font-weight: bold\">2025</span>-<span style=\"color: #008080; text-decoration-color: #008080; font-weight: bold\">07</span>-<span style=\"color: #008080; text-decoration-color: #008080; font-weight: bold\">21</span>\n",
       "</pre>\n"
      ],
      "text/plain": [
       "\n",
       " Date range: \u001b[1;36m2025\u001b[0m-\u001b[1;36m06\u001b[0m-\u001b[1;36m21\u001b[0m to \u001b[1;36m2025\u001b[0m-\u001b[1;36m07\u001b[0m-\u001b[1;36m21\u001b[0m\n"
      ]
     },
     "metadata": {},
     "output_type": "display_data"
    }
   ],
   "source": [
    "# Define data generation configuration\n",
    "print(\"⚙️ Setting up data generation configuration...\")\n",
    "\n",
    "# Source systems for multi-system reconciliation\n",
    "SOURCE_SYSTEMS = ['core_banking', 'card_processor', 'payment_gateway']\n",
    "print(f\"Source systems: {SOURCE_SYSTEMS}\")\n",
    "\n",
    "# Transaction types for realistic banking scenarios\n",
    "TRANSACTION_TYPES = ['deposit', 'withdrawal', 'transfer', 'payment', 'refund', 'fee']\n",
    "print(f\"Transaction types: {TRANSACTION_TYPES}\")\n",
    "\n",
    "# Transaction statuses\n",
    "STATUS_VALUES = ['completed', 'pending', 'failed', 'reversed']\n",
    "print(f\"Status values: {STATUS_VALUES}\")\n",
    "\n",
    "# Data generation parameters\n",
    "DATA_CONFIG = {\n",
    "    'num_accounts': 100,\n",
    "    'primary_transactions': 5000,\n",
    "    'date_range_days': 30,\n",
    "    'error_rate': 0.05,  # 5% discrepancy rate\n",
    "    'extra_transactions_rate': 0.02  # 2% extra transactions in secondary systems\n",
    "}\n",
    "\n",
    "print(f\"\\n📊 Data generation parameters:\")\n",
    "for key, value in DATA_CONFIG.items():\n",
    "    print(f\"  - {key}: {value}\")\n",
    "\n",
    "# Define date range for transactions\n",
    "end_date = datetime.now()\n",
    "start_date = end_date - timedelta(days=DATA_CONFIG['date_range_days'])\n",
    "print(f\"\\n Date range: {start_date.strftime('%Y-%m-%d')} to {end_date.strftime('%Y-%m-%d')}\")"
   ]
  },
  {
   "cell_type": "markdown",
   "metadata": {},
   "source": [
    "## Step 5: Create Data Generation Functions\n",
    "\n",
    "**Purpose**: Define functions to generate realistic banking transaction data.\n",
    "\n",
    "### **Data Generation Functions**:\n",
    "\n",
    "#### **1. Account ID Generation**\n",
    "- Creates unique account identifiers\n",
    "- Uses consistent format for all systems\n",
    "- Ensures referential integrity\n",
    "\n",
    "#### **2. Transaction ID Generation**\n",
    "- System-specific prefixes (CB, CP, PG)\n",
    "- Unique identifiers for each transaction\n",
    "- Enables cross-system matching\n",
    "\n",
    "#### **3. Transaction Data Generation**\n",
    "- Realistic amounts and dates\n",
    "- Proper status distribution\n",
    "- Rich payload metadata\n",
    "\n",
    "#### **4. Discrepancy Introduction**\n",
    "- Intentional mismatches for testing\n",
    "- Various discrepancy types\n",
    "- Controlled error rates"
   ]
  },
  {
   "cell_type": "code",
   "execution_count": 11,
   "metadata": {},
   "outputs": [
    {
     "data": {
      "text/html": [
       "<pre style=\"white-space:pre;overflow-x:auto;line-height:normal;font-family:Menlo,'DejaVu Sans Mono',consolas,'Courier New',monospace\">🔧 Creating data generation functions<span style=\"color: #808000; text-decoration-color: #808000\">...</span>\n",
       "</pre>\n"
      ],
      "text/plain": [
       "🔧 Creating data generation functions\u001b[33m...\u001b[0m\n"
      ]
     },
     "metadata": {},
     "output_type": "display_data"
    },
    {
     "data": {
      "text/html": [
       "<pre style=\"white-space:pre;overflow-x:auto;line-height:normal;font-family:Menlo,'DejaVu Sans Mono',consolas,'Courier New',monospace\">✓ Data generation functions created successfully\n",
       "</pre>\n"
      ],
      "text/plain": [
       "✓ Data generation functions created successfully\n"
      ]
     },
     "metadata": {},
     "output_type": "display_data"
    }
   ],
   "source": [
    "# Data generation functions\n",
    "print(\"🔧 Creating data generation functions...\")\n",
    "\n",
    "def generate_account_ids(num_accounts=100):\n",
    "    \"\"\"Generate a list of random account IDs.\"\"\"\n",
    "    return [f\"ACC{fake.unique.random_number(digits=8)}\" for _ in range(num_accounts)]\n",
    "\n",
    "def generate_transaction_id(source_system):\n",
    "    \"\"\"Generate a transaction ID with a prefix based on the source system.\"\"\"\n",
    "    prefixes = {\n",
    "        'core_banking': 'CB',\n",
    "        'card_processor': 'CP',\n",
    "        'payment_gateway': 'PG'\n",
    "    }\n",
    "    prefix = prefixes.get(source_system, 'TX')\n",
    "    return f\"{prefix}-{uuid.uuid4().hex[:12].upper()}\"\n",
    "\n",
    "def generate_reference_id():\n",
    "    \"\"\"Generate a reference ID for transactions.\"\"\"\n",
    "    return f\"REF-{fake.unique.random_number(digits=10)}\"\n",
    "\n",
    "def generate_transaction_data(source_system, account_ids, start_date, end_date, count=1000):\n",
    "    \"\"\"Generate transaction data for a specific source system.\"\"\"\n",
    "    transactions = []\n",
    "    \n",
    "    for _ in range(count):\n",
    "        # Generate random transaction date within the date range\n",
    "        transaction_date = fake.date_time_between_dates(\n",
    "            datetime_start=start_date,\n",
    "            datetime_end=end_date\n",
    "        )\n",
    "        \n",
    "        # Generate random amount (between $1 and $10,000)\n",
    "        amount = round(random.uniform(1, 10000), 2)\n",
    "        \n",
    "        # Select random account ID\n",
    "        account_id = random.choice(account_ids)\n",
    "        \n",
    "        # Generate transaction ID\n",
    "        transaction_id = generate_transaction_id(source_system)\n",
    "        \n",
    "        # Select random transaction type\n",
    "        transaction_type = random.choice(TRANSACTION_TYPES)\n",
    "        \n",
    "        # Generate reference ID\n",
    "        reference_id = generate_reference_id()\n",
    "        \n",
    "        # Select random status\n",
    "        status = random.choice(STATUS_VALUES)\n",
    "        \n",
    "        # Generate additional payload data\n",
    "        payload = {\n",
    "            'description': fake.sentence(),\n",
    "            'location': fake.city(),\n",
    "            'merchant': fake.company() if transaction_type in ['payment', 'refund'] else None,\n",
    "            'category': fake.word(),\n",
    "            'metadata': {\n",
    "                'device': fake.user_agent(),\n",
    "                'ip_address': fake.ipv4(),\n",
    "                'channel': random.choice(['web', 'mobile', 'atm', 'branch', 'phone'])\n",
    "            }\n",
    "        }\n",
    "        \n",
    "        # Create transaction record\n",
    "        transaction = {\n",
    "            'transaction_id': transaction_id,\n",
    "            'source_system': source_system,\n",
    "            'transaction_date': transaction_date,\n",
    "            'amount': amount,\n",
    "            'account_id': account_id,\n",
    "            'transaction_type': transaction_type,\n",
    "            'reference_id': reference_id,\n",
    "            'status': status,\n",
    "            'payload': json.dumps(payload),\n",
    "            'created_at': transaction_date - timedelta(minutes=random.randint(1, 60)),\n",
    "            'processing_timestamp': transaction_date + timedelta(seconds=random.randint(1, 30))\n",
    "        }\n",
    "        \n",
    "        transactions.append(transaction)\n",
    "    \n",
    "    return transactions\n",
    "\n",
    "def create_matching_transactions(primary_transactions, secondary_system, error_rate=0.05):\n",
    "    \"\"\"Create matching transactions for a secondary system with intentional discrepancies.\"\"\"\n",
    "    secondary_transactions = []\n",
    "    \n",
    "    for primary_tx in primary_transactions:\n",
    "        # Create a copy of the primary transaction\n",
    "        secondary_tx = primary_tx.copy()\n",
    "        \n",
    "        # Change the transaction ID and source system\n",
    "        secondary_tx['transaction_id'] = generate_transaction_id(secondary_system)\n",
    "        secondary_tx['source_system'] = secondary_system\n",
    "        \n",
    "        # Introduce discrepancies based on error rate\n",
    "        if random.random() < error_rate:\n",
    "            # Choose a type of discrepancy\n",
    "            discrepancy_type = random.choice(['amount', 'date', 'status', 'missing'])\n",
    "            \n",
    "            if discrepancy_type == 'amount':\n",
    "                # Change the amount slightly\n",
    "                original_amount = secondary_tx['amount']\n",
    "                secondary_tx['amount'] = round(original_amount * random.uniform(0.95, 1.05), 2)\n",
    "                \n",
    "            elif discrepancy_type == 'date':\n",
    "                # Shift the date slightly\n",
    "                original_date = secondary_tx['transaction_date']\n",
    "                secondary_tx['transaction_date'] = original_date + timedelta(\n",
    "                    minutes=random.randint(-120, 120)\n",
    "                )\n",
    "                \n",
    "            elif discrepancy_type == 'status':\n",
    "                # Change the status\n",
    "                original_status = secondary_tx['status']\n",
    "                new_status = random.choice([s for s in STATUS_VALUES if s != original_status])\n",
    "                secondary_tx['status'] = new_status\n",
    "                \n",
    "            elif discrepancy_type == 'missing':\n",
    "                # Skip this transaction (don't add to secondary)\n",
    "                continue\n",
    "        \n",
    "        secondary_transactions.append(secondary_tx)\n",
    "    \n",
    "    # Add some transactions that only exist in the secondary system\n",
    "    extra_count = int(len(primary_transactions) * DATA_CONFIG['extra_transactions_rate'])\n",
    "    account_ids = [tx['account_id'] for tx in primary_transactions]\n",
    "    start_date = min(tx['transaction_date'] for tx in primary_transactions)\n",
    "    end_date = max(tx['transaction_date'] for tx in primary_transactions)\n",
    "    \n",
    "    extra_transactions = generate_transaction_data(\n",
    "        secondary_system,\n",
    "        account_ids,\n",
    "        start_date,\n",
    "        end_date,\n",
    "        count=extra_count\n",
    "    )\n",
    "    \n",
    "    secondary_transactions.extend(extra_transactions)\n",
    "    \n",
    "    return secondary_transactions\n",
    "\n",
    "print(\"✓ Data generation functions created successfully\")"
   ]
  },
  {
   "cell_type": "markdown",
   "metadata": {},
   "source": [
    "## Step 6: Generate Sample Transaction Data\n",
    "\n",
    "**Purpose**: Create realistic banking transaction data for all source systems.\n",
    "\n",
    "### **Data Generation Process**:\n",
    "\n",
    "#### **1. Primary System (Core Banking)**\n",
    "- Generate base transactions with complete information\n",
    "- Use as reference for other systems\n",
    "- Highest data quality and completeness\n",
    "\n",
    "#### **2. Secondary Systems (Card Processor, Payment Gateway)**\n",
    "- Create matching transactions with intentional discrepancies\n",
    "- Introduce various types of errors\n",
    "- Add extra transactions that don't exist in primary system\n",
    "\n",
    "#### **3. Data Quality Features**\n",
    "- Realistic amounts and dates\n",
    "- Proper status distribution\n",
    "- Rich metadata payloads\n",
    "- Consistent account references"
   ]
  },
  {
   "cell_type": "code",
   "execution_count": 12,
   "metadata": {},
   "outputs": [
    {
     "data": {
      "text/html": [
       "<pre style=\"white-space:pre;overflow-x:auto;line-height:normal;font-family:Menlo,'DejaVu Sans Mono',consolas,'Courier New',monospace\">🎲 Generating sample transaction data<span style=\"color: #808000; text-decoration-color: #808000\">...</span>\n",
       "</pre>\n"
      ],
      "text/plain": [
       "🎲 Generating sample transaction data\u001b[33m...\u001b[0m\n"
      ]
     },
     "metadata": {},
     "output_type": "display_data"
    },
    {
     "data": {
      "text/html": [
       "<pre style=\"white-space:pre;overflow-x:auto;line-height:normal;font-family:Menlo,'DejaVu Sans Mono',consolas,'Courier New',monospace\">✓ Data directory: <span style=\"color: #800080; text-decoration-color: #800080\">/opt/bitnami/spark/data/</span><span style=\"color: #ff00ff; text-decoration-color: #ff00ff\">raw</span>\n",
       "</pre>\n"
      ],
      "text/plain": [
       "✓ Data directory: \u001b[35m/opt/bitnami/spark/data/\u001b[0m\u001b[95mraw\u001b[0m\n"
      ]
     },
     "metadata": {},
     "output_type": "display_data"
    },
    {
     "data": {
      "text/html": [
       "<pre style=\"white-space:pre;overflow-x:auto;line-height:normal;font-family:Menlo,'DejaVu Sans Mono',consolas,'Courier New',monospace\">\n",
       " Generating account IDs<span style=\"color: #808000; text-decoration-color: #808000\">...</span>\n",
       "</pre>\n"
      ],
      "text/plain": [
       "\n",
       " Generating account IDs\u001b[33m...\u001b[0m\n"
      ]
     },
     "metadata": {},
     "output_type": "display_data"
    },
    {
     "data": {
      "text/html": [
       "<pre style=\"white-space:pre;overflow-x:auto;line-height:normal;font-family:Menlo,'DejaVu Sans Mono',consolas,'Courier New',monospace\">✓ Generated <span style=\"color: #008080; text-decoration-color: #008080; font-weight: bold\">100</span> unique account IDs\n",
       "</pre>\n"
      ],
      "text/plain": [
       "✓ Generated \u001b[1;36m100\u001b[0m unique account IDs\n"
      ]
     },
     "metadata": {},
     "output_type": "display_data"
    },
    {
     "data": {
      "text/html": [
       "<pre style=\"white-space:pre;overflow-x:auto;line-height:normal;font-family:Menlo,'DejaVu Sans Mono',consolas,'Courier New',monospace\">Sample account IDs: <span style=\"font-weight: bold\">[</span><span style=\"color: #008000; text-decoration-color: #008000\">'ACC4159603'</span>, <span style=\"color: #008000; text-decoration-color: #008000\">'ACC92397231'</span>, <span style=\"color: #008000; text-decoration-color: #008000\">'ACC87021290'</span>, <span style=\"color: #008000; text-decoration-color: #008000\">'ACC74775060'</span>, <span style=\"color: #008000; text-decoration-color: #008000\">'ACC25420997'</span><span style=\"font-weight: bold\">]</span>\n",
       "</pre>\n"
      ],
      "text/plain": [
       "Sample account IDs: \u001b[1m[\u001b[0m\u001b[32m'ACC4159603'\u001b[0m, \u001b[32m'ACC92397231'\u001b[0m, \u001b[32m'ACC87021290'\u001b[0m, \u001b[32m'ACC74775060'\u001b[0m, \u001b[32m'ACC25420997'\u001b[0m\u001b[1m]\u001b[0m\n"
      ]
     },
     "metadata": {},
     "output_type": "display_data"
    },
    {
     "data": {
      "text/html": [
       "<pre style=\"white-space:pre;overflow-x:auto;line-height:normal;font-family:Menlo,'DejaVu Sans Mono',consolas,'Courier New',monospace\">\n",
       " Generating primary transactions <span style=\"font-weight: bold\">(</span>core banking<span style=\"font-weight: bold\">)</span><span style=\"color: #808000; text-decoration-color: #808000\">...</span>\n",
       "</pre>\n"
      ],
      "text/plain": [
       "\n",
       " Generating primary transactions \u001b[1m(\u001b[0mcore banking\u001b[1m)\u001b[0m\u001b[33m...\u001b[0m\n"
      ]
     },
     "metadata": {},
     "output_type": "display_data"
    },
    {
     "data": {
      "text/html": [
       "<pre style=\"white-space:pre;overflow-x:auto;line-height:normal;font-family:Menlo,'DejaVu Sans Mono',consolas,'Courier New',monospace\">✓ Generated <span style=\"color: #008080; text-decoration-color: #008080; font-weight: bold\">5000</span> primary transactions\n",
       "</pre>\n"
      ],
      "text/plain": [
       "✓ Generated \u001b[1;36m5000\u001b[0m primary transactions\n"
      ]
     },
     "metadata": {},
     "output_type": "display_data"
    },
    {
     "data": {
      "text/html": [
       "<pre style=\"white-space:pre;overflow-x:auto;line-height:normal;font-family:Menlo,'DejaVu Sans Mono',consolas,'Courier New',monospace\">Date range: <span style=\"color: #008080; text-decoration-color: #008080; font-weight: bold\">2025</span>-<span style=\"color: #008080; text-decoration-color: #008080; font-weight: bold\">06</span>-<span style=\"color: #008080; text-decoration-color: #008080; font-weight: bold\">21</span> <span style=\"color: #00ff00; text-decoration-color: #00ff00; font-weight: bold\">13:20:02</span>.<span style=\"color: #008080; text-decoration-color: #008080; font-weight: bold\">935947</span> to <span style=\"color: #008080; text-decoration-color: #008080; font-weight: bold\">2025</span>-<span style=\"color: #008080; text-decoration-color: #008080; font-weight: bold\">07</span>-<span style=\"color: #008080; text-decoration-color: #008080; font-weight: bold\">21</span> <span style=\"color: #00ff00; text-decoration-color: #00ff00; font-weight: bold\">13:00:59</span>.<span style=\"color: #008080; text-decoration-color: #008080; font-weight: bold\">750894</span>\n",
       "</pre>\n"
      ],
      "text/plain": [
       "Date range: \u001b[1;36m2025\u001b[0m-\u001b[1;36m06\u001b[0m-\u001b[1;36m21\u001b[0m \u001b[1;92m13:20:02\u001b[0m.\u001b[1;36m935947\u001b[0m to \u001b[1;36m2025\u001b[0m-\u001b[1;36m07\u001b[0m-\u001b[1;36m21\u001b[0m \u001b[1;92m13:00:59\u001b[0m.\u001b[1;36m750894\u001b[0m\n"
      ]
     },
     "metadata": {},
     "output_type": "display_data"
    },
    {
     "data": {
      "text/html": [
       "<pre style=\"white-space:pre;overflow-x:auto;line-height:normal;font-family:Menlo,'DejaVu Sans Mono',consolas,'Courier New',monospace\">Amount range: $<span style=\"color: #008080; text-decoration-color: #008080; font-weight: bold\">8.14</span> to $<span style=\"color: #008080; text-decoration-color: #008080; font-weight: bold\">9999.68</span>\n",
       "</pre>\n"
      ],
      "text/plain": [
       "Amount range: $\u001b[1;36m8.14\u001b[0m to $\u001b[1;36m9999.68\u001b[0m\n"
      ]
     },
     "metadata": {},
     "output_type": "display_data"
    },
    {
     "data": {
      "text/html": [
       "<pre style=\"white-space:pre;overflow-x:auto;line-height:normal;font-family:Menlo,'DejaVu Sans Mono',consolas,'Courier New',monospace\">\n",
       "🔄 Generating matching transactions for secondary systems<span style=\"color: #808000; text-decoration-color: #808000\">...</span>\n",
       "</pre>\n"
      ],
      "text/plain": [
       "\n",
       "🔄 Generating matching transactions for secondary systems\u001b[33m...\u001b[0m\n"
      ]
     },
     "metadata": {},
     "output_type": "display_data"
    },
    {
     "data": {
      "text/html": [
       "<pre style=\"white-space:pre;overflow-x:auto;line-height:normal;font-family:Menlo,'DejaVu Sans Mono',consolas,'Courier New',monospace\">\n",
       "📊 Processing card_processor<span style=\"color: #808000; text-decoration-color: #808000\">...</span>\n",
       "</pre>\n"
      ],
      "text/plain": [
       "\n",
       "📊 Processing card_processor\u001b[33m...\u001b[0m\n"
      ]
     },
     "metadata": {},
     "output_type": "display_data"
    },
    {
     "data": {
      "text/html": [
       "<pre style=\"white-space:pre;overflow-x:auto;line-height:normal;font-family:Menlo,'DejaVu Sans Mono',consolas,'Courier New',monospace\">✓ Generated <span style=\"color: #008080; text-decoration-color: #008080; font-weight: bold\">5048</span> card_processor transactions\n",
       "</pre>\n"
      ],
      "text/plain": [
       "✓ Generated \u001b[1;36m5048\u001b[0m card_processor transactions\n"
      ]
     },
     "metadata": {},
     "output_type": "display_data"
    },
    {
     "data": {
      "text/html": [
       "<pre style=\"white-space:pre;overflow-x:auto;line-height:normal;font-family:Menlo,'DejaVu Sans Mono',consolas,'Courier New',monospace\">\n",
       "📊 Processing payment_gateway<span style=\"color: #808000; text-decoration-color: #808000\">...</span>\n",
       "</pre>\n"
      ],
      "text/plain": [
       "\n",
       "📊 Processing payment_gateway\u001b[33m...\u001b[0m\n"
      ]
     },
     "metadata": {},
     "output_type": "display_data"
    },
    {
     "data": {
      "text/html": [
       "<pre style=\"white-space:pre;overflow-x:auto;line-height:normal;font-family:Menlo,'DejaVu Sans Mono',consolas,'Courier New',monospace\">✓ Generated <span style=\"color: #008080; text-decoration-color: #008080; font-weight: bold\">5040</span> payment_gateway transactions\n",
       "</pre>\n"
      ],
      "text/plain": [
       "✓ Generated \u001b[1;36m5040\u001b[0m payment_gateway transactions\n"
      ]
     },
     "metadata": {},
     "output_type": "display_data"
    },
    {
     "data": {
      "text/html": [
       "<pre style=\"white-space:pre;overflow-x:auto;line-height:normal;font-family:Menlo,'DejaVu Sans Mono',consolas,'Courier New',monospace\">\n",
       "📊 Data Generation Summary:\n",
       "</pre>\n"
      ],
      "text/plain": [
       "\n",
       "📊 Data Generation Summary:\n"
      ]
     },
     "metadata": {},
     "output_type": "display_data"
    },
    {
     "data": {
      "text/html": [
       "<pre style=\"white-space:pre;overflow-x:auto;line-height:normal;font-family:Menlo,'DejaVu Sans Mono',consolas,'Courier New',monospace\">- Total transactions: <span style=\"color: #008080; text-decoration-color: #008080; font-weight: bold\">15</span>,<span style=\"color: #008080; text-decoration-color: #008080; font-weight: bold\">088</span>\n",
       "</pre>\n"
      ],
      "text/plain": [
       "- Total transactions: \u001b[1;36m15\u001b[0m,\u001b[1;36m088\u001b[0m\n"
      ]
     },
     "metadata": {},
     "output_type": "display_data"
    },
    {
     "data": {
      "text/html": [
       "<pre style=\"white-space:pre;overflow-x:auto;line-height:normal;font-family:Menlo,'DejaVu Sans Mono',consolas,'Courier New',monospace\">- core_banking: <span style=\"color: #008080; text-decoration-color: #008080; font-weight: bold\">5</span>,<span style=\"color: #008080; text-decoration-color: #008080; font-weight: bold\">000</span> transactions\n",
       "</pre>\n"
      ],
      "text/plain": [
       "- core_banking: \u001b[1;36m5\u001b[0m,\u001b[1;36m000\u001b[0m transactions\n"
      ]
     },
     "metadata": {},
     "output_type": "display_data"
    },
    {
     "data": {
      "text/html": [
       "<pre style=\"white-space:pre;overflow-x:auto;line-height:normal;font-family:Menlo,'DejaVu Sans Mono',consolas,'Courier New',monospace\">- card_processor: <span style=\"color: #008080; text-decoration-color: #008080; font-weight: bold\">5</span>,<span style=\"color: #008080; text-decoration-color: #008080; font-weight: bold\">048</span> transactions\n",
       "</pre>\n"
      ],
      "text/plain": [
       "- card_processor: \u001b[1;36m5\u001b[0m,\u001b[1;36m048\u001b[0m transactions\n"
      ]
     },
     "metadata": {},
     "output_type": "display_data"
    },
    {
     "data": {
      "text/html": [
       "<pre style=\"white-space:pre;overflow-x:auto;line-height:normal;font-family:Menlo,'DejaVu Sans Mono',consolas,'Courier New',monospace\">- payment_gateway: <span style=\"color: #008080; text-decoration-color: #008080; font-weight: bold\">5</span>,<span style=\"color: #008080; text-decoration-color: #008080; font-weight: bold\">040</span> transactions\n",
       "</pre>\n"
      ],
      "text/plain": [
       "- payment_gateway: \u001b[1;36m5\u001b[0m,\u001b[1;36m040\u001b[0m transactions\n"
      ]
     },
     "metadata": {},
     "output_type": "display_data"
    },
    {
     "data": {
      "text/html": [
       "<pre style=\"white-space:pre;overflow-x:auto;line-height:normal;font-family:Menlo,'DejaVu Sans Mono',consolas,'Courier New',monospace\">- Date range: <span style=\"color: #008080; text-decoration-color: #008080; font-weight: bold\">2025</span>-<span style=\"color: #008080; text-decoration-color: #008080; font-weight: bold\">06</span>-<span style=\"color: #008080; text-decoration-color: #008080; font-weight: bold\">21</span> to <span style=\"color: #008080; text-decoration-color: #008080; font-weight: bold\">2025</span>-<span style=\"color: #008080; text-decoration-color: #008080; font-weight: bold\">07</span>-<span style=\"color: #008080; text-decoration-color: #008080; font-weight: bold\">21</span>\n",
       "</pre>\n"
      ],
      "text/plain": [
       "- Date range: \u001b[1;36m2025\u001b[0m-\u001b[1;36m06\u001b[0m-\u001b[1;36m21\u001b[0m to \u001b[1;36m2025\u001b[0m-\u001b[1;36m07\u001b[0m-\u001b[1;36m21\u001b[0m\n"
      ]
     },
     "metadata": {},
     "output_type": "display_data"
    },
    {
     "data": {
      "text/html": [
       "<pre style=\"white-space:pre;overflow-x:auto;line-height:normal;font-family:Menlo,'DejaVu Sans Mono',consolas,'Courier New',monospace\">- Error rate: <span style=\"color: #008080; text-decoration-color: #008080; font-weight: bold\">5.0</span>%\n",
       "</pre>\n"
      ],
      "text/plain": [
       "- Error rate: \u001b[1;36m5.0\u001b[0m%\n"
      ]
     },
     "metadata": {},
     "output_type": "display_data"
    },
    {
     "data": {
      "text/html": [
       "<pre style=\"white-space:pre;overflow-x:auto;line-height:normal;font-family:Menlo,'DejaVu Sans Mono',consolas,'Courier New',monospace\">- Extra transactions rate: <span style=\"color: #008080; text-decoration-color: #008080; font-weight: bold\">2.0</span>%\n",
       "</pre>\n"
      ],
      "text/plain": [
       "- Extra transactions rate: \u001b[1;36m2.0\u001b[0m%\n"
      ]
     },
     "metadata": {},
     "output_type": "display_data"
    }
   ],
   "source": [
    "# Generate sample transaction data\n",
    "print(\"🎲 Generating sample transaction data...\")\n",
    "\n",
    "# Create data directory if it doesn't exist\n",
    "data_dir = \"/opt/bitnami/spark/data/raw\"\n",
    "os.makedirs(data_dir, exist_ok=True)\n",
    "print(f\"✓ Data directory: {data_dir}\")\n",
    "\n",
    "# Generate account IDs\n",
    "print(\"\\n Generating account IDs...\")\n",
    "account_ids = generate_account_ids(num_accounts=DATA_CONFIG['num_accounts'])\n",
    "print(f\"✓ Generated {len(account_ids)} unique account IDs\")\n",
    "print(f\"Sample account IDs: {account_ids[:5]}\")\n",
    "\n",
    "# Generate primary transactions (core banking)\n",
    "print(\"\\n Generating primary transactions (core banking)...\")\n",
    "primary_system = 'core_banking'\n",
    "primary_transactions = generate_transaction_data(\n",
    "    primary_system,\n",
    "    account_ids,\n",
    "    start_date,\n",
    "    end_date,\n",
    "    count=DATA_CONFIG['primary_transactions']\n",
    ")\n",
    "\n",
    "print(f\"✓ Generated {len(primary_transactions)} primary transactions\")\n",
    "print(f\"Date range: {min(tx['transaction_date'] for tx in primary_transactions)} to {max(tx['transaction_date'] for tx in primary_transactions)}\")\n",
    "print(f\"Amount range: ${min(tx['amount'] for tx in primary_transactions):.2f} to ${max(tx['amount'] for tx in primary_transactions):.2f}\")\n",
    "\n",
    "# Generate matching transactions for secondary systems\n",
    "print(\"\\n🔄 Generating matching transactions for secondary systems...\")\n",
    "secondary_systems = [s for s in SOURCE_SYSTEMS if s != primary_system]\n",
    "all_transactions = {primary_system: primary_transactions}\n",
    "\n",
    "for secondary_system in secondary_systems:\n",
    "    print(f\"\\n📊 Processing {secondary_system}...\")\n",
    "    secondary_transactions = create_matching_transactions(\n",
    "        primary_transactions,\n",
    "        secondary_system,\n",
    "        error_rate=DATA_CONFIG['error_rate']\n",
    "    )\n",
    "    all_transactions[secondary_system] = secondary_transactions\n",
    "    print(f\"✓ Generated {len(secondary_transactions)} {secondary_system} transactions\")\n",
    "\n",
    "# Summary of generated data\n",
    "print(\"\\n📊 Data Generation Summary:\")\n",
    "total_transactions = sum(len(txs) for txs in all_transactions.values())\n",
    "print(f\"- Total transactions: {total_transactions:,}\")\n",
    "for system, transactions in all_transactions.items():\n",
    "    print(f\"- {system}: {len(transactions):,} transactions\")\n",
    "print(f\"- Date range: {start_date.strftime('%Y-%m-%d')} to {end_date.strftime('%Y-%m-%d')}\")\n",
    "print(f\"- Error rate: {DATA_CONFIG['error_rate']*100:.1f}%\")\n",
    "print(f\"- Extra transactions rate: {DATA_CONFIG['extra_transactions_rate']*100:.1f}%\")"
   ]
  },
  {
   "cell_type": "markdown",
   "metadata": {},
   "source": [
    "## Step 7: Save Data to CSV Files\n",
    "\n",
    "**Purpose**: Save generated data to CSV files for ingestion into Iceberg tables.\n",
    "\n",
    "### **CSV File Strategy**:\n",
    "\n",
    "#### **File Organization**\n",
    "- One CSV file per source system\n",
    "- Consistent naming convention\n",
    "- Proper data type handling\n",
    "\n",
    "#### **Data Format**\n",
    "- DateTime objects converted to strings\n",
    "- JSON payloads properly serialized\n",
    "- Consistent column ordering\n",
    "\n",
    "#### **File Locations**\n",
    "- `/opt/bitnami/spark/data/raw/`\n",
    "- Accessible to Spark for ingestion\n",
    "- Organized by source system"
   ]
  },
  {
   "cell_type": "code",
   "execution_count": 13,
   "metadata": {},
   "outputs": [
    {
     "data": {
      "text/html": [
       "<pre style=\"white-space:pre;overflow-x:auto;line-height:normal;font-family:Menlo,'DejaVu Sans Mono',consolas,'Courier New',monospace\"> Saving data to CSV files<span style=\"color: #808000; text-decoration-color: #808000\">...</span>\n",
       "</pre>\n"
      ],
      "text/plain": [
       " Saving data to CSV files\u001b[33m...\u001b[0m\n"
      ]
     },
     "metadata": {},
     "output_type": "display_data"
    },
    {
     "data": {
      "text/html": [
       "<pre style=\"white-space:pre;overflow-x:auto;line-height:normal;font-family:Menlo,'DejaVu Sans Mono',consolas,'Courier New',monospace\">✓ Saved <span style=\"color: #008080; text-decoration-color: #008080; font-weight: bold\">5000</span> transactions to <span style=\"color: #800080; text-decoration-color: #800080\">/opt/bitnami/spark/data/raw/</span><span style=\"color: #ff00ff; text-decoration-color: #ff00ff\">core_banking_transactions.csv</span>\n",
       "</pre>\n"
      ],
      "text/plain": [
       "✓ Saved \u001b[1;36m5000\u001b[0m transactions to \u001b[35m/opt/bitnami/spark/data/raw/\u001b[0m\u001b[95mcore_banking_transactions.csv\u001b[0m\n"
      ]
     },
     "metadata": {},
     "output_type": "display_data"
    },
    {
     "data": {
      "text/html": [
       "<pre style=\"white-space:pre;overflow-x:auto;line-height:normal;font-family:Menlo,'DejaVu Sans Mono',consolas,'Courier New',monospace\">  Sample data from <span style=\"color: #800080; text-decoration-color: #800080\">/opt/bitnami/spark/data/raw/</span><span style=\"color: #ff00ff; text-decoration-color: #ff00ff\">core_banking_transactions.csv</span>:\n",
       "</pre>\n"
      ],
      "text/plain": [
       "  Sample data from \u001b[35m/opt/bitnami/spark/data/raw/\u001b[0m\u001b[95mcore_banking_transactions.csv\u001b[0m:\n"
      ]
     },
     "metadata": {},
     "output_type": "display_data"
    },
    {
     "data": {
      "text/html": [
       "<pre style=\"white-space:pre;overflow-x:auto;line-height:normal;font-family:Menlo,'DejaVu Sans Mono',consolas,'Courier New',monospace\">  - Columns: <span style=\"font-weight: bold\">[</span><span style=\"color: #008000; text-decoration-color: #008000\">'transaction_id'</span>, <span style=\"color: #008000; text-decoration-color: #008000\">'source_system'</span>, <span style=\"color: #008000; text-decoration-color: #008000\">'transaction_date'</span>, <span style=\"color: #008000; text-decoration-color: #008000\">'amount'</span>, <span style=\"color: #008000; text-decoration-color: #008000\">'account_id'</span>, <span style=\"color: #008000; text-decoration-color: #008000\">'transaction_type'</span>, \n",
       "<span style=\"color: #008000; text-decoration-color: #008000\">'reference_id'</span>, <span style=\"color: #008000; text-decoration-color: #008000\">'status'</span>, <span style=\"color: #008000; text-decoration-color: #008000\">'payload'</span>, <span style=\"color: #008000; text-decoration-color: #008000\">'created_at'</span>, <span style=\"color: #008000; text-decoration-color: #008000\">'processing_timestamp'</span><span style=\"font-weight: bold\">]</span>\n",
       "</pre>\n"
      ],
      "text/plain": [
       "  - Columns: \u001b[1m[\u001b[0m\u001b[32m'transaction_id'\u001b[0m, \u001b[32m'source_system'\u001b[0m, \u001b[32m'transaction_date'\u001b[0m, \u001b[32m'amount'\u001b[0m, \u001b[32m'account_id'\u001b[0m, \u001b[32m'transaction_type'\u001b[0m, \n",
       "\u001b[32m'reference_id'\u001b[0m, \u001b[32m'status'\u001b[0m, \u001b[32m'payload'\u001b[0m, \u001b[32m'created_at'\u001b[0m, \u001b[32m'processing_timestamp'\u001b[0m\u001b[1m]\u001b[0m\n"
      ]
     },
     "metadata": {},
     "output_type": "display_data"
    },
    {
     "data": {
      "text/html": [
       "<pre style=\"white-space:pre;overflow-x:auto;line-height:normal;font-family:Menlo,'DejaVu Sans Mono',consolas,'Courier New',monospace\">  - Shape: <span style=\"font-weight: bold\">(</span><span style=\"color: #008080; text-decoration-color: #008080; font-weight: bold\">5000</span>, <span style=\"color: #008080; text-decoration-color: #008080; font-weight: bold\">11</span><span style=\"font-weight: bold\">)</span>\n",
       "</pre>\n"
      ],
      "text/plain": [
       "  - Shape: \u001b[1m(\u001b[0m\u001b[1;36m5000\u001b[0m, \u001b[1;36m11\u001b[0m\u001b[1m)\u001b[0m\n"
      ]
     },
     "metadata": {},
     "output_type": "display_data"
    },
    {
     "data": {
      "text/html": [
       "<pre style=\"white-space:pre;overflow-x:auto;line-height:normal;font-family:Menlo,'DejaVu Sans Mono',consolas,'Courier New',monospace\">  - Sample transaction_id: CB-0904A26AD08F\n",
       "</pre>\n"
      ],
      "text/plain": [
       "  - Sample transaction_id: CB-0904A26AD08F\n"
      ]
     },
     "metadata": {},
     "output_type": "display_data"
    },
    {
     "data": {
      "text/html": [
       "<pre style=\"white-space:pre;overflow-x:auto;line-height:normal;font-family:Menlo,'DejaVu Sans Mono',consolas,'Courier New',monospace\">  - Sample amount: $<span style=\"color: #008080; text-decoration-color: #008080; font-weight: bold\">4965.84</span>\n",
       "</pre>\n"
      ],
      "text/plain": [
       "  - Sample amount: $\u001b[1;36m4965.84\u001b[0m\n"
      ]
     },
     "metadata": {},
     "output_type": "display_data"
    },
    {
     "data": {
      "text/html": [
       "<pre style=\"white-space:pre;overflow-x:auto;line-height:normal;font-family:Menlo,'DejaVu Sans Mono',consolas,'Courier New',monospace\">  - Sample status: pending\n",
       "</pre>\n"
      ],
      "text/plain": [
       "  - Sample status: pending\n"
      ]
     },
     "metadata": {},
     "output_type": "display_data"
    },
    {
     "data": {
      "text/html": [
       "<pre style=\"white-space:pre;overflow-x:auto;line-height:normal;font-family:Menlo,'DejaVu Sans Mono',consolas,'Courier New',monospace\">✓ Saved <span style=\"color: #008080; text-decoration-color: #008080; font-weight: bold\">5048</span> transactions to <span style=\"color: #800080; text-decoration-color: #800080\">/opt/bitnami/spark/data/raw/</span><span style=\"color: #ff00ff; text-decoration-color: #ff00ff\">card_processor_transactions.csv</span>\n",
       "</pre>\n"
      ],
      "text/plain": [
       "✓ Saved \u001b[1;36m5048\u001b[0m transactions to \u001b[35m/opt/bitnami/spark/data/raw/\u001b[0m\u001b[95mcard_processor_transactions.csv\u001b[0m\n"
      ]
     },
     "metadata": {},
     "output_type": "display_data"
    },
    {
     "data": {
      "text/html": [
       "<pre style=\"white-space:pre;overflow-x:auto;line-height:normal;font-family:Menlo,'DejaVu Sans Mono',consolas,'Courier New',monospace\">  Sample data from <span style=\"color: #800080; text-decoration-color: #800080\">/opt/bitnami/spark/data/raw/</span><span style=\"color: #ff00ff; text-decoration-color: #ff00ff\">card_processor_transactions.csv</span>:\n",
       "</pre>\n"
      ],
      "text/plain": [
       "  Sample data from \u001b[35m/opt/bitnami/spark/data/raw/\u001b[0m\u001b[95mcard_processor_transactions.csv\u001b[0m:\n"
      ]
     },
     "metadata": {},
     "output_type": "display_data"
    },
    {
     "data": {
      "text/html": [
       "<pre style=\"white-space:pre;overflow-x:auto;line-height:normal;font-family:Menlo,'DejaVu Sans Mono',consolas,'Courier New',monospace\">  - Columns: <span style=\"font-weight: bold\">[</span><span style=\"color: #008000; text-decoration-color: #008000\">'transaction_id'</span>, <span style=\"color: #008000; text-decoration-color: #008000\">'source_system'</span>, <span style=\"color: #008000; text-decoration-color: #008000\">'transaction_date'</span>, <span style=\"color: #008000; text-decoration-color: #008000\">'amount'</span>, <span style=\"color: #008000; text-decoration-color: #008000\">'account_id'</span>, <span style=\"color: #008000; text-decoration-color: #008000\">'transaction_type'</span>, \n",
       "<span style=\"color: #008000; text-decoration-color: #008000\">'reference_id'</span>, <span style=\"color: #008000; text-decoration-color: #008000\">'status'</span>, <span style=\"color: #008000; text-decoration-color: #008000\">'payload'</span>, <span style=\"color: #008000; text-decoration-color: #008000\">'created_at'</span>, <span style=\"color: #008000; text-decoration-color: #008000\">'processing_timestamp'</span><span style=\"font-weight: bold\">]</span>\n",
       "</pre>\n"
      ],
      "text/plain": [
       "  - Columns: \u001b[1m[\u001b[0m\u001b[32m'transaction_id'\u001b[0m, \u001b[32m'source_system'\u001b[0m, \u001b[32m'transaction_date'\u001b[0m, \u001b[32m'amount'\u001b[0m, \u001b[32m'account_id'\u001b[0m, \u001b[32m'transaction_type'\u001b[0m, \n",
       "\u001b[32m'reference_id'\u001b[0m, \u001b[32m'status'\u001b[0m, \u001b[32m'payload'\u001b[0m, \u001b[32m'created_at'\u001b[0m, \u001b[32m'processing_timestamp'\u001b[0m\u001b[1m]\u001b[0m\n"
      ]
     },
     "metadata": {},
     "output_type": "display_data"
    },
    {
     "data": {
      "text/html": [
       "<pre style=\"white-space:pre;overflow-x:auto;line-height:normal;font-family:Menlo,'DejaVu Sans Mono',consolas,'Courier New',monospace\">  - Shape: <span style=\"font-weight: bold\">(</span><span style=\"color: #008080; text-decoration-color: #008080; font-weight: bold\">5048</span>, <span style=\"color: #008080; text-decoration-color: #008080; font-weight: bold\">11</span><span style=\"font-weight: bold\">)</span>\n",
       "</pre>\n"
      ],
      "text/plain": [
       "  - Shape: \u001b[1m(\u001b[0m\u001b[1;36m5048\u001b[0m, \u001b[1;36m11\u001b[0m\u001b[1m)\u001b[0m\n"
      ]
     },
     "metadata": {},
     "output_type": "display_data"
    },
    {
     "data": {
      "text/html": [
       "<pre style=\"white-space:pre;overflow-x:auto;line-height:normal;font-family:Menlo,'DejaVu Sans Mono',consolas,'Courier New',monospace\">  - Sample transaction_id: CP-EDD1B3B25116\n",
       "</pre>\n"
      ],
      "text/plain": [
       "  - Sample transaction_id: CP-EDD1B3B25116\n"
      ]
     },
     "metadata": {},
     "output_type": "display_data"
    },
    {
     "data": {
      "text/html": [
       "<pre style=\"white-space:pre;overflow-x:auto;line-height:normal;font-family:Menlo,'DejaVu Sans Mono',consolas,'Courier New',monospace\">  - Sample amount: $<span style=\"color: #008080; text-decoration-color: #008080; font-weight: bold\">4965.84</span>\n",
       "</pre>\n"
      ],
      "text/plain": [
       "  - Sample amount: $\u001b[1;36m4965.84\u001b[0m\n"
      ]
     },
     "metadata": {},
     "output_type": "display_data"
    },
    {
     "data": {
      "text/html": [
       "<pre style=\"white-space:pre;overflow-x:auto;line-height:normal;font-family:Menlo,'DejaVu Sans Mono',consolas,'Courier New',monospace\">  - Sample status: pending\n",
       "</pre>\n"
      ],
      "text/plain": [
       "  - Sample status: pending\n"
      ]
     },
     "metadata": {},
     "output_type": "display_data"
    },
    {
     "data": {
      "text/html": [
       "<pre style=\"white-space:pre;overflow-x:auto;line-height:normal;font-family:Menlo,'DejaVu Sans Mono',consolas,'Courier New',monospace\">✓ Saved <span style=\"color: #008080; text-decoration-color: #008080; font-weight: bold\">5040</span> transactions to <span style=\"color: #800080; text-decoration-color: #800080\">/opt/bitnami/spark/data/raw/</span><span style=\"color: #ff00ff; text-decoration-color: #ff00ff\">payment_gateway_transactions.csv</span>\n",
       "</pre>\n"
      ],
      "text/plain": [
       "✓ Saved \u001b[1;36m5040\u001b[0m transactions to \u001b[35m/opt/bitnami/spark/data/raw/\u001b[0m\u001b[95mpayment_gateway_transactions.csv\u001b[0m\n"
      ]
     },
     "metadata": {},
     "output_type": "display_data"
    },
    {
     "data": {
      "text/html": [
       "<pre style=\"white-space:pre;overflow-x:auto;line-height:normal;font-family:Menlo,'DejaVu Sans Mono',consolas,'Courier New',monospace\">  Sample data from <span style=\"color: #800080; text-decoration-color: #800080\">/opt/bitnami/spark/data/raw/</span><span style=\"color: #ff00ff; text-decoration-color: #ff00ff\">payment_gateway_transactions.csv</span>:\n",
       "</pre>\n"
      ],
      "text/plain": [
       "  Sample data from \u001b[35m/opt/bitnami/spark/data/raw/\u001b[0m\u001b[95mpayment_gateway_transactions.csv\u001b[0m:\n"
      ]
     },
     "metadata": {},
     "output_type": "display_data"
    },
    {
     "data": {
      "text/html": [
       "<pre style=\"white-space:pre;overflow-x:auto;line-height:normal;font-family:Menlo,'DejaVu Sans Mono',consolas,'Courier New',monospace\">  - Columns: <span style=\"font-weight: bold\">[</span><span style=\"color: #008000; text-decoration-color: #008000\">'transaction_id'</span>, <span style=\"color: #008000; text-decoration-color: #008000\">'source_system'</span>, <span style=\"color: #008000; text-decoration-color: #008000\">'transaction_date'</span>, <span style=\"color: #008000; text-decoration-color: #008000\">'amount'</span>, <span style=\"color: #008000; text-decoration-color: #008000\">'account_id'</span>, <span style=\"color: #008000; text-decoration-color: #008000\">'transaction_type'</span>, \n",
       "<span style=\"color: #008000; text-decoration-color: #008000\">'reference_id'</span>, <span style=\"color: #008000; text-decoration-color: #008000\">'status'</span>, <span style=\"color: #008000; text-decoration-color: #008000\">'payload'</span>, <span style=\"color: #008000; text-decoration-color: #008000\">'created_at'</span>, <span style=\"color: #008000; text-decoration-color: #008000\">'processing_timestamp'</span><span style=\"font-weight: bold\">]</span>\n",
       "</pre>\n"
      ],
      "text/plain": [
       "  - Columns: \u001b[1m[\u001b[0m\u001b[32m'transaction_id'\u001b[0m, \u001b[32m'source_system'\u001b[0m, \u001b[32m'transaction_date'\u001b[0m, \u001b[32m'amount'\u001b[0m, \u001b[32m'account_id'\u001b[0m, \u001b[32m'transaction_type'\u001b[0m, \n",
       "\u001b[32m'reference_id'\u001b[0m, \u001b[32m'status'\u001b[0m, \u001b[32m'payload'\u001b[0m, \u001b[32m'created_at'\u001b[0m, \u001b[32m'processing_timestamp'\u001b[0m\u001b[1m]\u001b[0m\n"
      ]
     },
     "metadata": {},
     "output_type": "display_data"
    },
    {
     "data": {
      "text/html": [
       "<pre style=\"white-space:pre;overflow-x:auto;line-height:normal;font-family:Menlo,'DejaVu Sans Mono',consolas,'Courier New',monospace\">  - Shape: <span style=\"font-weight: bold\">(</span><span style=\"color: #008080; text-decoration-color: #008080; font-weight: bold\">5040</span>, <span style=\"color: #008080; text-decoration-color: #008080; font-weight: bold\">11</span><span style=\"font-weight: bold\">)</span>\n",
       "</pre>\n"
      ],
      "text/plain": [
       "  - Shape: \u001b[1m(\u001b[0m\u001b[1;36m5040\u001b[0m, \u001b[1;36m11\u001b[0m\u001b[1m)\u001b[0m\n"
      ]
     },
     "metadata": {},
     "output_type": "display_data"
    },
    {
     "data": {
      "text/html": [
       "<pre style=\"white-space:pre;overflow-x:auto;line-height:normal;font-family:Menlo,'DejaVu Sans Mono',consolas,'Courier New',monospace\">  - Sample transaction_id: PG-8D430B581B31\n",
       "</pre>\n"
      ],
      "text/plain": [
       "  - Sample transaction_id: PG-8D430B581B31\n"
      ]
     },
     "metadata": {},
     "output_type": "display_data"
    },
    {
     "data": {
      "text/html": [
       "<pre style=\"white-space:pre;overflow-x:auto;line-height:normal;font-family:Menlo,'DejaVu Sans Mono',consolas,'Courier New',monospace\">  - Sample amount: $<span style=\"color: #008080; text-decoration-color: #008080; font-weight: bold\">4965.84</span>\n",
       "</pre>\n"
      ],
      "text/plain": [
       "  - Sample amount: $\u001b[1;36m4965.84\u001b[0m\n"
      ]
     },
     "metadata": {},
     "output_type": "display_data"
    },
    {
     "data": {
      "text/html": [
       "<pre style=\"white-space:pre;overflow-x:auto;line-height:normal;font-family:Menlo,'DejaVu Sans Mono',consolas,'Courier New',monospace\">  - Sample status: pending\n",
       "</pre>\n"
      ],
      "text/plain": [
       "  - Sample status: pending\n"
      ]
     },
     "metadata": {},
     "output_type": "display_data"
    },
    {
     "data": {
      "text/html": [
       "<pre style=\"white-space:pre;overflow-x:auto;line-height:normal;font-family:Menlo,'DejaVu Sans Mono',consolas,'Courier New',monospace\">\n",
       "📁 CSV files created:\n",
       "</pre>\n"
      ],
      "text/plain": [
       "\n",
       "📁 CSV files created:\n"
      ]
     },
     "metadata": {},
     "output_type": "display_data"
    },
    {
     "data": {
      "text/html": [
       "<pre style=\"white-space:pre;overflow-x:auto;line-height:normal;font-family:Menlo,'DejaVu Sans Mono',consolas,'Courier New',monospace\">- core_banking: <span style=\"color: #800080; text-decoration-color: #800080\">/opt/bitnami/spark/data/raw/</span><span style=\"color: #ff00ff; text-decoration-color: #ff00ff\">core_banking_transactions.csv</span> <span style=\"font-weight: bold\">(</span><span style=\"color: #008080; text-decoration-color: #008080; font-weight: bold\">2</span>,<span style=\"color: #008080; text-decoration-color: #008080; font-weight: bold\">354</span>,<span style=\"color: #008080; text-decoration-color: #008080; font-weight: bold\">922</span> bytes<span style=\"font-weight: bold\">)</span>\n",
       "</pre>\n"
      ],
      "text/plain": [
       "- core_banking: \u001b[35m/opt/bitnami/spark/data/raw/\u001b[0m\u001b[95mcore_banking_transactions.csv\u001b[0m \u001b[1m(\u001b[0m\u001b[1;36m2\u001b[0m,\u001b[1;36m354\u001b[0m,\u001b[1;36m922\u001b[0m bytes\u001b[1m)\u001b[0m\n"
      ]
     },
     "metadata": {},
     "output_type": "display_data"
    },
    {
     "data": {
      "text/html": [
       "<pre style=\"white-space:pre;overflow-x:auto;line-height:normal;font-family:Menlo,'DejaVu Sans Mono',consolas,'Courier New',monospace\">- card_processor: <span style=\"color: #800080; text-decoration-color: #800080\">/opt/bitnami/spark/data/raw/</span><span style=\"color: #ff00ff; text-decoration-color: #ff00ff\">card_processor_transactions.csv</span> <span style=\"font-weight: bold\">(</span><span style=\"color: #008080; text-decoration-color: #008080; font-weight: bold\">2</span>,<span style=\"color: #008080; text-decoration-color: #008080; font-weight: bold\">387</span>,<span style=\"color: #008080; text-decoration-color: #008080; font-weight: bold\">816</span> bytes<span style=\"font-weight: bold\">)</span>\n",
       "</pre>\n"
      ],
      "text/plain": [
       "- card_processor: \u001b[35m/opt/bitnami/spark/data/raw/\u001b[0m\u001b[95mcard_processor_transactions.csv\u001b[0m \u001b[1m(\u001b[0m\u001b[1;36m2\u001b[0m,\u001b[1;36m387\u001b[0m,\u001b[1;36m816\u001b[0m bytes\u001b[1m)\u001b[0m\n"
      ]
     },
     "metadata": {},
     "output_type": "display_data"
    },
    {
     "data": {
      "text/html": [
       "<pre style=\"white-space:pre;overflow-x:auto;line-height:normal;font-family:Menlo,'DejaVu Sans Mono',consolas,'Courier New',monospace\">- payment_gateway: <span style=\"color: #800080; text-decoration-color: #800080\">/opt/bitnami/spark/data/raw/</span><span style=\"color: #ff00ff; text-decoration-color: #ff00ff\">payment_gateway_transactions.csv</span> <span style=\"font-weight: bold\">(</span><span style=\"color: #008080; text-decoration-color: #008080; font-weight: bold\">2</span>,<span style=\"color: #008080; text-decoration-color: #008080; font-weight: bold\">388</span>,<span style=\"color: #008080; text-decoration-color: #008080; font-weight: bold\">256</span> bytes<span style=\"font-weight: bold\">)</span>\n",
       "</pre>\n"
      ],
      "text/plain": [
       "- payment_gateway: \u001b[35m/opt/bitnami/spark/data/raw/\u001b[0m\u001b[95mpayment_gateway_transactions.csv\u001b[0m \u001b[1m(\u001b[0m\u001b[1;36m2\u001b[0m,\u001b[1;36m388\u001b[0m,\u001b[1;36m256\u001b[0m bytes\u001b[1m)\u001b[0m\n"
      ]
     },
     "metadata": {},
     "output_type": "display_data"
    },
    {
     "data": {
      "text/html": [
       "<pre style=\"white-space:pre;overflow-x:auto;line-height:normal;font-family:Menlo,'DejaVu Sans Mono',consolas,'Courier New',monospace\">\n",
       "🔍 Verifying CSV files<span style=\"color: #808000; text-decoration-color: #808000\">...</span>\n",
       "</pre>\n"
      ],
      "text/plain": [
       "\n",
       "🔍 Verifying CSV files\u001b[33m...\u001b[0m\n"
      ]
     },
     "metadata": {},
     "output_type": "display_data"
    },
    {
     "data": {
      "text/html": [
       "<pre style=\"white-space:pre;overflow-x:auto;line-height:normal;font-family:Menlo,'DejaVu Sans Mono',consolas,'Courier New',monospace\">✓ <span style=\"color: #800080; text-decoration-color: #800080\">/opt/bitnami/spark/data/raw/</span><span style=\"color: #ff00ff; text-decoration-color: #ff00ff\">core_banking_transactions.csv</span> exists and is readable\n",
       "</pre>\n"
      ],
      "text/plain": [
       "✓ \u001b[35m/opt/bitnami/spark/data/raw/\u001b[0m\u001b[95mcore_banking_transactions.csv\u001b[0m exists and is readable\n"
      ]
     },
     "metadata": {},
     "output_type": "display_data"
    },
    {
     "data": {
      "text/html": [
       "<pre style=\"white-space:pre;overflow-x:auto;line-height:normal;font-family:Menlo,'DejaVu Sans Mono',consolas,'Courier New',monospace\">✓ <span style=\"color: #800080; text-decoration-color: #800080\">/opt/bitnami/spark/data/raw/</span><span style=\"color: #ff00ff; text-decoration-color: #ff00ff\">card_processor_transactions.csv</span> exists and is readable\n",
       "</pre>\n"
      ],
      "text/plain": [
       "✓ \u001b[35m/opt/bitnami/spark/data/raw/\u001b[0m\u001b[95mcard_processor_transactions.csv\u001b[0m exists and is readable\n"
      ]
     },
     "metadata": {},
     "output_type": "display_data"
    },
    {
     "data": {
      "text/html": [
       "<pre style=\"white-space:pre;overflow-x:auto;line-height:normal;font-family:Menlo,'DejaVu Sans Mono',consolas,'Courier New',monospace\">✓ <span style=\"color: #800080; text-decoration-color: #800080\">/opt/bitnami/spark/data/raw/</span><span style=\"color: #ff00ff; text-decoration-color: #ff00ff\">payment_gateway_transactions.csv</span> exists and is readable\n",
       "</pre>\n"
      ],
      "text/plain": [
       "✓ \u001b[35m/opt/bitnami/spark/data/raw/\u001b[0m\u001b[95mpayment_gateway_transactions.csv\u001b[0m exists and is readable\n"
      ]
     },
     "metadata": {},
     "output_type": "display_data"
    },
    {
     "data": {
      "text/html": [
       "<pre style=\"white-space:pre;overflow-x:auto;line-height:normal;font-family:Menlo,'DejaVu Sans Mono',consolas,'Courier New',monospace\">\n",
       " Raw data directory contents:\n",
       "</pre>\n"
      ],
      "text/plain": [
       "\n",
       " Raw data directory contents:\n"
      ]
     },
     "metadata": {},
     "output_type": "display_data"
    },
    {
     "name": "stdout",
     "output_type": "stream",
     "text": [
      "total 6968\n",
      "drwxrwxrwx 1 root root    4096 Jul 16 07:18 .\n",
      "drwxrwxrwx 1 root root    4096 Jul 16 07:18 ..\n",
      "-rwxrwxrwx 1 root root       0 Jul 12 19:25 .gitkeep\n",
      "-rwxrwxrwx 1 root root 2387816 Jul 21 13:18 card_processor_transactions.csv\n",
      "-rwxrwxrwx 1 root root 2354922 Jul 21 13:18 core_banking_transactions.csv\n",
      "-rwxrwxrwx 1 root root 2388256 Jul 21 13:18 payment_gateway_transactions.csv\n"
     ]
    }
   ],
   "source": [
    "# Save data to CSV files\n",
    "print(\" Saving data to CSV files...\")\n",
    "\n",
    "def save_to_csv(transactions, filename):\n",
    "    \"\"\"Save transactions to a CSV file.\"\"\"\n",
    "    df = pd.DataFrame(transactions)\n",
    "    \n",
    "    # Convert datetime objects to strings\n",
    "    for col in ['transaction_date', 'created_at', 'processing_timestamp']:\n",
    "        df[col] = df[col].apply(lambda x: x.strftime('%Y-%m-%d %H:%M:%S'))\n",
    "    \n",
    "    # Save to CSV\n",
    "    df.to_csv(filename, index=False)\n",
    "    print(f\"✓ Saved {len(transactions)} transactions to {filename}\")\n",
    "    \n",
    "    # Show sample data\n",
    "    print(f\"  Sample data from {filename}:\")\n",
    "    print(f\"  - Columns: {list(df.columns)}\")\n",
    "    print(f\"  - Shape: {df.shape}\")\n",
    "    print(f\"  - Sample transaction_id: {df['transaction_id'].iloc[0]}\")\n",
    "    print(f\"  - Sample amount: ${df['amount'].iloc[0]:.2f}\")\n",
    "    print(f\"  - Sample status: {df['status'].iloc[0]}\")\n",
    "\n",
    "# Save each source system's data\n",
    "csv_files = {}\n",
    "for system, transactions in all_transactions.items():\n",
    "    filename = f\"{data_dir}/{system}_transactions.csv\"\n",
    "    save_to_csv(transactions, filename)\n",
    "    csv_files[system] = filename\n",
    "\n",
    "print(f\"\\n📁 CSV files created:\")\n",
    "for system, filename in csv_files.items():\n",
    "    file_size = os.path.getsize(filename)\n",
    "    print(f\"- {system}: {filename} ({file_size:,} bytes)\")\n",
    "\n",
    "# Verify files exist and are readable\n",
    "print(\"\\n🔍 Verifying CSV files...\")\n",
    "for filename in csv_files.values():\n",
    "    if os.path.exists(filename):\n",
    "        print(f\"✓ {filename} exists and is readable\")\n",
    "    else:\n",
    "        print(f\"✗ {filename} not found\")\n",
    "\n",
    "# Show directory contents\n",
    "print(f\"\\n Raw data directory contents:\")\n",
    "!ls -la {data_dir}/"
   ]
  },
  {
   "cell_type": "markdown",
   "metadata": {},
   "source": [
    "## Step 8: Ingest Data into Iceberg Tables\n",
    "\n",
    "**Purpose**: Load CSV data into Iceberg tables using Spark DataFrame operations.\n",
    "\n",
    "### **Ingestion Strategy**:\n",
    "\n",
    "#### **1. CSV Reading**\n",
    "- Use Spark's CSV reader with proper schema inference\n",
    "- Handle datetime parsing correctly\n",
    "- Ensure data type consistency\n",
    "\n",
    "#### **2. Data Transformation**\n",
    "- Convert string dates back to timestamps\n",
    "- Ensure proper decimal precision for amounts\n",
    "- Validate data quality\n",
    "\n",
    "#### **3. Iceberg Writing**\n",
    "- Use Iceberg's write capabilities\n",
    "- Leverage partitioning for performance\n",
    "- Maintain ACID properties\n",
    "\n",
    "#### **4. Error Handling**\n",
    "- Validate data before writing\n",
    "- Handle missing or malformed data\n",
    "- Provide detailed error reporting"
   ]
  },
  {
   "cell_type": "code",
   "execution_count": 14,
   "metadata": {},
   "outputs": [
    {
     "data": {
      "text/html": [
       "<pre style=\"white-space:pre;overflow-x:auto;line-height:normal;font-family:Menlo,'DejaVu Sans Mono',consolas,'Courier New',monospace\">📥 Ingesting data into Iceberg tables<span style=\"color: #808000; text-decoration-color: #808000\">...</span>\n",
       "</pre>\n"
      ],
      "text/plain": [
       "📥 Ingesting data into Iceberg tables\u001b[33m...\u001b[0m\n"
      ]
     },
     "metadata": {},
     "output_type": "display_data"
    },
    {
     "data": {
      "text/html": [
       "<pre style=\"white-space:pre;overflow-x:auto;line-height:normal;font-family:Menlo,'DejaVu Sans Mono',consolas,'Courier New',monospace\">\n",
       "🔄 Processing <span style=\"color: #800080; text-decoration-color: #800080\">/opt/bitnami/spark/data/raw/</span><span style=\"color: #ff00ff; text-decoration-color: #ff00ff\">core_banking_transactions.csv...</span>\n",
       "</pre>\n"
      ],
      "text/plain": [
       "\n",
       "🔄 Processing \u001b[35m/opt/bitnami/spark/data/raw/\u001b[0m\u001b[95mcore_banking_transactions.csv...\u001b[0m\n"
      ]
     },
     "metadata": {},
     "output_type": "display_data"
    },
    {
     "name": "stderr",
     "output_type": "stream",
     "text": [
      "                                                                                "
     ]
    },
    {
     "data": {
      "text/html": [
       "<pre style=\"white-space:pre;overflow-x:auto;line-height:normal;font-family:Menlo,'DejaVu Sans Mono',consolas,'Courier New',monospace\">✓ Read <span style=\"color: #008080; text-decoration-color: #008080; font-weight: bold\">5000</span> rows from <span style=\"color: #800080; text-decoration-color: #800080\">/opt/bitnami/spark/data/raw/</span><span style=\"color: #ff00ff; text-decoration-color: #ff00ff\">core_banking_transactions.csv</span>\n",
       "</pre>\n"
      ],
      "text/plain": [
       "✓ Read \u001b[1;36m5000\u001b[0m rows from \u001b[35m/opt/bitnami/spark/data/raw/\u001b[0m\u001b[95mcore_banking_transactions.csv\u001b[0m\n"
      ]
     },
     "metadata": {},
     "output_type": "display_data"
    },
    {
     "data": {
      "text/html": [
       "<pre style=\"white-space:pre;overflow-x:auto;line-height:normal;font-family:Menlo,'DejaVu Sans Mono',consolas,'Courier New',monospace\">Schema: <span style=\"color: #800080; text-decoration-color: #800080; font-weight: bold\">StructType</span><span style=\"font-weight: bold\">([</span><span style=\"color: #800080; text-decoration-color: #800080; font-weight: bold\">StructField</span><span style=\"font-weight: bold\">(</span><span style=\"color: #008000; text-decoration-color: #008000\">'transaction_id'</span>, <span style=\"color: #800080; text-decoration-color: #800080; font-weight: bold\">StringType</span><span style=\"font-weight: bold\">()</span>, <span style=\"color: #00ff00; text-decoration-color: #00ff00; font-style: italic\">True</span><span style=\"font-weight: bold\">)</span>, <span style=\"color: #800080; text-decoration-color: #800080; font-weight: bold\">StructField</span><span style=\"font-weight: bold\">(</span><span style=\"color: #008000; text-decoration-color: #008000\">'source_system'</span>, <span style=\"color: #800080; text-decoration-color: #800080; font-weight: bold\">StringType</span><span style=\"font-weight: bold\">()</span>, \n",
       "<span style=\"color: #00ff00; text-decoration-color: #00ff00; font-style: italic\">True</span><span style=\"font-weight: bold\">)</span>, <span style=\"color: #800080; text-decoration-color: #800080; font-weight: bold\">StructField</span><span style=\"font-weight: bold\">(</span><span style=\"color: #008000; text-decoration-color: #008000\">'transaction_date'</span>, <span style=\"color: #800080; text-decoration-color: #800080; font-weight: bold\">TimestampType</span><span style=\"font-weight: bold\">()</span>, <span style=\"color: #00ff00; text-decoration-color: #00ff00; font-style: italic\">True</span><span style=\"font-weight: bold\">)</span>, <span style=\"color: #800080; text-decoration-color: #800080; font-weight: bold\">StructField</span><span style=\"font-weight: bold\">(</span><span style=\"color: #008000; text-decoration-color: #008000\">'amount'</span>, <span style=\"color: #800080; text-decoration-color: #800080; font-weight: bold\">DoubleType</span><span style=\"font-weight: bold\">()</span>, <span style=\"color: #00ff00; text-decoration-color: #00ff00; font-style: italic\">True</span><span style=\"font-weight: bold\">)</span>, \n",
       "<span style=\"color: #800080; text-decoration-color: #800080; font-weight: bold\">StructField</span><span style=\"font-weight: bold\">(</span><span style=\"color: #008000; text-decoration-color: #008000\">'account_id'</span>, <span style=\"color: #800080; text-decoration-color: #800080; font-weight: bold\">StringType</span><span style=\"font-weight: bold\">()</span>, <span style=\"color: #00ff00; text-decoration-color: #00ff00; font-style: italic\">True</span><span style=\"font-weight: bold\">)</span>, <span style=\"color: #800080; text-decoration-color: #800080; font-weight: bold\">StructField</span><span style=\"font-weight: bold\">(</span><span style=\"color: #008000; text-decoration-color: #008000\">'transaction_type'</span>, <span style=\"color: #800080; text-decoration-color: #800080; font-weight: bold\">StringType</span><span style=\"font-weight: bold\">()</span>, <span style=\"color: #00ff00; text-decoration-color: #00ff00; font-style: italic\">True</span><span style=\"font-weight: bold\">)</span>, \n",
       "<span style=\"color: #800080; text-decoration-color: #800080; font-weight: bold\">StructField</span><span style=\"font-weight: bold\">(</span><span style=\"color: #008000; text-decoration-color: #008000\">'reference_id'</span>, <span style=\"color: #800080; text-decoration-color: #800080; font-weight: bold\">StringType</span><span style=\"font-weight: bold\">()</span>, <span style=\"color: #00ff00; text-decoration-color: #00ff00; font-style: italic\">True</span><span style=\"font-weight: bold\">)</span>, <span style=\"color: #800080; text-decoration-color: #800080; font-weight: bold\">StructField</span><span style=\"font-weight: bold\">(</span><span style=\"color: #008000; text-decoration-color: #008000\">'status'</span>, <span style=\"color: #800080; text-decoration-color: #800080; font-weight: bold\">StringType</span><span style=\"font-weight: bold\">()</span>, <span style=\"color: #00ff00; text-decoration-color: #00ff00; font-style: italic\">True</span><span style=\"font-weight: bold\">)</span>, <span style=\"color: #800080; text-decoration-color: #800080; font-weight: bold\">StructField</span><span style=\"font-weight: bold\">(</span><span style=\"color: #008000; text-decoration-color: #008000\">'payload'</span>, \n",
       "<span style=\"color: #800080; text-decoration-color: #800080; font-weight: bold\">StringType</span><span style=\"font-weight: bold\">()</span>, <span style=\"color: #00ff00; text-decoration-color: #00ff00; font-style: italic\">True</span><span style=\"font-weight: bold\">)</span>, <span style=\"color: #800080; text-decoration-color: #800080; font-weight: bold\">StructField</span><span style=\"font-weight: bold\">(</span><span style=\"color: #008000; text-decoration-color: #008000\">'created_at'</span>, <span style=\"color: #800080; text-decoration-color: #800080; font-weight: bold\">StringType</span><span style=\"font-weight: bold\">()</span>, <span style=\"color: #00ff00; text-decoration-color: #00ff00; font-style: italic\">True</span><span style=\"font-weight: bold\">)</span>, <span style=\"color: #800080; text-decoration-color: #800080; font-weight: bold\">StructField</span><span style=\"font-weight: bold\">(</span><span style=\"color: #008000; text-decoration-color: #008000\">'processing_timestamp'</span>, \n",
       "<span style=\"color: #800080; text-decoration-color: #800080; font-weight: bold\">StringType</span><span style=\"font-weight: bold\">()</span>, <span style=\"color: #00ff00; text-decoration-color: #00ff00; font-style: italic\">True</span><span style=\"font-weight: bold\">)])</span>\n",
       "</pre>\n"
      ],
      "text/plain": [
       "Schema: \u001b[1;35mStructType\u001b[0m\u001b[1m(\u001b[0m\u001b[1m[\u001b[0m\u001b[1;35mStructField\u001b[0m\u001b[1m(\u001b[0m\u001b[32m'transaction_id'\u001b[0m, \u001b[1;35mStringType\u001b[0m\u001b[1m(\u001b[0m\u001b[1m)\u001b[0m, \u001b[3;92mTrue\u001b[0m\u001b[1m)\u001b[0m, \u001b[1;35mStructField\u001b[0m\u001b[1m(\u001b[0m\u001b[32m'source_system'\u001b[0m, \u001b[1;35mStringType\u001b[0m\u001b[1m(\u001b[0m\u001b[1m)\u001b[0m, \n",
       "\u001b[3;92mTrue\u001b[0m\u001b[1m)\u001b[0m, \u001b[1;35mStructField\u001b[0m\u001b[1m(\u001b[0m\u001b[32m'transaction_date'\u001b[0m, \u001b[1;35mTimestampType\u001b[0m\u001b[1m(\u001b[0m\u001b[1m)\u001b[0m, \u001b[3;92mTrue\u001b[0m\u001b[1m)\u001b[0m, \u001b[1;35mStructField\u001b[0m\u001b[1m(\u001b[0m\u001b[32m'amount'\u001b[0m, \u001b[1;35mDoubleType\u001b[0m\u001b[1m(\u001b[0m\u001b[1m)\u001b[0m, \u001b[3;92mTrue\u001b[0m\u001b[1m)\u001b[0m, \n",
       "\u001b[1;35mStructField\u001b[0m\u001b[1m(\u001b[0m\u001b[32m'account_id'\u001b[0m, \u001b[1;35mStringType\u001b[0m\u001b[1m(\u001b[0m\u001b[1m)\u001b[0m, \u001b[3;92mTrue\u001b[0m\u001b[1m)\u001b[0m, \u001b[1;35mStructField\u001b[0m\u001b[1m(\u001b[0m\u001b[32m'transaction_type'\u001b[0m, \u001b[1;35mStringType\u001b[0m\u001b[1m(\u001b[0m\u001b[1m)\u001b[0m, \u001b[3;92mTrue\u001b[0m\u001b[1m)\u001b[0m, \n",
       "\u001b[1;35mStructField\u001b[0m\u001b[1m(\u001b[0m\u001b[32m'reference_id'\u001b[0m, \u001b[1;35mStringType\u001b[0m\u001b[1m(\u001b[0m\u001b[1m)\u001b[0m, \u001b[3;92mTrue\u001b[0m\u001b[1m)\u001b[0m, \u001b[1;35mStructField\u001b[0m\u001b[1m(\u001b[0m\u001b[32m'status'\u001b[0m, \u001b[1;35mStringType\u001b[0m\u001b[1m(\u001b[0m\u001b[1m)\u001b[0m, \u001b[3;92mTrue\u001b[0m\u001b[1m)\u001b[0m, \u001b[1;35mStructField\u001b[0m\u001b[1m(\u001b[0m\u001b[32m'payload'\u001b[0m, \n",
       "\u001b[1;35mStringType\u001b[0m\u001b[1m(\u001b[0m\u001b[1m)\u001b[0m, \u001b[3;92mTrue\u001b[0m\u001b[1m)\u001b[0m, \u001b[1;35mStructField\u001b[0m\u001b[1m(\u001b[0m\u001b[32m'created_at'\u001b[0m, \u001b[1;35mStringType\u001b[0m\u001b[1m(\u001b[0m\u001b[1m)\u001b[0m, \u001b[3;92mTrue\u001b[0m\u001b[1m)\u001b[0m, \u001b[1;35mStructField\u001b[0m\u001b[1m(\u001b[0m\u001b[32m'processing_timestamp'\u001b[0m, \n",
       "\u001b[1;35mStringType\u001b[0m\u001b[1m(\u001b[0m\u001b[1m)\u001b[0m, \u001b[3;92mTrue\u001b[0m\u001b[1m)\u001b[0m\u001b[1m]\u001b[0m\u001b[1m)\u001b[0m\n"
      ]
     },
     "metadata": {},
     "output_type": "display_data"
    },
    {
     "data": {
      "text/html": [
       "<pre style=\"white-space:pre;overflow-x:auto;line-height:normal;font-family:Menlo,'DejaVu Sans Mono',consolas,'Courier New',monospace\">\n",
       " Sample data from <span style=\"color: #800080; text-decoration-color: #800080\">/opt/bitnami/spark/data/raw/</span><span style=\"color: #ff00ff; text-decoration-color: #ff00ff\">core_banking_transactions.csv</span>:\n",
       "</pre>\n"
      ],
      "text/plain": [
       "\n",
       " Sample data from \u001b[35m/opt/bitnami/spark/data/raw/\u001b[0m\u001b[95mcore_banking_transactions.csv\u001b[0m:\n"
      ]
     },
     "metadata": {},
     "output_type": "display_data"
    },
    {
     "name": "stderr",
     "output_type": "stream",
     "text": [
      "[Stage 14:>                                                         (0 + 1) / 1]"
     ]
    },
    {
     "name": "stdout",
     "output_type": "stream",
     "text": [
      "+---------------+-------------+-------------------+-------+-----------+----------------+--------------+---------+------------------------------------------------------------------------------+----------+--------------------+\n",
      "|transaction_id |source_system|transaction_date   |amount |account_id |transaction_type|reference_id  |status   |payload                                                                       |created_at|processing_timestamp|\n",
      "+---------------+-------------+-------------------+-------+-----------+----------------+--------------+---------+------------------------------------------------------------------------------+----------+--------------------+\n",
      "|CB-0904A26AD08F|core_banking |2025-06-25 14:57:51|4965.84|ACC20300719|payment         |REF-6634064655|pending  |\"{\"\"description\"\": \"\"Reach method name source which.\"\"                        |NULL      |NULL                |\n",
      "|CB-8816AF66FBD4|core_banking |2025-06-25 18:56:16|9672.07|ACC79990125|payment         |REF-4956296837|completed|\"{\"\"description\"\": \"\"Player ground fire store wind tree.\"\"                    |NULL      |NULL                |\n",
      "|CB-EE7A25F54282|core_banking |2025-07-03 06:50:21|6106.13|ACC95067461|refund          |REF-3440568575|reversed |\"{\"\"description\"\": \"\"Organization police nearly important step dark however.\"\"|NULL      |NULL                |\n",
      "|CB-5D7B7EE21A5C|core_banking |2025-07-20 10:25:11|3802.06|ACC95067461|transfer        |REF-9151770133|pending  |\"{\"\"description\"\": \"\"Deal above glass ready thing camera.\"\"                   |NULL      |NULL                |\n",
      "|CB-FA3954D5F373|core_banking |2025-07-10 19:59:53|1846.3 |ACC73253280|transfer        |REF-5408694299|reversed |\"{\"\"description\"\": \"\"Product table word over culture peace make.\"\"            |NULL      |NULL                |\n",
      "+---------------+-------------+-------------------+-------+-----------+----------------+--------------+---------+------------------------------------------------------------------------------+----------+--------------------+\n",
      "only showing top 5 rows\n",
      "\n"
     ]
    },
    {
     "name": "stderr",
     "output_type": "stream",
     "text": [
      "                                                                                "
     ]
    },
    {
     "data": {
      "text/html": [
       "<pre style=\"white-space:pre;overflow-x:auto;line-height:normal;font-family:Menlo,'DejaVu Sans Mono',consolas,'Courier New',monospace\">\n",
       "💾 Writing to lakekeeper.banking.source_transactions<span style=\"color: #808000; text-decoration-color: #808000\">...</span>\n",
       "</pre>\n"
      ],
      "text/plain": [
       "\n",
       "💾 Writing to lakekeeper.banking.source_transactions\u001b[33m...\u001b[0m\n"
      ]
     },
     "metadata": {},
     "output_type": "display_data"
    },
    {
     "name": "stderr",
     "output_type": "stream",
     "text": [
      "SLF4J: Failed to load class \"org.slf4j.impl.StaticLoggerBinder\".                \n",
      "SLF4J: Defaulting to no-operation (NOP) logger implementation\n",
      "SLF4J: See http://www.slf4j.org/codes.html#StaticLoggerBinder for further details.\n"
     ]
    },
    {
     "data": {
      "text/html": [
       "<pre style=\"white-space:pre;overflow-x:auto;line-height:normal;font-family:Menlo,'DejaVu Sans Mono',consolas,'Courier New',monospace\">✓ Successfully ingested <span style=\"color: #008080; text-decoration-color: #008080; font-weight: bold\">5000</span> rows into lakekeeper.banking.source_transactions\n",
       "</pre>\n"
      ],
      "text/plain": [
       "✓ Successfully ingested \u001b[1;36m5000\u001b[0m rows into lakekeeper.banking.source_transactions\n"
      ]
     },
     "metadata": {},
     "output_type": "display_data"
    },
    {
     "data": {
      "text/html": [
       "<pre style=\"white-space:pre;overflow-x:auto;line-height:normal;font-family:Menlo,'DejaVu Sans Mono',consolas,'Courier New',monospace\">\n",
       "🔄 Processing <span style=\"color: #800080; text-decoration-color: #800080\">/opt/bitnami/spark/data/raw/</span><span style=\"color: #ff00ff; text-decoration-color: #ff00ff\">card_processor_transactions.csv...</span>\n",
       "</pre>\n"
      ],
      "text/plain": [
       "\n",
       "🔄 Processing \u001b[35m/opt/bitnami/spark/data/raw/\u001b[0m\u001b[95mcard_processor_transactions.csv...\u001b[0m\n"
      ]
     },
     "metadata": {},
     "output_type": "display_data"
    },
    {
     "name": "stderr",
     "output_type": "stream",
     "text": [
      "                                                                                "
     ]
    },
    {
     "data": {
      "text/html": [
       "<pre style=\"white-space:pre;overflow-x:auto;line-height:normal;font-family:Menlo,'DejaVu Sans Mono',consolas,'Courier New',monospace\">✓ Read <span style=\"color: #008080; text-decoration-color: #008080; font-weight: bold\">5048</span> rows from <span style=\"color: #800080; text-decoration-color: #800080\">/opt/bitnami/spark/data/raw/</span><span style=\"color: #ff00ff; text-decoration-color: #ff00ff\">card_processor_transactions.csv</span>\n",
       "</pre>\n"
      ],
      "text/plain": [
       "✓ Read \u001b[1;36m5048\u001b[0m rows from \u001b[35m/opt/bitnami/spark/data/raw/\u001b[0m\u001b[95mcard_processor_transactions.csv\u001b[0m\n"
      ]
     },
     "metadata": {},
     "output_type": "display_data"
    },
    {
     "data": {
      "text/html": [
       "<pre style=\"white-space:pre;overflow-x:auto;line-height:normal;font-family:Menlo,'DejaVu Sans Mono',consolas,'Courier New',monospace\">Schema: <span style=\"color: #800080; text-decoration-color: #800080; font-weight: bold\">StructType</span><span style=\"font-weight: bold\">([</span><span style=\"color: #800080; text-decoration-color: #800080; font-weight: bold\">StructField</span><span style=\"font-weight: bold\">(</span><span style=\"color: #008000; text-decoration-color: #008000\">'transaction_id'</span>, <span style=\"color: #800080; text-decoration-color: #800080; font-weight: bold\">StringType</span><span style=\"font-weight: bold\">()</span>, <span style=\"color: #00ff00; text-decoration-color: #00ff00; font-style: italic\">True</span><span style=\"font-weight: bold\">)</span>, <span style=\"color: #800080; text-decoration-color: #800080; font-weight: bold\">StructField</span><span style=\"font-weight: bold\">(</span><span style=\"color: #008000; text-decoration-color: #008000\">'source_system'</span>, <span style=\"color: #800080; text-decoration-color: #800080; font-weight: bold\">StringType</span><span style=\"font-weight: bold\">()</span>, \n",
       "<span style=\"color: #00ff00; text-decoration-color: #00ff00; font-style: italic\">True</span><span style=\"font-weight: bold\">)</span>, <span style=\"color: #800080; text-decoration-color: #800080; font-weight: bold\">StructField</span><span style=\"font-weight: bold\">(</span><span style=\"color: #008000; text-decoration-color: #008000\">'transaction_date'</span>, <span style=\"color: #800080; text-decoration-color: #800080; font-weight: bold\">TimestampType</span><span style=\"font-weight: bold\">()</span>, <span style=\"color: #00ff00; text-decoration-color: #00ff00; font-style: italic\">True</span><span style=\"font-weight: bold\">)</span>, <span style=\"color: #800080; text-decoration-color: #800080; font-weight: bold\">StructField</span><span style=\"font-weight: bold\">(</span><span style=\"color: #008000; text-decoration-color: #008000\">'amount'</span>, <span style=\"color: #800080; text-decoration-color: #800080; font-weight: bold\">DoubleType</span><span style=\"font-weight: bold\">()</span>, <span style=\"color: #00ff00; text-decoration-color: #00ff00; font-style: italic\">True</span><span style=\"font-weight: bold\">)</span>, \n",
       "<span style=\"color: #800080; text-decoration-color: #800080; font-weight: bold\">StructField</span><span style=\"font-weight: bold\">(</span><span style=\"color: #008000; text-decoration-color: #008000\">'account_id'</span>, <span style=\"color: #800080; text-decoration-color: #800080; font-weight: bold\">StringType</span><span style=\"font-weight: bold\">()</span>, <span style=\"color: #00ff00; text-decoration-color: #00ff00; font-style: italic\">True</span><span style=\"font-weight: bold\">)</span>, <span style=\"color: #800080; text-decoration-color: #800080; font-weight: bold\">StructField</span><span style=\"font-weight: bold\">(</span><span style=\"color: #008000; text-decoration-color: #008000\">'transaction_type'</span>, <span style=\"color: #800080; text-decoration-color: #800080; font-weight: bold\">StringType</span><span style=\"font-weight: bold\">()</span>, <span style=\"color: #00ff00; text-decoration-color: #00ff00; font-style: italic\">True</span><span style=\"font-weight: bold\">)</span>, \n",
       "<span style=\"color: #800080; text-decoration-color: #800080; font-weight: bold\">StructField</span><span style=\"font-weight: bold\">(</span><span style=\"color: #008000; text-decoration-color: #008000\">'reference_id'</span>, <span style=\"color: #800080; text-decoration-color: #800080; font-weight: bold\">StringType</span><span style=\"font-weight: bold\">()</span>, <span style=\"color: #00ff00; text-decoration-color: #00ff00; font-style: italic\">True</span><span style=\"font-weight: bold\">)</span>, <span style=\"color: #800080; text-decoration-color: #800080; font-weight: bold\">StructField</span><span style=\"font-weight: bold\">(</span><span style=\"color: #008000; text-decoration-color: #008000\">'status'</span>, <span style=\"color: #800080; text-decoration-color: #800080; font-weight: bold\">StringType</span><span style=\"font-weight: bold\">()</span>, <span style=\"color: #00ff00; text-decoration-color: #00ff00; font-style: italic\">True</span><span style=\"font-weight: bold\">)</span>, <span style=\"color: #800080; text-decoration-color: #800080; font-weight: bold\">StructField</span><span style=\"font-weight: bold\">(</span><span style=\"color: #008000; text-decoration-color: #008000\">'payload'</span>, \n",
       "<span style=\"color: #800080; text-decoration-color: #800080; font-weight: bold\">StringType</span><span style=\"font-weight: bold\">()</span>, <span style=\"color: #00ff00; text-decoration-color: #00ff00; font-style: italic\">True</span><span style=\"font-weight: bold\">)</span>, <span style=\"color: #800080; text-decoration-color: #800080; font-weight: bold\">StructField</span><span style=\"font-weight: bold\">(</span><span style=\"color: #008000; text-decoration-color: #008000\">'created_at'</span>, <span style=\"color: #800080; text-decoration-color: #800080; font-weight: bold\">StringType</span><span style=\"font-weight: bold\">()</span>, <span style=\"color: #00ff00; text-decoration-color: #00ff00; font-style: italic\">True</span><span style=\"font-weight: bold\">)</span>, <span style=\"color: #800080; text-decoration-color: #800080; font-weight: bold\">StructField</span><span style=\"font-weight: bold\">(</span><span style=\"color: #008000; text-decoration-color: #008000\">'processing_timestamp'</span>, \n",
       "<span style=\"color: #800080; text-decoration-color: #800080; font-weight: bold\">StringType</span><span style=\"font-weight: bold\">()</span>, <span style=\"color: #00ff00; text-decoration-color: #00ff00; font-style: italic\">True</span><span style=\"font-weight: bold\">)])</span>\n",
       "</pre>\n"
      ],
      "text/plain": [
       "Schema: \u001b[1;35mStructType\u001b[0m\u001b[1m(\u001b[0m\u001b[1m[\u001b[0m\u001b[1;35mStructField\u001b[0m\u001b[1m(\u001b[0m\u001b[32m'transaction_id'\u001b[0m, \u001b[1;35mStringType\u001b[0m\u001b[1m(\u001b[0m\u001b[1m)\u001b[0m, \u001b[3;92mTrue\u001b[0m\u001b[1m)\u001b[0m, \u001b[1;35mStructField\u001b[0m\u001b[1m(\u001b[0m\u001b[32m'source_system'\u001b[0m, \u001b[1;35mStringType\u001b[0m\u001b[1m(\u001b[0m\u001b[1m)\u001b[0m, \n",
       "\u001b[3;92mTrue\u001b[0m\u001b[1m)\u001b[0m, \u001b[1;35mStructField\u001b[0m\u001b[1m(\u001b[0m\u001b[32m'transaction_date'\u001b[0m, \u001b[1;35mTimestampType\u001b[0m\u001b[1m(\u001b[0m\u001b[1m)\u001b[0m, \u001b[3;92mTrue\u001b[0m\u001b[1m)\u001b[0m, \u001b[1;35mStructField\u001b[0m\u001b[1m(\u001b[0m\u001b[32m'amount'\u001b[0m, \u001b[1;35mDoubleType\u001b[0m\u001b[1m(\u001b[0m\u001b[1m)\u001b[0m, \u001b[3;92mTrue\u001b[0m\u001b[1m)\u001b[0m, \n",
       "\u001b[1;35mStructField\u001b[0m\u001b[1m(\u001b[0m\u001b[32m'account_id'\u001b[0m, \u001b[1;35mStringType\u001b[0m\u001b[1m(\u001b[0m\u001b[1m)\u001b[0m, \u001b[3;92mTrue\u001b[0m\u001b[1m)\u001b[0m, \u001b[1;35mStructField\u001b[0m\u001b[1m(\u001b[0m\u001b[32m'transaction_type'\u001b[0m, \u001b[1;35mStringType\u001b[0m\u001b[1m(\u001b[0m\u001b[1m)\u001b[0m, \u001b[3;92mTrue\u001b[0m\u001b[1m)\u001b[0m, \n",
       "\u001b[1;35mStructField\u001b[0m\u001b[1m(\u001b[0m\u001b[32m'reference_id'\u001b[0m, \u001b[1;35mStringType\u001b[0m\u001b[1m(\u001b[0m\u001b[1m)\u001b[0m, \u001b[3;92mTrue\u001b[0m\u001b[1m)\u001b[0m, \u001b[1;35mStructField\u001b[0m\u001b[1m(\u001b[0m\u001b[32m'status'\u001b[0m, \u001b[1;35mStringType\u001b[0m\u001b[1m(\u001b[0m\u001b[1m)\u001b[0m, \u001b[3;92mTrue\u001b[0m\u001b[1m)\u001b[0m, \u001b[1;35mStructField\u001b[0m\u001b[1m(\u001b[0m\u001b[32m'payload'\u001b[0m, \n",
       "\u001b[1;35mStringType\u001b[0m\u001b[1m(\u001b[0m\u001b[1m)\u001b[0m, \u001b[3;92mTrue\u001b[0m\u001b[1m)\u001b[0m, \u001b[1;35mStructField\u001b[0m\u001b[1m(\u001b[0m\u001b[32m'created_at'\u001b[0m, \u001b[1;35mStringType\u001b[0m\u001b[1m(\u001b[0m\u001b[1m)\u001b[0m, \u001b[3;92mTrue\u001b[0m\u001b[1m)\u001b[0m, \u001b[1;35mStructField\u001b[0m\u001b[1m(\u001b[0m\u001b[32m'processing_timestamp'\u001b[0m, \n",
       "\u001b[1;35mStringType\u001b[0m\u001b[1m(\u001b[0m\u001b[1m)\u001b[0m, \u001b[3;92mTrue\u001b[0m\u001b[1m)\u001b[0m\u001b[1m]\u001b[0m\u001b[1m)\u001b[0m\n"
      ]
     },
     "metadata": {},
     "output_type": "display_data"
    },
    {
     "data": {
      "text/html": [
       "<pre style=\"white-space:pre;overflow-x:auto;line-height:normal;font-family:Menlo,'DejaVu Sans Mono',consolas,'Courier New',monospace\">\n",
       " Sample data from <span style=\"color: #800080; text-decoration-color: #800080\">/opt/bitnami/spark/data/raw/</span><span style=\"color: #ff00ff; text-decoration-color: #ff00ff\">card_processor_transactions.csv</span>:\n",
       "</pre>\n"
      ],
      "text/plain": [
       "\n",
       " Sample data from \u001b[35m/opt/bitnami/spark/data/raw/\u001b[0m\u001b[95mcard_processor_transactions.csv\u001b[0m:\n"
      ]
     },
     "metadata": {},
     "output_type": "display_data"
    },
    {
     "name": "stdout",
     "output_type": "stream",
     "text": [
      "+---------------+--------------+-------------------+-------+-----------+----------------+--------------+---------+------------------------------------------------------------------------------+----------+--------------------+\n",
      "|transaction_id |source_system |transaction_date   |amount |account_id |transaction_type|reference_id  |status   |payload                                                                       |created_at|processing_timestamp|\n",
      "+---------------+--------------+-------------------+-------+-----------+----------------+--------------+---------+------------------------------------------------------------------------------+----------+--------------------+\n",
      "|CP-EDD1B3B25116|card_processor|2025-06-25 14:57:51|4965.84|ACC20300719|payment         |REF-6634064655|pending  |\"{\"\"description\"\": \"\"Reach method name source which.\"\"                        |NULL      |NULL                |\n",
      "|CP-8DCBAB544B03|card_processor|2025-06-25 18:56:16|9672.07|ACC79990125|payment         |REF-4956296837|completed|\"{\"\"description\"\": \"\"Player ground fire store wind tree.\"\"                    |NULL      |NULL                |\n",
      "|CP-D2C93EDDD42C|card_processor|2025-07-03 06:50:21|6106.13|ACC95067461|refund          |REF-3440568575|reversed |\"{\"\"description\"\": \"\"Organization police nearly important step dark however.\"\"|NULL      |NULL                |\n",
      "|CP-6504AFE579EA|card_processor|2025-07-20 10:25:11|3802.06|ACC95067461|transfer        |REF-9151770133|pending  |\"{\"\"description\"\": \"\"Deal above glass ready thing camera.\"\"                   |NULL      |NULL                |\n",
      "|CP-8190CE15FF45|card_processor|2025-07-10 19:59:53|1846.3 |ACC73253280|transfer        |REF-5408694299|reversed |\"{\"\"description\"\": \"\"Product table word over culture peace make.\"\"            |NULL      |NULL                |\n",
      "+---------------+--------------+-------------------+-------+-----------+----------------+--------------+---------+------------------------------------------------------------------------------+----------+--------------------+\n",
      "only showing top 5 rows\n",
      "\n"
     ]
    },
    {
     "data": {
      "text/html": [
       "<pre style=\"white-space:pre;overflow-x:auto;line-height:normal;font-family:Menlo,'DejaVu Sans Mono',consolas,'Courier New',monospace\">\n",
       "💾 Writing to lakekeeper.banking.source_transactions<span style=\"color: #808000; text-decoration-color: #808000\">...</span>\n",
       "</pre>\n"
      ],
      "text/plain": [
       "\n",
       "💾 Writing to lakekeeper.banking.source_transactions\u001b[33m...\u001b[0m\n"
      ]
     },
     "metadata": {},
     "output_type": "display_data"
    },
    {
     "name": "stderr",
     "output_type": "stream",
     "text": [
      "                                                                                "
     ]
    },
    {
     "data": {
      "text/html": [
       "<pre style=\"white-space:pre;overflow-x:auto;line-height:normal;font-family:Menlo,'DejaVu Sans Mono',consolas,'Courier New',monospace\">✓ Successfully ingested <span style=\"color: #008080; text-decoration-color: #008080; font-weight: bold\">5048</span> rows into lakekeeper.banking.source_transactions\n",
       "</pre>\n"
      ],
      "text/plain": [
       "✓ Successfully ingested \u001b[1;36m5048\u001b[0m rows into lakekeeper.banking.source_transactions\n"
      ]
     },
     "metadata": {},
     "output_type": "display_data"
    },
    {
     "data": {
      "text/html": [
       "<pre style=\"white-space:pre;overflow-x:auto;line-height:normal;font-family:Menlo,'DejaVu Sans Mono',consolas,'Courier New',monospace\">\n",
       "🔄 Processing <span style=\"color: #800080; text-decoration-color: #800080\">/opt/bitnami/spark/data/raw/</span><span style=\"color: #ff00ff; text-decoration-color: #ff00ff\">payment_gateway_transactions.csv...</span>\n",
       "</pre>\n"
      ],
      "text/plain": [
       "\n",
       "🔄 Processing \u001b[35m/opt/bitnami/spark/data/raw/\u001b[0m\u001b[95mpayment_gateway_transactions.csv...\u001b[0m\n"
      ]
     },
     "metadata": {},
     "output_type": "display_data"
    },
    {
     "data": {
      "text/html": [
       "<pre style=\"white-space:pre;overflow-x:auto;line-height:normal;font-family:Menlo,'DejaVu Sans Mono',consolas,'Courier New',monospace\">✓ Read <span style=\"color: #008080; text-decoration-color: #008080; font-weight: bold\">5040</span> rows from <span style=\"color: #800080; text-decoration-color: #800080\">/opt/bitnami/spark/data/raw/</span><span style=\"color: #ff00ff; text-decoration-color: #ff00ff\">payment_gateway_transactions.csv</span>\n",
       "</pre>\n"
      ],
      "text/plain": [
       "✓ Read \u001b[1;36m5040\u001b[0m rows from \u001b[35m/opt/bitnami/spark/data/raw/\u001b[0m\u001b[95mpayment_gateway_transactions.csv\u001b[0m\n"
      ]
     },
     "metadata": {},
     "output_type": "display_data"
    },
    {
     "data": {
      "text/html": [
       "<pre style=\"white-space:pre;overflow-x:auto;line-height:normal;font-family:Menlo,'DejaVu Sans Mono',consolas,'Courier New',monospace\">Schema: <span style=\"color: #800080; text-decoration-color: #800080; font-weight: bold\">StructType</span><span style=\"font-weight: bold\">([</span><span style=\"color: #800080; text-decoration-color: #800080; font-weight: bold\">StructField</span><span style=\"font-weight: bold\">(</span><span style=\"color: #008000; text-decoration-color: #008000\">'transaction_id'</span>, <span style=\"color: #800080; text-decoration-color: #800080; font-weight: bold\">StringType</span><span style=\"font-weight: bold\">()</span>, <span style=\"color: #00ff00; text-decoration-color: #00ff00; font-style: italic\">True</span><span style=\"font-weight: bold\">)</span>, <span style=\"color: #800080; text-decoration-color: #800080; font-weight: bold\">StructField</span><span style=\"font-weight: bold\">(</span><span style=\"color: #008000; text-decoration-color: #008000\">'source_system'</span>, <span style=\"color: #800080; text-decoration-color: #800080; font-weight: bold\">StringType</span><span style=\"font-weight: bold\">()</span>, \n",
       "<span style=\"color: #00ff00; text-decoration-color: #00ff00; font-style: italic\">True</span><span style=\"font-weight: bold\">)</span>, <span style=\"color: #800080; text-decoration-color: #800080; font-weight: bold\">StructField</span><span style=\"font-weight: bold\">(</span><span style=\"color: #008000; text-decoration-color: #008000\">'transaction_date'</span>, <span style=\"color: #800080; text-decoration-color: #800080; font-weight: bold\">TimestampType</span><span style=\"font-weight: bold\">()</span>, <span style=\"color: #00ff00; text-decoration-color: #00ff00; font-style: italic\">True</span><span style=\"font-weight: bold\">)</span>, <span style=\"color: #800080; text-decoration-color: #800080; font-weight: bold\">StructField</span><span style=\"font-weight: bold\">(</span><span style=\"color: #008000; text-decoration-color: #008000\">'amount'</span>, <span style=\"color: #800080; text-decoration-color: #800080; font-weight: bold\">DoubleType</span><span style=\"font-weight: bold\">()</span>, <span style=\"color: #00ff00; text-decoration-color: #00ff00; font-style: italic\">True</span><span style=\"font-weight: bold\">)</span>, \n",
       "<span style=\"color: #800080; text-decoration-color: #800080; font-weight: bold\">StructField</span><span style=\"font-weight: bold\">(</span><span style=\"color: #008000; text-decoration-color: #008000\">'account_id'</span>, <span style=\"color: #800080; text-decoration-color: #800080; font-weight: bold\">StringType</span><span style=\"font-weight: bold\">()</span>, <span style=\"color: #00ff00; text-decoration-color: #00ff00; font-style: italic\">True</span><span style=\"font-weight: bold\">)</span>, <span style=\"color: #800080; text-decoration-color: #800080; font-weight: bold\">StructField</span><span style=\"font-weight: bold\">(</span><span style=\"color: #008000; text-decoration-color: #008000\">'transaction_type'</span>, <span style=\"color: #800080; text-decoration-color: #800080; font-weight: bold\">StringType</span><span style=\"font-weight: bold\">()</span>, <span style=\"color: #00ff00; text-decoration-color: #00ff00; font-style: italic\">True</span><span style=\"font-weight: bold\">)</span>, \n",
       "<span style=\"color: #800080; text-decoration-color: #800080; font-weight: bold\">StructField</span><span style=\"font-weight: bold\">(</span><span style=\"color: #008000; text-decoration-color: #008000\">'reference_id'</span>, <span style=\"color: #800080; text-decoration-color: #800080; font-weight: bold\">StringType</span><span style=\"font-weight: bold\">()</span>, <span style=\"color: #00ff00; text-decoration-color: #00ff00; font-style: italic\">True</span><span style=\"font-weight: bold\">)</span>, <span style=\"color: #800080; text-decoration-color: #800080; font-weight: bold\">StructField</span><span style=\"font-weight: bold\">(</span><span style=\"color: #008000; text-decoration-color: #008000\">'status'</span>, <span style=\"color: #800080; text-decoration-color: #800080; font-weight: bold\">StringType</span><span style=\"font-weight: bold\">()</span>, <span style=\"color: #00ff00; text-decoration-color: #00ff00; font-style: italic\">True</span><span style=\"font-weight: bold\">)</span>, <span style=\"color: #800080; text-decoration-color: #800080; font-weight: bold\">StructField</span><span style=\"font-weight: bold\">(</span><span style=\"color: #008000; text-decoration-color: #008000\">'payload'</span>, \n",
       "<span style=\"color: #800080; text-decoration-color: #800080; font-weight: bold\">StringType</span><span style=\"font-weight: bold\">()</span>, <span style=\"color: #00ff00; text-decoration-color: #00ff00; font-style: italic\">True</span><span style=\"font-weight: bold\">)</span>, <span style=\"color: #800080; text-decoration-color: #800080; font-weight: bold\">StructField</span><span style=\"font-weight: bold\">(</span><span style=\"color: #008000; text-decoration-color: #008000\">'created_at'</span>, <span style=\"color: #800080; text-decoration-color: #800080; font-weight: bold\">StringType</span><span style=\"font-weight: bold\">()</span>, <span style=\"color: #00ff00; text-decoration-color: #00ff00; font-style: italic\">True</span><span style=\"font-weight: bold\">)</span>, <span style=\"color: #800080; text-decoration-color: #800080; font-weight: bold\">StructField</span><span style=\"font-weight: bold\">(</span><span style=\"color: #008000; text-decoration-color: #008000\">'processing_timestamp'</span>, \n",
       "<span style=\"color: #800080; text-decoration-color: #800080; font-weight: bold\">StringType</span><span style=\"font-weight: bold\">()</span>, <span style=\"color: #00ff00; text-decoration-color: #00ff00; font-style: italic\">True</span><span style=\"font-weight: bold\">)])</span>\n",
       "</pre>\n"
      ],
      "text/plain": [
       "Schema: \u001b[1;35mStructType\u001b[0m\u001b[1m(\u001b[0m\u001b[1m[\u001b[0m\u001b[1;35mStructField\u001b[0m\u001b[1m(\u001b[0m\u001b[32m'transaction_id'\u001b[0m, \u001b[1;35mStringType\u001b[0m\u001b[1m(\u001b[0m\u001b[1m)\u001b[0m, \u001b[3;92mTrue\u001b[0m\u001b[1m)\u001b[0m, \u001b[1;35mStructField\u001b[0m\u001b[1m(\u001b[0m\u001b[32m'source_system'\u001b[0m, \u001b[1;35mStringType\u001b[0m\u001b[1m(\u001b[0m\u001b[1m)\u001b[0m, \n",
       "\u001b[3;92mTrue\u001b[0m\u001b[1m)\u001b[0m, \u001b[1;35mStructField\u001b[0m\u001b[1m(\u001b[0m\u001b[32m'transaction_date'\u001b[0m, \u001b[1;35mTimestampType\u001b[0m\u001b[1m(\u001b[0m\u001b[1m)\u001b[0m, \u001b[3;92mTrue\u001b[0m\u001b[1m)\u001b[0m, \u001b[1;35mStructField\u001b[0m\u001b[1m(\u001b[0m\u001b[32m'amount'\u001b[0m, \u001b[1;35mDoubleType\u001b[0m\u001b[1m(\u001b[0m\u001b[1m)\u001b[0m, \u001b[3;92mTrue\u001b[0m\u001b[1m)\u001b[0m, \n",
       "\u001b[1;35mStructField\u001b[0m\u001b[1m(\u001b[0m\u001b[32m'account_id'\u001b[0m, \u001b[1;35mStringType\u001b[0m\u001b[1m(\u001b[0m\u001b[1m)\u001b[0m, \u001b[3;92mTrue\u001b[0m\u001b[1m)\u001b[0m, \u001b[1;35mStructField\u001b[0m\u001b[1m(\u001b[0m\u001b[32m'transaction_type'\u001b[0m, \u001b[1;35mStringType\u001b[0m\u001b[1m(\u001b[0m\u001b[1m)\u001b[0m, \u001b[3;92mTrue\u001b[0m\u001b[1m)\u001b[0m, \n",
       "\u001b[1;35mStructField\u001b[0m\u001b[1m(\u001b[0m\u001b[32m'reference_id'\u001b[0m, \u001b[1;35mStringType\u001b[0m\u001b[1m(\u001b[0m\u001b[1m)\u001b[0m, \u001b[3;92mTrue\u001b[0m\u001b[1m)\u001b[0m, \u001b[1;35mStructField\u001b[0m\u001b[1m(\u001b[0m\u001b[32m'status'\u001b[0m, \u001b[1;35mStringType\u001b[0m\u001b[1m(\u001b[0m\u001b[1m)\u001b[0m, \u001b[3;92mTrue\u001b[0m\u001b[1m)\u001b[0m, \u001b[1;35mStructField\u001b[0m\u001b[1m(\u001b[0m\u001b[32m'payload'\u001b[0m, \n",
       "\u001b[1;35mStringType\u001b[0m\u001b[1m(\u001b[0m\u001b[1m)\u001b[0m, \u001b[3;92mTrue\u001b[0m\u001b[1m)\u001b[0m, \u001b[1;35mStructField\u001b[0m\u001b[1m(\u001b[0m\u001b[32m'created_at'\u001b[0m, \u001b[1;35mStringType\u001b[0m\u001b[1m(\u001b[0m\u001b[1m)\u001b[0m, \u001b[3;92mTrue\u001b[0m\u001b[1m)\u001b[0m, \u001b[1;35mStructField\u001b[0m\u001b[1m(\u001b[0m\u001b[32m'processing_timestamp'\u001b[0m, \n",
       "\u001b[1;35mStringType\u001b[0m\u001b[1m(\u001b[0m\u001b[1m)\u001b[0m, \u001b[3;92mTrue\u001b[0m\u001b[1m)\u001b[0m\u001b[1m]\u001b[0m\u001b[1m)\u001b[0m\n"
      ]
     },
     "metadata": {},
     "output_type": "display_data"
    },
    {
     "data": {
      "text/html": [
       "<pre style=\"white-space:pre;overflow-x:auto;line-height:normal;font-family:Menlo,'DejaVu Sans Mono',consolas,'Courier New',monospace\">\n",
       " Sample data from <span style=\"color: #800080; text-decoration-color: #800080\">/opt/bitnami/spark/data/raw/</span><span style=\"color: #ff00ff; text-decoration-color: #ff00ff\">payment_gateway_transactions.csv</span>:\n",
       "</pre>\n"
      ],
      "text/plain": [
       "\n",
       " Sample data from \u001b[35m/opt/bitnami/spark/data/raw/\u001b[0m\u001b[95mpayment_gateway_transactions.csv\u001b[0m:\n"
      ]
     },
     "metadata": {},
     "output_type": "display_data"
    },
    {
     "name": "stdout",
     "output_type": "stream",
     "text": [
      "+---------------+---------------+-------------------+-------+-----------+----------------+--------------+---------+------------------------------------------------------------------------------+----------+--------------------+\n",
      "|transaction_id |source_system  |transaction_date   |amount |account_id |transaction_type|reference_id  |status   |payload                                                                       |created_at|processing_timestamp|\n",
      "+---------------+---------------+-------------------+-------+-----------+----------------+--------------+---------+------------------------------------------------------------------------------+----------+--------------------+\n",
      "|PG-8D430B581B31|payment_gateway|2025-06-25 13:27:51|4965.84|ACC20300719|payment         |REF-6634064655|pending  |\"{\"\"description\"\": \"\"Reach method name source which.\"\"                        |NULL      |NULL                |\n",
      "|PG-CA22793CC8CE|payment_gateway|2025-06-25 18:56:16|9672.07|ACC79990125|payment         |REF-4956296837|completed|\"{\"\"description\"\": \"\"Player ground fire store wind tree.\"\"                    |NULL      |NULL                |\n",
      "|PG-5132B839B5DA|payment_gateway|2025-07-03 06:50:21|6106.13|ACC95067461|refund          |REF-3440568575|reversed |\"{\"\"description\"\": \"\"Organization police nearly important step dark however.\"\"|NULL      |NULL                |\n",
      "|PG-BD80E5230780|payment_gateway|2025-07-20 10:25:11|3802.06|ACC95067461|transfer        |REF-9151770133|pending  |\"{\"\"description\"\": \"\"Deal above glass ready thing camera.\"\"                   |NULL      |NULL                |\n",
      "|PG-2DE9C1E13335|payment_gateway|2025-07-10 19:59:53|1846.3 |ACC73253280|transfer        |REF-5408694299|reversed |\"{\"\"description\"\": \"\"Product table word over culture peace make.\"\"            |NULL      |NULL                |\n",
      "+---------------+---------------+-------------------+-------+-----------+----------------+--------------+---------+------------------------------------------------------------------------------+----------+--------------------+\n",
      "only showing top 5 rows\n",
      "\n"
     ]
    },
    {
     "data": {
      "text/html": [
       "<pre style=\"white-space:pre;overflow-x:auto;line-height:normal;font-family:Menlo,'DejaVu Sans Mono',consolas,'Courier New',monospace\">\n",
       "💾 Writing to lakekeeper.banking.source_transactions<span style=\"color: #808000; text-decoration-color: #808000\">...</span>\n",
       "</pre>\n"
      ],
      "text/plain": [
       "\n",
       "💾 Writing to lakekeeper.banking.source_transactions\u001b[33m...\u001b[0m\n"
      ]
     },
     "metadata": {},
     "output_type": "display_data"
    },
    {
     "name": "stderr",
     "output_type": "stream",
     "text": [
      "                                                                                "
     ]
    },
    {
     "data": {
      "text/html": [
       "<pre style=\"white-space:pre;overflow-x:auto;line-height:normal;font-family:Menlo,'DejaVu Sans Mono',consolas,'Courier New',monospace\">✓ Successfully ingested <span style=\"color: #008080; text-decoration-color: #008080; font-weight: bold\">5040</span> rows into lakekeeper.banking.source_transactions\n",
       "</pre>\n"
      ],
      "text/plain": [
       "✓ Successfully ingested \u001b[1;36m5040\u001b[0m rows into lakekeeper.banking.source_transactions\n"
      ]
     },
     "metadata": {},
     "output_type": "display_data"
    }
   ],
   "source": [
    "# Ingest data into Iceberg tables\n",
    "print(\"📥 Ingesting data into Iceberg tables...\")\n",
    "\n",
    "def ingest_csv_to_iceberg(csv_file, table_name):\n",
    "    \"\"\"Ingest CSV file into Iceberg table.\"\"\"\n",
    "    try:\n",
    "        print(f\"\\n🔄 Processing {csv_file}...\")\n",
    "        \n",
    "        # Read CSV file\n",
    "        df = spark.read.option(\"header\", \"true\").option(\"inferSchema\", \"true\").csv(csv_file)\n",
    "        \n",
    "        print(f\"✓ Read {df.count()} rows from {csv_file}\")\n",
    "        print(f\"Schema: {df.schema}\")\n",
    "        \n",
    "        # Convert string dates back to timestamps\n",
    "        from pyspark.sql.functions import to_timestamp\n",
    "        \n",
    "        df = df.withColumn(\"transaction_date\", to_timestamp(\"transaction_date\")) \\\n",
    "               .withColumn(\"created_at\", to_timestamp(\"created_at\")) \\\n",
    "               .withColumn(\"processing_timestamp\", to_timestamp(\"processing_timestamp\"))\n",
    "        \n",
    "        # Show sample data\n",
    "        print(f\"\\n Sample data from {csv_file}:\")\n",
    "        df.show(5, truncate=False)\n",
    "        \n",
    "        # Write to the Iceberg table\n",
    "        print(f\"\\n💾 Writing to {table_name}...\")\n",
    "        df.writeTo(table_name).append()\n",
    "        \n",
    "        print(f\"✓ Successfully ingested {df.count()} rows into {table_name}\")\n",
    "    except Exception as e:\n",
    "        print(f\"✗ Error ingesting {csv_file} into {table_name}: {str(e)}\")\n",
    "\n",
    "# Ingest each system's data\n",
    "table_map = {\n",
    "    \"core_banking\": \"lakekeeper.banking.source_transactions\",\n",
    "    \"card_processor\": \"lakekeeper.banking.source_transactions\",\n",
    "    \"payment_gateway\": \"lakekeeper.banking.source_transactions\"\n",
    "}\n",
    "\n",
    "for system, csv_file in csv_files.items():\n",
    "    ingest_csv_to_iceberg(csv_file, table_map[system])"
   ]
  },
  {
   "cell_type": "markdown",
   "metadata": {},
   "source": [
    "## Step 9: Audit and Validate Data Ingestion\n",
    "\n",
    "**Purpose**: Ensure that data was ingested correctly and is ready for reconciliation.\n",
    "\n",
    "### **Audit Steps**:\n",
    "- Count rows in each table\n",
    "- Check partition distribution\n",
    "- Validate schema and sample data\n",
    "- Confirm data ranges and integrity"
   ]
  },
  {
   "cell_type": "code",
   "execution_count": 10,
   "metadata": {},
   "outputs": [
    {
     "data": {
      "text/html": [
       "<pre style=\"white-space:pre;overflow-x:auto;line-height:normal;font-family:Menlo,'DejaVu Sans Mono',consolas,'Courier New',monospace\">🔍 Auditing data ingestion<span style=\"color: #808000; text-decoration-color: #808000\">...</span>\n",
       "</pre>\n"
      ],
      "text/plain": [
       "🔍 Auditing data ingestion\u001b[33m...\u001b[0m\n"
      ]
     },
     "metadata": {},
     "output_type": "display_data"
    },
    {
     "data": {
      "text/html": [
       "<pre style=\"white-space:pre;overflow-x:auto;line-height:normal;font-family:Menlo,'DejaVu Sans Mono',consolas,'Courier New',monospace\">✓ local.banking.source_transactions: <span style=\"color: #008080; text-decoration-color: #008080; font-weight: bold\">15076</span> rows\n",
       "</pre>\n"
      ],
      "text/plain": [
       "✓ local.banking.source_transactions: \u001b[1;36m15076\u001b[0m rows\n"
      ]
     },
     "metadata": {},
     "output_type": "display_data"
    },
    {
     "data": {
      "text/html": [
       "<pre style=\"white-space:pre;overflow-x:auto;line-height:normal;font-family:Menlo,'DejaVu Sans Mono',consolas,'Courier New',monospace\">✓ local.banking.reconciliation_results: <span style=\"color: #008080; text-decoration-color: #008080; font-weight: bold\">0</span> rows\n",
       "</pre>\n"
      ],
      "text/plain": [
       "✓ local.banking.reconciliation_results: \u001b[1;36m0\u001b[0m rows\n"
      ]
     },
     "metadata": {},
     "output_type": "display_data"
    },
    {
     "data": {
      "text/html": [
       "<pre style=\"white-space:pre;overflow-x:auto;line-height:normal;font-family:Menlo,'DejaVu Sans Mono',consolas,'Courier New',monospace\">✓ local.banking.reconciliation_batches: <span style=\"color: #008080; text-decoration-color: #008080; font-weight: bold\">0</span> rows\n",
       "</pre>\n"
      ],
      "text/plain": [
       "✓ local.banking.reconciliation_batches: \u001b[1;36m0\u001b[0m rows\n"
      ]
     },
     "metadata": {},
     "output_type": "display_data"
    },
    {
     "data": {
      "text/html": [
       "<pre style=\"white-space:pre;overflow-x:auto;line-height:normal;font-family:Menlo,'DejaVu Sans Mono',consolas,'Courier New',monospace\">\n",
       "📊 Partition distribution for source_transactions:\n",
       "</pre>\n"
      ],
      "text/plain": [
       "\n",
       "📊 Partition distribution for source_transactions:\n"
      ]
     },
     "metadata": {},
     "output_type": "display_data"
    },
    {
     "name": "stderr",
     "output_type": "stream",
     "text": [
      "[Stage 54:=====================================>                  (16 + 8) / 24]"
     ]
    },
    {
     "name": "stdout",
     "output_type": "stream",
     "text": [
      "+-------------------+---------------+-----+\n",
      "|                day|  source_system|count|\n",
      "+-------------------+---------------+-----+\n",
      "|2025-06-13 00:00:00| card_processor|   92|\n",
      "|2025-06-13 00:00:00|   core_banking|   92|\n",
      "|2025-06-13 00:00:00|payment_gateway|   96|\n",
      "|2025-06-14 00:00:00| card_processor|  157|\n",
      "|2025-06-14 00:00:00|   core_banking|  153|\n",
      "|2025-06-14 00:00:00|payment_gateway|  153|\n",
      "|2025-06-15 00:00:00| card_processor|  158|\n",
      "|2025-06-15 00:00:00|   core_banking|  155|\n",
      "|2025-06-15 00:00:00|payment_gateway|  156|\n",
      "|2025-06-16 00:00:00| card_processor|  159|\n",
      "+-------------------+---------------+-----+\n",
      "only showing top 10 rows\n",
      "\n"
     ]
    },
    {
     "name": "stderr",
     "output_type": "stream",
     "text": [
      "                                                                                "
     ]
    },
    {
     "data": {
      "text/html": [
       "<pre style=\"white-space:pre;overflow-x:auto;line-height:normal;font-family:Menlo,'DejaVu Sans Mono',consolas,'Courier New',monospace\">\n",
       "📋 Sample data from source_transactions:\n",
       "</pre>\n"
      ],
      "text/plain": [
       "\n",
       "📋 Sample data from source_transactions:\n"
      ]
     },
     "metadata": {},
     "output_type": "display_data"
    },
    {
     "name": "stdout",
     "output_type": "stream",
     "text": [
      "+---------------+---------------+-------------------+-------+-----------+----------------+--------------+---------+----------------------------------------------------------------------+----------+--------------------+\n",
      "|transaction_id |source_system  |transaction_date   |amount |account_id |transaction_type|reference_id  |status   |payload                                                               |created_at|processing_timestamp|\n",
      "+---------------+---------------+-------------------+-------+-----------+----------------+--------------+---------+----------------------------------------------------------------------+----------+--------------------+\n",
      "|PG-FCEAA40AD81D|payment_gateway|2025-06-21 10:31:46|3129.39|ACC87735766|refund          |REF-1434221495|completed|\"{\"\"description\"\": \"\"Live court report model college defense police.\"\"|NULL      |NULL                |\n",
      "|PG-698A7AFE593F|payment_gateway|2025-06-21 10:49:59|9315.79|ACC67788147|withdrawal      |REF-2158590067|reversed |\"{\"\"description\"\": \"\"Position he ability edge them each.\"\"            |NULL      |NULL                |\n",
      "|PG-315E316EDB31|payment_gateway|2025-06-21 21:03:37|4712.67|ACC28611624|payment         |REF-7048625137|pending  |\"{\"\"description\"\": \"\"Plant such itself save leg several.\"\"            |NULL      |NULL                |\n",
      "|PG-5F4C2F3FF570|payment_gateway|2025-06-21 23:08:08|5180.15|ACC91287753|fee             |REF-6859379978|reversed |\"{\"\"description\"\": \"\"Agree give every wish society factor threat.\"\"   |NULL      |NULL                |\n",
      "|PG-902E821D9CD6|payment_gateway|2025-06-21 04:52:25|7376.11|ACC87549358|withdrawal      |REF-3343559757|reversed |\"{\"\"description\"\": \"\"Physical of animal discover.\"\"                   |NULL      |NULL                |\n",
      "+---------------+---------------+-------------------+-------+-----------+----------------+--------------+---------+----------------------------------------------------------------------+----------+--------------------+\n",
      "\n"
     ]
    }
   ],
   "source": [
    "# Audit and validate data ingestion\n",
    "print(\"🔍 Auditing data ingestion...\")\n",
    "\n",
    "for table in tables_to_check:\n",
    "    try:\n",
    "        count = spark.sql(f\"SELECT COUNT(*) as count FROM {table}\").collect()[0]['count']\n",
    "        print(f\"✓ {table}: {count} rows\")\n",
    "    except Exception as e:\n",
    "        print(f\"✗ {table}: Error - {str(e)}\")\n",
    "\n",
    "# Check partition distribution for source_transactions\n",
    "print(\"\\n📊 Partition distribution for source_transactions:\")\n",
    "try:\n",
    "    partition_df = spark.sql(\"\"\"\n",
    "        SELECT\n",
    "            date_trunc('day', transaction_date) as day,\n",
    "            source_system,\n",
    "            COUNT(*) as count\n",
    "        FROM lakekeeper.banking.source_transactions\n",
    "        GROUP BY day, source_system\n",
    "        ORDER BY day, source_system\n",
    "    \"\"\")\n",
    "    partition_df.show(10)\n",
    "except Exception as e:\n",
    "    print(f\"✗ Error checking partition distribution: {str(e)}\")\n",
    "\n",
    "# Show sample data\n",
    "print(\"\\n📋 Sample data from source_transactions:\")\n",
    "try:\n",
    "    spark.sql(\"SELECT * FROM lakekeeper.banking.source_transactions LIMIT 5\").show(truncate=False)\n",
    "except Exception as e:\n",
    "    print(f\"✗ Error showing sample data: {str(e)}\")"
   ]
  },
  {
   "cell_type": "markdown",
   "metadata": {},
   "source": [
    "## Check Partitioning - Hive Style"
   ]
  },
  {
   "cell_type": "markdown",
   "metadata": {},
   "source": [
    "![source_transactions_table_in_minio](images/source_transactions_table_in_minio.png)\n"
   ]
  },
  {
   "cell_type": "markdown",
   "metadata": {},
   "source": [
    "## Step 11: Phase 2 Summary and Next Steps\n",
    "\n",
    "**Purpose**: Summarize what was accomplished in Phase 2 and prepare for the next phase.\n",
    "\n",
    "### **What We've Accomplished**:\n",
    "- Generated realistic, multi-system banking transaction data\n",
    "- Introduced controlled discrepancies for reconciliation testing\n",
    "- Saved data to CSV files and ingested into Iceberg tables\n",
    "- Validated data quality, partitioning, and schema\n",
    "- Examined Iceberg file structure with real data\n",
    "\n",
    "### **Next Phase Preview**:\n",
    "- Implement reconciliation logic\n",
    "- Analyze and resolve discrepancies\n",
    "- Generate reconciliation reports\n",
    "- Perform advanced Iceberg operations (time travel, schema evolution)"
   ]
  },
  {
   "cell_type": "code",
   "execution_count": 15,
   "metadata": {},
   "outputs": [],
   "source": [
    "spark.stop()"
   ]
  }
 ],
 "metadata": {
  "kernelspec": {
   "display_name": "Python 3 (ipykernel)",
   "language": "python",
   "name": "python3"
  },
  "language_info": {
   "codemirror_mode": {
    "name": "ipython",
    "version": 3
   },
   "file_extension": ".py",
   "mimetype": "text/x-python",
   "name": "python",
   "nbconvert_exporter": "python",
   "pygments_lexer": "ipython3",
   "version": "3.12.10"
  }
 },
 "nbformat": 4,
 "nbformat_minor": 4
}
