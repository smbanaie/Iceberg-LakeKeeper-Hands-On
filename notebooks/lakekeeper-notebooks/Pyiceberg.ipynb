{
 "cells": [
  {
   "cell_type": "code",
   "execution_count": 1,
   "id": "57f0514f-d194-4090-9680-84f567d095a1",
   "metadata": {},
   "outputs": [],
   "source": [
    "!pip install -q pyiceberg"
   ]
  },
  {
   "cell_type": "code",
   "execution_count": 2,
   "id": "9e0c0adc-394a-4975-82a6-002fbb27c8ba",
   "metadata": {},
   "outputs": [],
   "source": [
    "from pyiceberg.catalog.rest import RestCatalog\n",
    "import logging\n",
    "\n",
    "# logging.basicConfig(level=logging.DEBUG)\n",
    "\n",
    "import pandas as pd\n",
    "import pyarrow.parquet as pq\n",
    "import pyarrow as pa\n",
    "\n",
    "CATALOG_URL = \"http://lakekeeper:8181/catalog\"\n",
    "DEMO_WAREHOUSE = \"demo\"\n",
    "\n",
    "catalog = RestCatalog(\n",
    "    name=\"my_catalog\",\n",
    "    warehouse=DEMO_WAREHOUSE,\n",
    "    uri=CATALOG_URL,\n",
    "    token=\"dummy\",\n",
    ")\n"
   ]
  },
  {
   "cell_type": "code",
   "execution_count": 3,
   "id": "33399f1a-e5ea-4a46-ac60-c4697583e0bd",
   "metadata": {},
   "outputs": [],
   "source": [
    "# Create a new namespace if it doesn't already exist\n",
    "test_namespace = (\"pyiceberg_namespace\",)\n",
    "if test_namespace not in catalog.list_namespaces():\n",
    "    catalog.create_namespace(test_namespace)\n"
   ]
  },
  {
   "cell_type": "code",
   "execution_count": 4,
   "id": "7fa3ce35-4de7-4999-be2a-1e5cfb45f01d",
   "metadata": {},
   "outputs": [],
   "source": [
    "# Write data\n",
    "test_table = (\"pyiceberg_namespace\", \"my_table\")\n",
    "df = pd.DataFrame(\n",
    "    {\n",
    "        \"id\": [1, 2, 3],\n",
    "        \"data\": [\"a\", \"b\", \"c\"],\n",
    "    }\n",
    ")\n",
    "pa_df = pa.Table.from_pandas(df)\n",
    "\n",
    "if test_table in catalog.list_tables(namespace=test_namespace):\n",
    "    catalog.drop_table(test_table)\n",
    "\n",
    "table = catalog.create_table(\n",
    "    test_table,\n",
    "    schema=pa_df.schema,\n",
    ")\n",
    "\n",
    "table.append(pa_df)"
   ]
  },
  {
   "cell_type": "code",
   "execution_count": 5,
   "id": "4926d93f-af6f-40fb-8ffe-80e679200df9",
   "metadata": {},
   "outputs": [
    {
     "data": {
      "text/html": [
       "<div>\n",
       "<style scoped>\n",
       "    .dataframe tbody tr th:only-of-type {\n",
       "        vertical-align: middle;\n",
       "    }\n",
       "\n",
       "    .dataframe tbody tr th {\n",
       "        vertical-align: top;\n",
       "    }\n",
       "\n",
       "    .dataframe thead th {\n",
       "        text-align: right;\n",
       "    }\n",
       "</style>\n",
       "<table border=\"1\" class=\"dataframe\">\n",
       "  <thead>\n",
       "    <tr style=\"text-align: right;\">\n",
       "      <th></th>\n",
       "      <th>id</th>\n",
       "      <th>data</th>\n",
       "    </tr>\n",
       "  </thead>\n",
       "  <tbody>\n",
       "    <tr>\n",
       "      <th>0</th>\n",
       "      <td>1</td>\n",
       "      <td>a</td>\n",
       "    </tr>\n",
       "    <tr>\n",
       "      <th>1</th>\n",
       "      <td>2</td>\n",
       "      <td>b</td>\n",
       "    </tr>\n",
       "    <tr>\n",
       "      <th>2</th>\n",
       "      <td>3</td>\n",
       "      <td>c</td>\n",
       "    </tr>\n",
       "  </tbody>\n",
       "</table>\n",
       "</div>"
      ],
      "text/plain": [
       "   id data\n",
       "0   1    a\n",
       "1   2    b\n",
       "2   3    c"
      ]
     },
     "execution_count": 5,
     "metadata": {},
     "output_type": "execute_result"
    }
   ],
   "source": [
    "# Read data\n",
    "table = catalog.load_table(test_table)\n",
    "table.scan().to_pandas()"
   ]
  },
  {
   "cell_type": "code",
   "execution_count": null,
   "id": "9f966e82-e0bb-4fc1-9b45-0bb4988e3d98",
   "metadata": {},
   "outputs": [],
   "source": []
  }
 ],
 "metadata": {
  "kernelspec": {
   "display_name": "Python 3 (ipykernel)",
   "language": "python",
   "name": "python3"
  },
  "language_info": {
   "codemirror_mode": {
    "name": "ipython",
    "version": 3
   },
   "file_extension": ".py",
   "mimetype": "text/x-python",
   "name": "python",
   "nbconvert_exporter": "python",
   "pygments_lexer": "ipython3",
   "version": "3.11.10"
  }
 },
 "nbformat": 4,
 "nbformat_minor": 5
}
