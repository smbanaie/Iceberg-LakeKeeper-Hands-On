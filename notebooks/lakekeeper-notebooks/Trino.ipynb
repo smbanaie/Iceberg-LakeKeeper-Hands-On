{
 "cells": [
  {
   "cell_type": "code",
   "execution_count": 1,
   "metadata": {},
   "outputs": [
    {
     "name": "stdout",
     "output_type": "stream",
     "text": [
      "\u001b[33mWARNING: Running pip as the 'root' user can result in broken permissions and conflicting behaviour with the system package manager, possibly rendering your system unusable. It is recommended to use a virtual environment instead: https://pip.pypa.io/warnings/venv. Use the --root-user-action option if you know what you are doing and want to suppress this warning.\u001b[0m\u001b[33m\n",
      "\u001b[0m"
     ]
    }
   ],
   "source": [
    "!pip install -q trino"
   ]
  },
  {
   "cell_type": "code",
   "execution_count": 13,
   "metadata": {},
   "outputs": [],
   "source": [
    "# This CATALOG_URL works for the \"docker compose\" testing and development environment\n",
    "# Change 'lakekeeper' if you are not running on \"docker compose\" (f. ex. 'localhost' if Lakekeeper is running locally).\n",
    "CATALOG_URL = \"http://lakekeeper:8181/catalog\"\n",
    "TRINO_URI = \"http://trino:8080\"\n",
    "WAREHOUSE = \"irisa-ot\""
   ]
  },
  {
   "cell_type": "markdown",
   "metadata": {},
   "source": [
    "# Create Trino Catalog"
   ]
  },
  {
   "cell_type": "code",
   "execution_count": 14,
   "metadata": {},
   "outputs": [],
   "source": [
    "from trino.dbapi import connect\n",
    "\n",
    "conn = connect(host=TRINO_URI, user=\"trino\")"
   ]
  },
  {
   "cell_type": "code",
   "execution_count": 16,
   "metadata": {
    "scrolled": true
   },
   "outputs": [
    {
     "ename": "TrinoUserError",
     "evalue": "TrinoUserError(type=USER_ERROR, name=ALREADY_EXISTS, message=\"Catalog 'lakekeeper' already exists\", query_id=20250722_093827_00001_2zwd7)",
     "output_type": "error",
     "traceback": [
      "\u001b[31m---------------------------------------------------------------------------\u001b[39m",
      "\u001b[31mTrinoUserError\u001b[39m                            Traceback (most recent call last)",
      "\u001b[36mCell\u001b[39m\u001b[36m \u001b[39m\u001b[32mIn[16]\u001b[39m\u001b[32m, line 2\u001b[39m\n\u001b[32m      1\u001b[39m cur = conn.cursor()\n\u001b[32m----> \u001b[39m\u001b[32m2\u001b[39m \u001b[43mcur\u001b[49m\u001b[43m.\u001b[49m\u001b[43mexecute\u001b[49m\u001b[43m(\u001b[49m\n\u001b[32m      3\u001b[39m \u001b[43m    \u001b[49m\u001b[33;43mf\u001b[39;49m\u001b[33;43m\"\"\"\u001b[39;49m\n\u001b[32m      4\u001b[39m \u001b[33;43m    CREATE CATALOG lakekeeper USING iceberg\u001b[39;49m\n\u001b[32m      5\u001b[39m \u001b[33;43m    WITH (\u001b[39;49m\n\u001b[32m      6\u001b[39m \u001b[33;43m        \u001b[39;49m\u001b[33;43m\"\u001b[39;49m\u001b[33;43miceberg.catalog.type\u001b[39;49m\u001b[33;43m\"\u001b[39;49m\u001b[33;43m = \u001b[39;49m\u001b[33;43m'\u001b[39;49m\u001b[33;43mrest\u001b[39;49m\u001b[33;43m'\u001b[39;49m\u001b[33;43m,\u001b[39;49m\n\u001b[32m      7\u001b[39m \u001b[33;43m        \u001b[39;49m\u001b[33;43m\"\u001b[39;49m\u001b[33;43miceberg.rest-catalog.uri\u001b[39;49m\u001b[33;43m\"\u001b[39;49m\u001b[33;43m = \u001b[39;49m\u001b[33;43m'\u001b[39;49m\u001b[38;5;132;43;01m{\u001b[39;49;00m\u001b[43mCATALOG_URL\u001b[49m\u001b[38;5;132;43;01m}\u001b[39;49;00m\u001b[33;43m'\u001b[39;49m\u001b[33;43m,\u001b[39;49m\n\u001b[32m      8\u001b[39m \u001b[33;43m        \u001b[39;49m\u001b[33;43m\"\u001b[39;49m\u001b[33;43miceberg.rest-catalog.warehouse\u001b[39;49m\u001b[33;43m\"\u001b[39;49m\u001b[33;43m = \u001b[39;49m\u001b[33;43m'\u001b[39;49m\u001b[38;5;132;43;01m{\u001b[39;49;00m\u001b[43mWAREHOUSE\u001b[49m\u001b[38;5;132;43;01m}\u001b[39;49;00m\u001b[33;43m'\u001b[39;49m\u001b[33;43m,\u001b[39;49m\n\u001b[32m      9\u001b[39m \u001b[33;43m        \u001b[39;49m\u001b[33;43m\"\u001b[39;49m\u001b[33;43miceberg.rest-catalog.security\u001b[39;49m\u001b[33;43m\"\u001b[39;49m\u001b[33;43m = \u001b[39;49m\u001b[33;43m'\u001b[39;49m\u001b[33;43mNONE\u001b[39;49m\u001b[33;43m'\u001b[39;49m\u001b[33;43m,\u001b[39;49m\n\u001b[32m     10\u001b[39m \u001b[33;43m        \u001b[39;49m\u001b[33;43m\"\u001b[39;49m\u001b[33;43miceberg.rest-catalog.vended-credentials-enabled\u001b[39;49m\u001b[33;43m\"\u001b[39;49m\u001b[33;43m = \u001b[39;49m\u001b[33;43m'\u001b[39;49m\u001b[33;43mtrue\u001b[39;49m\u001b[33;43m'\u001b[39;49m\u001b[33;43m,\u001b[39;49m\n\u001b[32m     11\u001b[39m \u001b[33;43m        \u001b[39;49m\u001b[33;43m\"\u001b[39;49m\u001b[33;43ms3.region\u001b[39;49m\u001b[33;43m\"\u001b[39;49m\u001b[33;43m= \u001b[39;49m\u001b[33;43m'\u001b[39;49m\u001b[33;43mdummy\u001b[39;49m\u001b[33;43m'\u001b[39;49m\u001b[33;43m,\u001b[39;49m\n\u001b[32m     12\u001b[39m \u001b[33;43m        \u001b[39;49m\u001b[33;43m\"\u001b[39;49m\u001b[33;43ms3.path-style-access\u001b[39;49m\u001b[33;43m\"\u001b[39;49m\u001b[33;43m = \u001b[39;49m\u001b[33;43m'\u001b[39;49m\u001b[33;43mtrue\u001b[39;49m\u001b[33;43m'\u001b[39;49m\u001b[33;43m,\u001b[39;49m\n\u001b[32m     13\u001b[39m \u001b[33;43m        \u001b[39;49m\u001b[33;43m\"\u001b[39;49m\u001b[33;43ms3.endpoint\u001b[39;49m\u001b[33;43m\"\u001b[39;49m\u001b[33;43m = \u001b[39;49m\u001b[33;43m'\u001b[39;49m\u001b[33;43mhttp://minio:9000\u001b[39;49m\u001b[33;43m'\u001b[39;49m\u001b[33;43m,\u001b[39;49m\n\u001b[32m     14\u001b[39m \u001b[33;43m        \u001b[39;49m\u001b[33;43m\"\u001b[39;49m\u001b[33;43mfs.native-s3.enabled\u001b[39;49m\u001b[33;43m\"\u001b[39;49m\u001b[33;43m = \u001b[39;49m\u001b[33;43m'\u001b[39;49m\u001b[33;43mtrue\u001b[39;49m\u001b[33;43m'\u001b[39;49m\n\u001b[32m     15\u001b[39m \u001b[33;43m    )\u001b[39;49m\n\u001b[32m     16\u001b[39m \u001b[33;43m\"\"\"\u001b[39;49m\n\u001b[32m     17\u001b[39m \u001b[43m)\u001b[49m\n",
      "\u001b[36mFile \u001b[39m\u001b[32m~opt/bitnami/python/lib/python3.12/site-packages/trino/dbapi.py:640\u001b[39m, in \u001b[36mCursor.execute\u001b[39m\u001b[34m(self, operation, params)\u001b[39m\n\u001b[32m    637\u001b[39m \u001b[38;5;28;01melse\u001b[39;00m:\n\u001b[32m    638\u001b[39m     \u001b[38;5;28mself\u001b[39m._query = trino.client.TrinoQuery(\u001b[38;5;28mself\u001b[39m._request, query=operation,\n\u001b[32m    639\u001b[39m                                           legacy_primitive_types=\u001b[38;5;28mself\u001b[39m._legacy_primitive_types)\n\u001b[32m--> \u001b[39m\u001b[32m640\u001b[39m     \u001b[38;5;28mself\u001b[39m._iterator = \u001b[38;5;28miter\u001b[39m(\u001b[38;5;28;43mself\u001b[39;49m\u001b[43m.\u001b[49m\u001b[43m_query\u001b[49m\u001b[43m.\u001b[49m\u001b[43mexecute\u001b[49m\u001b[43m(\u001b[49m\u001b[43m)\u001b[49m)\n\u001b[32m    641\u001b[39m \u001b[38;5;28;01mreturn\u001b[39;00m \u001b[38;5;28mself\u001b[39m\n",
      "\u001b[36mFile \u001b[39m\u001b[32m~opt/bitnami/python/lib/python3.12/site-packages/trino/client.py:900\u001b[39m, in \u001b[36mTrinoQuery.execute\u001b[39m\u001b[34m(self, additional_http_headers)\u001b[39m\n\u001b[32m    898\u001b[39m \u001b[38;5;66;03m# Execute should block until at least one row is received or query is finished or cancelled\u001b[39;00m\n\u001b[32m    899\u001b[39m \u001b[38;5;28;01mwhile\u001b[39;00m \u001b[38;5;129;01mnot\u001b[39;00m \u001b[38;5;28mself\u001b[39m.finished \u001b[38;5;129;01mand\u001b[39;00m \u001b[38;5;129;01mnot\u001b[39;00m \u001b[38;5;28mself\u001b[39m.cancelled \u001b[38;5;129;01mand\u001b[39;00m \u001b[38;5;28mlen\u001b[39m(\u001b[38;5;28mself\u001b[39m._result.rows) == \u001b[32m0\u001b[39m:\n\u001b[32m--> \u001b[39m\u001b[32m900\u001b[39m     \u001b[38;5;28mself\u001b[39m._result.rows += \u001b[38;5;28;43mself\u001b[39;49m\u001b[43m.\u001b[49m\u001b[43mfetch\u001b[49m\u001b[43m(\u001b[49m\u001b[43m)\u001b[49m\n\u001b[32m    901\u001b[39m \u001b[38;5;28;01mreturn\u001b[39;00m \u001b[38;5;28mself\u001b[39m._result\n",
      "\u001b[36mFile \u001b[39m\u001b[32m~opt/bitnami/python/lib/python3.12/site-packages/trino/client.py:920\u001b[39m, in \u001b[36mTrinoQuery.fetch\u001b[39m\u001b[34m(self)\u001b[39m\n\u001b[32m    918\u001b[39m \u001b[38;5;28;01mexcept\u001b[39;00m requests.exceptions.RequestException \u001b[38;5;28;01mas\u001b[39;00m e:\n\u001b[32m    919\u001b[39m     \u001b[38;5;28;01mraise\u001b[39;00m trino.exceptions.TrinoConnectionError(\u001b[33m\"\u001b[39m\u001b[33mfailed to fetch: \u001b[39m\u001b[38;5;132;01m{}\u001b[39;00m\u001b[33m\"\u001b[39m.format(e))\n\u001b[32m--> \u001b[39m\u001b[32m920\u001b[39m status = \u001b[38;5;28;43mself\u001b[39;49m\u001b[43m.\u001b[49m\u001b[43m_request\u001b[49m\u001b[43m.\u001b[49m\u001b[43mprocess\u001b[49m\u001b[43m(\u001b[49m\u001b[43mresponse\u001b[49m\u001b[43m)\u001b[49m\n\u001b[32m    921\u001b[39m \u001b[38;5;28mself\u001b[39m._update_state(status)\n\u001b[32m    922\u001b[39m \u001b[38;5;28;01mif\u001b[39;00m status.next_uri \u001b[38;5;129;01mis\u001b[39;00m \u001b[38;5;28;01mNone\u001b[39;00m:\n",
      "\u001b[36mFile \u001b[39m\u001b[32m~opt/bitnami/python/lib/python3.12/site-packages/trino/client.py:689\u001b[39m, in \u001b[36mTrinoRequest.process\u001b[39m\u001b[34m(self, http_response)\u001b[39m\n\u001b[32m    687\u001b[39m response = http_response.json()\n\u001b[32m    688\u001b[39m \u001b[38;5;28;01mif\u001b[39;00m \u001b[33m\"\u001b[39m\u001b[33merror\u001b[39m\u001b[33m\"\u001b[39m \u001b[38;5;129;01min\u001b[39;00m response \u001b[38;5;129;01mand\u001b[39;00m response[\u001b[33m\"\u001b[39m\u001b[33merror\u001b[39m\u001b[33m\"\u001b[39m]:\n\u001b[32m--> \u001b[39m\u001b[32m689\u001b[39m     \u001b[38;5;28;01mraise\u001b[39;00m \u001b[38;5;28mself\u001b[39m._process_error(response[\u001b[33m\"\u001b[39m\u001b[33merror\u001b[39m\u001b[33m\"\u001b[39m], response.get(\u001b[33m\"\u001b[39m\u001b[33mid\u001b[39m\u001b[33m\"\u001b[39m))\n\u001b[32m    691\u001b[39m \u001b[38;5;28;01mif\u001b[39;00m constants.HEADER_CLEAR_SESSION \u001b[38;5;129;01min\u001b[39;00m http_response.headers:\n\u001b[32m    692\u001b[39m     \u001b[38;5;28;01mfor\u001b[39;00m prop \u001b[38;5;129;01min\u001b[39;00m get_header_values(\n\u001b[32m    693\u001b[39m         http_response.headers, constants.HEADER_CLEAR_SESSION\n\u001b[32m    694\u001b[39m     ):\n",
      "\u001b[31mTrinoUserError\u001b[39m: TrinoUserError(type=USER_ERROR, name=ALREADY_EXISTS, message=\"Catalog 'lakekeeper' already exists\", query_id=20250722_093827_00001_2zwd7)"
     ]
    }
   ],
   "source": [
    "cur = conn.cursor()\n",
    "cur.execute(\n",
    "    f\"\"\"\n",
    "    CREATE CATALOG lakekeeper USING iceberg\n",
    "    WITH (\n",
    "        \"iceberg.catalog.type\" = 'rest',\n",
    "        \"iceberg.rest-catalog.uri\" = '{CATALOG_URL}',\n",
    "        \"iceberg.rest-catalog.warehouse\" = '{WAREHOUSE}',\n",
    "        \"iceberg.rest-catalog.security\" = 'NONE',\n",
    "        \"iceberg.rest-catalog.vended-credentials-enabled\" = 'true',\n",
    "        \"s3.region\"= 'dummy',\n",
    "        \"s3.path-style-access\" = 'true',\n",
    "        \"s3.endpoint\" = 'http://minio:9000',\n",
    "        \"fs.native-s3.enabled\" = 'true'\n",
    "    )\n",
    "\"\"\"\n",
    ")"
   ]
  },
  {
   "cell_type": "markdown",
   "metadata": {},
   "source": [
    "## Read and Write Tables"
   ]
  },
  {
   "cell_type": "code",
   "execution_count": 5,
   "metadata": {},
   "outputs": [],
   "source": [
    "# Connect directly to demo catalog, so that we don't have to use it as a prefix\n",
    "conn = connect(host=TRINO_URI, user=\"trino\", catalog=\"lakekeeper\")\n",
    "cur = conn.cursor()"
   ]
  },
  {
   "cell_type": "code",
   "execution_count": 9,
   "metadata": {},
   "outputs": [
    {
     "data": {
      "text/plain": [
       "<trino.dbapi.Cursor at 0x7ad1709476e0>"
      ]
     },
     "execution_count": 9,
     "metadata": {},
     "output_type": "execute_result"
    }
   ],
   "source": [
    "cur.execute(\"CREATE SCHEMA IF NOT EXISTS trino_namespace\")"
   ]
  },
  {
   "cell_type": "code",
   "execution_count": 11,
   "metadata": {},
   "outputs": [
    {
     "data": {
      "text/plain": [
       "<trino.dbapi.Cursor at 0x7ad1709476e0>"
      ]
     },
     "execution_count": 11,
     "metadata": {},
     "output_type": "execute_result"
    }
   ],
   "source": [
    "cur.execute(\n",
    "    \"CREATE TABLE IF NOT EXISTS trino_namespace.trino_table (my_ints INT, my_floats DOUBLE, strings VARCHAR) WITH (format='PARQUET')\"\n",
    ")\n",
    "cur.execute(\n",
    "    \"INSERT INTO trino_namespace.trino_table VALUES (1, 1.0, 'a'), (2, 2.0, 'b')\"\n",
    ")"
   ]
  },
  {
   "cell_type": "code",
   "execution_count": 12,
   "metadata": {},
   "outputs": [
    {
     "data": {
      "text/plain": [
       "[[1, 1.0, 'a'], [1, 1.0, 'a'], [2, 2.0, 'b'], [2, 2.0, 'b']]"
      ]
     },
     "execution_count": 12,
     "metadata": {},
     "output_type": "execute_result"
    }
   ],
   "source": [
    "cur.execute(\"SELECT * FROM trino_namespace.trino_table\").fetchall()"
   ]
  },
  {
   "cell_type": "code",
   "execution_count": null,
   "metadata": {},
   "outputs": [],
   "source": []
  }
 ],
 "metadata": {
  "kernelspec": {
   "display_name": "Python 3 (ipykernel)",
   "language": "python",
   "name": "python3"
  },
  "language_info": {
   "codemirror_mode": {
    "name": "ipython",
    "version": 3
   },
   "file_extension": ".py",
   "mimetype": "text/x-python",
   "name": "python",
   "nbconvert_exporter": "python",
   "pygments_lexer": "ipython3",
   "version": "3.12.10"
  }
 },
 "nbformat": 4,
 "nbformat_minor": 4
}
