{
 "cells": [
  {
   "cell_type": "markdown",
   "metadata": {},
   "source": [
    "# Complete Banking Reconciliation Setup - Phase 1\n",
    "## Local Hadoop Hive Style File-Based Catalog\n",
    "\n",
    "## 🎯 Learning Objectives\n",
    "\n",
    "This notebook demonstrates how to set up Apache Iceberg with a **local hadoop catalog** for a banking reconciliation system. You will learn:\n",
    "\n",
    "### **Apache Iceberg Fundamentals**\n",
    "- **Catalog System**: Understanding how Iceberg catalogs work with Hive metastore\n",
    "- **Local Storage**: How Iceberg stores metadata and data locally\n",
    "- **Table Structure**: The file organization created by Iceberg tables\n",
    "- **Partitioning**: How Iceberg handles partitioned tables\n",
    "\n",
    "### **What You'll Build**\n",
    "- A complete banking reconciliation system with three core tables\n",
    "- Local file-based storage with Hive metastore integration\n",
    "- Partitioned tables for efficient querying\n",
    "- Comprehensive audit trail and validation\n",
    "\n",
    "### **Key Concepts Explained**\n",
    "\n",
    "#### **1. Iceberg Catalog with Hive Metastore**\n",
    "```\n",
    "spark.sql.catalog.local.type = \"hadoop\"\n",
    "spark.sql.catalog.local.warehouse = \"file:///opt/bitnami/spark/warehouse\"\n",
    "```\n",
    "- **Catalog**: A namespace for tables, schemas, and functions\n",
    "- **Hive Metastore**: Stores table metadata (schema, location, properties)\n",
    "- **Local Storage**: Files stored on local filesystem, not distributed\n",
    "\n",
    "#### **2. File Structure Created by Iceberg**\n",
    "```\n",
    "/warehouse/banking/table_name/\n",
    "├── metadata/          # Table metadata and version history\n",
    "│   ├── v1.metadata.json    # Current table schema and properties\n",
    "│   ├── version-hint.text   # Points to latest metadata version\n",
    "│   └── .*.crc             # Checksums for data integrity\n",
    "├── data/              # Actual data files (Parquet format)\n",
    "│   └── partition_paths/   # Partitioned data organized by partition keys\n",
    "└── snapshots/         # Table snapshots for time travel\n",
    "```\n",
    "\n",
    "#### **3. Partitioning Strategy**\n",
    "- **source_transactions**: Partitioned by `days(transaction_date)` and `source_system`\n",
    "- **reconciliation_results**: Partitioned by `days(reconciliation_timestamp)` and `match_status`\n",
    "- **reconciliation_batches**: No partitioning (small lookup table)\n",
    "\n",
    "## Phase 1: Foundation Setup"
   ]
  },
  {
   "cell_type": "markdown",
   "metadata": {},
   "source": [
    "## Step 1: Import Required Libraries\n",
    "\n",
    "**Purpose**: Import all necessary libraries for Spark, MinIO, and file operations.\n",
    "\n",
    "**Key Libraries**:\n",
    "- `pyspark.sql.SparkSession`: Core Spark functionality\n",
    "- `boto3`: AWS S3/MinIO client for object storage\n",
    "- `os`, `json`, `datetime`: File and data manipulation utilities"
   ]
  },
  {
   "cell_type": "code",
   "execution_count": 2,
   "metadata": {},
   "outputs": [
    {
     "name": "stdout",
     "output_type": "stream",
     "text": [
      "\u001b[33mDEPRECATION: Loading egg at /opt/bitnami/python/lib/python3.12/site-packages/pip-23.3.2-py3.12.egg is deprecated. pip 24.3 will enforce this behaviour change. A possible replacement is to use pip for package installation. Discussion can be found at https://github.com/pypa/pip/issues/12330\u001b[0m\u001b[33m\n",
      "\u001b[0m"
     ]
    },
    {
     "data": {
      "text/html": [
       "<pre style=\"white-space:pre;overflow-x:auto;line-height:normal;font-family:Menlo,'DejaVu Sans Mono',consolas,'Courier New',monospace\">✓ All required libraries imported successfully\n",
       "</pre>\n"
      ],
      "text/plain": [
       "✓ All required libraries imported successfully\n"
      ]
     },
     "metadata": {},
     "output_type": "display_data"
    }
   ],
   "source": [
    "# Import required libraries\n",
    "!pip install --root-user-action=ignore rich --quiet\n",
    "from rich import print\n",
    "from pyspark.sql import SparkSession\n",
    "import boto3\n",
    "from botocore.client import Config\n",
    "import time\n",
    "import os\n",
    "import json\n",
    "from datetime import datetime\n",
    "\n",
    "print(\"✓ All required libraries imported successfully\")"
   ]
  },
  {
   "cell_type": "markdown",
   "metadata": {},
   "source": [
    "## Step 2: Stop any existing Spark session\n",
    "\n",
    "**Purpose**: Ensure a clean Spark environment by stopping any existing sessions.\n",
    "\n",
    "**Why This Matters**:\n",
    "- Prevents configuration conflicts\n",
    "- Ensures fresh Iceberg catalog initialization\n",
    "- Clears any cached metadata or connections"
   ]
  },
  {
   "cell_type": "code",
   "execution_count": 3,
   "metadata": {},
   "outputs": [
    {
     "name": "stderr",
     "output_type": "stream",
     "text": [
      "Setting default log level to \"WARN\".\n",
      "To adjust logging level use sc.setLogLevel(newLevel). For SparkR, use setLogLevel(newLevel).\n",
      "25/07/13 08:59:08 WARN NativeCodeLoader: Unable to load native-hadoop library for your platform... using builtin-java classes where applicable\n",
      "25/07/13 08:59:09 WARN Utils: Service 'SparkUI' could not bind on port 4040. Attempting port 4041.\n"
     ]
    },
    {
     "data": {
      "text/html": [
       "<pre style=\"white-space:pre;overflow-x:auto;line-height:normal;font-family:Menlo,'DejaVu Sans Mono',consolas,'Courier New',monospace\">✓ Stopped existing Spark session\n",
       "</pre>\n"
      ],
      "text/plain": [
       "✓ Stopped existing Spark session\n"
      ]
     },
     "metadata": {},
     "output_type": "display_data"
    }
   ],
   "source": [
    "# Stop any existing Spark session\n",
    "try:\n",
    "    SparkSession.builder.getOrCreate().stop()\n",
    "    print(\"✓ Stopped existing Spark session\")\n",
    "except:\n",
    "    print(\"ℹ No existing Spark session to stop\")"
   ]
  },
  {
   "cell_type": "markdown",
   "metadata": {},
   "source": [
    "## Step 3: Create Spark Session with Iceberg Configuration\n",
    "\n",
    "**Purpose**: Initialize Spark with Apache Iceberg extensions and local catalog configuration.\n",
    "\n",
    "### **Configuration Breakdown**:\n",
    "\n",
    "#### **Iceberg Extensions**\n",
    "```python\n",
    "spark.sql.extensions = \"org.apache.iceberg.spark.extensions.IcebergSparkSessionExtensions\"\n",
    "```\n",
    "- Enables Iceberg-specific SQL commands (CREATE TABLE, MERGE, etc.)\n",
    "- Provides time travel, schema evolution, and partition evolution capabilities\n",
    "\n",
    "#### **Catalog Configuration**\n",
    "```python\n",
    "spark.sql.catalog.local = \"org.apache.iceberg.spark.SparkCatalog\"\n",
    "spark.sql.catalog.local.type = \"hadoop\"\n",
    "spark.sql.catalog.local.warehouse = \"file:///opt/bitnami/spark/warehouse\"\n",
    "spark.sql.catalog.spark_catalog.type = \"hive\n",
    "```\n",
    "- **local**: Our custom catalog name\n",
    "- **hadoop**: Uses Hive metastore for metadata storage\n",
    "- **warehouse**: Local filesystem path for table data\n",
    "\n",
    "#### **Default Catalog**\n",
    "```python\n",
    "spark.sql.defaultCatalog = \"local\"\n",
    "```\n",
    "- Sets 'local' as the default catalog for table operations\n",
    "- Allows using `local.table_name` syntax"
   ]
  },
  {
   "cell_type": "code",
   "execution_count": 4,
   "metadata": {},
   "outputs": [
    {
     "data": {
      "text/html": [
       "<pre style=\"white-space:pre;overflow-x:auto;line-height:normal;font-family:Menlo,'DejaVu Sans Mono',consolas,'Courier New',monospace\">✓ Warehouse directory: <span style=\"color: #800080; text-decoration-color: #800080\">/opt/bitnami/spark/</span><span style=\"color: #ff00ff; text-decoration-color: #ff00ff\">warehouse</span>\n",
       "</pre>\n"
      ],
      "text/plain": [
       "✓ Warehouse directory: \u001b[35m/opt/bitnami/spark/\u001b[0m\u001b[95mwarehouse\u001b[0m\n"
      ]
     },
     "metadata": {},
     "output_type": "display_data"
    },
    {
     "name": "stderr",
     "output_type": "stream",
     "text": [
      "25/07/13 09:00:44 WARN Utils: Service 'SparkUI' could not bind on port 4040. Attempting port 4041.\n"
     ]
    },
    {
     "data": {
      "text/html": [
       "<pre style=\"white-space:pre;overflow-x:auto;line-height:normal;font-family:Menlo,'DejaVu Sans Mono',consolas,'Courier New',monospace\">✓ Spark session created successfully\n",
       "</pre>\n"
      ],
      "text/plain": [
       "✓ Spark session created successfully\n"
      ]
     },
     "metadata": {},
     "output_type": "display_data"
    },
    {
     "data": {
      "text/html": [
       "<pre style=\"white-space:pre;overflow-x:auto;line-height:normal;font-family:Menlo,'DejaVu Sans Mono',consolas,'Courier New',monospace\">Spark version: <span style=\"color: #008080; text-decoration-color: #008080; font-weight: bold\">3.5</span>.<span style=\"color: #008080; text-decoration-color: #008080; font-weight: bold\">2</span>\n",
       "</pre>\n"
      ],
      "text/plain": [
       "Spark version: \u001b[1;36m3.5\u001b[0m.\u001b[1;36m2\u001b[0m\n"
      ]
     },
     "metadata": {},
     "output_type": "display_data"
    },
    {
     "data": {
      "text/html": [
       "<pre style=\"white-space:pre;overflow-x:auto;line-height:normal;font-family:Menlo,'DejaVu Sans Mono',consolas,'Courier New',monospace\">Default catalog: local\n",
       "</pre>\n"
      ],
      "text/plain": [
       "Default catalog: local\n"
      ]
     },
     "metadata": {},
     "output_type": "display_data"
    },
    {
     "data": {
      "text/html": [
       "<pre style=\"white-space:pre;overflow-x:auto;line-height:normal;font-family:Menlo,'DejaVu Sans Mono',consolas,'Courier New',monospace\">Warehouse location: <span style=\"color: #0000ff; text-decoration-color: #0000ff; text-decoration: underline\">file:///opt/bitnami/spark/warehouse</span>\n",
       "</pre>\n"
      ],
      "text/plain": [
       "Warehouse location: \u001b[4;94mfile:///opt/bitnami/spark/warehouse\u001b[0m\n"
      ]
     },
     "metadata": {},
     "output_type": "display_data"
    }
   ],
   "source": [
    "# Create warehouse directory if it doesn't exist\n",
    "warehouse_dir = \"/opt/bitnami/spark/warehouse\"\n",
    "os.makedirs(warehouse_dir, exist_ok=True)\n",
    "print(f\"✓ Warehouse directory: {warehouse_dir}\")\n",
    "\n",
    "# Create a new Spark session with the correct configuration\n",
    "spark = SparkSession.builder \\\n",
    "    .appName(\"Banking Reconciliation Demo\") \\\n",
    "    .config(\"spark.sql.extensions\", \"org.apache.iceberg.spark.extensions.IcebergSparkSessionExtensions\") \\\n",
    "    .config(\"spark.sql.catalog.spark_catalog\", \"org.apache.iceberg.spark.SparkSessionCatalog\") \\\n",
    "    .config(\"spark.sql.catalog.spark_catalog.type\", \"hive\") \\\n",
    "    .config(\"spark.sql.catalog.local\", \"org.apache.iceberg.spark.SparkCatalog\") \\\n",
    "    .config(\"spark.sql.catalog.local.type\", \"hadoop\") \\\n",
    "    .config(\"spark.sql.catalog.local.warehouse\", f\"file://{warehouse_dir}\") \\\n",
    "    .config(\"spark.sql.defaultCatalog\", \"local\") \\\n",
    "    .getOrCreate()\n",
    "\n",
    "print(\"✓ Spark session created successfully\")\n",
    "print(f\"Spark version: {spark.version}\")\n",
    "print(f\"Default catalog: {spark.conf.get('spark.sql.defaultCatalog')}\")\n",
    "print(f\"Warehouse location: {spark.conf.get('spark.sql.catalog.local.warehouse')}\")"
   ]
  },
  {
   "cell_type": "markdown",
   "metadata": {},
   "source": [
    "## HMS - Hive Metastore\n",
    "\n",
    "### 1. **Current Setting (Local Hadoop Catalog)**\n",
    "```python\n",
    "spark = SparkSession.builder \\\n",
    "    .appName(\"Banking Reconciliation Demo\") \\\n",
    "    .config(\"spark.sql.extensions\", \"org.apache.iceberg.spark.extensions.IcebergSparkSessionExtensions\") \\\n",
    "    .config(\"spark.sql.catalog.spark_catalog\", \"org.apache.iceberg.spark.SparkSessionCatalog\") \\\n",
    "    .config(\"spark.sql.catalog.spark_catalog.type\", \"hive\") \\\n",
    "    .config(\"spark.sql.catalog.local\", \"org.apache.iceberg.spark.SparkCatalog\") \\\n",
    "    .config(\"spark.sql.catalog.local.type\", \"hadoop\") \\\n",
    "    .config(\"spark.sql.catalog.local.warehouse\", f\"file://{warehouse_dir}\") \\\n",
    "    .config(\"spark.sql.defaultCatalog\", \"local\") \\\n",
    "    .getOrCreate()\n",
    "```\n",
    "\n",
    "- **Catalog Name:** `local`\n",
    "- **Catalog Type:** `hadoop`\n",
    "- **Warehouse Location:** Local file system (e.g., `/opt/bitnami/spark/warehouse`)\n",
    "- **Metastore:** No external Hive Metastore; metadata is stored in the file system (usually as JSON files in the warehouse directory).\n",
    "- **Use Case:** Good for local development, testing, or single-node setups. No need for a running Hive Metastore service.\n",
    "\n",
    "---\n",
    "\n",
    "### 2. **Hive Metastore (HMS) Catalog Setting**\n",
    "```ini\n",
    "# Register one catalog called “hms” that points at Hive Metastore\n",
    "spark.sql.catalog.hms               org.apache.iceberg.spark.SparkCatalog\n",
    "spark.sql.catalog.hms.type          hive\n",
    "spark.sql.catalog.hms.uri           thrift://metastore:9083 \n",
    "spark.sql.catalog.hms.warehouse     /opt/warehouse \n",
    "spark.sql.defaultCatalog            hms\n",
    "```\n",
    "\n",
    "- **Catalog Name:** `hms`\n",
    "- **Catalog Type:** `hive`\n",
    "- **Warehouse Location:** Could be HDFS, S3, or local, but managed by Hive Metastore (e.g., `/opt/warehouse`)\n",
    "- **Metastore:** Uses an external Hive Metastore service (running at `thrift://metastore:9083`). All table metadata is stored in the Hive Metastore database.\n",
    "- **Use Case:** Production, multi-user, or distributed environments. Enables sharing tables and metadata between Spark, Hive, Trino, Presto, Flink, etc.\n",
    "\n",
    "---\n",
    "\n",
    "## **Key Differences**\n",
    "\n",
    "| Feature                | Your Setting (`local`/`hadoop`)         | HMS Setting (`hms`/`hive`)                |\n",
    "|------------------------|-----------------------------------------|-------------------------------------------|\n",
    "| **Catalog Name**       | `local`                                 | `hms`                                     |\n",
    "| **Catalog Type**       | `hadoop`                                | `hive`                                    |\n",
    "| **Metastore**          | No external metastore (file-based)      | External Hive Metastore (service needed)  |\n",
    "| **Metadata Location**  | Files in warehouse directory            | Hive Metastore DB (plus warehouse files)  |\n",
    "| **Sharing**            | Not shared across engines               | Shared across Spark, Hive, Trino, etc.    |\n",
    "| **Best For**           | Local, dev, single-user                 | Production, multi-user, distributed       |\n",
    "| **Setup Complexity**   | Simple, no extra services               | Needs Hive Metastore running              |\n",
    "\n",
    "---\n",
    "\n",
    "## **Summary**\n",
    "\n",
    "- **The current config** is simple, local, and file-based—great for development and testing.\n",
    "- **The HMS config** is for production, multi-user, and multi-engine environments, requiring a running Hive Metastore service and enabling true metadata sharing.\n",
    "\n",
    "**If you want to use Iceberg tables across multiple engines or clusters, or need central metadata management, use the HMS config. For local, quick, or isolated work, your current config is fine.**\n",
    "\n",
    "Ref : [Hive Metastore as an Apache Iceberg Catalog](https://www.linkedin.com/pulse/hive-metastore-apache-iceberg-catalog-ankur-ranjan-qmhpc/)"
   ]
  },
  {
   "cell_type": "markdown",
   "metadata": {},
   "source": [
    "## Step 4: Initialize MinIO Client and Check Health\n",
    "\n",
    "**Purpose**: Set up MinIO (S3-compatible object storage) for future data operations.\n",
    "\n",
    "### **MinIO Configuration**:\n",
    "- **Endpoint**: `http://minio:9000` (Docker service name)\n",
    "- **Credentials**: `minio`/`minio123` (default development credentials)\n",
    "- **Region**: `us-east-1` (standard region)\n",
    "- **Signature Version**: `s3v4` (AWS Signature Version 4)\n",
    "\n",
    "### **Health Check Strategy**:\n",
    "- Retry logic with exponential backoff\n",
    "- Graceful handling of connection failures\n",
    "- Detailed logging for troubleshooting"
   ]
  },
  {
   "cell_type": "code",
   "execution_count": 5,
   "metadata": {},
   "outputs": [
    {
     "data": {
      "text/html": [
       "<pre style=\"white-space:pre;overflow-x:auto;line-height:normal;font-family:Menlo,'DejaVu Sans Mono',consolas,'Courier New',monospace\">✓ MinIO client initialized\n",
       "</pre>\n"
      ],
      "text/plain": [
       "✓ MinIO client initialized\n"
      ]
     },
     "metadata": {},
     "output_type": "display_data"
    },
    {
     "data": {
      "text/html": [
       "<pre style=\"white-space:pre;overflow-x:auto;line-height:normal;font-family:Menlo,'DejaVu Sans Mono',consolas,'Courier New',monospace\">Endpoint: <span style=\"color: #0000ff; text-decoration-color: #0000ff; text-decoration: underline\">http://minio:9000</span>\n",
       "</pre>\n"
      ],
      "text/plain": [
       "Endpoint: \u001b[4;94mhttp://minio:9000\u001b[0m\n"
      ]
     },
     "metadata": {},
     "output_type": "display_data"
    },
    {
     "data": {
      "text/html": [
       "<pre style=\"white-space:pre;overflow-x:auto;line-height:normal;font-family:Menlo,'DejaVu Sans Mono',consolas,'Courier New',monospace\">Access Key: minio\n",
       "</pre>\n"
      ],
      "text/plain": [
       "Access Key: minio\n"
      ]
     },
     "metadata": {},
     "output_type": "display_data"
    },
    {
     "data": {
      "text/html": [
       "<pre style=\"white-space:pre;overflow-x:auto;line-height:normal;font-family:Menlo,'DejaVu Sans Mono',consolas,'Courier New',monospace\">Signature Version: s3v4\n",
       "</pre>\n"
      ],
      "text/plain": [
       "Signature Version: s3v4\n"
      ]
     },
     "metadata": {},
     "output_type": "display_data"
    }
   ],
   "source": [
    "# Initialize MinIO client\n",
    "s3_client = boto3.client(\n",
    "    's3',\n",
    "    endpoint_url='http://minio:9000',\n",
    "    aws_access_key_id='minio',\n",
    "    aws_secret_access_key='minio123',\n",
    "    config=Config(signature_version='s3v4'),\n",
    "    region_name='us-east-1'\n",
    ")\n",
    "\n",
    "print(\"✓ MinIO client initialized\")\n",
    "print(f\"Endpoint: http://minio:9000\")\n",
    "print(f\"Access Key: minio\")\n",
    "print(f\"Signature Version: s3v4\")"
   ]
  },
  {
   "cell_type": "code",
   "execution_count": 6,
   "metadata": {},
   "outputs": [
    {
     "data": {
      "text/html": [
       "<pre style=\"white-space:pre;overflow-x:auto;line-height:normal;font-family:Menlo,'DejaVu Sans Mono',consolas,'Courier New',monospace\">Checking MinIO health<span style=\"color: #808000; text-decoration-color: #808000\">...</span>\n",
       "</pre>\n"
      ],
      "text/plain": [
       "Checking MinIO health\u001b[33m...\u001b[0m\n"
      ]
     },
     "metadata": {},
     "output_type": "display_data"
    },
    {
     "data": {
      "text/html": [
       "<pre style=\"white-space:pre;overflow-x:auto;line-height:normal;font-family:Menlo,'DejaVu Sans Mono',consolas,'Courier New',monospace\">✓ MinIO is ready! Found <span style=\"color: #008080; text-decoration-color: #008080; font-weight: bold\">4</span> existing buckets\n",
       "</pre>\n"
      ],
      "text/plain": [
       "✓ MinIO is ready! Found \u001b[1;36m4\u001b[0m existing buckets\n"
      ]
     },
     "metadata": {},
     "output_type": "display_data"
    }
   ],
   "source": [
    "# Check MinIO health with retries\n",
    "print(\"Checking MinIO health...\")\n",
    "max_attempts = 30\n",
    "attempt = 1\n",
    "\n",
    "while attempt <= max_attempts:\n",
    "    try:\n",
    "        # Try to list buckets to check connectivity\n",
    "        buckets = s3_client.list_buckets()\n",
    "        print(f\"✓ MinIO is ready! Found {len(buckets['Buckets'])} existing buckets\")\n",
    "        break\n",
    "    except Exception as e:\n",
    "        print(f\"Waiting for MinIO... (attempt {attempt}/{max_attempts}): {str(e)}\")\n",
    "        if attempt >= max_attempts:\n",
    "            print(\"⚠ MinIO failed to start within the expected time. Continuing anyway...\")\n",
    "            break\n",
    "        time.sleep(2)\n",
    "        attempt += 1"
   ]
  },
  {
   "cell_type": "markdown",
   "metadata": {},
   "source": [
    "## Step 5: Initialize MinIO Buckets\n",
    "\n",
    "**Purpose**: Create the required S3 buckets for different stages of data processing.\n",
    "\n",
    "### **Bucket Strategy**:\n",
    "\n",
    "| Bucket | Purpose | Data Type |\n",
    "|--------|---------|-----------|\n",
    "| `warehouse` | Iceberg table data and metadata | Structured data |\n",
    "| `raw-data` | Original source files | CSV, JSON, etc. |\n",
    "| `stage-data` | Intermediate processing data | Transformed data |\n",
    "| `reconciled-data` | Final reconciliation results | Processed results |\n",
    "\n",
    "### **Benefits of This Structure**:\n",
    "- **Data Lineage**: Clear separation of data stages\n",
    "- **Cost Optimization**: Different retention policies per bucket\n",
    "- **Security**: Granular access controls per bucket\n",
    "- **Performance**: Optimized storage for each data type"
   ]
  },
  {
   "cell_type": "code",
   "execution_count": 7,
   "metadata": {},
   "outputs": [
    {
     "data": {
      "text/html": [
       "<pre style=\"white-space:pre;overflow-x:auto;line-height:normal;font-family:Menlo,'DejaVu Sans Mono',consolas,'Courier New',monospace\">Existing buckets: <span style=\"font-weight: bold\">[</span><span style=\"color: #008000; text-decoration-color: #008000\">'raw-data'</span>, <span style=\"color: #008000; text-decoration-color: #008000\">'reconciled-data'</span>, <span style=\"color: #008000; text-decoration-color: #008000\">'stage-data'</span>, <span style=\"color: #008000; text-decoration-color: #008000\">'warehouse'</span><span style=\"font-weight: bold\">]</span>\n",
       "</pre>\n"
      ],
      "text/plain": [
       "Existing buckets: \u001b[1m[\u001b[0m\u001b[32m'raw-data'\u001b[0m, \u001b[32m'reconciled-data'\u001b[0m, \u001b[32m'stage-data'\u001b[0m, \u001b[32m'warehouse'\u001b[0m\u001b[1m]\u001b[0m\n"
      ]
     },
     "metadata": {},
     "output_type": "display_data"
    },
    {
     "data": {
      "text/html": [
       "<pre style=\"white-space:pre;overflow-x:auto;line-height:normal;font-family:Menlo,'DejaVu Sans Mono',consolas,'Courier New',monospace\">ℹ Bucket already exists: warehouse <span style=\"font-weight: bold\">(</span>Iceberg table data and metadata<span style=\"font-weight: bold\">)</span>\n",
       "</pre>\n"
      ],
      "text/plain": [
       "ℹ Bucket already exists: warehouse \u001b[1m(\u001b[0mIceberg table data and metadata\u001b[1m)\u001b[0m\n"
      ]
     },
     "metadata": {},
     "output_type": "display_data"
    },
    {
     "data": {
      "text/html": [
       "<pre style=\"white-space:pre;overflow-x:auto;line-height:normal;font-family:Menlo,'DejaVu Sans Mono',consolas,'Courier New',monospace\">ℹ Bucket already exists: raw-data <span style=\"font-weight: bold\">(</span>Original source files <span style=\"font-weight: bold\">(</span>CSV, JSON<span style=\"font-weight: bold\">))</span>\n",
       "</pre>\n"
      ],
      "text/plain": [
       "ℹ Bucket already exists: raw-data \u001b[1m(\u001b[0mOriginal source files \u001b[1m(\u001b[0mCSV, JSON\u001b[1m)\u001b[0m\u001b[1m)\u001b[0m\n"
      ]
     },
     "metadata": {},
     "output_type": "display_data"
    },
    {
     "data": {
      "text/html": [
       "<pre style=\"white-space:pre;overflow-x:auto;line-height:normal;font-family:Menlo,'DejaVu Sans Mono',consolas,'Courier New',monospace\">ℹ Bucket already exists: stage-data <span style=\"font-weight: bold\">(</span>Intermediate processing data<span style=\"font-weight: bold\">)</span>\n",
       "</pre>\n"
      ],
      "text/plain": [
       "ℹ Bucket already exists: stage-data \u001b[1m(\u001b[0mIntermediate processing data\u001b[1m)\u001b[0m\n"
      ]
     },
     "metadata": {},
     "output_type": "display_data"
    },
    {
     "data": {
      "text/html": [
       "<pre style=\"white-space:pre;overflow-x:auto;line-height:normal;font-family:Menlo,'DejaVu Sans Mono',consolas,'Courier New',monospace\">ℹ Bucket already exists: reconciled-data <span style=\"font-weight: bold\">(</span>Final reconciliation results<span style=\"font-weight: bold\">)</span>\n",
       "</pre>\n"
      ],
      "text/plain": [
       "ℹ Bucket already exists: reconciled-data \u001b[1m(\u001b[0mFinal reconciliation results\u001b[1m)\u001b[0m\n"
      ]
     },
     "metadata": {},
     "output_type": "display_data"
    },
    {
     "data": {
      "text/html": [
       "<pre style=\"white-space:pre;overflow-x:auto;line-height:normal;font-family:Menlo,'DejaVu Sans Mono',consolas,'Courier New',monospace\">\n",
       "📊 Bucket Summary:\n",
       "</pre>\n"
      ],
      "text/plain": [
       "\n",
       "📊 Bucket Summary:\n"
      ]
     },
     "metadata": {},
     "output_type": "display_data"
    },
    {
     "data": {
      "text/html": [
       "<pre style=\"white-space:pre;overflow-x:auto;line-height:normal;font-family:Menlo,'DejaVu Sans Mono',consolas,'Courier New',monospace\">- Total buckets: <span style=\"color: #008080; text-decoration-color: #008080; font-weight: bold\">4</span>\n",
       "</pre>\n"
      ],
      "text/plain": [
       "- Total buckets: \u001b[1;36m4\u001b[0m\n"
      ]
     },
     "metadata": {},
     "output_type": "display_data"
    },
    {
     "data": {
      "text/html": [
       "<pre style=\"white-space:pre;overflow-x:auto;line-height:normal;font-family:Menlo,'DejaVu Sans Mono',consolas,'Courier New',monospace\">- Newly created: <span style=\"color: #008080; text-decoration-color: #008080; font-weight: bold\">0</span>\n",
       "</pre>\n"
      ],
      "text/plain": [
       "- Newly created: \u001b[1;36m0\u001b[0m\n"
      ]
     },
     "metadata": {},
     "output_type": "display_data"
    },
    {
     "data": {
      "text/html": [
       "<pre style=\"white-space:pre;overflow-x:auto;line-height:normal;font-family:Menlo,'DejaVu Sans Mono',consolas,'Courier New',monospace\">- Already existed: <span style=\"color: #008080; text-decoration-color: #008080; font-weight: bold\">4</span>\n",
       "</pre>\n"
      ],
      "text/plain": [
       "- Already existed: \u001b[1;36m4\u001b[0m\n"
      ]
     },
     "metadata": {},
     "output_type": "display_data"
    }
   ],
   "source": [
    "# List existing buckets\n",
    "try:\n",
    "    existing_buckets = [bucket['Name'] for bucket in s3_client.list_buckets()['Buckets']]\n",
    "    print(f\"Existing buckets: {existing_buckets}\")\n",
    "except Exception as e:\n",
    "    print(f\"Error listing buckets: {str(e)}\")\n",
    "    existing_buckets = []\n",
    "\n",
    "# Define required buckets with their purposes\n",
    "bucket_purposes = {\n",
    "    'warehouse': 'Iceberg table data and metadata',\n",
    "    'raw-data': 'Original source files (CSV, JSON)',\n",
    "    'stage-data': 'Intermediate processing data',\n",
    "    'reconciled-data': 'Final reconciliation results'\n",
    "}\n",
    "\n",
    "# Create buckets if they don't exist\n",
    "created_buckets = []\n",
    "for bucket, purpose in bucket_purposes.items():\n",
    "    if bucket not in existing_buckets:\n",
    "        try:\n",
    "            s3_client.create_bucket(Bucket=bucket)\n",
    "            created_buckets.append(bucket)\n",
    "            print(f\"✓ Created bucket: {bucket} ({purpose})\")\n",
    "        except Exception as e:\n",
    "            print(f\"✗ Error creating bucket {bucket}: {str(e)}\")\n",
    "    else:\n",
    "        print(f\"ℹ Bucket already exists: {bucket} ({purpose})\")\n",
    "\n",
    "print(f\"\\n📊 Bucket Summary:\")\n",
    "print(f\"- Total buckets: {len(existing_buckets) + len(created_buckets)}\")\n",
    "print(f\"- Newly created: {len(created_buckets)}\")\n",
    "print(f\"- Already existed: {len(existing_buckets)}\")"
   ]
  },
  {
   "cell_type": "markdown",
   "metadata": {},
   "source": [
    "## Step 6: Create Banking Namespace\n",
    "\n",
    "**Purpose**: Create a logical namespace to organize related tables.\n",
    "\n",
    "### **Namespace Benefits**:\n",
    "- **Organization**: Groups related tables together\n",
    "- **Access Control**: Apply permissions at namespace level\n",
    "- **Naming**: Avoid table name conflicts\n",
    "- **Discovery**: Easier to find related tables\n",
    "\n",
    "### **File System Impact**:\n",
    "The namespace creates a directory structure:\n",
    "```\n",
    "/opt/bitnami/spark/warehouse/banking/\n",
    "├── source_transactions/\n",
    "├── reconciliation_results/\n",
    "└── reconciliation_batches/\n",
    "```"
   ]
  },
  {
   "cell_type": "code",
   "execution_count": 8,
   "metadata": {},
   "outputs": [
    {
     "data": {
      "text/html": [
       "<pre style=\"white-space:pre;overflow-x:auto;line-height:normal;font-family:Menlo,'DejaVu Sans Mono',consolas,'Courier New',monospace\">✓ Created namespace: local.banking\n",
       "</pre>\n"
      ],
      "text/plain": [
       "✓ Created namespace: local.banking\n"
      ]
     },
     "metadata": {},
     "output_type": "display_data"
    },
    {
     "data": {
      "text/html": [
       "<pre style=\"white-space:pre;overflow-x:auto;line-height:normal;font-family:Menlo,'DejaVu Sans Mono',consolas,'Courier New',monospace\">Namespace location: <span style=\"color: #800080; text-decoration-color: #800080\">/opt/bitnami/spark/warehouse/</span><span style=\"color: #ff00ff; text-decoration-color: #ff00ff\">banking</span>\n",
       "</pre>\n"
      ],
      "text/plain": [
       "Namespace location: \u001b[35m/opt/bitnami/spark/warehouse/\u001b[0m\u001b[95mbanking\u001b[0m\n"
      ]
     },
     "metadata": {},
     "output_type": "display_data"
    }
   ],
   "source": [
    "# Create the banking namespace\n",
    "try:\n",
    "    spark.sql(\"CREATE NAMESPACE IF NOT EXISTS local.banking\")\n",
    "    print(\"✓ Created namespace: local.banking\")\n",
    "    print(f\"Namespace location: {warehouse_dir}/banking\")\n",
    "except Exception as e:\n",
    "    print(f\"✗ Error creating namespace: {str(e)}\")"
   ]
  },
  {
   "cell_type": "code",
   "execution_count": 9,
   "metadata": {},
   "outputs": [
    {
     "data": {
      "text/html": [
       "<pre style=\"white-space:pre;overflow-x:auto;line-height:normal;font-family:Menlo,'DejaVu Sans Mono',consolas,'Courier New',monospace\">📁 Verifying namespace creation<span style=\"color: #808000; text-decoration-color: #808000\">...</span>\n",
       "</pre>\n"
      ],
      "text/plain": [
       "📁 Verifying namespace creation\u001b[33m...\u001b[0m\n"
      ]
     },
     "metadata": {},
     "output_type": "display_data"
    },
    {
     "name": "stdout",
     "output_type": "stream",
     "text": [
      "total 16\n",
      "drwxr-xr-x 3 root root 4096 Jul 13 07:44 .\n",
      "drwxr-xr-x 1 1001 root 4096 Jul 13 07:41 ..\n",
      "drwxr-xr-x 5 root root 4096 Jul 13 08:19 banking\n"
     ]
    },
    {
     "data": {
      "text/html": [
       "<pre style=\"white-space:pre;overflow-x:auto;line-height:normal;font-family:Menlo,'DejaVu Sans Mono',consolas,'Courier New',monospace\">\n",
       "📁 Banking namespace contents:\n",
       "</pre>\n"
      ],
      "text/plain": [
       "\n",
       "📁 Banking namespace contents:\n"
      ]
     },
     "metadata": {},
     "output_type": "display_data"
    },
    {
     "name": "stdout",
     "output_type": "stream",
     "text": [
      "total 20\n",
      "drwxr-xr-x 5 root root 4096 Jul 13 08:19 .\n",
      "drwxr-xr-x 3 root root 4096 Jul 13 07:44 ..\n",
      "drwxr-xr-x 3 root root 4096 Jul 13 08:19 reconciliation_batches\n",
      "drwxr-xr-x 3 root root 4096 Jul 13 08:19 reconciliation_results\n",
      "drwxr-xr-x 3 root root 4096 Jul 13 07:48 source_transactions\n"
     ]
    }
   ],
   "source": [
    "# Verify namespace creation by listing the directory structure\n",
    "print(\"📁 Verifying namespace creation...\")\n",
    "!ls -la {warehouse_dir}\n",
    "\n",
    "print(f\"\\n📁 Banking namespace contents:\")\n",
    "!ls -la {warehouse_dir}/banking"
   ]
  },
  {
   "cell_type": "markdown",
   "metadata": {},
   "source": [
    "## Step 7: Create Iceberg Tables\n",
    "\n",
    "**Purpose**: Create the core tables for the banking reconciliation system.\n",
    "\n",
    "### **Table Design Strategy**:\n",
    "\n",
    "#### **1. source_transactions**\n",
    "- **Purpose**: Store all transaction data from different source systems\n",
    "- **Partitioning**: By `days(transaction_date)` and `source_system`\n",
    "- **Benefits**: Efficient querying by date range and source\n",
    "- **Schema**: Comprehensive transaction metadata\n",
    "\n",
    "#### **2. reconciliation_results**\n",
    "- **Purpose**: Store reconciliation outcomes and discrepancies\n",
    "- **Partitioning**: By `days(reconciliation_timestamp)` and `match_status`\n",
    "- **Benefits**: Easy analysis of reconciliation performance\n",
    "- **Schema**: Detailed discrepancy tracking\n",
    "\n",
    "#### **3. reconciliation_batches**\n",
    "- **Purpose**: Track reconciliation batch metadata\n",
    "- **Partitioning**: None (small lookup table)\n",
    "- **Benefits**: Batch-level monitoring and reporting\n",
    "- **Schema**: Batch execution metadata"
   ]
  },
  {
   "cell_type": "code",
   "execution_count": 10,
   "metadata": {},
   "outputs": [
    {
     "data": {
      "text/html": [
       "<pre style=\"white-space:pre;overflow-x:auto;line-height:normal;font-family:Menlo,'DejaVu Sans Mono',consolas,'Courier New',monospace\">Creating source_transactions table<span style=\"color: #808000; text-decoration-color: #808000\">...</span>\n",
       "</pre>\n"
      ],
      "text/plain": [
       "Creating source_transactions table\u001b[33m...\u001b[0m\n"
      ]
     },
     "metadata": {},
     "output_type": "display_data"
    },
    {
     "data": {
      "text/html": [
       "<pre style=\"white-space:pre;overflow-x:auto;line-height:normal;font-family:Menlo,'DejaVu Sans Mono',consolas,'Courier New',monospace\">✓ Created table: local.banking.source_transactions\n",
       "</pre>\n"
      ],
      "text/plain": [
       "✓ Created table: local.banking.source_transactions\n"
      ]
     },
     "metadata": {},
     "output_type": "display_data"
    },
    {
     "data": {
      "text/html": [
       "<pre style=\"white-space:pre;overflow-x:auto;line-height:normal;font-family:Menlo,'DejaVu Sans Mono',consolas,'Courier New',monospace\">  - Partitioned by: <span style=\"color: #800080; text-decoration-color: #800080; font-weight: bold\">days</span><span style=\"font-weight: bold\">(</span>transaction_date<span style=\"font-weight: bold\">)</span>, source_system\n",
       "</pre>\n"
      ],
      "text/plain": [
       "  - Partitioned by: \u001b[1;35mdays\u001b[0m\u001b[1m(\u001b[0mtransaction_date\u001b[1m)\u001b[0m, source_system\n"
      ]
     },
     "metadata": {},
     "output_type": "display_data"
    },
    {
     "data": {
      "text/html": [
       "<pre style=\"white-space:pre;overflow-x:auto;line-height:normal;font-family:Menlo,'DejaVu Sans Mono',consolas,'Courier New',monospace\">  - Purpose: Store all transaction data from different sources\n",
       "</pre>\n"
      ],
      "text/plain": [
       "  - Purpose: Store all transaction data from different sources\n"
      ]
     },
     "metadata": {},
     "output_type": "display_data"
    }
   ],
   "source": [
    "# Create source_transactions table\n",
    "print(\"Creating source_transactions table...\")\n",
    "try:\n",
    "    spark.sql(\"\"\"\n",
    "    CREATE TABLE IF NOT EXISTS local.banking.source_transactions (\n",
    "      transaction_id STRING,\n",
    "      source_system STRING,\n",
    "      transaction_date TIMESTAMP,\n",
    "      amount DECIMAL(18,2),\n",
    "      account_id STRING,\n",
    "      transaction_type STRING,\n",
    "      reference_id STRING,\n",
    "      status STRING,\n",
    "      payload STRING,\n",
    "      created_at TIMESTAMP,\n",
    "      processing_timestamp TIMESTAMP\n",
    "    )\n",
    "    USING iceberg\n",
    "    PARTITIONED BY (days(transaction_date), source_system)\n",
    "    \"\"\")\n",
    "    print(\"✓ Created table: local.banking.source_transactions\")\n",
    "    print(\"  - Partitioned by: days(transaction_date), source_system\")\n",
    "    print(\"  - Purpose: Store all transaction data from different sources\")\n",
    "except Exception as e:\n",
    "    print(f\"✗ Error creating source_transactions table: {str(e)}\")"
   ]
  },
  {
   "cell_type": "code",
   "execution_count": 11,
   "metadata": {},
   "outputs": [
    {
     "data": {
      "text/html": [
       "<pre style=\"white-space:pre;overflow-x:auto;line-height:normal;font-family:Menlo,'DejaVu Sans Mono',consolas,'Courier New',monospace\">Creating reconciliation_results table<span style=\"color: #808000; text-decoration-color: #808000\">...</span>\n",
       "</pre>\n"
      ],
      "text/plain": [
       "Creating reconciliation_results table\u001b[33m...\u001b[0m\n"
      ]
     },
     "metadata": {},
     "output_type": "display_data"
    },
    {
     "data": {
      "text/html": [
       "<pre style=\"white-space:pre;overflow-x:auto;line-height:normal;font-family:Menlo,'DejaVu Sans Mono',consolas,'Courier New',monospace\">✓ Created table: local.banking.reconciliation_results\n",
       "</pre>\n"
      ],
      "text/plain": [
       "✓ Created table: local.banking.reconciliation_results\n"
      ]
     },
     "metadata": {},
     "output_type": "display_data"
    },
    {
     "data": {
      "text/html": [
       "<pre style=\"white-space:pre;overflow-x:auto;line-height:normal;font-family:Menlo,'DejaVu Sans Mono',consolas,'Courier New',monospace\">  - Partitioned by: <span style=\"color: #800080; text-decoration-color: #800080; font-weight: bold\">days</span><span style=\"font-weight: bold\">(</span>reconciliation_timestamp<span style=\"font-weight: bold\">)</span>, match_status\n",
       "</pre>\n"
      ],
      "text/plain": [
       "  - Partitioned by: \u001b[1;35mdays\u001b[0m\u001b[1m(\u001b[0mreconciliation_timestamp\u001b[1m)\u001b[0m, match_status\n"
      ]
     },
     "metadata": {},
     "output_type": "display_data"
    },
    {
     "data": {
      "text/html": [
       "<pre style=\"white-space:pre;overflow-x:auto;line-height:normal;font-family:Menlo,'DejaVu Sans Mono',consolas,'Courier New',monospace\">  - Purpose: Store reconciliation outcomes and discrepancies\n",
       "</pre>\n"
      ],
      "text/plain": [
       "  - Purpose: Store reconciliation outcomes and discrepancies\n"
      ]
     },
     "metadata": {},
     "output_type": "display_data"
    }
   ],
   "source": [
    "# Create reconciliation_results table\n",
    "print(\"Creating reconciliation_results table...\")\n",
    "try:\n",
    "    spark.sql(\"\"\"\n",
    "    CREATE TABLE IF NOT EXISTS local.banking.reconciliation_results (\n",
    "      reconciliation_id STRING,\n",
    "      batch_id STRING,\n",
    "      primary_transaction_id STRING,\n",
    "      secondary_transaction_id STRING,\n",
    "      match_status STRING,\n",
    "      discrepancy_type STRING,\n",
    "      discrepancy_amount DECIMAL(18,2),\n",
    "      reconciliation_timestamp TIMESTAMP,\n",
    "      notes STRING\n",
    "    )\n",
    "    USING iceberg\n",
    "    PARTITIONED BY (days(reconciliation_timestamp), match_status)\n",
    "    \"\"\")\n",
    "    print(\"✓ Created table: local.banking.reconciliation_results\")\n",
    "    print(\"  - Partitioned by: days(reconciliation_timestamp), match_status\")\n",
    "    print(\"  - Purpose: Store reconciliation outcomes and discrepancies\")\n",
    "except Exception as e:\n",
    "    print(f\"✗ Error creating reconciliation_results table: {str(e)}\")"
   ]
  },
  {
   "cell_type": "code",
   "execution_count": null,
   "metadata": {},
   "outputs": [],
   "source": [
    "# Create reconciliation_batches table\n",
    "print(\"Creating reconciliation_batches table...\")\n",
    "try:\n",
    "    spark.sql(\"\"\"\n",
    "    CREATE TABLE IF NOT EXISTS local.banking.reconciliation_batches (\n",
    "      batch_id STRING,\n",
    "      reconciliation_date TIMESTAMP,\n",
    "      source_systems ARRAY<STRING>,\n",
    "      start_date TIMESTAMP,\n",
    "      end_date TIMESTAMP,\n",
    "      status STRING,\n",
    "      total_transactions BIGINT,\n",
    "      matched_count BIGINT,\n",
    "      unmatched_count BIGINT,\n",
    "      created_at TIMESTAMP,\n",
    "      completed_at TIMESTAMP\n",
    "    )\n",
    "    USING iceberg\n",
    "    \"\"\")\n",
    "    print(\"✓ Created table: local.banking.reconciliation_batches\")\n",
    "    print(\"  - Partitioned by: None (small lookup table)\")\n",
    "    print(\"  - Purpose: Track reconciliation batch metadata\")\n",
    "except Exception as e:\n",
    "    print(f\"✗ Error creating reconciliation_batches table: {str(e)}\")"
   ]
  },
  {
   "cell_type": "markdown",
   "metadata": {},
   "source": [
    "## Step 8: Verify Tables and Audit Setup\n",
    "\n",
    "**Purpose**: Validate that all tables were created correctly and examine the Iceberg file structure.\n",
    "\n",
    "### **What We'll Verify**:\n",
    "1. **Table Existence**: Confirm all tables are created\n",
    "2. **File Structure**: Examine Iceberg metadata and data directories\n",
    "3. **Schema Validation**: Check table schemas are correct\n",
    "4. **Accessibility**: Test basic queries on each table"
   ]
  },
  {
   "cell_type": "code",
   "execution_count": 12,
   "metadata": {},
   "outputs": [
    {
     "data": {
      "text/html": [
       "<pre style=\"white-space:pre;overflow-x:auto;line-height:normal;font-family:Menlo,'DejaVu Sans Mono',consolas,'Courier New',monospace\">📋 Verifying created tables<span style=\"color: #808000; text-decoration-color: #808000\">...</span>\n",
       "</pre>\n"
      ],
      "text/plain": [
       "📋 Verifying created tables\u001b[33m...\u001b[0m\n"
      ]
     },
     "metadata": {},
     "output_type": "display_data"
    },
    {
     "name": "stdout",
     "output_type": "stream",
     "text": [
      "+---------+--------------------+-----------+\n",
      "|namespace|           tableName|isTemporary|\n",
      "+---------+--------------------+-----------+\n",
      "|  banking|reconciliation_ba...|      false|\n",
      "|  banking|reconciliation_re...|      false|\n",
      "|  banking| source_transactions|      false|\n",
      "+---------+--------------------+-----------+\n",
      "\n"
     ]
    },
    {
     "name": "stderr",
     "output_type": "stream",
     "text": [
      "                                                                                "
     ]
    },
    {
     "data": {
      "text/html": [
       "<pre style=\"white-space:pre;overflow-x:auto;line-height:normal;font-family:Menlo,'DejaVu Sans Mono',consolas,'Courier New',monospace\">\n",
       "📊 Table Summary:\n",
       "</pre>\n"
      ],
      "text/plain": [
       "\n",
       "📊 Table Summary:\n"
      ]
     },
     "metadata": {},
     "output_type": "display_data"
    },
    {
     "data": {
      "text/html": [
       "<pre style=\"white-space:pre;overflow-x:auto;line-height:normal;font-family:Menlo,'DejaVu Sans Mono',consolas,'Courier New',monospace\">- Total tables in banking namespace: <span style=\"color: #008080; text-decoration-color: #008080; font-weight: bold\">3</span>\n",
       "</pre>\n"
      ],
      "text/plain": [
       "- Total tables in banking namespace: \u001b[1;36m3\u001b[0m\n"
      ]
     },
     "metadata": {},
     "output_type": "display_data"
    },
    {
     "data": {
      "text/html": [
       "<pre style=\"white-space:pre;overflow-x:auto;line-height:normal;font-family:Menlo,'DejaVu Sans Mono',consolas,'Courier New',monospace\">- Expected tables: <span style=\"color: #008080; text-decoration-color: #008080; font-weight: bold\">3</span>\n",
       "</pre>\n"
      ],
      "text/plain": [
       "- Expected tables: \u001b[1;36m3\u001b[0m\n"
      ]
     },
     "metadata": {},
     "output_type": "display_data"
    },
    {
     "data": {
      "text/html": [
       "<pre style=\"white-space:pre;overflow-x:auto;line-height:normal;font-family:Menlo,'DejaVu Sans Mono',consolas,'Courier New',monospace\">- Status: ✓ PASS\n",
       "</pre>\n"
      ],
      "text/plain": [
       "- Status: ✓ PASS\n"
      ]
     },
     "metadata": {},
     "output_type": "display_data"
    }
   ],
   "source": [
    "# List tables to verify\n",
    "print(\"📋 Verifying created tables...\")\n",
    "tables_df = spark.sql(\"SHOW TABLES IN local.banking\")\n",
    "tables_df.show()\n",
    "\n",
    "# Count tables\n",
    "table_count = tables_df.count()\n",
    "print(f\"\\n📊 Table Summary:\")\n",
    "print(f\"- Total tables in banking namespace: {table_count}\")\n",
    "print(f\"- Expected tables: 3\")\n",
    "print(f\"- Status: {'✓ PASS' if table_count >= 3 else '✗ FAIL'}\")"
   ]
  },
  {
   "cell_type": "code",
   "execution_count": 13,
   "metadata": {},
   "outputs": [
    {
     "data": {
      "text/html": [
       "<pre style=\"white-space:pre;overflow-x:auto;line-height:normal;font-family:Menlo,'DejaVu Sans Mono',consolas,'Courier New',monospace\">🔍 Testing table accessibility<span style=\"color: #808000; text-decoration-color: #808000\">...</span>\n",
       "</pre>\n"
      ],
      "text/plain": [
       "🔍 Testing table accessibility\u001b[33m...\u001b[0m\n"
      ]
     },
     "metadata": {},
     "output_type": "display_data"
    },
    {
     "data": {
      "text/html": [
       "<pre style=\"white-space:pre;overflow-x:auto;line-height:normal;font-family:Menlo,'DejaVu Sans Mono',consolas,'Courier New',monospace\">✓ local.banking.source_transactions: <span style=\"color: #008080; text-decoration-color: #008080; font-weight: bold\">0</span> rows\n",
       "</pre>\n"
      ],
      "text/plain": [
       "✓ local.banking.source_transactions: \u001b[1;36m0\u001b[0m rows\n"
      ]
     },
     "metadata": {},
     "output_type": "display_data"
    },
    {
     "data": {
      "text/html": [
       "<pre style=\"white-space:pre;overflow-x:auto;line-height:normal;font-family:Menlo,'DejaVu Sans Mono',consolas,'Courier New',monospace\">✓ local.banking.reconciliation_results: <span style=\"color: #008080; text-decoration-color: #008080; font-weight: bold\">0</span> rows\n",
       "</pre>\n"
      ],
      "text/plain": [
       "✓ local.banking.reconciliation_results: \u001b[1;36m0\u001b[0m rows\n"
      ]
     },
     "metadata": {},
     "output_type": "display_data"
    },
    {
     "data": {
      "text/html": [
       "<pre style=\"white-space:pre;overflow-x:auto;line-height:normal;font-family:Menlo,'DejaVu Sans Mono',consolas,'Courier New',monospace\">✓ local.banking.reconciliation_batches: <span style=\"color: #008080; text-decoration-color: #008080; font-weight: bold\">0</span> rows\n",
       "</pre>\n"
      ],
      "text/plain": [
       "✓ local.banking.reconciliation_batches: \u001b[1;36m0\u001b[0m rows\n"
      ]
     },
     "metadata": {},
     "output_type": "display_data"
    }
   ],
   "source": [
    "# Test a simple query on each table\n",
    "print(\"🔍 Testing table accessibility...\")\n",
    "\n",
    "tables_to_test = [\n",
    "    'local.banking.source_transactions',\n",
    "    'local.banking.reconciliation_results',\n",
    "    'local.banking.reconciliation_batches'\n",
    "]\n",
    "\n",
    "for table in tables_to_test:\n",
    "    try:\n",
    "        result = spark.sql(f\"SELECT COUNT(*) as count FROM {table}\")\n",
    "        count = result.collect()[0]['count']\n",
    "        print(f\"✓ {table}: {count} rows\")\n",
    "    except Exception as e:\n",
    "        print(f\"✗ {table}: Error - {str(e)}\")"
   ]
  },
  {
   "cell_type": "markdown",
   "metadata": {},
   "source": [
    "## Step 9: Examine Iceberg File Structure\n",
    "\n",
    "**Purpose**: Understand how Iceberg organizes files and metadata on the local filesystem.\n",
    "\n",
    "### **Iceberg File Organization**:\n",
    "\n",
    "Each Iceberg table creates this structure:\n",
    "```\n",
    "table_name/\n",
    "├── metadata/              # Table metadata and version history\n",
    "│   ├── v1.metadata.json  # Current table schema and properties\n",
    "│   ├── version-hint.text # Points to latest metadata version\n",
    "│   └── .*.crc           # Checksums for data integrity\n",
    "├── data/                # Actual data files (Parquet format)\n",
    "│   └── partition_paths/ # Partitioned data organized by partition keys\n",
    "└── snapshots/           # Table snapshots for time travel\n",
    "```\n",
    "\n",
    "### **Key Files Explained**:\n",
    "- **v1.metadata.json**: Contains table schema, partitioning, and properties\n",
    "- **version-hint.text**: Points to the current metadata version\n",
    "- **.crc files**: Checksums to ensure data integrity\n",
    "- **data/**: Contains actual Parquet files with the data\n",
    "- **snapshots/**: Enables time travel and rollback capabilities"
   ]
  },
  {
   "cell_type": "code",
   "execution_count": 14,
   "metadata": {},
   "outputs": [
    {
     "data": {
      "text/html": [
       "<pre style=\"white-space:pre;overflow-x:auto;line-height:normal;font-family:Menlo,'DejaVu Sans Mono',consolas,'Courier New',monospace\">📁 Examining Iceberg file structure<span style=\"color: #808000; text-decoration-color: #808000\">...</span>\n",
       "</pre>\n"
      ],
      "text/plain": [
       "📁 Examining Iceberg file structure\u001b[33m...\u001b[0m\n"
      ]
     },
     "metadata": {},
     "output_type": "display_data"
    },
    {
     "data": {
      "text/html": [
       "<pre style=\"white-space:pre;overflow-x:auto;line-height:normal;font-family:Menlo,'DejaVu Sans Mono',consolas,'Courier New',monospace\">\n",
       "🔍 Banking namespace structure:\n",
       "</pre>\n"
      ],
      "text/plain": [
       "\n",
       "🔍 Banking namespace structure:\n"
      ]
     },
     "metadata": {},
     "output_type": "display_data"
    },
    {
     "name": "stdout",
     "output_type": "stream",
     "text": [
      "total 20\n",
      "drwxr-xr-x 5 root root 4096 Jul 13 08:19 .\n",
      "drwxr-xr-x 3 root root 4096 Jul 13 07:44 ..\n",
      "drwxr-xr-x 3 root root 4096 Jul 13 08:19 reconciliation_batches\n",
      "drwxr-xr-x 3 root root 4096 Jul 13 08:19 reconciliation_results\n",
      "drwxr-xr-x 3 root root 4096 Jul 13 07:48 source_transactions\n"
     ]
    },
    {
     "data": {
      "text/html": [
       "<pre style=\"white-space:pre;overflow-x:auto;line-height:normal;font-family:Menlo,'DejaVu Sans Mono',consolas,'Courier New',monospace\">\n",
       "🔍 source_transactions table structure:\n",
       "</pre>\n"
      ],
      "text/plain": [
       "\n",
       "🔍 source_transactions table structure:\n"
      ]
     },
     "metadata": {},
     "output_type": "display_data"
    },
    {
     "name": "stdout",
     "output_type": "stream",
     "text": [
      "total 12\n",
      "drwxr-xr-x 3 root root 4096 Jul 13 07:48 .\n",
      "drwxr-xr-x 5 root root 4096 Jul 13 08:19 ..\n",
      "drwxr-xr-x 2 root root 4096 Jul 13 07:48 metadata\n"
     ]
    },
    {
     "data": {
      "text/html": [
       "<pre style=\"white-space:pre;overflow-x:auto;line-height:normal;font-family:Menlo,'DejaVu Sans Mono',consolas,'Courier New',monospace\">\n",
       "🔍 source_transactions metadata:\n",
       "</pre>\n"
      ],
      "text/plain": [
       "\n",
       "🔍 source_transactions metadata:\n"
      ]
     },
     "metadata": {},
     "output_type": "display_data"
    },
    {
     "name": "stdout",
     "output_type": "stream",
     "text": [
      "total 24\n",
      "drwxr-xr-x 2 root root 4096 Jul 13 07:48 .\n",
      "drwxr-xr-x 3 root root 4096 Jul 13 07:48 ..\n",
      "-rw-r--r-- 1 root root   24 Jul 13 07:48 .v1.metadata.json.crc\n",
      "-rw-r--r-- 1 root root   12 Jul 13 07:48 .version-hint.text.crc\n",
      "-rw-r--r-- 1 root root 1547 Jul 13 07:48 v1.metadata.json\n",
      "-rw-r--r-- 1 root root    1 Jul 13 07:48 version-hint.text\n"
     ]
    },
    {
     "data": {
      "text/html": [
       "<pre style=\"white-space:pre;overflow-x:auto;line-height:normal;font-family:Menlo,'DejaVu Sans Mono',consolas,'Courier New',monospace\">\n",
       "🔍 reconciliation_results table structure:\n",
       "</pre>\n"
      ],
      "text/plain": [
       "\n",
       "🔍 reconciliation_results table structure:\n"
      ]
     },
     "metadata": {},
     "output_type": "display_data"
    },
    {
     "name": "stdout",
     "output_type": "stream",
     "text": [
      "total 12\n",
      "drwxr-xr-x 3 root root 4096 Jul 13 08:19 .\n",
      "drwxr-xr-x 5 root root 4096 Jul 13 08:19 ..\n",
      "drwxr-xr-x 2 root root 4096 Jul 13 08:19 metadata\n"
     ]
    },
    {
     "data": {
      "text/html": [
       "<pre style=\"white-space:pre;overflow-x:auto;line-height:normal;font-family:Menlo,'DejaVu Sans Mono',consolas,'Courier New',monospace\">\n",
       "🔍 reconciliation_batches table structure:\n",
       "</pre>\n"
      ],
      "text/plain": [
       "\n",
       "🔍 reconciliation_batches table structure:\n"
      ]
     },
     "metadata": {},
     "output_type": "display_data"
    },
    {
     "name": "stdout",
     "output_type": "stream",
     "text": [
      "total 12\n",
      "drwxr-xr-x 3 root root 4096 Jul 13 08:19 .\n",
      "drwxr-xr-x 5 root root 4096 Jul 13 08:19 ..\n",
      "drwxr-xr-x 2 root root 4096 Jul 13 08:19 metadata\n"
     ]
    }
   ],
   "source": [
    "# Examine the file structure created by Iceberg\n",
    "print(\"📁 Examining Iceberg file structure...\")\n",
    "print(\"\\n🔍 Banking namespace structure:\")\n",
    "!ls -la {warehouse_dir}/banking/\n",
    "\n",
    "print(\"\\n🔍 source_transactions table structure:\")\n",
    "!ls -la {warehouse_dir}/banking/source_transactions/\n",
    "\n",
    "print(\"\\n🔍 source_transactions metadata:\")\n",
    "!ls -la {warehouse_dir}/banking/source_transactions/metadata/\n",
    "\n",
    "print(\"\\n🔍 reconciliation_results table structure:\")\n",
    "!ls -la {warehouse_dir}/banking/reconciliation_results/\n",
    "\n",
    "print(\"\\n🔍 reconciliation_batches table structure:\")\n",
    "!ls -la {warehouse_dir}/banking/reconciliation_batches/"
   ]
  },
  {
   "cell_type": "code",
   "execution_count": 15,
   "metadata": {},
   "outputs": [
    {
     "data": {
      "text/html": [
       "<pre style=\"white-space:pre;overflow-x:auto;line-height:normal;font-family:Menlo,'DejaVu Sans Mono',consolas,'Courier New',monospace\">📄 Examining table metadata<span style=\"color: #808000; text-decoration-color: #808000\">...</span>\n",
       "</pre>\n"
      ],
      "text/plain": [
       "📄 Examining table metadata\u001b[33m...\u001b[0m\n"
      ]
     },
     "metadata": {},
     "output_type": "display_data"
    },
    {
     "data": {
      "text/html": [
       "<pre style=\"white-space:pre;overflow-x:auto;line-height:normal;font-family:Menlo,'DejaVu Sans Mono',consolas,'Courier New',monospace\">\n",
       "🔍 source_transactions metadata content:\n",
       "</pre>\n"
      ],
      "text/plain": [
       "\n",
       "🔍 source_transactions metadata content:\n"
      ]
     },
     "metadata": {},
     "output_type": "display_data"
    },
    {
     "name": "stdout",
     "output_type": "stream",
     "text": [
      "{\"format-version\":2,\"table-uuid\":\"878b837f-5cf0-4eeb-909a-1bbfedb65d92\",\"location\":\"file:///opt/bitnami/spark/warehouse/banking/source_transactions\",\"last-sequence-number\":0,\"last-updated-ms\":1752392915539,\"last-column-id\":11,\"current-schema-id\":0,\"schemas\":[{\"type\":\"struct\",\"schema-id\":0,\"fields\":[{\"id\":1,\"name\":\"transaction_id\",\"required\":false,\"type\":\"string\"},{\"id\":2,\"name\":\"source_system\",\"required\":false,\"type\":\"string\"},{\"id\":3,\"name\":\"transaction_date\",\"required\":false,\"type\":\"timestamptz\"},{\"id\":4,\"name\":\"amount\",\"required\":false,\"type\":\"decimal(18, 2)\"},{\"id\":5,\"name\":\"account_id\",\"required\":false,\"type\":\"string\"},{\"id\":6,\"name\":\"transaction_type\",\"required\":false,\"type\":\"string\"},{\"id\":7,\"name\":\"reference_id\",\"required\":false,\"type\":\"string\"},{\"id\":8,\"name\":\"status\",\"required\":false,\"type\":\"string\"},{\"id\":9,\"name\":\"payload\",\"required\":false,\"type\":\"string\"},{\"id\":10,\"name\":\"created_at\",\"required\":false,\"type\":\"timestamptz\"},{\"id\":11,\"name\":\"processing_timestamp\",\"required\":false,\"type\":\"timestamptz\"}]}],\"default-spec-id\":0,\"partition-specs\":[{\"spec-id\":0,\"fields\":[{\"name\":\"transaction_date_day\",\"transform\":\"day\",\"source-id\":3,\"field-id\":1000},{\"name\":\"source_system\",\"transform\":\"identity\",\"source-id\":2,\"field-id\":1001}]}],\"last-partition-id\":1001,\"default-sort-order-id\":0,\"sort-orders\":[{\"order-id\":0,\"fields\":[]}],\"properties\":{\"owner\":\"spark\",\"write.parquet.compression-codec\":\"zstd\"},\"current-snapshot-id\":-1,\"refs\":{},\"snapshots\":[],\"statistics\":[],\"partition-statistics\":[],\"snapshot-log\":[],\"metadata-log\":[]}"
     ]
    },
    {
     "data": {
      "text/html": [
       "<pre style=\"white-space:pre;overflow-x:auto;line-height:normal;font-family:Menlo,'DejaVu Sans Mono',consolas,'Courier New',monospace\">\n",
       "🔍 version hint file:\n",
       "</pre>\n"
      ],
      "text/plain": [
       "\n",
       "🔍 version hint file:\n"
      ]
     },
     "metadata": {},
     "output_type": "display_data"
    },
    {
     "name": "stdout",
     "output_type": "stream",
     "text": [
      "1"
     ]
    }
   ],
   "source": [
    "# Examine the metadata file to understand table schema and properties\n",
    "print(\"📄 Examining table metadata...\")\n",
    "print(\"\\n🔍 source_transactions metadata content:\")\n",
    "!cat {warehouse_dir}/banking/source_transactions/metadata/v1.metadata.json\n",
    "\n",
    "print(\"\\n🔍 version hint file:\")\n",
    "!cat {warehouse_dir}/banking/source_transactions/metadata/version-hint.text"
   ]
  },
  {
   "cell_type": "markdown",
   "metadata": {},
   "source": [
    "## Step 10: Phase 1 Summary and Next Steps\n",
    "\n",
    "**Purpose**: Provide a comprehensive summary of what was accomplished and prepare for the next phase.\n",
    "\n",
    "### **What We've Accomplished**:\n",
    "\n",
    "#### **✅ Infrastructure Setup**\n",
    "- Spark session with Iceberg extensions\n",
    "- Local catalog with Hive metastore\n",
    "- MinIO object storage buckets\n",
    "\n",
    "#### **✅ Data Architecture**\n",
    "- Banking namespace for organization\n",
    "- Three core tables with proper schemas\n",
    "- Partitioning strategy for performance\n",
    "\n",
    "#### **✅ File Structure**\n",
    "- Iceberg metadata and data directories\n",
    "- Proper table organization\n",
    "- Version control and checksums\n",
    "\n",
    "### **Next Phase Preview**:\n",
    "- **Data Generation**: Create sample transaction data\n",
    "- **Data Ingestion**: Load data into Iceberg tables\n",
    "- **Reconciliation Logic**: Implement matching algorithms\n",
    "- **Testing**: Validate the complete system"
   ]
  },
  {
   "cell_type": "code",
   "execution_count": 16,
   "metadata": {},
   "outputs": [
    {
     "data": {
      "text/html": [
       "<pre style=\"white-space:pre;overflow-x:auto;line-height:normal;font-family:Menlo,'DejaVu Sans Mono',consolas,'Courier New',monospace\">🎉 Phase <span style=\"color: #008080; text-decoration-color: #008080; font-weight: bold\">1</span> Setup Complete!\n",
       "</pre>\n"
      ],
      "text/plain": [
       "🎉 Phase \u001b[1;36m1\u001b[0m Setup Complete!\n"
      ]
     },
     "metadata": {},
     "output_type": "display_data"
    },
    {
     "data": {
      "text/html": [
       "<pre style=\"white-space:pre;overflow-x:auto;line-height:normal;font-family:Menlo,'DejaVu Sans Mono',consolas,'Courier New',monospace\">============================================================\n",
       "</pre>\n"
      ],
      "text/plain": [
       "============================================================\n"
      ]
     },
     "metadata": {},
     "output_type": "display_data"
    },
    {
     "data": {
      "text/html": [
       "<pre style=\"white-space:pre;overflow-x:auto;line-height:normal;font-family:Menlo,'DejaVu Sans Mono',consolas,'Courier New',monospace\"><span style=\"font-weight: bold\">{</span>\n",
       "  <span style=\"color: #008000; text-decoration-color: #008000\">\"timestamp\"</span>: <span style=\"color: #008000; text-decoration-color: #008000\">\"2025-07-13T09:02:59.890657\"</span>,\n",
       "  <span style=\"color: #008000; text-decoration-color: #008000\">\"phase\"</span>: <span style=\"color: #008000; text-decoration-color: #008000\">\"Phase 1 - Foundation Setup\"</span>,\n",
       "  <span style=\"color: #008000; text-decoration-color: #008000\">\"status\"</span>: <span style=\"color: #008000; text-decoration-color: #008000\">\"completed\"</span>,\n",
       "  <span style=\"color: #008000; text-decoration-color: #008000\">\"components\"</span>: <span style=\"font-weight: bold\">{</span>\n",
       "    <span style=\"color: #008000; text-decoration-color: #008000\">\"spark_session\"</span>: <span style=\"font-weight: bold\">{</span>\n",
       "      <span style=\"color: #008000; text-decoration-color: #008000\">\"status\"</span>: <span style=\"color: #008000; text-decoration-color: #008000\">\"\\u2713 Created\"</span>,\n",
       "      <span style=\"color: #008000; text-decoration-color: #008000\">\"version\"</span>: <span style=\"color: #008000; text-decoration-color: #008000\">\"3.5.2\"</span>,\n",
       "      <span style=\"color: #008000; text-decoration-color: #008000\">\"catalog\"</span>: <span style=\"color: #008000; text-decoration-color: #008000\">\"local\"</span>,\n",
       "      <span style=\"color: #008000; text-decoration-color: #008000\">\"warehouse\"</span>: <span style=\"color: #008000; text-decoration-color: #008000\">\"file:///opt/bitnami/spark/warehouse\"</span>\n",
       "    <span style=\"font-weight: bold\">}</span>,\n",
       "    <span style=\"color: #008000; text-decoration-color: #008000\">\"minio_connection\"</span>: <span style=\"font-weight: bold\">{</span>\n",
       "      <span style=\"color: #008000; text-decoration-color: #008000\">\"status\"</span>: <span style=\"color: #008000; text-decoration-color: #008000\">\"\\u2713 Established\"</span>,\n",
       "      <span style=\"color: #008000; text-decoration-color: #008000\">\"endpoint\"</span>: <span style=\"color: #008000; text-decoration-color: #008000\">\"http://minio:9000\"</span>,\n",
       "      <span style=\"color: #008000; text-decoration-color: #008000\">\"buckets\"</span>: <span style=\"color: #008080; text-decoration-color: #008080; font-weight: bold\">4</span>\n",
       "    <span style=\"font-weight: bold\">}</span>,\n",
       "    <span style=\"color: #008000; text-decoration-color: #008000\">\"namespace\"</span>: <span style=\"font-weight: bold\">{</span>\n",
       "      <span style=\"color: #008000; text-decoration-color: #008000\">\"status\"</span>: <span style=\"color: #008000; text-decoration-color: #008000\">\"\\u2713 Created\"</span>,\n",
       "      <span style=\"color: #008000; text-decoration-color: #008000\">\"name\"</span>: <span style=\"color: #008000; text-decoration-color: #008000\">\"local.banking\"</span>,\n",
       "      <span style=\"color: #008000; text-decoration-color: #008000\">\"location\"</span>: <span style=\"color: #008000; text-decoration-color: #008000\">\"/opt/bitnami/spark/warehouse/banking\"</span>\n",
       "    <span style=\"font-weight: bold\">}</span>,\n",
       "    <span style=\"color: #008000; text-decoration-color: #008000\">\"tables\"</span>: <span style=\"font-weight: bold\">{</span>\n",
       "      <span style=\"color: #008000; text-decoration-color: #008000\">\"status\"</span>: <span style=\"color: #008000; text-decoration-color: #008000\">\"\\u2713 Created\"</span>,\n",
       "      <span style=\"color: #008000; text-decoration-color: #008000\">\"count\"</span>: <span style=\"color: #008080; text-decoration-color: #008080; font-weight: bold\">3</span>,\n",
       "      <span style=\"color: #008000; text-decoration-color: #008000\">\"names\"</span>: <span style=\"font-weight: bold\">[</span>\n",
       "        <span style=\"color: #008000; text-decoration-color: #008000\">\"source_transactions\"</span>,\n",
       "        <span style=\"color: #008000; text-decoration-color: #008000\">\"reconciliation_results\"</span>,\n",
       "        <span style=\"color: #008000; text-decoration-color: #008000\">\"reconciliation_batches\"</span>\n",
       "      <span style=\"font-weight: bold\">]</span>\n",
       "    <span style=\"font-weight: bold\">}</span>\n",
       "  <span style=\"font-weight: bold\">}</span>,\n",
       "  <span style=\"color: #008000; text-decoration-color: #008000\">\"file_structure\"</span>: <span style=\"font-weight: bold\">{</span>\n",
       "    <span style=\"color: #008000; text-decoration-color: #008000\">\"warehouse_root\"</span>: <span style=\"color: #008000; text-decoration-color: #008000\">\"/opt/bitnami/spark/warehouse\"</span>,\n",
       "    <span style=\"color: #008000; text-decoration-color: #008000\">\"banking_namespace\"</span>: <span style=\"color: #008000; text-decoration-color: #008000\">\"/opt/bitnami/spark/warehouse/banking\"</span>,\n",
       "    <span style=\"color: #008000; text-decoration-color: #008000\">\"metadata_files\"</span>: <span style=\"color: #008000; text-decoration-color: #008000\">\"v1.metadata.json, version-hint.text, .crc files\"</span>,\n",
       "    <span style=\"color: #008000; text-decoration-color: #008000\">\"data_directories\"</span>: <span style=\"color: #008000; text-decoration-color: #008000\">\"data/, snapshots/\"</span>\n",
       "  <span style=\"font-weight: bold\">}</span>,\n",
       "  <span style=\"color: #008000; text-decoration-color: #008000\">\"next_steps\"</span>: <span style=\"font-weight: bold\">[</span>\n",
       "    <span style=\"color: #008000; text-decoration-color: #008000\">\"Phase 2: Generate sample transaction data\"</span>,\n",
       "    <span style=\"color: #008000; text-decoration-color: #008000\">\"Phase 3: Ingest data into Iceberg tables\"</span>,\n",
       "    <span style=\"color: #008000; text-decoration-color: #008000\">\"Phase 4: Implement reconciliation logic\"</span>,\n",
       "    <span style=\"color: #008000; text-decoration-color: #008000\">\"Phase 5: Run comprehensive tests\"</span>\n",
       "  <span style=\"font-weight: bold\">]</span>\n",
       "<span style=\"font-weight: bold\">}</span>\n",
       "</pre>\n"
      ],
      "text/plain": [
       "\u001b[1m{\u001b[0m\n",
       "  \u001b[32m\"timestamp\"\u001b[0m: \u001b[32m\"2025-07-13T09:02:59.890657\"\u001b[0m,\n",
       "  \u001b[32m\"phase\"\u001b[0m: \u001b[32m\"Phase 1 - Foundation Setup\"\u001b[0m,\n",
       "  \u001b[32m\"status\"\u001b[0m: \u001b[32m\"completed\"\u001b[0m,\n",
       "  \u001b[32m\"components\"\u001b[0m: \u001b[1m{\u001b[0m\n",
       "    \u001b[32m\"spark_session\"\u001b[0m: \u001b[1m{\u001b[0m\n",
       "      \u001b[32m\"status\"\u001b[0m: \u001b[32m\"\\u2713 Created\"\u001b[0m,\n",
       "      \u001b[32m\"version\"\u001b[0m: \u001b[32m\"3.5.2\"\u001b[0m,\n",
       "      \u001b[32m\"catalog\"\u001b[0m: \u001b[32m\"local\"\u001b[0m,\n",
       "      \u001b[32m\"warehouse\"\u001b[0m: \u001b[32m\"file:///opt/bitnami/spark/warehouse\"\u001b[0m\n",
       "    \u001b[1m}\u001b[0m,\n",
       "    \u001b[32m\"minio_connection\"\u001b[0m: \u001b[1m{\u001b[0m\n",
       "      \u001b[32m\"status\"\u001b[0m: \u001b[32m\"\\u2713 Established\"\u001b[0m,\n",
       "      \u001b[32m\"endpoint\"\u001b[0m: \u001b[32m\"http://minio:9000\"\u001b[0m,\n",
       "      \u001b[32m\"buckets\"\u001b[0m: \u001b[1;36m4\u001b[0m\n",
       "    \u001b[1m}\u001b[0m,\n",
       "    \u001b[32m\"namespace\"\u001b[0m: \u001b[1m{\u001b[0m\n",
       "      \u001b[32m\"status\"\u001b[0m: \u001b[32m\"\\u2713 Created\"\u001b[0m,\n",
       "      \u001b[32m\"name\"\u001b[0m: \u001b[32m\"local.banking\"\u001b[0m,\n",
       "      \u001b[32m\"location\"\u001b[0m: \u001b[32m\"/opt/bitnami/spark/warehouse/banking\"\u001b[0m\n",
       "    \u001b[1m}\u001b[0m,\n",
       "    \u001b[32m\"tables\"\u001b[0m: \u001b[1m{\u001b[0m\n",
       "      \u001b[32m\"status\"\u001b[0m: \u001b[32m\"\\u2713 Created\"\u001b[0m,\n",
       "      \u001b[32m\"count\"\u001b[0m: \u001b[1;36m3\u001b[0m,\n",
       "      \u001b[32m\"names\"\u001b[0m: \u001b[1m[\u001b[0m\n",
       "        \u001b[32m\"source_transactions\"\u001b[0m,\n",
       "        \u001b[32m\"reconciliation_results\"\u001b[0m,\n",
       "        \u001b[32m\"reconciliation_batches\"\u001b[0m\n",
       "      \u001b[1m]\u001b[0m\n",
       "    \u001b[1m}\u001b[0m\n",
       "  \u001b[1m}\u001b[0m,\n",
       "  \u001b[32m\"file_structure\"\u001b[0m: \u001b[1m{\u001b[0m\n",
       "    \u001b[32m\"warehouse_root\"\u001b[0m: \u001b[32m\"/opt/bitnami/spark/warehouse\"\u001b[0m,\n",
       "    \u001b[32m\"banking_namespace\"\u001b[0m: \u001b[32m\"/opt/bitnami/spark/warehouse/banking\"\u001b[0m,\n",
       "    \u001b[32m\"metadata_files\"\u001b[0m: \u001b[32m\"v1.metadata.json, version-hint.text, .crc files\"\u001b[0m,\n",
       "    \u001b[32m\"data_directories\"\u001b[0m: \u001b[32m\"data/, snapshots/\"\u001b[0m\n",
       "  \u001b[1m}\u001b[0m,\n",
       "  \u001b[32m\"next_steps\"\u001b[0m: \u001b[1m[\u001b[0m\n",
       "    \u001b[32m\"Phase 2: Generate sample transaction data\"\u001b[0m,\n",
       "    \u001b[32m\"Phase 3: Ingest data into Iceberg tables\"\u001b[0m,\n",
       "    \u001b[32m\"Phase 4: Implement reconciliation logic\"\u001b[0m,\n",
       "    \u001b[32m\"Phase 5: Run comprehensive tests\"\u001b[0m\n",
       "  \u001b[1m]\u001b[0m\n",
       "\u001b[1m}\u001b[0m\n"
      ]
     },
     "metadata": {},
     "output_type": "display_data"
    },
    {
     "data": {
      "text/html": [
       "<pre style=\"white-space:pre;overflow-x:auto;line-height:normal;font-family:Menlo,'DejaVu Sans Mono',consolas,'Courier New',monospace\">============================================================\n",
       "</pre>\n"
      ],
      "text/plain": [
       "============================================================\n"
      ]
     },
     "metadata": {},
     "output_type": "display_data"
    },
    {
     "data": {
      "text/html": [
       "<pre style=\"white-space:pre;overflow-x:auto;line-height:normal;font-family:Menlo,'DejaVu Sans Mono',consolas,'Courier New',monospace\">\n",
       "📚 Learning Summary:\n",
       "</pre>\n"
      ],
      "text/plain": [
       "\n",
       "📚 Learning Summary:\n"
      ]
     },
     "metadata": {},
     "output_type": "display_data"
    },
    {
     "data": {
      "text/html": [
       "<pre style=\"white-space:pre;overflow-x:auto;line-height:normal;font-family:Menlo,'DejaVu Sans Mono',consolas,'Courier New',monospace\">✅ Understanding of Iceberg local catalog with Hive metastore\n",
       "</pre>\n"
      ],
      "text/plain": [
       "✅ Understanding of Iceberg local catalog with Hive metastore\n"
      ]
     },
     "metadata": {},
     "output_type": "display_data"
    },
    {
     "data": {
      "text/html": [
       "<pre style=\"white-space:pre;overflow-x:auto;line-height:normal;font-family:Menlo,'DejaVu Sans Mono',consolas,'Courier New',monospace\">✅ Knowledge of Iceberg file structure and metadata organization\n",
       "</pre>\n"
      ],
      "text/plain": [
       "✅ Knowledge of Iceberg file structure and metadata organization\n"
      ]
     },
     "metadata": {},
     "output_type": "display_data"
    },
    {
     "data": {
      "text/html": [
       "<pre style=\"white-space:pre;overflow-x:auto;line-height:normal;font-family:Menlo,'DejaVu Sans Mono',consolas,'Courier New',monospace\">✅ Experience with table partitioning and schema design\n",
       "</pre>\n"
      ],
      "text/plain": [
       "✅ Experience with table partitioning and schema design\n"
      ]
     },
     "metadata": {},
     "output_type": "display_data"
    },
    {
     "data": {
      "text/html": [
       "<pre style=\"white-space:pre;overflow-x:auto;line-height:normal;font-family:Menlo,'DejaVu Sans Mono',consolas,'Courier New',monospace\">✅ Familiarity with MinIO object storage integration\n",
       "</pre>\n"
      ],
      "text/plain": [
       "✅ Familiarity with MinIO object storage integration\n"
      ]
     },
     "metadata": {},
     "output_type": "display_data"
    },
    {
     "data": {
      "text/html": [
       "<pre style=\"white-space:pre;overflow-x:auto;line-height:normal;font-family:Menlo,'DejaVu Sans Mono',consolas,'Courier New',monospace\">\n",
       "🚀 Next: Run Phase <span style=\"color: #008080; text-decoration-color: #008080; font-weight: bold\">2</span> notebook for data generation and population.\n",
       "</pre>\n"
      ],
      "text/plain": [
       "\n",
       "🚀 Next: Run Phase \u001b[1;36m2\u001b[0m notebook for data generation and population.\n"
      ]
     },
     "metadata": {},
     "output_type": "display_data"
    }
   ],
   "source": [
    "# Generate setup summary\n",
    "setup_summary = {\n",
    "    \"timestamp\": datetime.now().isoformat(),\n",
    "    \"phase\": \"Phase 1 - Foundation Setup\",\n",
    "    \"status\": \"completed\",\n",
    "    \"components\": {\n",
    "        \"spark_session\": {\n",
    "            \"status\": \"✓ Created\",\n",
    "            \"version\": spark.version,\n",
    "            \"catalog\": spark.conf.get('spark.sql.defaultCatalog'),\n",
    "            \"warehouse\": spark.conf.get('spark.sql.catalog.local.warehouse')\n",
    "        },\n",
    "        \"minio_connection\": {\n",
    "            \"status\": \"✓ Established\",\n",
    "            \"endpoint\": \"http://minio:9000\",\n",
    "            \"buckets\": len(bucket_purposes)\n",
    "        },\n",
    "        \"namespace\": {\n",
    "            \"status\": \"✓ Created\",\n",
    "            \"name\": \"local.banking\",\n",
    "            \"location\": f\"{warehouse_dir}/banking\"\n",
    "        },\n",
    "        \"tables\": {\n",
    "            \"status\": \"✓ Created\",\n",
    "            \"count\": table_count,\n",
    "            \"names\": [\"source_transactions\", \"reconciliation_results\", \"reconciliation_batches\"]\n",
    "        }\n",
    "    },\n",
    "    \"file_structure\": {\n",
    "        \"warehouse_root\": warehouse_dir,\n",
    "        \"banking_namespace\": f\"{warehouse_dir}/banking\",\n",
    "        \"metadata_files\": \"v1.metadata.json, version-hint.text, .crc files\",\n",
    "        \"data_directories\": \"data/, snapshots/\"\n",
    "    },\n",
    "    \"next_steps\": [\n",
    "        \"Phase 2: Generate sample transaction data\",\n",
    "        \"Phase 3: Ingest data into Iceberg tables\",\n",
    "        \"Phase 4: Implement reconciliation logic\",\n",
    "        \"Phase 5: Run comprehensive tests\"\n",
    "    ]\n",
    "}\n",
    "\n",
    "print(\"🎉 Phase 1 Setup Complete!\")\n",
    "print(\"=\" * 60)\n",
    "print(json.dumps(setup_summary, indent=2))\n",
    "print(\"=\" * 60)\n",
    "print(\"\\n📚 Learning Summary:\")\n",
    "print(\"✅ Understanding of Iceberg local catalog with Hive metastore\")\n",
    "print(\"✅ Knowledge of Iceberg file structure and metadata organization\")\n",
    "print(\"✅ Experience with table partitioning and schema design\")\n",
    "print(\"✅ Familiarity with MinIO object storage integration\")\n",
    "print(\"\\n🚀 Next: Run Phase 2 notebook for data generation and population.\")"
   ]
  },
  {
   "cell_type": "code",
   "execution_count": null,
   "metadata": {},
   "outputs": [],
   "source": []
  }
 ],
 "metadata": {
  "kernelspec": {
   "display_name": "Python 3 (ipykernel)",
   "language": "python",
   "name": "python3"
  },
  "language_info": {
   "codemirror_mode": {
    "name": "ipython",
    "version": 3
   },
   "file_extension": ".py",
   "mimetype": "text/x-python",
   "name": "python",
   "nbconvert_exporter": "python",
   "pygments_lexer": "ipython3",
   "version": "3.12.6"
  }
 },
 "nbformat": 4,
 "nbformat_minor": 4
}
