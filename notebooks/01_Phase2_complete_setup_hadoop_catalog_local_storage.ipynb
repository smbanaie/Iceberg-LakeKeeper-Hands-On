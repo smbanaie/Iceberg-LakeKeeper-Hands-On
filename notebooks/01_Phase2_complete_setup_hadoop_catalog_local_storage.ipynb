{
 "cells": [
  {
   "cell_type": "markdown",
   "metadata": {},
   "source": [
    "# Complete Banking Reconciliation Setup - Phase 2\n",
    "\n",
    "## 🎯 Learning Objectives\n",
    "\n",
    "This notebook demonstrates how to generate and populate data into Apache Iceberg tables using a **local catalog**. You will learn:\n",
    "\n",
    "### **Data Generation Fundamentals**\n",
    "- **Realistic Data Creation**: Generate banking transactions that mimic real-world scenarios\n",
    "- **Multi-System Simulation**: Create data from different source systems (core banking, card processor, payment gateway)\n",
    "- **Discrepancy Introduction**: Intentionally create mismatches to test reconciliation logic\n",
    "- **Data Quality**: Ensure generated data meets business requirements\n",
    "\n",
    "### **Data Ingestion with Iceberg**\n",
    "- **CSV to Iceberg**: Convert CSV files to Iceberg table format\n",
    "- **Partitioning Strategy**: How data is organized by date and source system\n",
    "- **Metadata Management**: Understanding how Iceberg tracks data lineage\n",
    "- **Incremental Loading**: Add new data without affecting existing records\n",
    "\n",
    "### **Audit and Validation**\n",
    "- **Data Quality Checks**: Verify data integrity and completeness\n",
    "- **Performance Analysis**: Monitor query performance with real data\n",
    "- **File Structure Analysis**: Examine how Iceberg organizes data files\n",
    "- **Reconciliation Readiness**: Ensure data is ready for reconciliation processes\n",
    "\n",
    "## Phase 2: Data Generation and Population"
   ]
  },
  {
   "cell_type": "markdown",
   "metadata": {},
   "source": [
    "## Step 1: Import Required Libraries and Setup\n",
    "\n",
    "**Purpose**: Import all necessary libraries for data generation, manipulation, and Iceberg operations.\n",
    "\n",
    "### **Key Libraries**:\n",
    "- `pyspark.sql`: Spark DataFrame operations and Iceberg integration\n",
    "- `pandas`: Data manipulation and CSV handling\n",
    "- `faker`: Generate realistic fake data\n",
    "- `uuid`, `random`, `datetime`: Data generation utilities\n",
    "- `json`: Handle complex payload structures"
   ]
  },
  {
   "cell_type": "code",
   "execution_count": 1,
   "metadata": {},
   "outputs": [
    {
     "name": "stdout",
     "output_type": "stream",
     "text": [
      "\u001b[33mDEPRECATION: Loading egg at /opt/bitnami/python/lib/python3.12/site-packages/pip-23.3.2-py3.12.egg is deprecated. pip 24.3 will enforce this behaviour change. A possible replacement is to use pip for package installation. Discussion can be found at https://github.com/pypa/pip/issues/12330\u001b[0m\u001b[33m\n",
      "\u001b[0m"
     ]
    },
    {
     "data": {
      "text/html": [
       "<pre style=\"white-space:pre;overflow-x:auto;line-height:normal;font-family:Menlo,'DejaVu Sans Mono',consolas,'Courier New',monospace\">✓ All required libraries imported successfully\n",
       "</pre>\n"
      ],
      "text/plain": [
       "✓ All required libraries imported successfully\n"
      ]
     },
     "metadata": {},
     "output_type": "display_data"
    },
    {
     "data": {
      "text/html": [
       "<pre style=\"white-space:pre;overflow-x:auto;line-height:normal;font-family:Menlo,'DejaVu Sans Mono',consolas,'Courier New',monospace\">Faker locale: <span style=\"font-weight: bold\">&lt;</span><span style=\"color: #ff00ff; text-decoration-color: #ff00ff; font-weight: bold\">bound</span><span style=\"color: #000000; text-decoration-color: #000000\"> method BaseProvider.locale of &lt;faker.providers.user_agent.Provider object at </span><span style=\"color: #008080; text-decoration-color: #008080; font-weight: bold\">0x75e09d9b63c0</span><span style=\"color: #000000; text-decoration-color: #000000\">&gt;</span><span style=\"font-weight: bold\">&gt;</span>\n",
       "</pre>\n"
      ],
      "text/plain": [
       "Faker locale: \u001b[1m<\u001b[0m\u001b[1;95mbound\u001b[0m\u001b[39m method BaseProvider.locale of <faker.providers.user_agent.Provider object at \u001b[0m\u001b[1;36m0x75e09d9b63c0\u001b[0m\u001b[39m>\u001b[0m\u001b[1m>\u001b[0m\n"
      ]
     },
     "metadata": {},
     "output_type": "display_data"
    },
    {
     "data": {
      "text/html": [
       "<pre style=\"white-space:pre;overflow-x:auto;line-height:normal;font-family:Menlo,'DejaVu Sans Mono',consolas,'Courier New',monospace\">Current timestamp: <span style=\"color: #008080; text-decoration-color: #008080; font-weight: bold\">2025</span>-<span style=\"color: #008080; text-decoration-color: #008080; font-weight: bold\">07</span>-<span style=\"color: #008080; text-decoration-color: #008080; font-weight: bold\">13</span> <span style=\"color: #00ff00; text-decoration-color: #00ff00; font-weight: bold\">09:48:40</span>.<span style=\"color: #008080; text-decoration-color: #008080; font-weight: bold\">394941</span>\n",
       "</pre>\n"
      ],
      "text/plain": [
       "Current timestamp: \u001b[1;36m2025\u001b[0m-\u001b[1;36m07\u001b[0m-\u001b[1;36m13\u001b[0m \u001b[1;92m09:48:40\u001b[0m.\u001b[1;36m394941\u001b[0m\n"
      ]
     },
     "metadata": {},
     "output_type": "display_data"
    }
   ],
   "source": [
    "!pip install --root-user-action=ignore rich --quiet\n",
    "from rich import print\n",
    "# Import required libraries for data generation and manipulation\n",
    "from pyspark.sql import SparkSession\n",
    "from pyspark.sql.functions import col, expr, when, lit, current_timestamp\n",
    "import pandas as pd\n",
    "import json\n",
    "import uuid\n",
    "import random\n",
    "from datetime import datetime, timedelta\n",
    "import os\n",
    "from faker import Faker\n",
    "\n",
    "# Initialize Faker for realistic data generation\n",
    "fake = Faker()\n",
    "\n",
    "print(\"✓ All required libraries imported successfully\")\n",
    "print(f\"Faker locale: {fake.locale}\")\n",
    "print(f\"Current timestamp: {datetime.now()}\")"
   ]
  },
  {
   "cell_type": "markdown",
   "metadata": {},
   "source": [
    "## Step 2: Create Spark Session with Iceberg Configuration\n",
    "\n",
    "**Purpose**: Initialize Spark with the same Iceberg configuration from Phase 1.\n",
    "\n",
    "### **Configuration Consistency**:\n",
    "- Uses the same local catalog configuration\n",
    "- Maintains warehouse directory structure\n",
    "- Ensures compatibility with existing tables\n",
    "\n",
    "### **Why This Matters**:\n",
    "- **Session Continuity**: Same configuration as Phase 1\n",
    "- **Table Access**: Can access previously created tables\n",
    "- **Data Consistency**: Ensures data is written to correct location"
   ]
  },
  {
   "cell_type": "code",
   "execution_count": 2,
   "metadata": {},
   "outputs": [
    {
     "name": "stderr",
     "output_type": "stream",
     "text": [
      "Setting default log level to \"WARN\".\n",
      "To adjust logging level use sc.setLogLevel(newLevel). For SparkR, use setLogLevel(newLevel).\n",
      "25/07/13 09:49:50 WARN NativeCodeLoader: Unable to load native-hadoop library for your platform... using builtin-java classes where applicable\n"
     ]
    },
    {
     "data": {
      "text/html": [
       "<pre style=\"white-space:pre;overflow-x:auto;line-height:normal;font-family:Menlo,'DejaVu Sans Mono',consolas,'Courier New',monospace\">✓ Spark session created successfully\n",
       "</pre>\n"
      ],
      "text/plain": [
       "✓ Spark session created successfully\n"
      ]
     },
     "metadata": {},
     "output_type": "display_data"
    },
    {
     "data": {
      "text/html": [
       "<pre style=\"white-space:pre;overflow-x:auto;line-height:normal;font-family:Menlo,'DejaVu Sans Mono',consolas,'Courier New',monospace\">Spark version: <span style=\"color: #008080; text-decoration-color: #008080; font-weight: bold\">3.5</span>.<span style=\"color: #008080; text-decoration-color: #008080; font-weight: bold\">2</span>\n",
       "</pre>\n"
      ],
      "text/plain": [
       "Spark version: \u001b[1;36m3.5\u001b[0m.\u001b[1;36m2\u001b[0m\n"
      ]
     },
     "metadata": {},
     "output_type": "display_data"
    },
    {
     "data": {
      "text/html": [
       "<pre style=\"white-space:pre;overflow-x:auto;line-height:normal;font-family:Menlo,'DejaVu Sans Mono',consolas,'Courier New',monospace\">Default catalog: local\n",
       "</pre>\n"
      ],
      "text/plain": [
       "Default catalog: local\n"
      ]
     },
     "metadata": {},
     "output_type": "display_data"
    },
    {
     "data": {
      "text/html": [
       "<pre style=\"white-space:pre;overflow-x:auto;line-height:normal;font-family:Menlo,'DejaVu Sans Mono',consolas,'Courier New',monospace\">Warehouse location: <span style=\"color: #0000ff; text-decoration-color: #0000ff; text-decoration: underline\">file:///opt/bitnami/spark/warehouse</span>\n",
       "</pre>\n"
      ],
      "text/plain": [
       "Warehouse location: \u001b[4;94mfile:///opt/bitnami/spark/warehouse\u001b[0m\n"
      ]
     },
     "metadata": {},
     "output_type": "display_data"
    }
   ],
   "source": [
    "# Create warehouse directory if it doesn't exist\n",
    "warehouse_dir = \"/opt/bitnami/spark/warehouse\"\n",
    "os.makedirs(warehouse_dir, exist_ok=True)\n",
    "\n",
    "# Create Spark session with the same configuration as Phase 1\n",
    "spark = SparkSession.builder \\\n",
    "    .appName(\"Banking Reconciliation - Data Population\") \\\n",
    "    .config(\"spark.sql.extensions\", \"org.apache.iceberg.spark.extensions.IcebergSparkSessionExtensions\") \\\n",
    "    .config(\"spark.sql.catalog.spark_catalog\", \"org.apache.iceberg.spark.SparkSessionCatalog\") \\\n",
    "    .config(\"spark.sql.catalog.spark_catalog.type\", \"hive\") \\\n",
    "    .config(\"spark.sql.catalog.local\", \"org.apache.iceberg.spark.SparkCatalog\") \\\n",
    "    .config(\"spark.sql.catalog.local.type\", \"hadoop\") \\\n",
    "    .config(\"spark.sql.catalog.local.warehouse\", f\"file://{warehouse_dir}\") \\\n",
    "    .config(\"spark.sql.defaultCatalog\", \"local\") \\\n",
    "    .getOrCreate()\n",
    "\n",
    "print(\"✓ Spark session created successfully\")\n",
    "print(f\"Spark version: {spark.version}\")\n",
    "print(f\"Default catalog: {spark.conf.get('spark.sql.defaultCatalog')}\")\n",
    "print(f\"Warehouse location: {spark.conf.get('spark.sql.catalog.local.warehouse')}\")"
   ]
  },
  {
   "cell_type": "markdown",
   "metadata": {},
   "source": [
    "## Step 3: Verify Existing Tables and Data\n",
    "\n",
    "**Purpose**: Confirm that tables from Phase 1 exist and are accessible.\n",
    "\n",
    "### **What We'll Check**:\n",
    "1. **Table Existence**: Verify all three tables are present\n",
    "2. **Schema Validation**: Confirm table schemas are correct\n",
    "3. **Current Data State**: Check if any data already exists\n",
    "4. **Partitioning**: Verify partitioning strategy is in place"
   ]
  },
  {
   "cell_type": "code",
   "execution_count": 3,
   "metadata": {},
   "outputs": [
    {
     "data": {
      "text/html": [
       "<pre style=\"white-space:pre;overflow-x:auto;line-height:normal;font-family:Menlo,'DejaVu Sans Mono',consolas,'Courier New',monospace\"> Verifying existing tables from Phase <span style=\"color: #008080; text-decoration-color: #008080; font-weight: bold\">1</span><span style=\"color: #808000; text-decoration-color: #808000\">...</span>\n",
       "</pre>\n"
      ],
      "text/plain": [
       " Verifying existing tables from Phase \u001b[1;36m1\u001b[0m\u001b[33m...\u001b[0m\n"
      ]
     },
     "metadata": {},
     "output_type": "display_data"
    },
    {
     "data": {
      "text/html": [
       "<pre style=\"white-space:pre;overflow-x:auto;line-height:normal;font-family:Menlo,'DejaVu Sans Mono',consolas,'Courier New',monospace\">\n",
       " Available tables:\n",
       "</pre>\n"
      ],
      "text/plain": [
       "\n",
       " Available tables:\n"
      ]
     },
     "metadata": {},
     "output_type": "display_data"
    },
    {
     "name": "stdout",
     "output_type": "stream",
     "text": [
      "+---------+--------------------+-----------+\n",
      "|namespace|           tableName|isTemporary|\n",
      "+---------+--------------------+-----------+\n",
      "|  banking|reconciliation_ba...|      false|\n",
      "|  banking|reconciliation_re...|      false|\n",
      "|  banking| source_transactions|      false|\n",
      "+---------+--------------------+-----------+\n",
      "\n"
     ]
    },
    {
     "data": {
      "text/html": [
       "<pre style=\"white-space:pre;overflow-x:auto;line-height:normal;font-family:Menlo,'DejaVu Sans Mono',consolas,'Courier New',monospace\">\n",
       "📊 Current data counts:\n",
       "</pre>\n"
      ],
      "text/plain": [
       "\n",
       "📊 Current data counts:\n"
      ]
     },
     "metadata": {},
     "output_type": "display_data"
    },
    {
     "name": "stderr",
     "output_type": "stream",
     "text": [
      "                                                                                "
     ]
    },
    {
     "data": {
      "text/html": [
       "<pre style=\"white-space:pre;overflow-x:auto;line-height:normal;font-family:Menlo,'DejaVu Sans Mono',consolas,'Courier New',monospace\">✓ local.banking.source_transactions: <span style=\"color: #008080; text-decoration-color: #008080; font-weight: bold\">0</span> rows\n",
       "</pre>\n"
      ],
      "text/plain": [
       "✓ local.banking.source_transactions: \u001b[1;36m0\u001b[0m rows\n"
      ]
     },
     "metadata": {},
     "output_type": "display_data"
    },
    {
     "data": {
      "text/html": [
       "<pre style=\"white-space:pre;overflow-x:auto;line-height:normal;font-family:Menlo,'DejaVu Sans Mono',consolas,'Courier New',monospace\">✓ local.banking.reconciliation_results: <span style=\"color: #008080; text-decoration-color: #008080; font-weight: bold\">0</span> rows\n",
       "</pre>\n"
      ],
      "text/plain": [
       "✓ local.banking.reconciliation_results: \u001b[1;36m0\u001b[0m rows\n"
      ]
     },
     "metadata": {},
     "output_type": "display_data"
    },
    {
     "data": {
      "text/html": [
       "<pre style=\"white-space:pre;overflow-x:auto;line-height:normal;font-family:Menlo,'DejaVu Sans Mono',consolas,'Courier New',monospace\">✓ local.banking.reconciliation_batches: <span style=\"color: #008080; text-decoration-color: #008080; font-weight: bold\">0</span> rows\n",
       "</pre>\n"
      ],
      "text/plain": [
       "✓ local.banking.reconciliation_batches: \u001b[1;36m0\u001b[0m rows\n"
      ]
     },
     "metadata": {},
     "output_type": "display_data"
    },
    {
     "data": {
      "text/html": [
       "<pre style=\"white-space:pre;overflow-x:auto;line-height:normal;font-family:Menlo,'DejaVu Sans Mono',consolas,'Courier New',monospace\">\n",
       "�� Table schemas:\n",
       "</pre>\n"
      ],
      "text/plain": [
       "\n",
       "�� Table schemas:\n"
      ]
     },
     "metadata": {},
     "output_type": "display_data"
    },
    {
     "data": {
      "text/html": [
       "<pre style=\"white-space:pre;overflow-x:auto;line-height:normal;font-family:Menlo,'DejaVu Sans Mono',consolas,'Courier New',monospace\">\n",
       "📋 local.banking.source_transactions schema:\n",
       "</pre>\n"
      ],
      "text/plain": [
       "\n",
       "📋 local.banking.source_transactions schema:\n"
      ]
     },
     "metadata": {},
     "output_type": "display_data"
    },
    {
     "name": "stdout",
     "output_type": "stream",
     "text": [
      "+--------------------+--------------------+-------+\n",
      "|            col_name|           data_type|comment|\n",
      "+--------------------+--------------------+-------+\n",
      "|      transaction_id|              string|   NULL|\n",
      "|       source_system|              string|   NULL|\n",
      "|    transaction_date|           timestamp|   NULL|\n",
      "|              amount|       decimal(18,2)|   NULL|\n",
      "|          account_id|              string|   NULL|\n",
      "|    transaction_type|              string|   NULL|\n",
      "|        reference_id|              string|   NULL|\n",
      "|              status|              string|   NULL|\n",
      "|             payload|              string|   NULL|\n",
      "|          created_at|           timestamp|   NULL|\n",
      "|processing_timestamp|           timestamp|   NULL|\n",
      "|                    |                    |       |\n",
      "|      # Partitioning|                    |       |\n",
      "|              Part 0|days(transaction_...|       |\n",
      "|              Part 1|       source_system|       |\n",
      "+--------------------+--------------------+-------+\n",
      "\n"
     ]
    },
    {
     "data": {
      "text/html": [
       "<pre style=\"white-space:pre;overflow-x:auto;line-height:normal;font-family:Menlo,'DejaVu Sans Mono',consolas,'Courier New',monospace\">\n",
       "📋 local.banking.reconciliation_results schema:\n",
       "</pre>\n"
      ],
      "text/plain": [
       "\n",
       "📋 local.banking.reconciliation_results schema:\n"
      ]
     },
     "metadata": {},
     "output_type": "display_data"
    },
    {
     "name": "stdout",
     "output_type": "stream",
     "text": [
      "+--------------------+--------------------+-------+\n",
      "|            col_name|           data_type|comment|\n",
      "+--------------------+--------------------+-------+\n",
      "|   reconciliation_id|              string|   NULL|\n",
      "|            batch_id|              string|   NULL|\n",
      "|primary_transacti...|              string|   NULL|\n",
      "|secondary_transac...|              string|   NULL|\n",
      "|        match_status|              string|   NULL|\n",
      "|    discrepancy_type|              string|   NULL|\n",
      "|  discrepancy_amount|       decimal(18,2)|   NULL|\n",
      "|reconciliation_ti...|           timestamp|   NULL|\n",
      "|               notes|              string|   NULL|\n",
      "|                    |                    |       |\n",
      "|      # Partitioning|                    |       |\n",
      "|              Part 0|days(reconciliati...|       |\n",
      "|              Part 1|        match_status|       |\n",
      "+--------------------+--------------------+-------+\n",
      "\n"
     ]
    },
    {
     "data": {
      "text/html": [
       "<pre style=\"white-space:pre;overflow-x:auto;line-height:normal;font-family:Menlo,'DejaVu Sans Mono',consolas,'Courier New',monospace\">\n",
       "📋 local.banking.reconciliation_batches schema:\n",
       "</pre>\n"
      ],
      "text/plain": [
       "\n",
       "📋 local.banking.reconciliation_batches schema:\n"
      ]
     },
     "metadata": {},
     "output_type": "display_data"
    },
    {
     "name": "stdout",
     "output_type": "stream",
     "text": [
      "+-------------------+-------------+-------+\n",
      "|           col_name|    data_type|comment|\n",
      "+-------------------+-------------+-------+\n",
      "|           batch_id|       string|   NULL|\n",
      "|reconciliation_date|    timestamp|   NULL|\n",
      "|     source_systems|array<string>|   NULL|\n",
      "|         start_date|    timestamp|   NULL|\n",
      "|           end_date|    timestamp|   NULL|\n",
      "|             status|       string|   NULL|\n",
      "| total_transactions|       bigint|   NULL|\n",
      "|      matched_count|       bigint|   NULL|\n",
      "|    unmatched_count|       bigint|   NULL|\n",
      "|         created_at|    timestamp|   NULL|\n",
      "|       completed_at|    timestamp|   NULL|\n",
      "+-------------------+-------------+-------+\n",
      "\n"
     ]
    }
   ],
   "source": [
    "# Verify existing tables from Phase 1\n",
    "print(\" Verifying existing tables from Phase 1...\")\n",
    "\n",
    "# List tables in banking namespace\n",
    "tables_df = spark.sql(\"SHOW TABLES IN local.banking\")\n",
    "print(\"\\n Available tables:\")\n",
    "tables_df.show()\n",
    "\n",
    "# Check current data counts\n",
    "print(\"\\n📊 Current data counts:\")\n",
    "tables_to_check = [\n",
    "    'local.banking.source_transactions',\n",
    "    'local.banking.reconciliation_results',\n",
    "    'local.banking.reconciliation_batches'\n",
    "]\n",
    "\n",
    "for table in tables_to_check:\n",
    "    try:\n",
    "        count = spark.sql(f\"SELECT COUNT(*) as count FROM {table}\").collect()[0]['count']\n",
    "        print(f\"✓ {table}: {count} rows\")\n",
    "    except Exception as e:\n",
    "        print(f\"✗ {table}: Error - {str(e)}\")\n",
    "\n",
    "# Verify table schemas\n",
    "print(\"\\n Table schemas:\")\n",
    "for table in tables_to_check:\n",
    "    try:\n",
    "        schema = spark.sql(f\"DESCRIBE {table}\")\n",
    "        print(f\"\\n📋 {table} schema:\")\n",
    "        schema.show()\n",
    "    except Exception as e:\n",
    "        print(f\"✗ Error getting schema for {table}: {str(e)}\")"
   ]
  },
  {
   "cell_type": "markdown",
   "metadata": {},
   "source": [
    "## Step 4: Define Data Generation Configuration\n",
    "\n",
    "**Purpose**: Set up the configuration for generating realistic banking transaction data.\n",
    "\n",
    "### **Data Generation Strategy**:\n",
    "\n",
    "#### **Source Systems**\n",
    "- **core_banking**: Primary system with complete transaction records\n",
    "- **card_processor**: Secondary system with some discrepancies\n",
    "- **payment_gateway**: Tertiary system with additional discrepancies\n",
    "\n",
    "#### **Transaction Types**\n",
    "- **deposit**: Money added to account\n",
    "- **withdrawal**: Money removed from account\n",
    "- **transfer**: Money moved between accounts\n",
    "- **payment**: Payment to merchant/service\n",
    "- **refund**: Money returned to account\n",
    "- **fee**: Service charges and fees\n",
    "\n",
    "#### **Discrepancy Types**\n",
    "- **amount**: Slight differences in transaction amounts\n",
    "- **date**: Timing differences in transaction dates\n",
    "- **status**: Different transaction statuses\n",
    "- **missing**: Transactions that exist in one system but not another"
   ]
  },
  {
   "cell_type": "code",
   "execution_count": 4,
   "metadata": {},
   "outputs": [
    {
     "data": {
      "text/html": [
       "<pre style=\"white-space:pre;overflow-x:auto;line-height:normal;font-family:Menlo,'DejaVu Sans Mono',consolas,'Courier New',monospace\">⚙️ Setting up data generation configuration<span style=\"color: #808000; text-decoration-color: #808000\">...</span>\n",
       "</pre>\n"
      ],
      "text/plain": [
       "⚙️ Setting up data generation configuration\u001b[33m...\u001b[0m\n"
      ]
     },
     "metadata": {},
     "output_type": "display_data"
    },
    {
     "data": {
      "text/html": [
       "<pre style=\"white-space:pre;overflow-x:auto;line-height:normal;font-family:Menlo,'DejaVu Sans Mono',consolas,'Courier New',monospace\">Source systems: <span style=\"font-weight: bold\">[</span><span style=\"color: #008000; text-decoration-color: #008000\">'core_banking'</span>, <span style=\"color: #008000; text-decoration-color: #008000\">'card_processor'</span>, <span style=\"color: #008000; text-decoration-color: #008000\">'payment_gateway'</span><span style=\"font-weight: bold\">]</span>\n",
       "</pre>\n"
      ],
      "text/plain": [
       "Source systems: \u001b[1m[\u001b[0m\u001b[32m'core_banking'\u001b[0m, \u001b[32m'card_processor'\u001b[0m, \u001b[32m'payment_gateway'\u001b[0m\u001b[1m]\u001b[0m\n"
      ]
     },
     "metadata": {},
     "output_type": "display_data"
    },
    {
     "data": {
      "text/html": [
       "<pre style=\"white-space:pre;overflow-x:auto;line-height:normal;font-family:Menlo,'DejaVu Sans Mono',consolas,'Courier New',monospace\">Transaction types: <span style=\"font-weight: bold\">[</span><span style=\"color: #008000; text-decoration-color: #008000\">'deposit'</span>, <span style=\"color: #008000; text-decoration-color: #008000\">'withdrawal'</span>, <span style=\"color: #008000; text-decoration-color: #008000\">'transfer'</span>, <span style=\"color: #008000; text-decoration-color: #008000\">'payment'</span>, <span style=\"color: #008000; text-decoration-color: #008000\">'refund'</span>, <span style=\"color: #008000; text-decoration-color: #008000\">'fee'</span><span style=\"font-weight: bold\">]</span>\n",
       "</pre>\n"
      ],
      "text/plain": [
       "Transaction types: \u001b[1m[\u001b[0m\u001b[32m'deposit'\u001b[0m, \u001b[32m'withdrawal'\u001b[0m, \u001b[32m'transfer'\u001b[0m, \u001b[32m'payment'\u001b[0m, \u001b[32m'refund'\u001b[0m, \u001b[32m'fee'\u001b[0m\u001b[1m]\u001b[0m\n"
      ]
     },
     "metadata": {},
     "output_type": "display_data"
    },
    {
     "data": {
      "text/html": [
       "<pre style=\"white-space:pre;overflow-x:auto;line-height:normal;font-family:Menlo,'DejaVu Sans Mono',consolas,'Courier New',monospace\">Status values: <span style=\"font-weight: bold\">[</span><span style=\"color: #008000; text-decoration-color: #008000\">'completed'</span>, <span style=\"color: #008000; text-decoration-color: #008000\">'pending'</span>, <span style=\"color: #008000; text-decoration-color: #008000\">'failed'</span>, <span style=\"color: #008000; text-decoration-color: #008000\">'reversed'</span><span style=\"font-weight: bold\">]</span>\n",
       "</pre>\n"
      ],
      "text/plain": [
       "Status values: \u001b[1m[\u001b[0m\u001b[32m'completed'\u001b[0m, \u001b[32m'pending'\u001b[0m, \u001b[32m'failed'\u001b[0m, \u001b[32m'reversed'\u001b[0m\u001b[1m]\u001b[0m\n"
      ]
     },
     "metadata": {},
     "output_type": "display_data"
    },
    {
     "data": {
      "text/html": [
       "<pre style=\"white-space:pre;overflow-x:auto;line-height:normal;font-family:Menlo,'DejaVu Sans Mono',consolas,'Courier New',monospace\">\n",
       "📊 Data generation parameters:\n",
       "</pre>\n"
      ],
      "text/plain": [
       "\n",
       "📊 Data generation parameters:\n"
      ]
     },
     "metadata": {},
     "output_type": "display_data"
    },
    {
     "data": {
      "text/html": [
       "<pre style=\"white-space:pre;overflow-x:auto;line-height:normal;font-family:Menlo,'DejaVu Sans Mono',consolas,'Courier New',monospace\">  - num_accounts: <span style=\"color: #008080; text-decoration-color: #008080; font-weight: bold\">100</span>\n",
       "</pre>\n"
      ],
      "text/plain": [
       "  - num_accounts: \u001b[1;36m100\u001b[0m\n"
      ]
     },
     "metadata": {},
     "output_type": "display_data"
    },
    {
     "data": {
      "text/html": [
       "<pre style=\"white-space:pre;overflow-x:auto;line-height:normal;font-family:Menlo,'DejaVu Sans Mono',consolas,'Courier New',monospace\">  - primary_transactions: <span style=\"color: #008080; text-decoration-color: #008080; font-weight: bold\">5000</span>\n",
       "</pre>\n"
      ],
      "text/plain": [
       "  - primary_transactions: \u001b[1;36m5000\u001b[0m\n"
      ]
     },
     "metadata": {},
     "output_type": "display_data"
    },
    {
     "data": {
      "text/html": [
       "<pre style=\"white-space:pre;overflow-x:auto;line-height:normal;font-family:Menlo,'DejaVu Sans Mono',consolas,'Courier New',monospace\">  - date_range_days: <span style=\"color: #008080; text-decoration-color: #008080; font-weight: bold\">30</span>\n",
       "</pre>\n"
      ],
      "text/plain": [
       "  - date_range_days: \u001b[1;36m30\u001b[0m\n"
      ]
     },
     "metadata": {},
     "output_type": "display_data"
    },
    {
     "data": {
      "text/html": [
       "<pre style=\"white-space:pre;overflow-x:auto;line-height:normal;font-family:Menlo,'DejaVu Sans Mono',consolas,'Courier New',monospace\">  - error_rate: <span style=\"color: #008080; text-decoration-color: #008080; font-weight: bold\">0.05</span>\n",
       "</pre>\n"
      ],
      "text/plain": [
       "  - error_rate: \u001b[1;36m0.05\u001b[0m\n"
      ]
     },
     "metadata": {},
     "output_type": "display_data"
    },
    {
     "data": {
      "text/html": [
       "<pre style=\"white-space:pre;overflow-x:auto;line-height:normal;font-family:Menlo,'DejaVu Sans Mono',consolas,'Courier New',monospace\">  - extra_transactions_rate: <span style=\"color: #008080; text-decoration-color: #008080; font-weight: bold\">0.02</span>\n",
       "</pre>\n"
      ],
      "text/plain": [
       "  - extra_transactions_rate: \u001b[1;36m0.02\u001b[0m\n"
      ]
     },
     "metadata": {},
     "output_type": "display_data"
    },
    {
     "data": {
      "text/html": [
       "<pre style=\"white-space:pre;overflow-x:auto;line-height:normal;font-family:Menlo,'DejaVu Sans Mono',consolas,'Courier New',monospace\">\n",
       " Date range: <span style=\"color: #008080; text-decoration-color: #008080; font-weight: bold\">2025</span>-<span style=\"color: #008080; text-decoration-color: #008080; font-weight: bold\">06</span>-<span style=\"color: #008080; text-decoration-color: #008080; font-weight: bold\">13</span> to <span style=\"color: #008080; text-decoration-color: #008080; font-weight: bold\">2025</span>-<span style=\"color: #008080; text-decoration-color: #008080; font-weight: bold\">07</span>-<span style=\"color: #008080; text-decoration-color: #008080; font-weight: bold\">13</span>\n",
       "</pre>\n"
      ],
      "text/plain": [
       "\n",
       " Date range: \u001b[1;36m2025\u001b[0m-\u001b[1;36m06\u001b[0m-\u001b[1;36m13\u001b[0m to \u001b[1;36m2025\u001b[0m-\u001b[1;36m07\u001b[0m-\u001b[1;36m13\u001b[0m\n"
      ]
     },
     "metadata": {},
     "output_type": "display_data"
    }
   ],
   "source": [
    "# Define data generation configuration\n",
    "print(\"⚙️ Setting up data generation configuration...\")\n",
    "\n",
    "# Source systems for multi-system reconciliation\n",
    "SOURCE_SYSTEMS = ['core_banking', 'card_processor', 'payment_gateway']\n",
    "print(f\"Source systems: {SOURCE_SYSTEMS}\")\n",
    "\n",
    "# Transaction types for realistic banking scenarios\n",
    "TRANSACTION_TYPES = ['deposit', 'withdrawal', 'transfer', 'payment', 'refund', 'fee']\n",
    "print(f\"Transaction types: {TRANSACTION_TYPES}\")\n",
    "\n",
    "# Transaction statuses\n",
    "STATUS_VALUES = ['completed', 'pending', 'failed', 'reversed']\n",
    "print(f\"Status values: {STATUS_VALUES}\")\n",
    "\n",
    "# Data generation parameters\n",
    "DATA_CONFIG = {\n",
    "    'num_accounts': 100,\n",
    "    'primary_transactions': 5000,\n",
    "    'date_range_days': 30,\n",
    "    'error_rate': 0.05,  # 5% discrepancy rate\n",
    "    'extra_transactions_rate': 0.02  # 2% extra transactions in secondary systems\n",
    "}\n",
    "\n",
    "print(f\"\\n📊 Data generation parameters:\")\n",
    "for key, value in DATA_CONFIG.items():\n",
    "    print(f\"  - {key}: {value}\")\n",
    "\n",
    "# Define date range for transactions\n",
    "end_date = datetime.now()\n",
    "start_date = end_date - timedelta(days=DATA_CONFIG['date_range_days'])\n",
    "print(f\"\\n Date range: {start_date.strftime('%Y-%m-%d')} to {end_date.strftime('%Y-%m-%d')}\")"
   ]
  },
  {
   "cell_type": "markdown",
   "metadata": {},
   "source": [
    "## Step 5: Create Data Generation Functions\n",
    "\n",
    "**Purpose**: Define functions to generate realistic banking transaction data.\n",
    "\n",
    "### **Data Generation Functions**:\n",
    "\n",
    "#### **1. Account ID Generation**\n",
    "- Creates unique account identifiers\n",
    "- Uses consistent format for all systems\n",
    "- Ensures referential integrity\n",
    "\n",
    "#### **2. Transaction ID Generation**\n",
    "- System-specific prefixes (CB, CP, PG)\n",
    "- Unique identifiers for each transaction\n",
    "- Enables cross-system matching\n",
    "\n",
    "#### **3. Transaction Data Generation**\n",
    "- Realistic amounts and dates\n",
    "- Proper status distribution\n",
    "- Rich payload metadata\n",
    "\n",
    "#### **4. Discrepancy Introduction**\n",
    "- Intentional mismatches for testing\n",
    "- Various discrepancy types\n",
    "- Controlled error rates"
   ]
  },
  {
   "cell_type": "code",
   "execution_count": 5,
   "metadata": {},
   "outputs": [
    {
     "data": {
      "text/html": [
       "<pre style=\"white-space:pre;overflow-x:auto;line-height:normal;font-family:Menlo,'DejaVu Sans Mono',consolas,'Courier New',monospace\">🔧 Creating data generation functions<span style=\"color: #808000; text-decoration-color: #808000\">...</span>\n",
       "</pre>\n"
      ],
      "text/plain": [
       "🔧 Creating data generation functions\u001b[33m...\u001b[0m\n"
      ]
     },
     "metadata": {},
     "output_type": "display_data"
    },
    {
     "data": {
      "text/html": [
       "<pre style=\"white-space:pre;overflow-x:auto;line-height:normal;font-family:Menlo,'DejaVu Sans Mono',consolas,'Courier New',monospace\">✓ Data generation functions created successfully\n",
       "</pre>\n"
      ],
      "text/plain": [
       "✓ Data generation functions created successfully\n"
      ]
     },
     "metadata": {},
     "output_type": "display_data"
    }
   ],
   "source": [
    "# Data generation functions\n",
    "print(\"🔧 Creating data generation functions...\")\n",
    "\n",
    "def generate_account_ids(num_accounts=100):\n",
    "    \"\"\"Generate a list of random account IDs.\"\"\"\n",
    "    return [f\"ACC{fake.unique.random_number(digits=8)}\" for _ in range(num_accounts)]\n",
    "\n",
    "def generate_transaction_id(source_system):\n",
    "    \"\"\"Generate a transaction ID with a prefix based on the source system.\"\"\"\n",
    "    prefixes = {\n",
    "        'core_banking': 'CB',\n",
    "        'card_processor': 'CP',\n",
    "        'payment_gateway': 'PG'\n",
    "    }\n",
    "    prefix = prefixes.get(source_system, 'TX')\n",
    "    return f\"{prefix}-{uuid.uuid4().hex[:12].upper()}\"\n",
    "\n",
    "def generate_reference_id():\n",
    "    \"\"\"Generate a reference ID for transactions.\"\"\"\n",
    "    return f\"REF-{fake.unique.random_number(digits=10)}\"\n",
    "\n",
    "def generate_transaction_data(source_system, account_ids, start_date, end_date, count=1000):\n",
    "    \"\"\"Generate transaction data for a specific source system.\"\"\"\n",
    "    transactions = []\n",
    "    \n",
    "    for _ in range(count):\n",
    "        # Generate random transaction date within the date range\n",
    "        transaction_date = fake.date_time_between_dates(\n",
    "            datetime_start=start_date,\n",
    "            datetime_end=end_date\n",
    "        )\n",
    "        \n",
    "        # Generate random amount (between $1 and $10,000)\n",
    "        amount = round(random.uniform(1, 10000), 2)\n",
    "        \n",
    "        # Select random account ID\n",
    "        account_id = random.choice(account_ids)\n",
    "        \n",
    "        # Generate transaction ID\n",
    "        transaction_id = generate_transaction_id(source_system)\n",
    "        \n",
    "        # Select random transaction type\n",
    "        transaction_type = random.choice(TRANSACTION_TYPES)\n",
    "        \n",
    "        # Generate reference ID\n",
    "        reference_id = generate_reference_id()\n",
    "        \n",
    "        # Select random status\n",
    "        status = random.choice(STATUS_VALUES)\n",
    "        \n",
    "        # Generate additional payload data\n",
    "        payload = {\n",
    "            'description': fake.sentence(),\n",
    "            'location': fake.city(),\n",
    "            'merchant': fake.company() if transaction_type in ['payment', 'refund'] else None,\n",
    "            'category': fake.word(),\n",
    "            'metadata': {\n",
    "                'device': fake.user_agent(),\n",
    "                'ip_address': fake.ipv4(),\n",
    "                'channel': random.choice(['web', 'mobile', 'atm', 'branch', 'phone'])\n",
    "            }\n",
    "        }\n",
    "        \n",
    "        # Create transaction record\n",
    "        transaction = {\n",
    "            'transaction_id': transaction_id,\n",
    "            'source_system': source_system,\n",
    "            'transaction_date': transaction_date,\n",
    "            'amount': amount,\n",
    "            'account_id': account_id,\n",
    "            'transaction_type': transaction_type,\n",
    "            'reference_id': reference_id,\n",
    "            'status': status,\n",
    "            'payload': json.dumps(payload),\n",
    "            'created_at': transaction_date - timedelta(minutes=random.randint(1, 60)),\n",
    "            'processing_timestamp': transaction_date + timedelta(seconds=random.randint(1, 30))\n",
    "        }\n",
    "        \n",
    "        transactions.append(transaction)\n",
    "    \n",
    "    return transactions\n",
    "\n",
    "def create_matching_transactions(primary_transactions, secondary_system, error_rate=0.05):\n",
    "    \"\"\"Create matching transactions for a secondary system with intentional discrepancies.\"\"\"\n",
    "    secondary_transactions = []\n",
    "    \n",
    "    for primary_tx in primary_transactions:\n",
    "        # Create a copy of the primary transaction\n",
    "        secondary_tx = primary_tx.copy()\n",
    "        \n",
    "        # Change the transaction ID and source system\n",
    "        secondary_tx['transaction_id'] = generate_transaction_id(secondary_system)\n",
    "        secondary_tx['source_system'] = secondary_system\n",
    "        \n",
    "        # Introduce discrepancies based on error rate\n",
    "        if random.random() < error_rate:\n",
    "            # Choose a type of discrepancy\n",
    "            discrepancy_type = random.choice(['amount', 'date', 'status', 'missing'])\n",
    "            \n",
    "            if discrepancy_type == 'amount':\n",
    "                # Change the amount slightly\n",
    "                original_amount = secondary_tx['amount']\n",
    "                secondary_tx['amount'] = round(original_amount * random.uniform(0.95, 1.05), 2)\n",
    "                \n",
    "            elif discrepancy_type == 'date':\n",
    "                # Shift the date slightly\n",
    "                original_date = secondary_tx['transaction_date']\n",
    "                secondary_tx['transaction_date'] = original_date + timedelta(\n",
    "                    minutes=random.randint(-120, 120)\n",
    "                )\n",
    "                \n",
    "            elif discrepancy_type == 'status':\n",
    "                # Change the status\n",
    "                original_status = secondary_tx['status']\n",
    "                new_status = random.choice([s for s in STATUS_VALUES if s != original_status])\n",
    "                secondary_tx['status'] = new_status\n",
    "                \n",
    "            elif discrepancy_type == 'missing':\n",
    "                # Skip this transaction (don't add to secondary)\n",
    "                continue\n",
    "        \n",
    "        secondary_transactions.append(secondary_tx)\n",
    "    \n",
    "    # Add some transactions that only exist in the secondary system\n",
    "    extra_count = int(len(primary_transactions) * DATA_CONFIG['extra_transactions_rate'])\n",
    "    account_ids = [tx['account_id'] for tx in primary_transactions]\n",
    "    start_date = min(tx['transaction_date'] for tx in primary_transactions)\n",
    "    end_date = max(tx['transaction_date'] for tx in primary_transactions)\n",
    "    \n",
    "    extra_transactions = generate_transaction_data(\n",
    "        secondary_system,\n",
    "        account_ids,\n",
    "        start_date,\n",
    "        end_date,\n",
    "        count=extra_count\n",
    "    )\n",
    "    \n",
    "    secondary_transactions.extend(extra_transactions)\n",
    "    \n",
    "    return secondary_transactions\n",
    "\n",
    "print(\"✓ Data generation functions created successfully\")"
   ]
  },
  {
   "cell_type": "markdown",
   "metadata": {},
   "source": [
    "## Step 6: Generate Sample Transaction Data\n",
    "\n",
    "**Purpose**: Create realistic banking transaction data for all source systems.\n",
    "\n",
    "### **Data Generation Process**:\n",
    "\n",
    "#### **1. Primary System (Core Banking)**\n",
    "- Generate base transactions with complete information\n",
    "- Use as reference for other systems\n",
    "- Highest data quality and completeness\n",
    "\n",
    "#### **2. Secondary Systems (Card Processor, Payment Gateway)**\n",
    "- Create matching transactions with intentional discrepancies\n",
    "- Introduce various types of errors\n",
    "- Add extra transactions that don't exist in primary system\n",
    "\n",
    "#### **3. Data Quality Features**\n",
    "- Realistic amounts and dates\n",
    "- Proper status distribution\n",
    "- Rich metadata payloads\n",
    "- Consistent account references"
   ]
  },
  {
   "cell_type": "code",
   "execution_count": 6,
   "metadata": {},
   "outputs": [
    {
     "data": {
      "text/html": [
       "<pre style=\"white-space:pre;overflow-x:auto;line-height:normal;font-family:Menlo,'DejaVu Sans Mono',consolas,'Courier New',monospace\">🎲 Generating sample transaction data<span style=\"color: #808000; text-decoration-color: #808000\">...</span>\n",
       "</pre>\n"
      ],
      "text/plain": [
       "🎲 Generating sample transaction data\u001b[33m...\u001b[0m\n"
      ]
     },
     "metadata": {},
     "output_type": "display_data"
    },
    {
     "data": {
      "text/html": [
       "<pre style=\"white-space:pre;overflow-x:auto;line-height:normal;font-family:Menlo,'DejaVu Sans Mono',consolas,'Courier New',monospace\">✓ Data directory: <span style=\"color: #800080; text-decoration-color: #800080\">/opt/bitnami/spark/data/</span><span style=\"color: #ff00ff; text-decoration-color: #ff00ff\">raw</span>\n",
       "</pre>\n"
      ],
      "text/plain": [
       "✓ Data directory: \u001b[35m/opt/bitnami/spark/data/\u001b[0m\u001b[95mraw\u001b[0m\n"
      ]
     },
     "metadata": {},
     "output_type": "display_data"
    },
    {
     "data": {
      "text/html": [
       "<pre style=\"white-space:pre;overflow-x:auto;line-height:normal;font-family:Menlo,'DejaVu Sans Mono',consolas,'Courier New',monospace\">\n",
       " Generating account IDs<span style=\"color: #808000; text-decoration-color: #808000\">...</span>\n",
       "</pre>\n"
      ],
      "text/plain": [
       "\n",
       " Generating account IDs\u001b[33m...\u001b[0m\n"
      ]
     },
     "metadata": {},
     "output_type": "display_data"
    },
    {
     "data": {
      "text/html": [
       "<pre style=\"white-space:pre;overflow-x:auto;line-height:normal;font-family:Menlo,'DejaVu Sans Mono',consolas,'Courier New',monospace\">✓ Generated <span style=\"color: #008080; text-decoration-color: #008080; font-weight: bold\">100</span> unique account IDs\n",
       "</pre>\n"
      ],
      "text/plain": [
       "✓ Generated \u001b[1;36m100\u001b[0m unique account IDs\n"
      ]
     },
     "metadata": {},
     "output_type": "display_data"
    },
    {
     "data": {
      "text/html": [
       "<pre style=\"white-space:pre;overflow-x:auto;line-height:normal;font-family:Menlo,'DejaVu Sans Mono',consolas,'Courier New',monospace\">Sample account IDs: <span style=\"font-weight: bold\">[</span><span style=\"color: #008000; text-decoration-color: #008000\">'ACC50855162'</span>, <span style=\"color: #008000; text-decoration-color: #008000\">'ACC44843291'</span>, <span style=\"color: #008000; text-decoration-color: #008000\">'ACC48351962'</span>, <span style=\"color: #008000; text-decoration-color: #008000\">'ACC87735766'</span>, <span style=\"color: #008000; text-decoration-color: #008000\">'ACC36403480'</span><span style=\"font-weight: bold\">]</span>\n",
       "</pre>\n"
      ],
      "text/plain": [
       "Sample account IDs: \u001b[1m[\u001b[0m\u001b[32m'ACC50855162'\u001b[0m, \u001b[32m'ACC44843291'\u001b[0m, \u001b[32m'ACC48351962'\u001b[0m, \u001b[32m'ACC87735766'\u001b[0m, \u001b[32m'ACC36403480'\u001b[0m\u001b[1m]\u001b[0m\n"
      ]
     },
     "metadata": {},
     "output_type": "display_data"
    },
    {
     "data": {
      "text/html": [
       "<pre style=\"white-space:pre;overflow-x:auto;line-height:normal;font-family:Menlo,'DejaVu Sans Mono',consolas,'Courier New',monospace\">\n",
       " Generating primary transactions <span style=\"font-weight: bold\">(</span>core banking<span style=\"font-weight: bold\">)</span><span style=\"color: #808000; text-decoration-color: #808000\">...</span>\n",
       "</pre>\n"
      ],
      "text/plain": [
       "\n",
       " Generating primary transactions \u001b[1m(\u001b[0mcore banking\u001b[1m)\u001b[0m\u001b[33m...\u001b[0m\n"
      ]
     },
     "metadata": {},
     "output_type": "display_data"
    },
    {
     "data": {
      "text/html": [
       "<pre style=\"white-space:pre;overflow-x:auto;line-height:normal;font-family:Menlo,'DejaVu Sans Mono',consolas,'Courier New',monospace\">✓ Generated <span style=\"color: #008080; text-decoration-color: #008080; font-weight: bold\">5000</span> primary transactions\n",
       "</pre>\n"
      ],
      "text/plain": [
       "✓ Generated \u001b[1;36m5000\u001b[0m primary transactions\n"
      ]
     },
     "metadata": {},
     "output_type": "display_data"
    },
    {
     "data": {
      "text/html": [
       "<pre style=\"white-space:pre;overflow-x:auto;line-height:normal;font-family:Menlo,'DejaVu Sans Mono',consolas,'Courier New',monospace\">Date range: <span style=\"color: #008080; text-decoration-color: #008080; font-weight: bold\">2025</span>-<span style=\"color: #008080; text-decoration-color: #008080; font-weight: bold\">06</span>-<span style=\"color: #008080; text-decoration-color: #008080; font-weight: bold\">13</span> <span style=\"color: #00ff00; text-decoration-color: #00ff00; font-weight: bold\">10:01:27</span>.<span style=\"color: #008080; text-decoration-color: #008080; font-weight: bold\">188357</span> to <span style=\"color: #008080; text-decoration-color: #008080; font-weight: bold\">2025</span>-<span style=\"color: #008080; text-decoration-color: #008080; font-weight: bold\">07</span>-<span style=\"color: #008080; text-decoration-color: #008080; font-weight: bold\">13</span> <span style=\"color: #00ff00; text-decoration-color: #00ff00; font-weight: bold\">09:43:54</span>.<span style=\"color: #008080; text-decoration-color: #008080; font-weight: bold\">829562</span>\n",
       "</pre>\n"
      ],
      "text/plain": [
       "Date range: \u001b[1;36m2025\u001b[0m-\u001b[1;36m06\u001b[0m-\u001b[1;36m13\u001b[0m \u001b[1;92m10:01:27\u001b[0m.\u001b[1;36m188357\u001b[0m to \u001b[1;36m2025\u001b[0m-\u001b[1;36m07\u001b[0m-\u001b[1;36m13\u001b[0m \u001b[1;92m09:43:54\u001b[0m.\u001b[1;36m829562\u001b[0m\n"
      ]
     },
     "metadata": {},
     "output_type": "display_data"
    },
    {
     "data": {
      "text/html": [
       "<pre style=\"white-space:pre;overflow-x:auto;line-height:normal;font-family:Menlo,'DejaVu Sans Mono',consolas,'Courier New',monospace\">Amount range: $<span style=\"color: #008080; text-decoration-color: #008080; font-weight: bold\">1.88</span> to $<span style=\"color: #008080; text-decoration-color: #008080; font-weight: bold\">9994.94</span>\n",
       "</pre>\n"
      ],
      "text/plain": [
       "Amount range: $\u001b[1;36m1.88\u001b[0m to $\u001b[1;36m9994.94\u001b[0m\n"
      ]
     },
     "metadata": {},
     "output_type": "display_data"
    },
    {
     "data": {
      "text/html": [
       "<pre style=\"white-space:pre;overflow-x:auto;line-height:normal;font-family:Menlo,'DejaVu Sans Mono',consolas,'Courier New',monospace\">\n",
       "🔄 Generating matching transactions for secondary systems<span style=\"color: #808000; text-decoration-color: #808000\">...</span>\n",
       "</pre>\n"
      ],
      "text/plain": [
       "\n",
       "🔄 Generating matching transactions for secondary systems\u001b[33m...\u001b[0m\n"
      ]
     },
     "metadata": {},
     "output_type": "display_data"
    },
    {
     "data": {
      "text/html": [
       "<pre style=\"white-space:pre;overflow-x:auto;line-height:normal;font-family:Menlo,'DejaVu Sans Mono',consolas,'Courier New',monospace\">\n",
       "📊 Processing card_processor<span style=\"color: #808000; text-decoration-color: #808000\">...</span>\n",
       "</pre>\n"
      ],
      "text/plain": [
       "\n",
       "📊 Processing card_processor\u001b[33m...\u001b[0m\n"
      ]
     },
     "metadata": {},
     "output_type": "display_data"
    },
    {
     "data": {
      "text/html": [
       "<pre style=\"white-space:pre;overflow-x:auto;line-height:normal;font-family:Menlo,'DejaVu Sans Mono',consolas,'Courier New',monospace\">✓ Generated <span style=\"color: #008080; text-decoration-color: #008080; font-weight: bold\">5050</span> card_processor transactions\n",
       "</pre>\n"
      ],
      "text/plain": [
       "✓ Generated \u001b[1;36m5050\u001b[0m card_processor transactions\n"
      ]
     },
     "metadata": {},
     "output_type": "display_data"
    },
    {
     "data": {
      "text/html": [
       "<pre style=\"white-space:pre;overflow-x:auto;line-height:normal;font-family:Menlo,'DejaVu Sans Mono',consolas,'Courier New',monospace\">\n",
       "📊 Processing payment_gateway<span style=\"color: #808000; text-decoration-color: #808000\">...</span>\n",
       "</pre>\n"
      ],
      "text/plain": [
       "\n",
       "📊 Processing payment_gateway\u001b[33m...\u001b[0m\n"
      ]
     },
     "metadata": {},
     "output_type": "display_data"
    },
    {
     "data": {
      "text/html": [
       "<pre style=\"white-space:pre;overflow-x:auto;line-height:normal;font-family:Menlo,'DejaVu Sans Mono',consolas,'Courier New',monospace\">✓ Generated <span style=\"color: #008080; text-decoration-color: #008080; font-weight: bold\">5026</span> payment_gateway transactions\n",
       "</pre>\n"
      ],
      "text/plain": [
       "✓ Generated \u001b[1;36m5026\u001b[0m payment_gateway transactions\n"
      ]
     },
     "metadata": {},
     "output_type": "display_data"
    },
    {
     "data": {
      "text/html": [
       "<pre style=\"white-space:pre;overflow-x:auto;line-height:normal;font-family:Menlo,'DejaVu Sans Mono',consolas,'Courier New',monospace\">\n",
       "📊 Data Generation Summary:\n",
       "</pre>\n"
      ],
      "text/plain": [
       "\n",
       "📊 Data Generation Summary:\n"
      ]
     },
     "metadata": {},
     "output_type": "display_data"
    },
    {
     "data": {
      "text/html": [
       "<pre style=\"white-space:pre;overflow-x:auto;line-height:normal;font-family:Menlo,'DejaVu Sans Mono',consolas,'Courier New',monospace\">- Total transactions: <span style=\"color: #008080; text-decoration-color: #008080; font-weight: bold\">15</span>,<span style=\"color: #008080; text-decoration-color: #008080; font-weight: bold\">076</span>\n",
       "</pre>\n"
      ],
      "text/plain": [
       "- Total transactions: \u001b[1;36m15\u001b[0m,\u001b[1;36m076\u001b[0m\n"
      ]
     },
     "metadata": {},
     "output_type": "display_data"
    },
    {
     "data": {
      "text/html": [
       "<pre style=\"white-space:pre;overflow-x:auto;line-height:normal;font-family:Menlo,'DejaVu Sans Mono',consolas,'Courier New',monospace\">- core_banking: <span style=\"color: #008080; text-decoration-color: #008080; font-weight: bold\">5</span>,<span style=\"color: #008080; text-decoration-color: #008080; font-weight: bold\">000</span> transactions\n",
       "</pre>\n"
      ],
      "text/plain": [
       "- core_banking: \u001b[1;36m5\u001b[0m,\u001b[1;36m000\u001b[0m transactions\n"
      ]
     },
     "metadata": {},
     "output_type": "display_data"
    },
    {
     "data": {
      "text/html": [
       "<pre style=\"white-space:pre;overflow-x:auto;line-height:normal;font-family:Menlo,'DejaVu Sans Mono',consolas,'Courier New',monospace\">- card_processor: <span style=\"color: #008080; text-decoration-color: #008080; font-weight: bold\">5</span>,<span style=\"color: #008080; text-decoration-color: #008080; font-weight: bold\">050</span> transactions\n",
       "</pre>\n"
      ],
      "text/plain": [
       "- card_processor: \u001b[1;36m5\u001b[0m,\u001b[1;36m050\u001b[0m transactions\n"
      ]
     },
     "metadata": {},
     "output_type": "display_data"
    },
    {
     "data": {
      "text/html": [
       "<pre style=\"white-space:pre;overflow-x:auto;line-height:normal;font-family:Menlo,'DejaVu Sans Mono',consolas,'Courier New',monospace\">- payment_gateway: <span style=\"color: #008080; text-decoration-color: #008080; font-weight: bold\">5</span>,<span style=\"color: #008080; text-decoration-color: #008080; font-weight: bold\">026</span> transactions\n",
       "</pre>\n"
      ],
      "text/plain": [
       "- payment_gateway: \u001b[1;36m5\u001b[0m,\u001b[1;36m026\u001b[0m transactions\n"
      ]
     },
     "metadata": {},
     "output_type": "display_data"
    },
    {
     "data": {
      "text/html": [
       "<pre style=\"white-space:pre;overflow-x:auto;line-height:normal;font-family:Menlo,'DejaVu Sans Mono',consolas,'Courier New',monospace\">- Date range: <span style=\"color: #008080; text-decoration-color: #008080; font-weight: bold\">2025</span>-<span style=\"color: #008080; text-decoration-color: #008080; font-weight: bold\">06</span>-<span style=\"color: #008080; text-decoration-color: #008080; font-weight: bold\">13</span> to <span style=\"color: #008080; text-decoration-color: #008080; font-weight: bold\">2025</span>-<span style=\"color: #008080; text-decoration-color: #008080; font-weight: bold\">07</span>-<span style=\"color: #008080; text-decoration-color: #008080; font-weight: bold\">13</span>\n",
       "</pre>\n"
      ],
      "text/plain": [
       "- Date range: \u001b[1;36m2025\u001b[0m-\u001b[1;36m06\u001b[0m-\u001b[1;36m13\u001b[0m to \u001b[1;36m2025\u001b[0m-\u001b[1;36m07\u001b[0m-\u001b[1;36m13\u001b[0m\n"
      ]
     },
     "metadata": {},
     "output_type": "display_data"
    },
    {
     "data": {
      "text/html": [
       "<pre style=\"white-space:pre;overflow-x:auto;line-height:normal;font-family:Menlo,'DejaVu Sans Mono',consolas,'Courier New',monospace\">- Error rate: <span style=\"color: #008080; text-decoration-color: #008080; font-weight: bold\">5.0</span>%\n",
       "</pre>\n"
      ],
      "text/plain": [
       "- Error rate: \u001b[1;36m5.0\u001b[0m%\n"
      ]
     },
     "metadata": {},
     "output_type": "display_data"
    },
    {
     "data": {
      "text/html": [
       "<pre style=\"white-space:pre;overflow-x:auto;line-height:normal;font-family:Menlo,'DejaVu Sans Mono',consolas,'Courier New',monospace\">- Extra transactions rate: <span style=\"color: #008080; text-decoration-color: #008080; font-weight: bold\">2.0</span>%\n",
       "</pre>\n"
      ],
      "text/plain": [
       "- Extra transactions rate: \u001b[1;36m2.0\u001b[0m%\n"
      ]
     },
     "metadata": {},
     "output_type": "display_data"
    }
   ],
   "source": [
    "# Generate sample transaction data\n",
    "print(\"🎲 Generating sample transaction data...\")\n",
    "\n",
    "# Create data directory if it doesn't exist\n",
    "data_dir = \"/opt/bitnami/spark/data/raw\"\n",
    "os.makedirs(data_dir, exist_ok=True)\n",
    "print(f\"✓ Data directory: {data_dir}\")\n",
    "\n",
    "# Generate account IDs\n",
    "print(\"\\n Generating account IDs...\")\n",
    "account_ids = generate_account_ids(num_accounts=DATA_CONFIG['num_accounts'])\n",
    "print(f\"✓ Generated {len(account_ids)} unique account IDs\")\n",
    "print(f\"Sample account IDs: {account_ids[:5]}\")\n",
    "\n",
    "# Generate primary transactions (core banking)\n",
    "print(\"\\n Generating primary transactions (core banking)...\")\n",
    "primary_system = 'core_banking'\n",
    "primary_transactions = generate_transaction_data(\n",
    "    primary_system,\n",
    "    account_ids,\n",
    "    start_date,\n",
    "    end_date,\n",
    "    count=DATA_CONFIG['primary_transactions']\n",
    ")\n",
    "\n",
    "print(f\"✓ Generated {len(primary_transactions)} primary transactions\")\n",
    "print(f\"Date range: {min(tx['transaction_date'] for tx in primary_transactions)} to {max(tx['transaction_date'] for tx in primary_transactions)}\")\n",
    "print(f\"Amount range: ${min(tx['amount'] for tx in primary_transactions):.2f} to ${max(tx['amount'] for tx in primary_transactions):.2f}\")\n",
    "\n",
    "# Generate matching transactions for secondary systems\n",
    "print(\"\\n🔄 Generating matching transactions for secondary systems...\")\n",
    "secondary_systems = [s for s in SOURCE_SYSTEMS if s != primary_system]\n",
    "all_transactions = {primary_system: primary_transactions}\n",
    "\n",
    "for secondary_system in secondary_systems:\n",
    "    print(f\"\\n📊 Processing {secondary_system}...\")\n",
    "    secondary_transactions = create_matching_transactions(\n",
    "        primary_transactions,\n",
    "        secondary_system,\n",
    "        error_rate=DATA_CONFIG['error_rate']\n",
    "    )\n",
    "    all_transactions[secondary_system] = secondary_transactions\n",
    "    print(f\"✓ Generated {len(secondary_transactions)} {secondary_system} transactions\")\n",
    "\n",
    "# Summary of generated data\n",
    "print(\"\\n📊 Data Generation Summary:\")\n",
    "total_transactions = sum(len(txs) for txs in all_transactions.values())\n",
    "print(f\"- Total transactions: {total_transactions:,}\")\n",
    "for system, transactions in all_transactions.items():\n",
    "    print(f\"- {system}: {len(transactions):,} transactions\")\n",
    "print(f\"- Date range: {start_date.strftime('%Y-%m-%d')} to {end_date.strftime('%Y-%m-%d')}\")\n",
    "print(f\"- Error rate: {DATA_CONFIG['error_rate']*100:.1f}%\")\n",
    "print(f\"- Extra transactions rate: {DATA_CONFIG['extra_transactions_rate']*100:.1f}%\")"
   ]
  },
  {
   "cell_type": "markdown",
   "metadata": {},
   "source": [
    "## Step 7: Save Data to CSV Files\n",
    "\n",
    "**Purpose**: Save generated data to CSV files for ingestion into Iceberg tables.\n",
    "\n",
    "### **CSV File Strategy**:\n",
    "\n",
    "#### **File Organization**\n",
    "- One CSV file per source system\n",
    "- Consistent naming convention\n",
    "- Proper data type handling\n",
    "\n",
    "#### **Data Format**\n",
    "- DateTime objects converted to strings\n",
    "- JSON payloads properly serialized\n",
    "- Consistent column ordering\n",
    "\n",
    "#### **File Locations**\n",
    "- `/opt/bitnami/spark/data/raw/`\n",
    "- Accessible to Spark for ingestion\n",
    "- Organized by source system"
   ]
  },
  {
   "cell_type": "code",
   "execution_count": 8,
   "metadata": {},
   "outputs": [
    {
     "data": {
      "text/html": [
       "<pre style=\"white-space:pre;overflow-x:auto;line-height:normal;font-family:Menlo,'DejaVu Sans Mono',consolas,'Courier New',monospace\"> Saving data to CSV files<span style=\"color: #808000; text-decoration-color: #808000\">...</span>\n",
       "</pre>\n"
      ],
      "text/plain": [
       " Saving data to CSV files\u001b[33m...\u001b[0m\n"
      ]
     },
     "metadata": {},
     "output_type": "display_data"
    },
    {
     "data": {
      "text/html": [
       "<pre style=\"white-space:pre;overflow-x:auto;line-height:normal;font-family:Menlo,'DejaVu Sans Mono',consolas,'Courier New',monospace\">✓ Saved <span style=\"color: #008080; text-decoration-color: #008080; font-weight: bold\">5000</span> transactions to <span style=\"color: #800080; text-decoration-color: #800080\">/opt/bitnami/spark/data/raw/</span><span style=\"color: #ff00ff; text-decoration-color: #ff00ff\">core_banking_transactions.csv</span>\n",
       "</pre>\n"
      ],
      "text/plain": [
       "✓ Saved \u001b[1;36m5000\u001b[0m transactions to \u001b[35m/opt/bitnami/spark/data/raw/\u001b[0m\u001b[95mcore_banking_transactions.csv\u001b[0m\n"
      ]
     },
     "metadata": {},
     "output_type": "display_data"
    },
    {
     "data": {
      "text/html": [
       "<pre style=\"white-space:pre;overflow-x:auto;line-height:normal;font-family:Menlo,'DejaVu Sans Mono',consolas,'Courier New',monospace\">  Sample data from <span style=\"color: #800080; text-decoration-color: #800080\">/opt/bitnami/spark/data/raw/</span><span style=\"color: #ff00ff; text-decoration-color: #ff00ff\">core_banking_transactions.csv</span>:\n",
       "</pre>\n"
      ],
      "text/plain": [
       "  Sample data from \u001b[35m/opt/bitnami/spark/data/raw/\u001b[0m\u001b[95mcore_banking_transactions.csv\u001b[0m:\n"
      ]
     },
     "metadata": {},
     "output_type": "display_data"
    },
    {
     "data": {
      "text/html": [
       "<pre style=\"white-space:pre;overflow-x:auto;line-height:normal;font-family:Menlo,'DejaVu Sans Mono',consolas,'Courier New',monospace\">  - Columns: <span style=\"font-weight: bold\">[</span><span style=\"color: #008000; text-decoration-color: #008000\">'transaction_id'</span>, <span style=\"color: #008000; text-decoration-color: #008000\">'source_system'</span>, <span style=\"color: #008000; text-decoration-color: #008000\">'transaction_date'</span>, <span style=\"color: #008000; text-decoration-color: #008000\">'amount'</span>, <span style=\"color: #008000; text-decoration-color: #008000\">'account_id'</span>, <span style=\"color: #008000; text-decoration-color: #008000\">'transaction_type'</span>, \n",
       "<span style=\"color: #008000; text-decoration-color: #008000\">'reference_id'</span>, <span style=\"color: #008000; text-decoration-color: #008000\">'status'</span>, <span style=\"color: #008000; text-decoration-color: #008000\">'payload'</span>, <span style=\"color: #008000; text-decoration-color: #008000\">'created_at'</span>, <span style=\"color: #008000; text-decoration-color: #008000\">'processing_timestamp'</span><span style=\"font-weight: bold\">]</span>\n",
       "</pre>\n"
      ],
      "text/plain": [
       "  - Columns: \u001b[1m[\u001b[0m\u001b[32m'transaction_id'\u001b[0m, \u001b[32m'source_system'\u001b[0m, \u001b[32m'transaction_date'\u001b[0m, \u001b[32m'amount'\u001b[0m, \u001b[32m'account_id'\u001b[0m, \u001b[32m'transaction_type'\u001b[0m, \n",
       "\u001b[32m'reference_id'\u001b[0m, \u001b[32m'status'\u001b[0m, \u001b[32m'payload'\u001b[0m, \u001b[32m'created_at'\u001b[0m, \u001b[32m'processing_timestamp'\u001b[0m\u001b[1m]\u001b[0m\n"
      ]
     },
     "metadata": {},
     "output_type": "display_data"
    },
    {
     "data": {
      "text/html": [
       "<pre style=\"white-space:pre;overflow-x:auto;line-height:normal;font-family:Menlo,'DejaVu Sans Mono',consolas,'Courier New',monospace\">  - Shape: <span style=\"font-weight: bold\">(</span><span style=\"color: #008080; text-decoration-color: #008080; font-weight: bold\">5000</span>, <span style=\"color: #008080; text-decoration-color: #008080; font-weight: bold\">11</span><span style=\"font-weight: bold\">)</span>\n",
       "</pre>\n"
      ],
      "text/plain": [
       "  - Shape: \u001b[1m(\u001b[0m\u001b[1;36m5000\u001b[0m, \u001b[1;36m11\u001b[0m\u001b[1m)\u001b[0m\n"
      ]
     },
     "metadata": {},
     "output_type": "display_data"
    },
    {
     "data": {
      "text/html": [
       "<pre style=\"white-space:pre;overflow-x:auto;line-height:normal;font-family:Menlo,'DejaVu Sans Mono',consolas,'Courier New',monospace\">  - Sample transaction_id: CB-006B443F32EF\n",
       "</pre>\n"
      ],
      "text/plain": [
       "  - Sample transaction_id: CB-006B443F32EF\n"
      ]
     },
     "metadata": {},
     "output_type": "display_data"
    },
    {
     "data": {
      "text/html": [
       "<pre style=\"white-space:pre;overflow-x:auto;line-height:normal;font-family:Menlo,'DejaVu Sans Mono',consolas,'Courier New',monospace\">  - Sample amount: $<span style=\"color: #008080; text-decoration-color: #008080; font-weight: bold\">917.45</span>\n",
       "</pre>\n"
      ],
      "text/plain": [
       "  - Sample amount: $\u001b[1;36m917.45\u001b[0m\n"
      ]
     },
     "metadata": {},
     "output_type": "display_data"
    },
    {
     "data": {
      "text/html": [
       "<pre style=\"white-space:pre;overflow-x:auto;line-height:normal;font-family:Menlo,'DejaVu Sans Mono',consolas,'Courier New',monospace\">  - Sample status: pending\n",
       "</pre>\n"
      ],
      "text/plain": [
       "  - Sample status: pending\n"
      ]
     },
     "metadata": {},
     "output_type": "display_data"
    },
    {
     "data": {
      "text/html": [
       "<pre style=\"white-space:pre;overflow-x:auto;line-height:normal;font-family:Menlo,'DejaVu Sans Mono',consolas,'Courier New',monospace\">✓ Saved <span style=\"color: #008080; text-decoration-color: #008080; font-weight: bold\">5050</span> transactions to <span style=\"color: #800080; text-decoration-color: #800080\">/opt/bitnami/spark/data/raw/</span><span style=\"color: #ff00ff; text-decoration-color: #ff00ff\">card_processor_transactions.csv</span>\n",
       "</pre>\n"
      ],
      "text/plain": [
       "✓ Saved \u001b[1;36m5050\u001b[0m transactions to \u001b[35m/opt/bitnami/spark/data/raw/\u001b[0m\u001b[95mcard_processor_transactions.csv\u001b[0m\n"
      ]
     },
     "metadata": {},
     "output_type": "display_data"
    },
    {
     "data": {
      "text/html": [
       "<pre style=\"white-space:pre;overflow-x:auto;line-height:normal;font-family:Menlo,'DejaVu Sans Mono',consolas,'Courier New',monospace\">  Sample data from <span style=\"color: #800080; text-decoration-color: #800080\">/opt/bitnami/spark/data/raw/</span><span style=\"color: #ff00ff; text-decoration-color: #ff00ff\">card_processor_transactions.csv</span>:\n",
       "</pre>\n"
      ],
      "text/plain": [
       "  Sample data from \u001b[35m/opt/bitnami/spark/data/raw/\u001b[0m\u001b[95mcard_processor_transactions.csv\u001b[0m:\n"
      ]
     },
     "metadata": {},
     "output_type": "display_data"
    },
    {
     "data": {
      "text/html": [
       "<pre style=\"white-space:pre;overflow-x:auto;line-height:normal;font-family:Menlo,'DejaVu Sans Mono',consolas,'Courier New',monospace\">  - Columns: <span style=\"font-weight: bold\">[</span><span style=\"color: #008000; text-decoration-color: #008000\">'transaction_id'</span>, <span style=\"color: #008000; text-decoration-color: #008000\">'source_system'</span>, <span style=\"color: #008000; text-decoration-color: #008000\">'transaction_date'</span>, <span style=\"color: #008000; text-decoration-color: #008000\">'amount'</span>, <span style=\"color: #008000; text-decoration-color: #008000\">'account_id'</span>, <span style=\"color: #008000; text-decoration-color: #008000\">'transaction_type'</span>, \n",
       "<span style=\"color: #008000; text-decoration-color: #008000\">'reference_id'</span>, <span style=\"color: #008000; text-decoration-color: #008000\">'status'</span>, <span style=\"color: #008000; text-decoration-color: #008000\">'payload'</span>, <span style=\"color: #008000; text-decoration-color: #008000\">'created_at'</span>, <span style=\"color: #008000; text-decoration-color: #008000\">'processing_timestamp'</span><span style=\"font-weight: bold\">]</span>\n",
       "</pre>\n"
      ],
      "text/plain": [
       "  - Columns: \u001b[1m[\u001b[0m\u001b[32m'transaction_id'\u001b[0m, \u001b[32m'source_system'\u001b[0m, \u001b[32m'transaction_date'\u001b[0m, \u001b[32m'amount'\u001b[0m, \u001b[32m'account_id'\u001b[0m, \u001b[32m'transaction_type'\u001b[0m, \n",
       "\u001b[32m'reference_id'\u001b[0m, \u001b[32m'status'\u001b[0m, \u001b[32m'payload'\u001b[0m, \u001b[32m'created_at'\u001b[0m, \u001b[32m'processing_timestamp'\u001b[0m\u001b[1m]\u001b[0m\n"
      ]
     },
     "metadata": {},
     "output_type": "display_data"
    },
    {
     "data": {
      "text/html": [
       "<pre style=\"white-space:pre;overflow-x:auto;line-height:normal;font-family:Menlo,'DejaVu Sans Mono',consolas,'Courier New',monospace\">  - Shape: <span style=\"font-weight: bold\">(</span><span style=\"color: #008080; text-decoration-color: #008080; font-weight: bold\">5050</span>, <span style=\"color: #008080; text-decoration-color: #008080; font-weight: bold\">11</span><span style=\"font-weight: bold\">)</span>\n",
       "</pre>\n"
      ],
      "text/plain": [
       "  - Shape: \u001b[1m(\u001b[0m\u001b[1;36m5050\u001b[0m, \u001b[1;36m11\u001b[0m\u001b[1m)\u001b[0m\n"
      ]
     },
     "metadata": {},
     "output_type": "display_data"
    },
    {
     "data": {
      "text/html": [
       "<pre style=\"white-space:pre;overflow-x:auto;line-height:normal;font-family:Menlo,'DejaVu Sans Mono',consolas,'Courier New',monospace\">  - Sample transaction_id: CP-F21B9A0346F2\n",
       "</pre>\n"
      ],
      "text/plain": [
       "  - Sample transaction_id: CP-F21B9A0346F2\n"
      ]
     },
     "metadata": {},
     "output_type": "display_data"
    },
    {
     "data": {
      "text/html": [
       "<pre style=\"white-space:pre;overflow-x:auto;line-height:normal;font-family:Menlo,'DejaVu Sans Mono',consolas,'Courier New',monospace\">  - Sample amount: $<span style=\"color: #008080; text-decoration-color: #008080; font-weight: bold\">917.45</span>\n",
       "</pre>\n"
      ],
      "text/plain": [
       "  - Sample amount: $\u001b[1;36m917.45\u001b[0m\n"
      ]
     },
     "metadata": {},
     "output_type": "display_data"
    },
    {
     "data": {
      "text/html": [
       "<pre style=\"white-space:pre;overflow-x:auto;line-height:normal;font-family:Menlo,'DejaVu Sans Mono',consolas,'Courier New',monospace\">  - Sample status: pending\n",
       "</pre>\n"
      ],
      "text/plain": [
       "  - Sample status: pending\n"
      ]
     },
     "metadata": {},
     "output_type": "display_data"
    },
    {
     "data": {
      "text/html": [
       "<pre style=\"white-space:pre;overflow-x:auto;line-height:normal;font-family:Menlo,'DejaVu Sans Mono',consolas,'Courier New',monospace\">✓ Saved <span style=\"color: #008080; text-decoration-color: #008080; font-weight: bold\">5026</span> transactions to <span style=\"color: #800080; text-decoration-color: #800080\">/opt/bitnami/spark/data/raw/</span><span style=\"color: #ff00ff; text-decoration-color: #ff00ff\">payment_gateway_transactions.csv</span>\n",
       "</pre>\n"
      ],
      "text/plain": [
       "✓ Saved \u001b[1;36m5026\u001b[0m transactions to \u001b[35m/opt/bitnami/spark/data/raw/\u001b[0m\u001b[95mpayment_gateway_transactions.csv\u001b[0m\n"
      ]
     },
     "metadata": {},
     "output_type": "display_data"
    },
    {
     "data": {
      "text/html": [
       "<pre style=\"white-space:pre;overflow-x:auto;line-height:normal;font-family:Menlo,'DejaVu Sans Mono',consolas,'Courier New',monospace\">  Sample data from <span style=\"color: #800080; text-decoration-color: #800080\">/opt/bitnami/spark/data/raw/</span><span style=\"color: #ff00ff; text-decoration-color: #ff00ff\">payment_gateway_transactions.csv</span>:\n",
       "</pre>\n"
      ],
      "text/plain": [
       "  Sample data from \u001b[35m/opt/bitnami/spark/data/raw/\u001b[0m\u001b[95mpayment_gateway_transactions.csv\u001b[0m:\n"
      ]
     },
     "metadata": {},
     "output_type": "display_data"
    },
    {
     "data": {
      "text/html": [
       "<pre style=\"white-space:pre;overflow-x:auto;line-height:normal;font-family:Menlo,'DejaVu Sans Mono',consolas,'Courier New',monospace\">  - Columns: <span style=\"font-weight: bold\">[</span><span style=\"color: #008000; text-decoration-color: #008000\">'transaction_id'</span>, <span style=\"color: #008000; text-decoration-color: #008000\">'source_system'</span>, <span style=\"color: #008000; text-decoration-color: #008000\">'transaction_date'</span>, <span style=\"color: #008000; text-decoration-color: #008000\">'amount'</span>, <span style=\"color: #008000; text-decoration-color: #008000\">'account_id'</span>, <span style=\"color: #008000; text-decoration-color: #008000\">'transaction_type'</span>, \n",
       "<span style=\"color: #008000; text-decoration-color: #008000\">'reference_id'</span>, <span style=\"color: #008000; text-decoration-color: #008000\">'status'</span>, <span style=\"color: #008000; text-decoration-color: #008000\">'payload'</span>, <span style=\"color: #008000; text-decoration-color: #008000\">'created_at'</span>, <span style=\"color: #008000; text-decoration-color: #008000\">'processing_timestamp'</span><span style=\"font-weight: bold\">]</span>\n",
       "</pre>\n"
      ],
      "text/plain": [
       "  - Columns: \u001b[1m[\u001b[0m\u001b[32m'transaction_id'\u001b[0m, \u001b[32m'source_system'\u001b[0m, \u001b[32m'transaction_date'\u001b[0m, \u001b[32m'amount'\u001b[0m, \u001b[32m'account_id'\u001b[0m, \u001b[32m'transaction_type'\u001b[0m, \n",
       "\u001b[32m'reference_id'\u001b[0m, \u001b[32m'status'\u001b[0m, \u001b[32m'payload'\u001b[0m, \u001b[32m'created_at'\u001b[0m, \u001b[32m'processing_timestamp'\u001b[0m\u001b[1m]\u001b[0m\n"
      ]
     },
     "metadata": {},
     "output_type": "display_data"
    },
    {
     "data": {
      "text/html": [
       "<pre style=\"white-space:pre;overflow-x:auto;line-height:normal;font-family:Menlo,'DejaVu Sans Mono',consolas,'Courier New',monospace\">  - Shape: <span style=\"font-weight: bold\">(</span><span style=\"color: #008080; text-decoration-color: #008080; font-weight: bold\">5026</span>, <span style=\"color: #008080; text-decoration-color: #008080; font-weight: bold\">11</span><span style=\"font-weight: bold\">)</span>\n",
       "</pre>\n"
      ],
      "text/plain": [
       "  - Shape: \u001b[1m(\u001b[0m\u001b[1;36m5026\u001b[0m, \u001b[1;36m11\u001b[0m\u001b[1m)\u001b[0m\n"
      ]
     },
     "metadata": {},
     "output_type": "display_data"
    },
    {
     "data": {
      "text/html": [
       "<pre style=\"white-space:pre;overflow-x:auto;line-height:normal;font-family:Menlo,'DejaVu Sans Mono',consolas,'Courier New',monospace\">  - Sample transaction_id: PG-26DBA3754CE7\n",
       "</pre>\n"
      ],
      "text/plain": [
       "  - Sample transaction_id: PG-26DBA3754CE7\n"
      ]
     },
     "metadata": {},
     "output_type": "display_data"
    },
    {
     "data": {
      "text/html": [
       "<pre style=\"white-space:pre;overflow-x:auto;line-height:normal;font-family:Menlo,'DejaVu Sans Mono',consolas,'Courier New',monospace\">  - Sample amount: $<span style=\"color: #008080; text-decoration-color: #008080; font-weight: bold\">917.45</span>\n",
       "</pre>\n"
      ],
      "text/plain": [
       "  - Sample amount: $\u001b[1;36m917.45\u001b[0m\n"
      ]
     },
     "metadata": {},
     "output_type": "display_data"
    },
    {
     "data": {
      "text/html": [
       "<pre style=\"white-space:pre;overflow-x:auto;line-height:normal;font-family:Menlo,'DejaVu Sans Mono',consolas,'Courier New',monospace\">  - Sample status: pending\n",
       "</pre>\n"
      ],
      "text/plain": [
       "  - Sample status: pending\n"
      ]
     },
     "metadata": {},
     "output_type": "display_data"
    },
    {
     "data": {
      "text/html": [
       "<pre style=\"white-space:pre;overflow-x:auto;line-height:normal;font-family:Menlo,'DejaVu Sans Mono',consolas,'Courier New',monospace\">\n",
       "📁 CSV files created:\n",
       "</pre>\n"
      ],
      "text/plain": [
       "\n",
       "📁 CSV files created:\n"
      ]
     },
     "metadata": {},
     "output_type": "display_data"
    },
    {
     "data": {
      "text/html": [
       "<pre style=\"white-space:pre;overflow-x:auto;line-height:normal;font-family:Menlo,'DejaVu Sans Mono',consolas,'Courier New',monospace\">- core_banking: <span style=\"color: #800080; text-decoration-color: #800080\">/opt/bitnami/spark/data/raw/</span><span style=\"color: #ff00ff; text-decoration-color: #ff00ff\">core_banking_transactions.csv</span> <span style=\"font-weight: bold\">(</span><span style=\"color: #008080; text-decoration-color: #008080; font-weight: bold\">2</span>,<span style=\"color: #008080; text-decoration-color: #008080; font-weight: bold\">354</span>,<span style=\"color: #008080; text-decoration-color: #008080; font-weight: bold\">140</span> bytes<span style=\"font-weight: bold\">)</span>\n",
       "</pre>\n"
      ],
      "text/plain": [
       "- core_banking: \u001b[35m/opt/bitnami/spark/data/raw/\u001b[0m\u001b[95mcore_banking_transactions.csv\u001b[0m \u001b[1m(\u001b[0m\u001b[1;36m2\u001b[0m,\u001b[1;36m354\u001b[0m,\u001b[1;36m140\u001b[0m bytes\u001b[1m)\u001b[0m\n"
      ]
     },
     "metadata": {},
     "output_type": "display_data"
    },
    {
     "data": {
      "text/html": [
       "<pre style=\"white-space:pre;overflow-x:auto;line-height:normal;font-family:Menlo,'DejaVu Sans Mono',consolas,'Courier New',monospace\">- card_processor: <span style=\"color: #800080; text-decoration-color: #800080\">/opt/bitnami/spark/data/raw/</span><span style=\"color: #ff00ff; text-decoration-color: #ff00ff\">card_processor_transactions.csv</span> <span style=\"font-weight: bold\">(</span><span style=\"color: #008080; text-decoration-color: #008080; font-weight: bold\">2</span>,<span style=\"color: #008080; text-decoration-color: #008080; font-weight: bold\">387</span>,<span style=\"color: #008080; text-decoration-color: #008080; font-weight: bold\">916</span> bytes<span style=\"font-weight: bold\">)</span>\n",
       "</pre>\n"
      ],
      "text/plain": [
       "- card_processor: \u001b[35m/opt/bitnami/spark/data/raw/\u001b[0m\u001b[95mcard_processor_transactions.csv\u001b[0m \u001b[1m(\u001b[0m\u001b[1;36m2\u001b[0m,\u001b[1;36m387\u001b[0m,\u001b[1;36m916\u001b[0m bytes\u001b[1m)\u001b[0m\n"
      ]
     },
     "metadata": {},
     "output_type": "display_data"
    },
    {
     "data": {
      "text/html": [
       "<pre style=\"white-space:pre;overflow-x:auto;line-height:normal;font-family:Menlo,'DejaVu Sans Mono',consolas,'Courier New',monospace\">- payment_gateway: <span style=\"color: #800080; text-decoration-color: #800080\">/opt/bitnami/spark/data/raw/</span><span style=\"color: #ff00ff; text-decoration-color: #ff00ff\">payment_gateway_transactions.csv</span> <span style=\"font-weight: bold\">(</span><span style=\"color: #008080; text-decoration-color: #008080; font-weight: bold\">2</span>,<span style=\"color: #008080; text-decoration-color: #008080; font-weight: bold\">381</span>,<span style=\"color: #008080; text-decoration-color: #008080; font-weight: bold\">297</span> bytes<span style=\"font-weight: bold\">)</span>\n",
       "</pre>\n"
      ],
      "text/plain": [
       "- payment_gateway: \u001b[35m/opt/bitnami/spark/data/raw/\u001b[0m\u001b[95mpayment_gateway_transactions.csv\u001b[0m \u001b[1m(\u001b[0m\u001b[1;36m2\u001b[0m,\u001b[1;36m381\u001b[0m,\u001b[1;36m297\u001b[0m bytes\u001b[1m)\u001b[0m\n"
      ]
     },
     "metadata": {},
     "output_type": "display_data"
    },
    {
     "data": {
      "text/html": [
       "<pre style=\"white-space:pre;overflow-x:auto;line-height:normal;font-family:Menlo,'DejaVu Sans Mono',consolas,'Courier New',monospace\">\n",
       "🔍 Verifying CSV files<span style=\"color: #808000; text-decoration-color: #808000\">...</span>\n",
       "</pre>\n"
      ],
      "text/plain": [
       "\n",
       "🔍 Verifying CSV files\u001b[33m...\u001b[0m\n"
      ]
     },
     "metadata": {},
     "output_type": "display_data"
    },
    {
     "data": {
      "text/html": [
       "<pre style=\"white-space:pre;overflow-x:auto;line-height:normal;font-family:Menlo,'DejaVu Sans Mono',consolas,'Courier New',monospace\">✓ <span style=\"color: #800080; text-decoration-color: #800080\">/opt/bitnami/spark/data/raw/</span><span style=\"color: #ff00ff; text-decoration-color: #ff00ff\">core_banking_transactions.csv</span> exists and is readable\n",
       "</pre>\n"
      ],
      "text/plain": [
       "✓ \u001b[35m/opt/bitnami/spark/data/raw/\u001b[0m\u001b[95mcore_banking_transactions.csv\u001b[0m exists and is readable\n"
      ]
     },
     "metadata": {},
     "output_type": "display_data"
    },
    {
     "data": {
      "text/html": [
       "<pre style=\"white-space:pre;overflow-x:auto;line-height:normal;font-family:Menlo,'DejaVu Sans Mono',consolas,'Courier New',monospace\">✓ <span style=\"color: #800080; text-decoration-color: #800080\">/opt/bitnami/spark/data/raw/</span><span style=\"color: #ff00ff; text-decoration-color: #ff00ff\">card_processor_transactions.csv</span> exists and is readable\n",
       "</pre>\n"
      ],
      "text/plain": [
       "✓ \u001b[35m/opt/bitnami/spark/data/raw/\u001b[0m\u001b[95mcard_processor_transactions.csv\u001b[0m exists and is readable\n"
      ]
     },
     "metadata": {},
     "output_type": "display_data"
    },
    {
     "data": {
      "text/html": [
       "<pre style=\"white-space:pre;overflow-x:auto;line-height:normal;font-family:Menlo,'DejaVu Sans Mono',consolas,'Courier New',monospace\">✓ <span style=\"color: #800080; text-decoration-color: #800080\">/opt/bitnami/spark/data/raw/</span><span style=\"color: #ff00ff; text-decoration-color: #ff00ff\">payment_gateway_transactions.csv</span> exists and is readable\n",
       "</pre>\n"
      ],
      "text/plain": [
       "✓ \u001b[35m/opt/bitnami/spark/data/raw/\u001b[0m\u001b[95mpayment_gateway_transactions.csv\u001b[0m exists and is readable\n"
      ]
     },
     "metadata": {},
     "output_type": "display_data"
    },
    {
     "data": {
      "text/html": [
       "<pre style=\"white-space:pre;overflow-x:auto;line-height:normal;font-family:Menlo,'DejaVu Sans Mono',consolas,'Courier New',monospace\">\n",
       " Raw data directory contents:\n",
       "</pre>\n"
      ],
      "text/plain": [
       "\n",
       " Raw data directory contents:\n"
      ]
     },
     "metadata": {},
     "output_type": "display_data"
    },
    {
     "name": "stdout",
     "output_type": "stream",
     "text": [
      "total 6960\n",
      "drwxrwxrwx 1 1000 1000    4096 Jul 12 21:44 .\n",
      "drwxrwxrwx 1 1000 1000    4096 Jul 12 19:25 ..\n",
      "-rwxrwxrwx 1 1000 1000       0 Jul 12 19:25 .gitkeep\n",
      "-rwxrwxrwx 1 1000 1000 2387916 Jul 13 09:54 card_processor_transactions.csv\n",
      "-rwxrwxrwx 1 1000 1000 2354140 Jul 13 09:54 core_banking_transactions.csv\n",
      "-rwxrwxrwx 1 1000 1000 2381297 Jul 13 09:54 payment_gateway_transactions.csv\n"
     ]
    }
   ],
   "source": [
    "# Save data to CSV files\n",
    "print(\" Saving data to CSV files...\")\n",
    "\n",
    "def save_to_csv(transactions, filename):\n",
    "    \"\"\"Save transactions to a CSV file.\"\"\"\n",
    "    df = pd.DataFrame(transactions)\n",
    "    \n",
    "    # Convert datetime objects to strings\n",
    "    for col in ['transaction_date', 'created_at', 'processing_timestamp']:\n",
    "        df[col] = df[col].apply(lambda x: x.strftime('%Y-%m-%d %H:%M:%S'))\n",
    "    \n",
    "    # Save to CSV\n",
    "    df.to_csv(filename, index=False)\n",
    "    print(f\"✓ Saved {len(transactions)} transactions to {filename}\")\n",
    "    \n",
    "    # Show sample data\n",
    "    print(f\"  Sample data from {filename}:\")\n",
    "    print(f\"  - Columns: {list(df.columns)}\")\n",
    "    print(f\"  - Shape: {df.shape}\")\n",
    "    print(f\"  - Sample transaction_id: {df['transaction_id'].iloc[0]}\")\n",
    "    print(f\"  - Sample amount: ${df['amount'].iloc[0]:.2f}\")\n",
    "    print(f\"  - Sample status: {df['status'].iloc[0]}\")\n",
    "\n",
    "# Save each source system's data\n",
    "csv_files = {}\n",
    "for system, transactions in all_transactions.items():\n",
    "    filename = f\"{data_dir}/{system}_transactions.csv\"\n",
    "    save_to_csv(transactions, filename)\n",
    "    csv_files[system] = filename\n",
    "\n",
    "print(f\"\\n📁 CSV files created:\")\n",
    "for system, filename in csv_files.items():\n",
    "    file_size = os.path.getsize(filename)\n",
    "    print(f\"- {system}: {filename} ({file_size:,} bytes)\")\n",
    "\n",
    "# Verify files exist and are readable\n",
    "print(\"\\n🔍 Verifying CSV files...\")\n",
    "for filename in csv_files.values():\n",
    "    if os.path.exists(filename):\n",
    "        print(f\"✓ {filename} exists and is readable\")\n",
    "    else:\n",
    "        print(f\"✗ {filename} not found\")\n",
    "\n",
    "# Show directory contents\n",
    "print(f\"\\n Raw data directory contents:\")\n",
    "!ls -la {data_dir}/"
   ]
  },
  {
   "cell_type": "markdown",
   "metadata": {},
   "source": [
    "## Step 8: Ingest Data into Iceberg Tables\n",
    "\n",
    "**Purpose**: Load CSV data into Iceberg tables using Spark DataFrame operations.\n",
    "\n",
    "### **Ingestion Strategy**:\n",
    "\n",
    "#### **1. CSV Reading**\n",
    "- Use Spark's CSV reader with proper schema inference\n",
    "- Handle datetime parsing correctly\n",
    "- Ensure data type consistency\n",
    "\n",
    "#### **2. Data Transformation**\n",
    "- Convert string dates back to timestamps\n",
    "- Ensure proper decimal precision for amounts\n",
    "- Validate data quality\n",
    "\n",
    "#### **3. Iceberg Writing**\n",
    "- Use Iceberg's write capabilities\n",
    "- Leverage partitioning for performance\n",
    "- Maintain ACID properties\n",
    "\n",
    "#### **4. Error Handling**\n",
    "- Validate data before writing\n",
    "- Handle missing or malformed data\n",
    "- Provide detailed error reporting"
   ]
  },
  {
   "cell_type": "code",
   "execution_count": 9,
   "metadata": {},
   "outputs": [
    {
     "data": {
      "text/html": [
       "<pre style=\"white-space:pre;overflow-x:auto;line-height:normal;font-family:Menlo,'DejaVu Sans Mono',consolas,'Courier New',monospace\">📥 Ingesting data into Iceberg tables<span style=\"color: #808000; text-decoration-color: #808000\">...</span>\n",
       "</pre>\n"
      ],
      "text/plain": [
       "📥 Ingesting data into Iceberg tables\u001b[33m...\u001b[0m\n"
      ]
     },
     "metadata": {},
     "output_type": "display_data"
    },
    {
     "data": {
      "text/html": [
       "<pre style=\"white-space:pre;overflow-x:auto;line-height:normal;font-family:Menlo,'DejaVu Sans Mono',consolas,'Courier New',monospace\">\n",
       "🔄 Processing <span style=\"color: #800080; text-decoration-color: #800080\">/opt/bitnami/spark/data/raw/</span><span style=\"color: #ff00ff; text-decoration-color: #ff00ff\">core_banking_transactions.csv...</span>\n",
       "</pre>\n"
      ],
      "text/plain": [
       "\n",
       "🔄 Processing \u001b[35m/opt/bitnami/spark/data/raw/\u001b[0m\u001b[95mcore_banking_transactions.csv...\u001b[0m\n"
      ]
     },
     "metadata": {},
     "output_type": "display_data"
    },
    {
     "name": "stderr",
     "output_type": "stream",
     "text": [
      "                                                                                "
     ]
    },
    {
     "data": {
      "text/html": [
       "<pre style=\"white-space:pre;overflow-x:auto;line-height:normal;font-family:Menlo,'DejaVu Sans Mono',consolas,'Courier New',monospace\">✓ Read <span style=\"color: #008080; text-decoration-color: #008080; font-weight: bold\">5000</span> rows from <span style=\"color: #800080; text-decoration-color: #800080\">/opt/bitnami/spark/data/raw/</span><span style=\"color: #ff00ff; text-decoration-color: #ff00ff\">core_banking_transactions.csv</span>\n",
       "</pre>\n"
      ],
      "text/plain": [
       "✓ Read \u001b[1;36m5000\u001b[0m rows from \u001b[35m/opt/bitnami/spark/data/raw/\u001b[0m\u001b[95mcore_banking_transactions.csv\u001b[0m\n"
      ]
     },
     "metadata": {},
     "output_type": "display_data"
    },
    {
     "data": {
      "text/html": [
       "<pre style=\"white-space:pre;overflow-x:auto;line-height:normal;font-family:Menlo,'DejaVu Sans Mono',consolas,'Courier New',monospace\">Schema: <span style=\"color: #800080; text-decoration-color: #800080; font-weight: bold\">StructType</span><span style=\"font-weight: bold\">([</span><span style=\"color: #800080; text-decoration-color: #800080; font-weight: bold\">StructField</span><span style=\"font-weight: bold\">(</span><span style=\"color: #008000; text-decoration-color: #008000\">'transaction_id'</span>, <span style=\"color: #800080; text-decoration-color: #800080; font-weight: bold\">StringType</span><span style=\"font-weight: bold\">()</span>, <span style=\"color: #00ff00; text-decoration-color: #00ff00; font-style: italic\">True</span><span style=\"font-weight: bold\">)</span>, <span style=\"color: #800080; text-decoration-color: #800080; font-weight: bold\">StructField</span><span style=\"font-weight: bold\">(</span><span style=\"color: #008000; text-decoration-color: #008000\">'source_system'</span>, <span style=\"color: #800080; text-decoration-color: #800080; font-weight: bold\">StringType</span><span style=\"font-weight: bold\">()</span>, \n",
       "<span style=\"color: #00ff00; text-decoration-color: #00ff00; font-style: italic\">True</span><span style=\"font-weight: bold\">)</span>, <span style=\"color: #800080; text-decoration-color: #800080; font-weight: bold\">StructField</span><span style=\"font-weight: bold\">(</span><span style=\"color: #008000; text-decoration-color: #008000\">'transaction_date'</span>, <span style=\"color: #800080; text-decoration-color: #800080; font-weight: bold\">TimestampType</span><span style=\"font-weight: bold\">()</span>, <span style=\"color: #00ff00; text-decoration-color: #00ff00; font-style: italic\">True</span><span style=\"font-weight: bold\">)</span>, <span style=\"color: #800080; text-decoration-color: #800080; font-weight: bold\">StructField</span><span style=\"font-weight: bold\">(</span><span style=\"color: #008000; text-decoration-color: #008000\">'amount'</span>, <span style=\"color: #800080; text-decoration-color: #800080; font-weight: bold\">DoubleType</span><span style=\"font-weight: bold\">()</span>, <span style=\"color: #00ff00; text-decoration-color: #00ff00; font-style: italic\">True</span><span style=\"font-weight: bold\">)</span>, \n",
       "<span style=\"color: #800080; text-decoration-color: #800080; font-weight: bold\">StructField</span><span style=\"font-weight: bold\">(</span><span style=\"color: #008000; text-decoration-color: #008000\">'account_id'</span>, <span style=\"color: #800080; text-decoration-color: #800080; font-weight: bold\">StringType</span><span style=\"font-weight: bold\">()</span>, <span style=\"color: #00ff00; text-decoration-color: #00ff00; font-style: italic\">True</span><span style=\"font-weight: bold\">)</span>, <span style=\"color: #800080; text-decoration-color: #800080; font-weight: bold\">StructField</span><span style=\"font-weight: bold\">(</span><span style=\"color: #008000; text-decoration-color: #008000\">'transaction_type'</span>, <span style=\"color: #800080; text-decoration-color: #800080; font-weight: bold\">StringType</span><span style=\"font-weight: bold\">()</span>, <span style=\"color: #00ff00; text-decoration-color: #00ff00; font-style: italic\">True</span><span style=\"font-weight: bold\">)</span>, \n",
       "<span style=\"color: #800080; text-decoration-color: #800080; font-weight: bold\">StructField</span><span style=\"font-weight: bold\">(</span><span style=\"color: #008000; text-decoration-color: #008000\">'reference_id'</span>, <span style=\"color: #800080; text-decoration-color: #800080; font-weight: bold\">StringType</span><span style=\"font-weight: bold\">()</span>, <span style=\"color: #00ff00; text-decoration-color: #00ff00; font-style: italic\">True</span><span style=\"font-weight: bold\">)</span>, <span style=\"color: #800080; text-decoration-color: #800080; font-weight: bold\">StructField</span><span style=\"font-weight: bold\">(</span><span style=\"color: #008000; text-decoration-color: #008000\">'status'</span>, <span style=\"color: #800080; text-decoration-color: #800080; font-weight: bold\">StringType</span><span style=\"font-weight: bold\">()</span>, <span style=\"color: #00ff00; text-decoration-color: #00ff00; font-style: italic\">True</span><span style=\"font-weight: bold\">)</span>, <span style=\"color: #800080; text-decoration-color: #800080; font-weight: bold\">StructField</span><span style=\"font-weight: bold\">(</span><span style=\"color: #008000; text-decoration-color: #008000\">'payload'</span>, \n",
       "<span style=\"color: #800080; text-decoration-color: #800080; font-weight: bold\">StringType</span><span style=\"font-weight: bold\">()</span>, <span style=\"color: #00ff00; text-decoration-color: #00ff00; font-style: italic\">True</span><span style=\"font-weight: bold\">)</span>, <span style=\"color: #800080; text-decoration-color: #800080; font-weight: bold\">StructField</span><span style=\"font-weight: bold\">(</span><span style=\"color: #008000; text-decoration-color: #008000\">'created_at'</span>, <span style=\"color: #800080; text-decoration-color: #800080; font-weight: bold\">StringType</span><span style=\"font-weight: bold\">()</span>, <span style=\"color: #00ff00; text-decoration-color: #00ff00; font-style: italic\">True</span><span style=\"font-weight: bold\">)</span>, <span style=\"color: #800080; text-decoration-color: #800080; font-weight: bold\">StructField</span><span style=\"font-weight: bold\">(</span><span style=\"color: #008000; text-decoration-color: #008000\">'processing_timestamp'</span>, \n",
       "<span style=\"color: #800080; text-decoration-color: #800080; font-weight: bold\">StringType</span><span style=\"font-weight: bold\">()</span>, <span style=\"color: #00ff00; text-decoration-color: #00ff00; font-style: italic\">True</span><span style=\"font-weight: bold\">)])</span>\n",
       "</pre>\n"
      ],
      "text/plain": [
       "Schema: \u001b[1;35mStructType\u001b[0m\u001b[1m(\u001b[0m\u001b[1m[\u001b[0m\u001b[1;35mStructField\u001b[0m\u001b[1m(\u001b[0m\u001b[32m'transaction_id'\u001b[0m, \u001b[1;35mStringType\u001b[0m\u001b[1m(\u001b[0m\u001b[1m)\u001b[0m, \u001b[3;92mTrue\u001b[0m\u001b[1m)\u001b[0m, \u001b[1;35mStructField\u001b[0m\u001b[1m(\u001b[0m\u001b[32m'source_system'\u001b[0m, \u001b[1;35mStringType\u001b[0m\u001b[1m(\u001b[0m\u001b[1m)\u001b[0m, \n",
       "\u001b[3;92mTrue\u001b[0m\u001b[1m)\u001b[0m, \u001b[1;35mStructField\u001b[0m\u001b[1m(\u001b[0m\u001b[32m'transaction_date'\u001b[0m, \u001b[1;35mTimestampType\u001b[0m\u001b[1m(\u001b[0m\u001b[1m)\u001b[0m, \u001b[3;92mTrue\u001b[0m\u001b[1m)\u001b[0m, \u001b[1;35mStructField\u001b[0m\u001b[1m(\u001b[0m\u001b[32m'amount'\u001b[0m, \u001b[1;35mDoubleType\u001b[0m\u001b[1m(\u001b[0m\u001b[1m)\u001b[0m, \u001b[3;92mTrue\u001b[0m\u001b[1m)\u001b[0m, \n",
       "\u001b[1;35mStructField\u001b[0m\u001b[1m(\u001b[0m\u001b[32m'account_id'\u001b[0m, \u001b[1;35mStringType\u001b[0m\u001b[1m(\u001b[0m\u001b[1m)\u001b[0m, \u001b[3;92mTrue\u001b[0m\u001b[1m)\u001b[0m, \u001b[1;35mStructField\u001b[0m\u001b[1m(\u001b[0m\u001b[32m'transaction_type'\u001b[0m, \u001b[1;35mStringType\u001b[0m\u001b[1m(\u001b[0m\u001b[1m)\u001b[0m, \u001b[3;92mTrue\u001b[0m\u001b[1m)\u001b[0m, \n",
       "\u001b[1;35mStructField\u001b[0m\u001b[1m(\u001b[0m\u001b[32m'reference_id'\u001b[0m, \u001b[1;35mStringType\u001b[0m\u001b[1m(\u001b[0m\u001b[1m)\u001b[0m, \u001b[3;92mTrue\u001b[0m\u001b[1m)\u001b[0m, \u001b[1;35mStructField\u001b[0m\u001b[1m(\u001b[0m\u001b[32m'status'\u001b[0m, \u001b[1;35mStringType\u001b[0m\u001b[1m(\u001b[0m\u001b[1m)\u001b[0m, \u001b[3;92mTrue\u001b[0m\u001b[1m)\u001b[0m, \u001b[1;35mStructField\u001b[0m\u001b[1m(\u001b[0m\u001b[32m'payload'\u001b[0m, \n",
       "\u001b[1;35mStringType\u001b[0m\u001b[1m(\u001b[0m\u001b[1m)\u001b[0m, \u001b[3;92mTrue\u001b[0m\u001b[1m)\u001b[0m, \u001b[1;35mStructField\u001b[0m\u001b[1m(\u001b[0m\u001b[32m'created_at'\u001b[0m, \u001b[1;35mStringType\u001b[0m\u001b[1m(\u001b[0m\u001b[1m)\u001b[0m, \u001b[3;92mTrue\u001b[0m\u001b[1m)\u001b[0m, \u001b[1;35mStructField\u001b[0m\u001b[1m(\u001b[0m\u001b[32m'processing_timestamp'\u001b[0m, \n",
       "\u001b[1;35mStringType\u001b[0m\u001b[1m(\u001b[0m\u001b[1m)\u001b[0m, \u001b[3;92mTrue\u001b[0m\u001b[1m)\u001b[0m\u001b[1m]\u001b[0m\u001b[1m)\u001b[0m\n"
      ]
     },
     "metadata": {},
     "output_type": "display_data"
    },
    {
     "data": {
      "text/html": [
       "<pre style=\"white-space:pre;overflow-x:auto;line-height:normal;font-family:Menlo,'DejaVu Sans Mono',consolas,'Courier New',monospace\">\n",
       " Sample data from <span style=\"color: #800080; text-decoration-color: #800080\">/opt/bitnami/spark/data/raw/</span><span style=\"color: #ff00ff; text-decoration-color: #ff00ff\">core_banking_transactions.csv</span>:\n",
       "</pre>\n"
      ],
      "text/plain": [
       "\n",
       " Sample data from \u001b[35m/opt/bitnami/spark/data/raw/\u001b[0m\u001b[95mcore_banking_transactions.csv\u001b[0m:\n"
      ]
     },
     "metadata": {},
     "output_type": "display_data"
    },
    {
     "name": "stdout",
     "output_type": "stream",
     "text": [
      "+---------------+-------------+-------------------+-------+-----------+----------------+--------------+---------+----------------------------------------------------------------------+----------+--------------------+\n",
      "|transaction_id |source_system|transaction_date   |amount |account_id |transaction_type|reference_id  |status   |payload                                                               |created_at|processing_timestamp|\n",
      "+---------------+-------------+-------------------+-------+-----------+----------------+--------------+---------+----------------------------------------------------------------------+----------+--------------------+\n",
      "|CB-006B443F32EF|core_banking |2025-07-03 18:53:31|917.45 |ACC9476419 |deposit         |REF-1507144734|pending  |\"{\"\"description\"\": \"\"Partner where hand against skill Democrat upon.\"\"|NULL      |NULL                |\n",
      "|CB-B4C74D9A2CA9|core_banking |2025-06-22 17:36:27|4666.49|ACC67788147|payment         |REF-3895227419|failed   |\"{\"\"description\"\": \"\"Coach teacher soldier there here.\"\"              |NULL      |NULL                |\n",
      "|CB-43D4A186A1A3|core_banking |2025-06-27 00:53:18|5584.03|ACC68567158|transfer        |REF-5930681292|pending  |\"{\"\"description\"\": \"\"Inside near appear natural.\"\"                    |NULL      |NULL                |\n",
      "|CB-9F0FE7FD754A|core_banking |2025-06-21 10:31:46|3129.39|ACC87735766|refund          |REF-1434221495|completed|\"{\"\"description\"\": \"\"Live court report model college defense police.\"\"|NULL      |NULL                |\n",
      "|CB-7F683C54A9B2|core_banking |2025-06-23 12:09:26|1752.07|ACC64333018|payment         |REF-1490901861|failed   |\"{\"\"description\"\": \"\"Only before many police.\"\"                       |NULL      |NULL                |\n",
      "+---------------+-------------+-------------------+-------+-----------+----------------+--------------+---------+----------------------------------------------------------------------+----------+--------------------+\n",
      "only showing top 5 rows\n",
      "\n"
     ]
    },
    {
     "data": {
      "text/html": [
       "<pre style=\"white-space:pre;overflow-x:auto;line-height:normal;font-family:Menlo,'DejaVu Sans Mono',consolas,'Courier New',monospace\">\n",
       "💾 Writing to local.banking.source_transactions<span style=\"color: #808000; text-decoration-color: #808000\">...</span>\n",
       "</pre>\n"
      ],
      "text/plain": [
       "\n",
       "💾 Writing to local.banking.source_transactions\u001b[33m...\u001b[0m\n"
      ]
     },
     "metadata": {},
     "output_type": "display_data"
    },
    {
     "name": "stderr",
     "output_type": "stream",
     "text": [
      "                                                                                "
     ]
    },
    {
     "data": {
      "text/html": [
       "<pre style=\"white-space:pre;overflow-x:auto;line-height:normal;font-family:Menlo,'DejaVu Sans Mono',consolas,'Courier New',monospace\">✓ Successfully ingested <span style=\"color: #008080; text-decoration-color: #008080; font-weight: bold\">5000</span> rows into local.banking.source_transactions\n",
       "</pre>\n"
      ],
      "text/plain": [
       "✓ Successfully ingested \u001b[1;36m5000\u001b[0m rows into local.banking.source_transactions\n"
      ]
     },
     "metadata": {},
     "output_type": "display_data"
    },
    {
     "data": {
      "text/html": [
       "<pre style=\"white-space:pre;overflow-x:auto;line-height:normal;font-family:Menlo,'DejaVu Sans Mono',consolas,'Courier New',monospace\">\n",
       "🔄 Processing <span style=\"color: #800080; text-decoration-color: #800080\">/opt/bitnami/spark/data/raw/</span><span style=\"color: #ff00ff; text-decoration-color: #ff00ff\">card_processor_transactions.csv...</span>\n",
       "</pre>\n"
      ],
      "text/plain": [
       "\n",
       "🔄 Processing \u001b[35m/opt/bitnami/spark/data/raw/\u001b[0m\u001b[95mcard_processor_transactions.csv...\u001b[0m\n"
      ]
     },
     "metadata": {},
     "output_type": "display_data"
    },
    {
     "data": {
      "text/html": [
       "<pre style=\"white-space:pre;overflow-x:auto;line-height:normal;font-family:Menlo,'DejaVu Sans Mono',consolas,'Courier New',monospace\">✓ Read <span style=\"color: #008080; text-decoration-color: #008080; font-weight: bold\">5050</span> rows from <span style=\"color: #800080; text-decoration-color: #800080\">/opt/bitnami/spark/data/raw/</span><span style=\"color: #ff00ff; text-decoration-color: #ff00ff\">card_processor_transactions.csv</span>\n",
       "</pre>\n"
      ],
      "text/plain": [
       "✓ Read \u001b[1;36m5050\u001b[0m rows from \u001b[35m/opt/bitnami/spark/data/raw/\u001b[0m\u001b[95mcard_processor_transactions.csv\u001b[0m\n"
      ]
     },
     "metadata": {},
     "output_type": "display_data"
    },
    {
     "data": {
      "text/html": [
       "<pre style=\"white-space:pre;overflow-x:auto;line-height:normal;font-family:Menlo,'DejaVu Sans Mono',consolas,'Courier New',monospace\">Schema: <span style=\"color: #800080; text-decoration-color: #800080; font-weight: bold\">StructType</span><span style=\"font-weight: bold\">([</span><span style=\"color: #800080; text-decoration-color: #800080; font-weight: bold\">StructField</span><span style=\"font-weight: bold\">(</span><span style=\"color: #008000; text-decoration-color: #008000\">'transaction_id'</span>, <span style=\"color: #800080; text-decoration-color: #800080; font-weight: bold\">StringType</span><span style=\"font-weight: bold\">()</span>, <span style=\"color: #00ff00; text-decoration-color: #00ff00; font-style: italic\">True</span><span style=\"font-weight: bold\">)</span>, <span style=\"color: #800080; text-decoration-color: #800080; font-weight: bold\">StructField</span><span style=\"font-weight: bold\">(</span><span style=\"color: #008000; text-decoration-color: #008000\">'source_system'</span>, <span style=\"color: #800080; text-decoration-color: #800080; font-weight: bold\">StringType</span><span style=\"font-weight: bold\">()</span>, \n",
       "<span style=\"color: #00ff00; text-decoration-color: #00ff00; font-style: italic\">True</span><span style=\"font-weight: bold\">)</span>, <span style=\"color: #800080; text-decoration-color: #800080; font-weight: bold\">StructField</span><span style=\"font-weight: bold\">(</span><span style=\"color: #008000; text-decoration-color: #008000\">'transaction_date'</span>, <span style=\"color: #800080; text-decoration-color: #800080; font-weight: bold\">TimestampType</span><span style=\"font-weight: bold\">()</span>, <span style=\"color: #00ff00; text-decoration-color: #00ff00; font-style: italic\">True</span><span style=\"font-weight: bold\">)</span>, <span style=\"color: #800080; text-decoration-color: #800080; font-weight: bold\">StructField</span><span style=\"font-weight: bold\">(</span><span style=\"color: #008000; text-decoration-color: #008000\">'amount'</span>, <span style=\"color: #800080; text-decoration-color: #800080; font-weight: bold\">DoubleType</span><span style=\"font-weight: bold\">()</span>, <span style=\"color: #00ff00; text-decoration-color: #00ff00; font-style: italic\">True</span><span style=\"font-weight: bold\">)</span>, \n",
       "<span style=\"color: #800080; text-decoration-color: #800080; font-weight: bold\">StructField</span><span style=\"font-weight: bold\">(</span><span style=\"color: #008000; text-decoration-color: #008000\">'account_id'</span>, <span style=\"color: #800080; text-decoration-color: #800080; font-weight: bold\">StringType</span><span style=\"font-weight: bold\">()</span>, <span style=\"color: #00ff00; text-decoration-color: #00ff00; font-style: italic\">True</span><span style=\"font-weight: bold\">)</span>, <span style=\"color: #800080; text-decoration-color: #800080; font-weight: bold\">StructField</span><span style=\"font-weight: bold\">(</span><span style=\"color: #008000; text-decoration-color: #008000\">'transaction_type'</span>, <span style=\"color: #800080; text-decoration-color: #800080; font-weight: bold\">StringType</span><span style=\"font-weight: bold\">()</span>, <span style=\"color: #00ff00; text-decoration-color: #00ff00; font-style: italic\">True</span><span style=\"font-weight: bold\">)</span>, \n",
       "<span style=\"color: #800080; text-decoration-color: #800080; font-weight: bold\">StructField</span><span style=\"font-weight: bold\">(</span><span style=\"color: #008000; text-decoration-color: #008000\">'reference_id'</span>, <span style=\"color: #800080; text-decoration-color: #800080; font-weight: bold\">StringType</span><span style=\"font-weight: bold\">()</span>, <span style=\"color: #00ff00; text-decoration-color: #00ff00; font-style: italic\">True</span><span style=\"font-weight: bold\">)</span>, <span style=\"color: #800080; text-decoration-color: #800080; font-weight: bold\">StructField</span><span style=\"font-weight: bold\">(</span><span style=\"color: #008000; text-decoration-color: #008000\">'status'</span>, <span style=\"color: #800080; text-decoration-color: #800080; font-weight: bold\">StringType</span><span style=\"font-weight: bold\">()</span>, <span style=\"color: #00ff00; text-decoration-color: #00ff00; font-style: italic\">True</span><span style=\"font-weight: bold\">)</span>, <span style=\"color: #800080; text-decoration-color: #800080; font-weight: bold\">StructField</span><span style=\"font-weight: bold\">(</span><span style=\"color: #008000; text-decoration-color: #008000\">'payload'</span>, \n",
       "<span style=\"color: #800080; text-decoration-color: #800080; font-weight: bold\">StringType</span><span style=\"font-weight: bold\">()</span>, <span style=\"color: #00ff00; text-decoration-color: #00ff00; font-style: italic\">True</span><span style=\"font-weight: bold\">)</span>, <span style=\"color: #800080; text-decoration-color: #800080; font-weight: bold\">StructField</span><span style=\"font-weight: bold\">(</span><span style=\"color: #008000; text-decoration-color: #008000\">'created_at'</span>, <span style=\"color: #800080; text-decoration-color: #800080; font-weight: bold\">StringType</span><span style=\"font-weight: bold\">()</span>, <span style=\"color: #00ff00; text-decoration-color: #00ff00; font-style: italic\">True</span><span style=\"font-weight: bold\">)</span>, <span style=\"color: #800080; text-decoration-color: #800080; font-weight: bold\">StructField</span><span style=\"font-weight: bold\">(</span><span style=\"color: #008000; text-decoration-color: #008000\">'processing_timestamp'</span>, \n",
       "<span style=\"color: #800080; text-decoration-color: #800080; font-weight: bold\">StringType</span><span style=\"font-weight: bold\">()</span>, <span style=\"color: #00ff00; text-decoration-color: #00ff00; font-style: italic\">True</span><span style=\"font-weight: bold\">)])</span>\n",
       "</pre>\n"
      ],
      "text/plain": [
       "Schema: \u001b[1;35mStructType\u001b[0m\u001b[1m(\u001b[0m\u001b[1m[\u001b[0m\u001b[1;35mStructField\u001b[0m\u001b[1m(\u001b[0m\u001b[32m'transaction_id'\u001b[0m, \u001b[1;35mStringType\u001b[0m\u001b[1m(\u001b[0m\u001b[1m)\u001b[0m, \u001b[3;92mTrue\u001b[0m\u001b[1m)\u001b[0m, \u001b[1;35mStructField\u001b[0m\u001b[1m(\u001b[0m\u001b[32m'source_system'\u001b[0m, \u001b[1;35mStringType\u001b[0m\u001b[1m(\u001b[0m\u001b[1m)\u001b[0m, \n",
       "\u001b[3;92mTrue\u001b[0m\u001b[1m)\u001b[0m, \u001b[1;35mStructField\u001b[0m\u001b[1m(\u001b[0m\u001b[32m'transaction_date'\u001b[0m, \u001b[1;35mTimestampType\u001b[0m\u001b[1m(\u001b[0m\u001b[1m)\u001b[0m, \u001b[3;92mTrue\u001b[0m\u001b[1m)\u001b[0m, \u001b[1;35mStructField\u001b[0m\u001b[1m(\u001b[0m\u001b[32m'amount'\u001b[0m, \u001b[1;35mDoubleType\u001b[0m\u001b[1m(\u001b[0m\u001b[1m)\u001b[0m, \u001b[3;92mTrue\u001b[0m\u001b[1m)\u001b[0m, \n",
       "\u001b[1;35mStructField\u001b[0m\u001b[1m(\u001b[0m\u001b[32m'account_id'\u001b[0m, \u001b[1;35mStringType\u001b[0m\u001b[1m(\u001b[0m\u001b[1m)\u001b[0m, \u001b[3;92mTrue\u001b[0m\u001b[1m)\u001b[0m, \u001b[1;35mStructField\u001b[0m\u001b[1m(\u001b[0m\u001b[32m'transaction_type'\u001b[0m, \u001b[1;35mStringType\u001b[0m\u001b[1m(\u001b[0m\u001b[1m)\u001b[0m, \u001b[3;92mTrue\u001b[0m\u001b[1m)\u001b[0m, \n",
       "\u001b[1;35mStructField\u001b[0m\u001b[1m(\u001b[0m\u001b[32m'reference_id'\u001b[0m, \u001b[1;35mStringType\u001b[0m\u001b[1m(\u001b[0m\u001b[1m)\u001b[0m, \u001b[3;92mTrue\u001b[0m\u001b[1m)\u001b[0m, \u001b[1;35mStructField\u001b[0m\u001b[1m(\u001b[0m\u001b[32m'status'\u001b[0m, \u001b[1;35mStringType\u001b[0m\u001b[1m(\u001b[0m\u001b[1m)\u001b[0m, \u001b[3;92mTrue\u001b[0m\u001b[1m)\u001b[0m, \u001b[1;35mStructField\u001b[0m\u001b[1m(\u001b[0m\u001b[32m'payload'\u001b[0m, \n",
       "\u001b[1;35mStringType\u001b[0m\u001b[1m(\u001b[0m\u001b[1m)\u001b[0m, \u001b[3;92mTrue\u001b[0m\u001b[1m)\u001b[0m, \u001b[1;35mStructField\u001b[0m\u001b[1m(\u001b[0m\u001b[32m'created_at'\u001b[0m, \u001b[1;35mStringType\u001b[0m\u001b[1m(\u001b[0m\u001b[1m)\u001b[0m, \u001b[3;92mTrue\u001b[0m\u001b[1m)\u001b[0m, \u001b[1;35mStructField\u001b[0m\u001b[1m(\u001b[0m\u001b[32m'processing_timestamp'\u001b[0m, \n",
       "\u001b[1;35mStringType\u001b[0m\u001b[1m(\u001b[0m\u001b[1m)\u001b[0m, \u001b[3;92mTrue\u001b[0m\u001b[1m)\u001b[0m\u001b[1m]\u001b[0m\u001b[1m)\u001b[0m\n"
      ]
     },
     "metadata": {},
     "output_type": "display_data"
    },
    {
     "data": {
      "text/html": [
       "<pre style=\"white-space:pre;overflow-x:auto;line-height:normal;font-family:Menlo,'DejaVu Sans Mono',consolas,'Courier New',monospace\">\n",
       " Sample data from <span style=\"color: #800080; text-decoration-color: #800080\">/opt/bitnami/spark/data/raw/</span><span style=\"color: #ff00ff; text-decoration-color: #ff00ff\">card_processor_transactions.csv</span>:\n",
       "</pre>\n"
      ],
      "text/plain": [
       "\n",
       " Sample data from \u001b[35m/opt/bitnami/spark/data/raw/\u001b[0m\u001b[95mcard_processor_transactions.csv\u001b[0m:\n"
      ]
     },
     "metadata": {},
     "output_type": "display_data"
    },
    {
     "name": "stdout",
     "output_type": "stream",
     "text": [
      "+---------------+--------------+-------------------+-------+-----------+----------------+--------------+---------+----------------------------------------------------------------------+----------+--------------------+\n",
      "|transaction_id |source_system |transaction_date   |amount |account_id |transaction_type|reference_id  |status   |payload                                                               |created_at|processing_timestamp|\n",
      "+---------------+--------------+-------------------+-------+-----------+----------------+--------------+---------+----------------------------------------------------------------------+----------+--------------------+\n",
      "|CP-F21B9A0346F2|card_processor|2025-07-03 18:53:31|917.45 |ACC9476419 |deposit         |REF-1507144734|pending  |\"{\"\"description\"\": \"\"Partner where hand against skill Democrat upon.\"\"|NULL      |NULL                |\n",
      "|CP-B2C6D8A67E76|card_processor|2025-06-22 17:36:27|4666.49|ACC67788147|payment         |REF-3895227419|failed   |\"{\"\"description\"\": \"\"Coach teacher soldier there here.\"\"              |NULL      |NULL                |\n",
      "|CP-E27BF4F0F130|card_processor|2025-06-27 00:53:18|5584.03|ACC68567158|transfer        |REF-5930681292|pending  |\"{\"\"description\"\": \"\"Inside near appear natural.\"\"                    |NULL      |NULL                |\n",
      "|CP-5BBC3B59C50E|card_processor|2025-06-21 10:31:46|3129.39|ACC87735766|refund          |REF-1434221495|completed|\"{\"\"description\"\": \"\"Live court report model college defense police.\"\"|NULL      |NULL                |\n",
      "|CP-95263C60A809|card_processor|2025-06-23 12:09:26|1752.07|ACC64333018|payment         |REF-1490901861|failed   |\"{\"\"description\"\": \"\"Only before many police.\"\"                       |NULL      |NULL                |\n",
      "+---------------+--------------+-------------------+-------+-----------+----------------+--------------+---------+----------------------------------------------------------------------+----------+--------------------+\n",
      "only showing top 5 rows\n",
      "\n"
     ]
    },
    {
     "data": {
      "text/html": [
       "<pre style=\"white-space:pre;overflow-x:auto;line-height:normal;font-family:Menlo,'DejaVu Sans Mono',consolas,'Courier New',monospace\">\n",
       "💾 Writing to local.banking.source_transactions<span style=\"color: #808000; text-decoration-color: #808000\">...</span>\n",
       "</pre>\n"
      ],
      "text/plain": [
       "\n",
       "💾 Writing to local.banking.source_transactions\u001b[33m...\u001b[0m\n"
      ]
     },
     "metadata": {},
     "output_type": "display_data"
    },
    {
     "name": "stderr",
     "output_type": "stream",
     "text": [
      "                                                                                "
     ]
    },
    {
     "data": {
      "text/html": [
       "<pre style=\"white-space:pre;overflow-x:auto;line-height:normal;font-family:Menlo,'DejaVu Sans Mono',consolas,'Courier New',monospace\">✓ Successfully ingested <span style=\"color: #008080; text-decoration-color: #008080; font-weight: bold\">5050</span> rows into local.banking.source_transactions\n",
       "</pre>\n"
      ],
      "text/plain": [
       "✓ Successfully ingested \u001b[1;36m5050\u001b[0m rows into local.banking.source_transactions\n"
      ]
     },
     "metadata": {},
     "output_type": "display_data"
    },
    {
     "data": {
      "text/html": [
       "<pre style=\"white-space:pre;overflow-x:auto;line-height:normal;font-family:Menlo,'DejaVu Sans Mono',consolas,'Courier New',monospace\">\n",
       "🔄 Processing <span style=\"color: #800080; text-decoration-color: #800080\">/opt/bitnami/spark/data/raw/</span><span style=\"color: #ff00ff; text-decoration-color: #ff00ff\">payment_gateway_transactions.csv...</span>\n",
       "</pre>\n"
      ],
      "text/plain": [
       "\n",
       "🔄 Processing \u001b[35m/opt/bitnami/spark/data/raw/\u001b[0m\u001b[95mpayment_gateway_transactions.csv...\u001b[0m\n"
      ]
     },
     "metadata": {},
     "output_type": "display_data"
    },
    {
     "data": {
      "text/html": [
       "<pre style=\"white-space:pre;overflow-x:auto;line-height:normal;font-family:Menlo,'DejaVu Sans Mono',consolas,'Courier New',monospace\">✓ Read <span style=\"color: #008080; text-decoration-color: #008080; font-weight: bold\">5026</span> rows from <span style=\"color: #800080; text-decoration-color: #800080\">/opt/bitnami/spark/data/raw/</span><span style=\"color: #ff00ff; text-decoration-color: #ff00ff\">payment_gateway_transactions.csv</span>\n",
       "</pre>\n"
      ],
      "text/plain": [
       "✓ Read \u001b[1;36m5026\u001b[0m rows from \u001b[35m/opt/bitnami/spark/data/raw/\u001b[0m\u001b[95mpayment_gateway_transactions.csv\u001b[0m\n"
      ]
     },
     "metadata": {},
     "output_type": "display_data"
    },
    {
     "data": {
      "text/html": [
       "<pre style=\"white-space:pre;overflow-x:auto;line-height:normal;font-family:Menlo,'DejaVu Sans Mono',consolas,'Courier New',monospace\">Schema: <span style=\"color: #800080; text-decoration-color: #800080; font-weight: bold\">StructType</span><span style=\"font-weight: bold\">([</span><span style=\"color: #800080; text-decoration-color: #800080; font-weight: bold\">StructField</span><span style=\"font-weight: bold\">(</span><span style=\"color: #008000; text-decoration-color: #008000\">'transaction_id'</span>, <span style=\"color: #800080; text-decoration-color: #800080; font-weight: bold\">StringType</span><span style=\"font-weight: bold\">()</span>, <span style=\"color: #00ff00; text-decoration-color: #00ff00; font-style: italic\">True</span><span style=\"font-weight: bold\">)</span>, <span style=\"color: #800080; text-decoration-color: #800080; font-weight: bold\">StructField</span><span style=\"font-weight: bold\">(</span><span style=\"color: #008000; text-decoration-color: #008000\">'source_system'</span>, <span style=\"color: #800080; text-decoration-color: #800080; font-weight: bold\">StringType</span><span style=\"font-weight: bold\">()</span>, \n",
       "<span style=\"color: #00ff00; text-decoration-color: #00ff00; font-style: italic\">True</span><span style=\"font-weight: bold\">)</span>, <span style=\"color: #800080; text-decoration-color: #800080; font-weight: bold\">StructField</span><span style=\"font-weight: bold\">(</span><span style=\"color: #008000; text-decoration-color: #008000\">'transaction_date'</span>, <span style=\"color: #800080; text-decoration-color: #800080; font-weight: bold\">TimestampType</span><span style=\"font-weight: bold\">()</span>, <span style=\"color: #00ff00; text-decoration-color: #00ff00; font-style: italic\">True</span><span style=\"font-weight: bold\">)</span>, <span style=\"color: #800080; text-decoration-color: #800080; font-weight: bold\">StructField</span><span style=\"font-weight: bold\">(</span><span style=\"color: #008000; text-decoration-color: #008000\">'amount'</span>, <span style=\"color: #800080; text-decoration-color: #800080; font-weight: bold\">DoubleType</span><span style=\"font-weight: bold\">()</span>, <span style=\"color: #00ff00; text-decoration-color: #00ff00; font-style: italic\">True</span><span style=\"font-weight: bold\">)</span>, \n",
       "<span style=\"color: #800080; text-decoration-color: #800080; font-weight: bold\">StructField</span><span style=\"font-weight: bold\">(</span><span style=\"color: #008000; text-decoration-color: #008000\">'account_id'</span>, <span style=\"color: #800080; text-decoration-color: #800080; font-weight: bold\">StringType</span><span style=\"font-weight: bold\">()</span>, <span style=\"color: #00ff00; text-decoration-color: #00ff00; font-style: italic\">True</span><span style=\"font-weight: bold\">)</span>, <span style=\"color: #800080; text-decoration-color: #800080; font-weight: bold\">StructField</span><span style=\"font-weight: bold\">(</span><span style=\"color: #008000; text-decoration-color: #008000\">'transaction_type'</span>, <span style=\"color: #800080; text-decoration-color: #800080; font-weight: bold\">StringType</span><span style=\"font-weight: bold\">()</span>, <span style=\"color: #00ff00; text-decoration-color: #00ff00; font-style: italic\">True</span><span style=\"font-weight: bold\">)</span>, \n",
       "<span style=\"color: #800080; text-decoration-color: #800080; font-weight: bold\">StructField</span><span style=\"font-weight: bold\">(</span><span style=\"color: #008000; text-decoration-color: #008000\">'reference_id'</span>, <span style=\"color: #800080; text-decoration-color: #800080; font-weight: bold\">StringType</span><span style=\"font-weight: bold\">()</span>, <span style=\"color: #00ff00; text-decoration-color: #00ff00; font-style: italic\">True</span><span style=\"font-weight: bold\">)</span>, <span style=\"color: #800080; text-decoration-color: #800080; font-weight: bold\">StructField</span><span style=\"font-weight: bold\">(</span><span style=\"color: #008000; text-decoration-color: #008000\">'status'</span>, <span style=\"color: #800080; text-decoration-color: #800080; font-weight: bold\">StringType</span><span style=\"font-weight: bold\">()</span>, <span style=\"color: #00ff00; text-decoration-color: #00ff00; font-style: italic\">True</span><span style=\"font-weight: bold\">)</span>, <span style=\"color: #800080; text-decoration-color: #800080; font-weight: bold\">StructField</span><span style=\"font-weight: bold\">(</span><span style=\"color: #008000; text-decoration-color: #008000\">'payload'</span>, \n",
       "<span style=\"color: #800080; text-decoration-color: #800080; font-weight: bold\">StringType</span><span style=\"font-weight: bold\">()</span>, <span style=\"color: #00ff00; text-decoration-color: #00ff00; font-style: italic\">True</span><span style=\"font-weight: bold\">)</span>, <span style=\"color: #800080; text-decoration-color: #800080; font-weight: bold\">StructField</span><span style=\"font-weight: bold\">(</span><span style=\"color: #008000; text-decoration-color: #008000\">'created_at'</span>, <span style=\"color: #800080; text-decoration-color: #800080; font-weight: bold\">StringType</span><span style=\"font-weight: bold\">()</span>, <span style=\"color: #00ff00; text-decoration-color: #00ff00; font-style: italic\">True</span><span style=\"font-weight: bold\">)</span>, <span style=\"color: #800080; text-decoration-color: #800080; font-weight: bold\">StructField</span><span style=\"font-weight: bold\">(</span><span style=\"color: #008000; text-decoration-color: #008000\">'processing_timestamp'</span>, \n",
       "<span style=\"color: #800080; text-decoration-color: #800080; font-weight: bold\">StringType</span><span style=\"font-weight: bold\">()</span>, <span style=\"color: #00ff00; text-decoration-color: #00ff00; font-style: italic\">True</span><span style=\"font-weight: bold\">)])</span>\n",
       "</pre>\n"
      ],
      "text/plain": [
       "Schema: \u001b[1;35mStructType\u001b[0m\u001b[1m(\u001b[0m\u001b[1m[\u001b[0m\u001b[1;35mStructField\u001b[0m\u001b[1m(\u001b[0m\u001b[32m'transaction_id'\u001b[0m, \u001b[1;35mStringType\u001b[0m\u001b[1m(\u001b[0m\u001b[1m)\u001b[0m, \u001b[3;92mTrue\u001b[0m\u001b[1m)\u001b[0m, \u001b[1;35mStructField\u001b[0m\u001b[1m(\u001b[0m\u001b[32m'source_system'\u001b[0m, \u001b[1;35mStringType\u001b[0m\u001b[1m(\u001b[0m\u001b[1m)\u001b[0m, \n",
       "\u001b[3;92mTrue\u001b[0m\u001b[1m)\u001b[0m, \u001b[1;35mStructField\u001b[0m\u001b[1m(\u001b[0m\u001b[32m'transaction_date'\u001b[0m, \u001b[1;35mTimestampType\u001b[0m\u001b[1m(\u001b[0m\u001b[1m)\u001b[0m, \u001b[3;92mTrue\u001b[0m\u001b[1m)\u001b[0m, \u001b[1;35mStructField\u001b[0m\u001b[1m(\u001b[0m\u001b[32m'amount'\u001b[0m, \u001b[1;35mDoubleType\u001b[0m\u001b[1m(\u001b[0m\u001b[1m)\u001b[0m, \u001b[3;92mTrue\u001b[0m\u001b[1m)\u001b[0m, \n",
       "\u001b[1;35mStructField\u001b[0m\u001b[1m(\u001b[0m\u001b[32m'account_id'\u001b[0m, \u001b[1;35mStringType\u001b[0m\u001b[1m(\u001b[0m\u001b[1m)\u001b[0m, \u001b[3;92mTrue\u001b[0m\u001b[1m)\u001b[0m, \u001b[1;35mStructField\u001b[0m\u001b[1m(\u001b[0m\u001b[32m'transaction_type'\u001b[0m, \u001b[1;35mStringType\u001b[0m\u001b[1m(\u001b[0m\u001b[1m)\u001b[0m, \u001b[3;92mTrue\u001b[0m\u001b[1m)\u001b[0m, \n",
       "\u001b[1;35mStructField\u001b[0m\u001b[1m(\u001b[0m\u001b[32m'reference_id'\u001b[0m, \u001b[1;35mStringType\u001b[0m\u001b[1m(\u001b[0m\u001b[1m)\u001b[0m, \u001b[3;92mTrue\u001b[0m\u001b[1m)\u001b[0m, \u001b[1;35mStructField\u001b[0m\u001b[1m(\u001b[0m\u001b[32m'status'\u001b[0m, \u001b[1;35mStringType\u001b[0m\u001b[1m(\u001b[0m\u001b[1m)\u001b[0m, \u001b[3;92mTrue\u001b[0m\u001b[1m)\u001b[0m, \u001b[1;35mStructField\u001b[0m\u001b[1m(\u001b[0m\u001b[32m'payload'\u001b[0m, \n",
       "\u001b[1;35mStringType\u001b[0m\u001b[1m(\u001b[0m\u001b[1m)\u001b[0m, \u001b[3;92mTrue\u001b[0m\u001b[1m)\u001b[0m, \u001b[1;35mStructField\u001b[0m\u001b[1m(\u001b[0m\u001b[32m'created_at'\u001b[0m, \u001b[1;35mStringType\u001b[0m\u001b[1m(\u001b[0m\u001b[1m)\u001b[0m, \u001b[3;92mTrue\u001b[0m\u001b[1m)\u001b[0m, \u001b[1;35mStructField\u001b[0m\u001b[1m(\u001b[0m\u001b[32m'processing_timestamp'\u001b[0m, \n",
       "\u001b[1;35mStringType\u001b[0m\u001b[1m(\u001b[0m\u001b[1m)\u001b[0m, \u001b[3;92mTrue\u001b[0m\u001b[1m)\u001b[0m\u001b[1m]\u001b[0m\u001b[1m)\u001b[0m\n"
      ]
     },
     "metadata": {},
     "output_type": "display_data"
    },
    {
     "data": {
      "text/html": [
       "<pre style=\"white-space:pre;overflow-x:auto;line-height:normal;font-family:Menlo,'DejaVu Sans Mono',consolas,'Courier New',monospace\">\n",
       " Sample data from <span style=\"color: #800080; text-decoration-color: #800080\">/opt/bitnami/spark/data/raw/</span><span style=\"color: #ff00ff; text-decoration-color: #ff00ff\">payment_gateway_transactions.csv</span>:\n",
       "</pre>\n"
      ],
      "text/plain": [
       "\n",
       " Sample data from \u001b[35m/opt/bitnami/spark/data/raw/\u001b[0m\u001b[95mpayment_gateway_transactions.csv\u001b[0m:\n"
      ]
     },
     "metadata": {},
     "output_type": "display_data"
    },
    {
     "name": "stdout",
     "output_type": "stream",
     "text": [
      "+---------------+---------------+-------------------+-------+-----------+----------------+--------------+---------+----------------------------------------------------------------------+----------+--------------------+\n",
      "|transaction_id |source_system  |transaction_date   |amount |account_id |transaction_type|reference_id  |status   |payload                                                               |created_at|processing_timestamp|\n",
      "+---------------+---------------+-------------------+-------+-----------+----------------+--------------+---------+----------------------------------------------------------------------+----------+--------------------+\n",
      "|PG-26DBA3754CE7|payment_gateway|2025-07-03 18:53:31|917.45 |ACC9476419 |deposit         |REF-1507144734|pending  |\"{\"\"description\"\": \"\"Partner where hand against skill Democrat upon.\"\"|NULL      |NULL                |\n",
      "|PG-467D88EF8EA9|payment_gateway|2025-06-22 17:36:27|4666.49|ACC67788147|payment         |REF-3895227419|failed   |\"{\"\"description\"\": \"\"Coach teacher soldier there here.\"\"              |NULL      |NULL                |\n",
      "|PG-C8666FCDB0BC|payment_gateway|2025-06-27 00:53:18|5584.03|ACC68567158|transfer        |REF-5930681292|pending  |\"{\"\"description\"\": \"\"Inside near appear natural.\"\"                    |NULL      |NULL                |\n",
      "|PG-FCEAA40AD81D|payment_gateway|2025-06-21 10:31:46|3129.39|ACC87735766|refund          |REF-1434221495|completed|\"{\"\"description\"\": \"\"Live court report model college defense police.\"\"|NULL      |NULL                |\n",
      "|PG-101B55C52DAD|payment_gateway|2025-06-23 12:09:26|1752.07|ACC64333018|payment         |REF-1490901861|failed   |\"{\"\"description\"\": \"\"Only before many police.\"\"                       |NULL      |NULL                |\n",
      "+---------------+---------------+-------------------+-------+-----------+----------------+--------------+---------+----------------------------------------------------------------------+----------+--------------------+\n",
      "only showing top 5 rows\n",
      "\n"
     ]
    },
    {
     "data": {
      "text/html": [
       "<pre style=\"white-space:pre;overflow-x:auto;line-height:normal;font-family:Menlo,'DejaVu Sans Mono',consolas,'Courier New',monospace\">\n",
       "💾 Writing to local.banking.source_transactions<span style=\"color: #808000; text-decoration-color: #808000\">...</span>\n",
       "</pre>\n"
      ],
      "text/plain": [
       "\n",
       "💾 Writing to local.banking.source_transactions\u001b[33m...\u001b[0m\n"
      ]
     },
     "metadata": {},
     "output_type": "display_data"
    },
    {
     "name": "stderr",
     "output_type": "stream",
     "text": [
      "                                                                                "
     ]
    },
    {
     "data": {
      "text/html": [
       "<pre style=\"white-space:pre;overflow-x:auto;line-height:normal;font-family:Menlo,'DejaVu Sans Mono',consolas,'Courier New',monospace\">✓ Successfully ingested <span style=\"color: #008080; text-decoration-color: #008080; font-weight: bold\">5026</span> rows into local.banking.source_transactions\n",
       "</pre>\n"
      ],
      "text/plain": [
       "✓ Successfully ingested \u001b[1;36m5026\u001b[0m rows into local.banking.source_transactions\n"
      ]
     },
     "metadata": {},
     "output_type": "display_data"
    }
   ],
   "source": [
    "# Ingest data into Iceberg tables\n",
    "print(\"📥 Ingesting data into Iceberg tables...\")\n",
    "\n",
    "def ingest_csv_to_iceberg(csv_file, table_name):\n",
    "    \"\"\"Ingest CSV file into Iceberg table.\"\"\"\n",
    "    try:\n",
    "        print(f\"\\n🔄 Processing {csv_file}...\")\n",
    "        \n",
    "        # Read CSV file\n",
    "        df = spark.read.option(\"header\", \"true\").option(\"inferSchema\", \"true\").csv(csv_file)\n",
    "        \n",
    "        print(f\"✓ Read {df.count()} rows from {csv_file}\")\n",
    "        print(f\"Schema: {df.schema}\")\n",
    "        \n",
    "        # Convert string dates back to timestamps\n",
    "        from pyspark.sql.functions import to_timestamp\n",
    "        \n",
    "        df = df.withColumn(\"transaction_date\", to_timestamp(\"transaction_date\")) \\\n",
    "               .withColumn(\"created_at\", to_timestamp(\"created_at\")) \\\n",
    "               .withColumn(\"processing_timestamp\", to_timestamp(\"processing_timestamp\"))\n",
    "        \n",
    "        # Show sample data\n",
    "        print(f\"\\n Sample data from {csv_file}:\")\n",
    "        df.show(5, truncate=False)\n",
    "        \n",
    "        # Write to the Iceberg table\n",
    "        print(f\"\\n💾 Writing to {table_name}...\")\n",
    "        df.writeTo(table_name).append()\n",
    "        \n",
    "        print(f\"✓ Successfully ingested {df.count()} rows into {table_name}\")\n",
    "    except Exception as e:\n",
    "        print(f\"✗ Error ingesting {csv_file} into {table_name}: {str(e)}\")\n",
    "\n",
    "# Ingest each system's data\n",
    "table_map = {\n",
    "    \"core_banking\": \"local.banking.source_transactions\",\n",
    "    \"card_processor\": \"local.banking.source_transactions\",\n",
    "    \"payment_gateway\": \"local.banking.source_transactions\"\n",
    "}\n",
    "\n",
    "for system, csv_file in csv_files.items():\n",
    "    ingest_csv_to_iceberg(csv_file, table_map[system])"
   ]
  },
  {
   "cell_type": "markdown",
   "metadata": {},
   "source": [
    "## Step 9: Audit and Validate Data Ingestion\n",
    "\n",
    "**Purpose**: Ensure that data was ingested correctly and is ready for reconciliation.\n",
    "\n",
    "### **Audit Steps**:\n",
    "- Count rows in each table\n",
    "- Check partition distribution\n",
    "- Validate schema and sample data\n",
    "- Confirm data ranges and integrity"
   ]
  },
  {
   "cell_type": "code",
   "execution_count": 10,
   "metadata": {},
   "outputs": [
    {
     "data": {
      "text/html": [
       "<pre style=\"white-space:pre;overflow-x:auto;line-height:normal;font-family:Menlo,'DejaVu Sans Mono',consolas,'Courier New',monospace\">🔍 Auditing data ingestion<span style=\"color: #808000; text-decoration-color: #808000\">...</span>\n",
       "</pre>\n"
      ],
      "text/plain": [
       "🔍 Auditing data ingestion\u001b[33m...\u001b[0m\n"
      ]
     },
     "metadata": {},
     "output_type": "display_data"
    },
    {
     "data": {
      "text/html": [
       "<pre style=\"white-space:pre;overflow-x:auto;line-height:normal;font-family:Menlo,'DejaVu Sans Mono',consolas,'Courier New',monospace\">✓ local.banking.source_transactions: <span style=\"color: #008080; text-decoration-color: #008080; font-weight: bold\">15076</span> rows\n",
       "</pre>\n"
      ],
      "text/plain": [
       "✓ local.banking.source_transactions: \u001b[1;36m15076\u001b[0m rows\n"
      ]
     },
     "metadata": {},
     "output_type": "display_data"
    },
    {
     "data": {
      "text/html": [
       "<pre style=\"white-space:pre;overflow-x:auto;line-height:normal;font-family:Menlo,'DejaVu Sans Mono',consolas,'Courier New',monospace\">✓ local.banking.reconciliation_results: <span style=\"color: #008080; text-decoration-color: #008080; font-weight: bold\">0</span> rows\n",
       "</pre>\n"
      ],
      "text/plain": [
       "✓ local.banking.reconciliation_results: \u001b[1;36m0\u001b[0m rows\n"
      ]
     },
     "metadata": {},
     "output_type": "display_data"
    },
    {
     "data": {
      "text/html": [
       "<pre style=\"white-space:pre;overflow-x:auto;line-height:normal;font-family:Menlo,'DejaVu Sans Mono',consolas,'Courier New',monospace\">✓ local.banking.reconciliation_batches: <span style=\"color: #008080; text-decoration-color: #008080; font-weight: bold\">0</span> rows\n",
       "</pre>\n"
      ],
      "text/plain": [
       "✓ local.banking.reconciliation_batches: \u001b[1;36m0\u001b[0m rows\n"
      ]
     },
     "metadata": {},
     "output_type": "display_data"
    },
    {
     "data": {
      "text/html": [
       "<pre style=\"white-space:pre;overflow-x:auto;line-height:normal;font-family:Menlo,'DejaVu Sans Mono',consolas,'Courier New',monospace\">\n",
       "📊 Partition distribution for source_transactions:\n",
       "</pre>\n"
      ],
      "text/plain": [
       "\n",
       "📊 Partition distribution for source_transactions:\n"
      ]
     },
     "metadata": {},
     "output_type": "display_data"
    },
    {
     "name": "stderr",
     "output_type": "stream",
     "text": [
      "[Stage 54:=====================================>                  (16 + 8) / 24]"
     ]
    },
    {
     "name": "stdout",
     "output_type": "stream",
     "text": [
      "+-------------------+---------------+-----+\n",
      "|                day|  source_system|count|\n",
      "+-------------------+---------------+-----+\n",
      "|2025-06-13 00:00:00| card_processor|   92|\n",
      "|2025-06-13 00:00:00|   core_banking|   92|\n",
      "|2025-06-13 00:00:00|payment_gateway|   96|\n",
      "|2025-06-14 00:00:00| card_processor|  157|\n",
      "|2025-06-14 00:00:00|   core_banking|  153|\n",
      "|2025-06-14 00:00:00|payment_gateway|  153|\n",
      "|2025-06-15 00:00:00| card_processor|  158|\n",
      "|2025-06-15 00:00:00|   core_banking|  155|\n",
      "|2025-06-15 00:00:00|payment_gateway|  156|\n",
      "|2025-06-16 00:00:00| card_processor|  159|\n",
      "+-------------------+---------------+-----+\n",
      "only showing top 10 rows\n",
      "\n"
     ]
    },
    {
     "name": "stderr",
     "output_type": "stream",
     "text": [
      "                                                                                "
     ]
    },
    {
     "data": {
      "text/html": [
       "<pre style=\"white-space:pre;overflow-x:auto;line-height:normal;font-family:Menlo,'DejaVu Sans Mono',consolas,'Courier New',monospace\">\n",
       "📋 Sample data from source_transactions:\n",
       "</pre>\n"
      ],
      "text/plain": [
       "\n",
       "📋 Sample data from source_transactions:\n"
      ]
     },
     "metadata": {},
     "output_type": "display_data"
    },
    {
     "name": "stdout",
     "output_type": "stream",
     "text": [
      "+---------------+---------------+-------------------+-------+-----------+----------------+--------------+---------+----------------------------------------------------------------------+----------+--------------------+\n",
      "|transaction_id |source_system  |transaction_date   |amount |account_id |transaction_type|reference_id  |status   |payload                                                               |created_at|processing_timestamp|\n",
      "+---------------+---------------+-------------------+-------+-----------+----------------+--------------+---------+----------------------------------------------------------------------+----------+--------------------+\n",
      "|PG-FCEAA40AD81D|payment_gateway|2025-06-21 10:31:46|3129.39|ACC87735766|refund          |REF-1434221495|completed|\"{\"\"description\"\": \"\"Live court report model college defense police.\"\"|NULL      |NULL                |\n",
      "|PG-698A7AFE593F|payment_gateway|2025-06-21 10:49:59|9315.79|ACC67788147|withdrawal      |REF-2158590067|reversed |\"{\"\"description\"\": \"\"Position he ability edge them each.\"\"            |NULL      |NULL                |\n",
      "|PG-315E316EDB31|payment_gateway|2025-06-21 21:03:37|4712.67|ACC28611624|payment         |REF-7048625137|pending  |\"{\"\"description\"\": \"\"Plant such itself save leg several.\"\"            |NULL      |NULL                |\n",
      "|PG-5F4C2F3FF570|payment_gateway|2025-06-21 23:08:08|5180.15|ACC91287753|fee             |REF-6859379978|reversed |\"{\"\"description\"\": \"\"Agree give every wish society factor threat.\"\"   |NULL      |NULL                |\n",
      "|PG-902E821D9CD6|payment_gateway|2025-06-21 04:52:25|7376.11|ACC87549358|withdrawal      |REF-3343559757|reversed |\"{\"\"description\"\": \"\"Physical of animal discover.\"\"                   |NULL      |NULL                |\n",
      "+---------------+---------------+-------------------+-------+-----------+----------------+--------------+---------+----------------------------------------------------------------------+----------+--------------------+\n",
      "\n"
     ]
    }
   ],
   "source": [
    "# Audit and validate data ingestion\n",
    "print(\"🔍 Auditing data ingestion...\")\n",
    "\n",
    "for table in tables_to_check:\n",
    "    try:\n",
    "        count = spark.sql(f\"SELECT COUNT(*) as count FROM {table}\").collect()[0]['count']\n",
    "        print(f\"✓ {table}: {count} rows\")\n",
    "    except Exception as e:\n",
    "        print(f\"✗ {table}: Error - {str(e)}\")\n",
    "\n",
    "# Check partition distribution for source_transactions\n",
    "print(\"\\n📊 Partition distribution for source_transactions:\")\n",
    "try:\n",
    "    partition_df = spark.sql(\"\"\"\n",
    "        SELECT\n",
    "            date_trunc('day', transaction_date) as day,\n",
    "            source_system,\n",
    "            COUNT(*) as count\n",
    "        FROM local.banking.source_transactions\n",
    "        GROUP BY day, source_system\n",
    "        ORDER BY day, source_system\n",
    "    \"\"\")\n",
    "    partition_df.show(10)\n",
    "except Exception as e:\n",
    "    print(f\"✗ Error checking partition distribution: {str(e)}\")\n",
    "\n",
    "# Show sample data\n",
    "print(\"\\n📋 Sample data from source_transactions:\")\n",
    "try:\n",
    "    spark.sql(\"SELECT * FROM local.banking.source_transactions LIMIT 5\").show(truncate=False)\n",
    "except Exception as e:\n",
    "    print(f\"✗ Error showing sample data: {str(e)}\")"
   ]
  },
  {
   "cell_type": "markdown",
   "metadata": {},
   "source": [
    "## Step 10: Examine Iceberg File Structure After Data Population\n",
    "\n",
    "**Purpose**: Understand how Iceberg organizes data files after populating with real data.\n",
    "\n",
    "### **What We'll Examine**:\n",
    "1. **Data Directory Structure**: How data files are organized\n",
    "2. **Partition Directories**: Date and source system partitioning\n",
    "3. **Metadata Updates**: How metadata files change with data\n",
    "4. **File Sizes**: Understanding storage requirements"
   ]
  },
  {
   "cell_type": "code",
   "execution_count": 15,
   "metadata": {},
   "outputs": [
    {
     "data": {
      "text/html": [
       "<pre style=\"white-space:pre;overflow-x:auto;line-height:normal;font-family:Menlo,'DejaVu Sans Mono',consolas,'Courier New',monospace\">📁 Examining Iceberg file structure after data population<span style=\"color: #808000; text-decoration-color: #808000\">...</span>\n",
       "</pre>\n"
      ],
      "text/plain": [
       "📁 Examining Iceberg file structure after data population\u001b[33m...\u001b[0m\n"
      ]
     },
     "metadata": {},
     "output_type": "display_data"
    },
    {
     "data": {
      "text/html": [
       "<pre style=\"white-space:pre;overflow-x:auto;line-height:normal;font-family:Menlo,'DejaVu Sans Mono',consolas,'Courier New',monospace\">\n",
       "🔍 Banking namespace structure:\n",
       "</pre>\n"
      ],
      "text/plain": [
       "\n",
       "🔍 Banking namespace structure:\n"
      ]
     },
     "metadata": {},
     "output_type": "display_data"
    },
    {
     "name": "stdout",
     "output_type": "stream",
     "text": [
      "total 20\n",
      "drwxr-xr-x 5 root root 4096 Jul 13 08:19 .\n",
      "drwxr-xr-x 3 root root 4096 Jul 13 07:44 ..\n",
      "drwxr-xr-x 3 root root 4096 Jul 13 08:19 reconciliation_batches\n",
      "drwxr-xr-x 3 root root 4096 Jul 13 08:19 reconciliation_results\n",
      "drwxr-xr-x 4 root root 4096 Jul 13 09:56 source_transactions\n"
     ]
    },
    {
     "data": {
      "text/html": [
       "<pre style=\"white-space:pre;overflow-x:auto;line-height:normal;font-family:Menlo,'DejaVu Sans Mono',consolas,'Courier New',monospace\">\n",
       "🔍 source_transactions table structure:\n",
       "</pre>\n"
      ],
      "text/plain": [
       "\n",
       "🔍 source_transactions table structure:\n"
      ]
     },
     "metadata": {},
     "output_type": "display_data"
    },
    {
     "name": "stdout",
     "output_type": "stream",
     "text": [
      "total 16\n",
      "drwxr-xr-x  4 root root 4096 Jul 13 09:56 .\n",
      "drwxr-xr-x  5 root root 4096 Jul 13 08:19 ..\n",
      "drwxr-xr-x 33 root root 4096 Jul 13 09:56 data\n",
      "drwxr-xr-x  2 root root 4096 Jul 13 09:56 metadata\n"
     ]
    },
    {
     "data": {
      "text/html": [
       "<pre style=\"white-space:pre;overflow-x:auto;line-height:normal;font-family:Menlo,'DejaVu Sans Mono',consolas,'Courier New',monospace\">\n",
       "🔍 source_transactions metadata:\n",
       "</pre>\n"
      ],
      "text/plain": [
       "\n",
       "🔍 source_transactions metadata:\n"
      ]
     },
     "metadata": {},
     "output_type": "display_data"
    },
    {
     "name": "stdout",
     "output_type": "stream",
     "text": [
      "total 136\n",
      "drwxr-xr-x 2 root root  4096 Jul 13 09:56 .\n",
      "drwxr-xr-x 4 root root  4096 Jul 13 09:56 ..\n",
      "-rw-r--r-- 1 root root   104 Jul 13 09:56 .3ecdb421-6817-4873-b0c3-77762ed44861-m0.avro.crc\n",
      "-rw-r--r-- 1 root root   104 Jul 13 09:56 .9e13b7f4-522b-49f6-b9cd-41a231a6e6ff-m0.avro.crc\n",
      "-rw-r--r-- 1 root root   104 Jul 13 09:56 .e6aee25d-2e89-4482-b18b-3ce5d00ad3f9-m0.avro.crc\n",
      "-rw-r--r-- 1 root root    48 Jul 13 09:56 .snap-1178840682442895382-1-e6aee25d-2e89-4482-b18b-3ce5d00ad3f9.avro.crc\n",
      "-rw-r--r-- 1 root root    44 Jul 13 09:56 .snap-6929672523092115133-1-9e13b7f4-522b-49f6-b9cd-41a231a6e6ff.avro.crc\n",
      "-rw-r--r-- 1 root root    44 Jul 13 09:56 .snap-7622014884578013585-1-3ecdb421-6817-4873-b0c3-77762ed44861.avro.crc\n",
      "-rw-r--r-- 1 root root    24 Jul 13 07:48 .v1.metadata.json.crc\n",
      "-rw-r--r-- 1 root root    32 Jul 13 09:56 .v2.metadata.json.crc\n",
      "-rw-r--r-- 1 root root    40 Jul 13 09:56 .v3.metadata.json.crc\n",
      "-rw-r--r-- 1 root root    44 Jul 13 09:56 .v4.metadata.json.crc\n",
      "-rw-r--r-- 1 root root    12 Jul 13 09:56 .version-hint.text.crc\n",
      "-rw-r--r-- 1 root root 12212 Jul 13 09:56 3ecdb421-6817-4873-b0c3-77762ed44861-m0.avro\n",
      "-rw-r--r-- 1 root root 12217 Jul 13 09:56 9e13b7f4-522b-49f6-b9cd-41a231a6e6ff-m0.avro\n",
      "-rw-r--r-- 1 root root 12128 Jul 13 09:56 e6aee25d-2e89-4482-b18b-3ce5d00ad3f9-m0.avro\n",
      "-rw-r--r-- 1 root root  4668 Jul 13 09:56 snap-1178840682442895382-1-e6aee25d-2e89-4482-b18b-3ce5d00ad3f9.avro\n",
      "-rw-r--r-- 1 root root  4597 Jul 13 09:56 snap-6929672523092115133-1-9e13b7f4-522b-49f6-b9cd-41a231a6e6ff.avro\n",
      "-rw-r--r-- 1 root root  4503 Jul 13 09:56 snap-7622014884578013585-1-3ecdb421-6817-4873-b0c3-77762ed44861.avro\n",
      "-rw-r--r-- 1 root root  1547 Jul 13 07:48 v1.metadata.json\n",
      "-rw-r--r-- 1 root root  2581 Jul 13 09:56 v2.metadata.json\n",
      "-rw-r--r-- 1 root root  3585 Jul 13 09:56 v3.metadata.json\n",
      "-rw-r--r-- 1 root root  4590 Jul 13 09:56 v4.metadata.json\n",
      "-rw-r--r-- 1 root root     1 Jul 13 09:56 version-hint.text\n"
     ]
    },
    {
     "data": {
      "text/html": [
       "<pre style=\"white-space:pre;overflow-x:auto;line-height:normal;font-family:Menlo,'DejaVu Sans Mono',consolas,'Courier New',monospace\">\n",
       "🔍 Updated metadata content:\n",
       "</pre>\n"
      ],
      "text/plain": [
       "\n",
       "🔍 Updated metadata content:\n"
      ]
     },
     "metadata": {},
     "output_type": "display_data"
    },
    {
     "name": "stdout",
     "output_type": "stream",
     "text": [
      "{\"format-version\":2,\"table-uuid\":\"878b837f-5cf0-4eeb-909a-1bbfedb65d92\",\"location\":\"file:///opt/bitnami/spark/warehouse/banking/source_transactions\",\"last-sequence-number\":0,\"last-updated-ms\":1752392915539,\"last-column-id\":11,\"current-schema-id\":0,\"schemas\":[{\"type\":\"struct\",\"schema-id\":0,\"fields\":[{\"id\":1,\"name\":\"transaction_id\",\"required\":false,\"type\":\"string\"},{\"id\":2,\"name\":\"source_system\",\"required\":false,\"type\":\"string\"},{\"id\":3,\"name\":\"transaction_date\",\"required\":false,\"type\":\"timestamptz\"},{\"id\":4,\"name\":\"amount\",\"required\":false,\"type\":\"decimal(18, 2)\"},{\"id\":5,\"name\":\"account_id\",\"required\":false,\"type\":\"string\"},{\"id\":6,\"name\":\"transaction_type\",\"required\":false,\"type\":\"string\"},{\"id\":7,\"name\":\"reference_id\",\"required\":false,\"type\":\"string\"},{\"id\":8,\"name\":\"status\",\"required\":false,\"type\":\"string\"},{\"id\":9,\"name\":\"payload\",\"required\":false,\"type\":\"string\"},{\"id\":10,\"name\":\"created_at\",\"required\":false,\"type\":\"timestamptz\"},{\"id\":11,\"name\":\"processing_timestamp\",\"required\":false,\"type\":\"timestamptz\"}]}],\"default-spec-id\":0,\"partition-specs\":[{\"spec-id\":0,\"fields\":[{\"name\":\"transaction_date_day\",\"transform\":\"day\",\"source-id\":3,\"field-id\":1000},{\"name\":\"source_system\",\"transform\":\"identity\",\"source-id\":2,\"field-id\":1001}]}],\"last-partition-id\":1001,\"default-sort-order-id\":0,\"sort-orders\":[{\"order-id\":0,\"fields\":[]}],\"properties\":{\"owner\":\"spark\",\"write.parquet.compression-codec\":\"zstd\"},\"current-snapshot-id\":-1,\"refs\":{},\"snapshots\":[],\"statistics\":[],\"partition-statistics\":[],\"snapshot-log\":[],\"metadata-log\":[]}"
     ]
    },
    {
     "data": {
      "text/html": [
       "<pre style=\"white-space:pre;overflow-x:auto;line-height:normal;font-family:Menlo,'DejaVu Sans Mono',consolas,'Courier New',monospace\">\n",
       "🔍 Version hint file:\n",
       "</pre>\n"
      ],
      "text/plain": [
       "\n",
       "🔍 Version hint file:\n"
      ]
     },
     "metadata": {},
     "output_type": "display_data"
    },
    {
     "name": "stdout",
     "output_type": "stream",
     "text": [
      "4"
     ]
    },
    {
     "data": {
      "text/html": [
       "<pre style=\"white-space:pre;overflow-x:auto;line-height:normal;font-family:Menlo,'DejaVu Sans Mono',consolas,'Courier New',monospace\">\n",
       "\n",
       "</pre>\n"
      ],
      "text/plain": [
       "\n",
       "\n"
      ]
     },
     "metadata": {},
     "output_type": "display_data"
    }
   ],
   "source": [
    "# Examine the file structure after data population\n",
    "print(\"📁 Examining Iceberg file structure after data population...\")\n",
    "\n",
    "print(\"\\n🔍 Banking namespace structure:\")\n",
    "!ls -la {warehouse_dir}/banking/\n",
    "\n",
    "print(\"\\n🔍 source_transactions table structure:\")\n",
    "!ls -la {warehouse_dir}/banking/source_transactions/\n",
    "\n",
    "print(\"\\n🔍 source_transactions metadata:\")\n",
    "!ls -la {warehouse_dir}/banking/source_transactions/metadata/\n",
    "\n",
    "print(\"\\n🔍 Updated metadata content:\")\n",
    "!cat {warehouse_dir}/banking/source_transactions/metadata/v1.metadata.json\n",
    "\n",
    "print(\"\\n🔍 Version hint file:\")\n",
    "!cat {warehouse_dir}/banking/source_transactions/metadata/version-hint.text\n",
    "\n",
    "print(\"\\n\")"
   ]
  },
  {
   "cell_type": "markdown",
   "metadata": {},
   "source": [
    "## Check Partitioning - Hive Style"
   ]
  },
  {
   "cell_type": "code",
   "execution_count": 20,
   "metadata": {},
   "outputs": [
    {
     "data": {
      "text/html": [
       "<pre style=\"white-space:pre;overflow-x:auto;line-height:normal;font-family:Menlo,'DejaVu Sans Mono',consolas,'Courier New',monospace\">\n",
       "🔍 source_transactions data directory <span style=\"font-weight: bold\">(</span>if exists<span style=\"font-weight: bold\">)</span>:\n",
       "</pre>\n"
      ],
      "text/plain": [
       "\n",
       "🔍 source_transactions data directory \u001b[1m(\u001b[0mif exists\u001b[1m)\u001b[0m:\n"
      ]
     },
     "metadata": {},
     "output_type": "display_data"
    },
    {
     "name": "stdout",
     "output_type": "stream",
     "text": [
      "'transaction_date_day=2025-06-13'  'transaction_date_day=2025-06-29'\n",
      "'transaction_date_day=2025-06-14'  'transaction_date_day=2025-06-30'\n",
      "'transaction_date_day=2025-06-15'  'transaction_date_day=2025-07-01'\n",
      "'transaction_date_day=2025-06-16'  'transaction_date_day=2025-07-02'\n",
      "'transaction_date_day=2025-06-17'  'transaction_date_day=2025-07-03'\n",
      "'transaction_date_day=2025-06-18'  'transaction_date_day=2025-07-04'\n",
      "'transaction_date_day=2025-06-19'  'transaction_date_day=2025-07-05'\n",
      "'transaction_date_day=2025-06-20'  'transaction_date_day=2025-07-06'\n",
      "'transaction_date_day=2025-06-21'  'transaction_date_day=2025-07-07'\n",
      "'transaction_date_day=2025-06-22'  'transaction_date_day=2025-07-08'\n",
      "'transaction_date_day=2025-06-23'  'transaction_date_day=2025-07-09'\n",
      "'transaction_date_day=2025-06-24'  'transaction_date_day=2025-07-10'\n",
      "'transaction_date_day=2025-06-25'  'transaction_date_day=2025-07-11'\n",
      "'transaction_date_day=2025-06-26'  'transaction_date_day=2025-07-12'\n",
      "'transaction_date_day=2025-06-27'  'transaction_date_day=2025-07-13'\n",
      "'transaction_date_day=2025-06-28'\n"
     ]
    },
    {
     "data": {
      "text/html": [
       "<pre style=\"white-space:pre;overflow-x:auto;line-height:normal;font-family:Menlo,'DejaVu Sans Mono',consolas,'Courier New',monospace\">\n",
       "\n",
       "</pre>\n"
      ],
      "text/plain": [
       "\n",
       "\n"
      ]
     },
     "metadata": {},
     "output_type": "display_data"
    },
    {
     "name": "stdout",
     "output_type": "stream",
     "text": [
      "'source_system=card_processor'\t'source_system=payment_gateway'\n",
      "'source_system=core_banking'\n"
     ]
    },
    {
     "data": {
      "text/html": [
       "<pre style=\"white-space:pre;overflow-x:auto;line-height:normal;font-family:Menlo,'DejaVu Sans Mono',consolas,'Courier New',monospace\">\n",
       "\n",
       "</pre>\n"
      ],
      "text/plain": [
       "\n",
       "\n"
      ]
     },
     "metadata": {},
     "output_type": "display_data"
    },
    {
     "name": "stdout",
     "output_type": "stream",
     "text": [
      "00000-21-40ec9a32-4e9e-4aac-bc83-14dbc5fc641a-0-00018.parquet\n"
     ]
    },
    {
     "data": {
      "text/html": [
       "<pre style=\"white-space:pre;overflow-x:auto;line-height:normal;font-family:Menlo,'DejaVu Sans Mono',consolas,'Courier New',monospace\">\n",
       "</pre>\n"
      ],
      "text/plain": [
       "\n"
      ]
     },
     "metadata": {},
     "output_type": "display_data"
    }
   ],
   "source": [
    "print(\"\\n🔍 source_transactions data directory (if exists):\")\n",
    "!ls {warehouse_dir}/banking/source_transactions/data/ 2>/dev/null || echo \"Data directory not yet created\"\n",
    "print(\"\\n\")\n",
    "!ls {warehouse_dir}/banking/source_transactions/data/'transaction_date_day=2025-06-29'\n",
    "print(\"\\n\")\n",
    "!ls {warehouse_dir}/banking/source_transactions/data/'transaction_date_day=2025-06-29'/'source_system=card_processor'\n",
    "print()"
   ]
  },
  {
   "cell_type": "markdown",
   "metadata": {},
   "source": [
    "## Step 11: Phase 2 Summary and Next Steps\n",
    "\n",
    "**Purpose**: Summarize what was accomplished in Phase 2 and prepare for the next phase.\n",
    "\n",
    "### **What We've Accomplished**:\n",
    "- Generated realistic, multi-system banking transaction data\n",
    "- Introduced controlled discrepancies for reconciliation testing\n",
    "- Saved data to CSV files and ingested into Iceberg tables\n",
    "- Validated data quality, partitioning, and schema\n",
    "- Examined Iceberg file structure with real data\n",
    "\n",
    "### **Next Phase Preview**:\n",
    "- Implement reconciliation logic\n",
    "- Analyze and resolve discrepancies\n",
    "- Generate reconciliation reports\n",
    "- Perform advanced Iceberg operations (time travel, schema evolution)"
   ]
  },
  {
   "cell_type": "code",
   "execution_count": 21,
   "metadata": {},
   "outputs": [
    {
     "data": {
      "text/html": [
       "<pre style=\"white-space:pre;overflow-x:auto;line-height:normal;font-family:Menlo,'DejaVu Sans Mono',consolas,'Courier New',monospace\">🎉 Phase <span style=\"color: #008080; text-decoration-color: #008080; font-weight: bold\">2</span> Complete!\n",
       "</pre>\n"
      ],
      "text/plain": [
       "🎉 Phase \u001b[1;36m2\u001b[0m Complete!\n"
      ]
     },
     "metadata": {},
     "output_type": "display_data"
    },
    {
     "data": {
      "text/html": [
       "<pre style=\"white-space:pre;overflow-x:auto;line-height:normal;font-family:Menlo,'DejaVu Sans Mono',consolas,'Courier New',monospace\">============================================================\n",
       "</pre>\n"
      ],
      "text/plain": [
       "============================================================\n"
      ]
     },
     "metadata": {},
     "output_type": "display_data"
    },
    {
     "data": {
      "text/html": [
       "<pre style=\"white-space:pre;overflow-x:auto;line-height:normal;font-family:Menlo,'DejaVu Sans Mono',consolas,'Courier New',monospace\"><span style=\"font-weight: bold\">{</span>\n",
       "  <span style=\"color: #008000; text-decoration-color: #008000\">\"timestamp\"</span>: <span style=\"color: #008000; text-decoration-color: #008000\">\"2025-07-13T10:28:12.850602\"</span>,\n",
       "  <span style=\"color: #008000; text-decoration-color: #008000\">\"phase\"</span>: <span style=\"color: #008000; text-decoration-color: #008000\">\"Phase 2 - Data Generation and Population\"</span>,\n",
       "  <span style=\"color: #008000; text-decoration-color: #008000\">\"status\"</span>: <span style=\"color: #008000; text-decoration-color: #008000\">\"completed\"</span>,\n",
       "  <span style=\"color: #008000; text-decoration-color: #008000\">\"data\"</span>: <span style=\"font-weight: bold\">{</span>\n",
       "    <span style=\"color: #008000; text-decoration-color: #008000\">\"total_transactions\"</span>: <span style=\"color: #008080; text-decoration-color: #008080; font-weight: bold\">15076</span>,\n",
       "    <span style=\"color: #008000; text-decoration-color: #008000\">\"systems\"</span>: <span style=\"font-weight: bold\">{</span>\n",
       "      <span style=\"color: #008000; text-decoration-color: #008000\">\"core_banking\"</span>: <span style=\"color: #008080; text-decoration-color: #008080; font-weight: bold\">5000</span>,\n",
       "      <span style=\"color: #008000; text-decoration-color: #008000\">\"card_processor\"</span>: <span style=\"color: #008080; text-decoration-color: #008080; font-weight: bold\">5050</span>,\n",
       "      <span style=\"color: #008000; text-decoration-color: #008000\">\"payment_gateway\"</span>: <span style=\"color: #008080; text-decoration-color: #008080; font-weight: bold\">5026</span>\n",
       "    <span style=\"font-weight: bold\">}</span>,\n",
       "    <span style=\"color: #008000; text-decoration-color: #008000\">\"date_range\"</span>: <span style=\"font-weight: bold\">[</span>\n",
       "      <span style=\"color: #008000; text-decoration-color: #008000\">\"2025-06-13\"</span>,\n",
       "      <span style=\"color: #008000; text-decoration-color: #008000\">\"2025-07-13\"</span>\n",
       "    <span style=\"font-weight: bold\">]</span>,\n",
       "    <span style=\"color: #008000; text-decoration-color: #008000\">\"error_rate\"</span>: <span style=\"color: #008080; text-decoration-color: #008080; font-weight: bold\">0.05</span>,\n",
       "    <span style=\"color: #008000; text-decoration-color: #008000\">\"extra_transactions_rate\"</span>: <span style=\"color: #008080; text-decoration-color: #008080; font-weight: bold\">0.02</span>\n",
       "  <span style=\"font-weight: bold\">}</span>,\n",
       "  <span style=\"color: #008000; text-decoration-color: #008000\">\"files\"</span>: <span style=\"font-weight: bold\">{</span>\n",
       "    <span style=\"color: #008000; text-decoration-color: #008000\">\"csv_files\"</span>: <span style=\"font-weight: bold\">[</span>\n",
       "      <span style=\"color: #008000; text-decoration-color: #008000\">\"/opt/bitnami/spark/data/raw/core_banking_transactions.csv\"</span>,\n",
       "      <span style=\"color: #008000; text-decoration-color: #008000\">\"/opt/bitnami/spark/data/raw/card_processor_transactions.csv\"</span>,\n",
       "      <span style=\"color: #008000; text-decoration-color: #008000\">\"/opt/bitnami/spark/data/raw/payment_gateway_transactions.csv\"</span>\n",
       "    <span style=\"font-weight: bold\">]</span>,\n",
       "    <span style=\"color: #008000; text-decoration-color: #008000\">\"data_directory\"</span>: <span style=\"color: #008000; text-decoration-color: #008000\">\"/opt/bitnami/spark/data/raw\"</span>,\n",
       "    <span style=\"color: #008000; text-decoration-color: #008000\">\"warehouse_directory\"</span>: <span style=\"color: #008000; text-decoration-color: #008000\">\"/opt/bitnami/spark/warehouse\"</span>\n",
       "  <span style=\"font-weight: bold\">}</span>,\n",
       "  <span style=\"color: #008000; text-decoration-color: #008000\">\"tables\"</span>: <span style=\"font-weight: bold\">{</span>\n",
       "    <span style=\"color: #008000; text-decoration-color: #008000\">\"source_transactions\"</span>: <span style=\"color: #008000; text-decoration-color: #008000\">\"Populated with multi-system transaction data\"</span>,\n",
       "    <span style=\"color: #008000; text-decoration-color: #008000\">\"reconciliation_results\"</span>: <span style=\"color: #008000; text-decoration-color: #008000\">\"Ready for reconciliation outcomes\"</span>,\n",
       "    <span style=\"color: #008000; text-decoration-color: #008000\">\"reconciliation_batches\"</span>: <span style=\"color: #008000; text-decoration-color: #008000\">\"Ready for batch metadata\"</span>\n",
       "  <span style=\"font-weight: bold\">}</span>,\n",
       "  <span style=\"color: #008000; text-decoration-color: #008000\">\"next_steps\"</span>: <span style=\"font-weight: bold\">[</span>\n",
       "    <span style=\"color: #008000; text-decoration-color: #008000\">\"Phase 3: Implement reconciliation logic\"</span>,\n",
       "    <span style=\"color: #008000; text-decoration-color: #008000\">\"Phase 4: Generate reconciliation reports\"</span>,\n",
       "    <span style=\"color: #008000; text-decoration-color: #008000\">\"Phase 5: Advanced Iceberg features\"</span>\n",
       "  <span style=\"font-weight: bold\">]</span>\n",
       "<span style=\"font-weight: bold\">}</span>\n",
       "</pre>\n"
      ],
      "text/plain": [
       "\u001b[1m{\u001b[0m\n",
       "  \u001b[32m\"timestamp\"\u001b[0m: \u001b[32m\"2025-07-13T10:28:12.850602\"\u001b[0m,\n",
       "  \u001b[32m\"phase\"\u001b[0m: \u001b[32m\"Phase 2 - Data Generation and Population\"\u001b[0m,\n",
       "  \u001b[32m\"status\"\u001b[0m: \u001b[32m\"completed\"\u001b[0m,\n",
       "  \u001b[32m\"data\"\u001b[0m: \u001b[1m{\u001b[0m\n",
       "    \u001b[32m\"total_transactions\"\u001b[0m: \u001b[1;36m15076\u001b[0m,\n",
       "    \u001b[32m\"systems\"\u001b[0m: \u001b[1m{\u001b[0m\n",
       "      \u001b[32m\"core_banking\"\u001b[0m: \u001b[1;36m5000\u001b[0m,\n",
       "      \u001b[32m\"card_processor\"\u001b[0m: \u001b[1;36m5050\u001b[0m,\n",
       "      \u001b[32m\"payment_gateway\"\u001b[0m: \u001b[1;36m5026\u001b[0m\n",
       "    \u001b[1m}\u001b[0m,\n",
       "    \u001b[32m\"date_range\"\u001b[0m: \u001b[1m[\u001b[0m\n",
       "      \u001b[32m\"2025-06-13\"\u001b[0m,\n",
       "      \u001b[32m\"2025-07-13\"\u001b[0m\n",
       "    \u001b[1m]\u001b[0m,\n",
       "    \u001b[32m\"error_rate\"\u001b[0m: \u001b[1;36m0.05\u001b[0m,\n",
       "    \u001b[32m\"extra_transactions_rate\"\u001b[0m: \u001b[1;36m0.02\u001b[0m\n",
       "  \u001b[1m}\u001b[0m,\n",
       "  \u001b[32m\"files\"\u001b[0m: \u001b[1m{\u001b[0m\n",
       "    \u001b[32m\"csv_files\"\u001b[0m: \u001b[1m[\u001b[0m\n",
       "      \u001b[32m\"/opt/bitnami/spark/data/raw/core_banking_transactions.csv\"\u001b[0m,\n",
       "      \u001b[32m\"/opt/bitnami/spark/data/raw/card_processor_transactions.csv\"\u001b[0m,\n",
       "      \u001b[32m\"/opt/bitnami/spark/data/raw/payment_gateway_transactions.csv\"\u001b[0m\n",
       "    \u001b[1m]\u001b[0m,\n",
       "    \u001b[32m\"data_directory\"\u001b[0m: \u001b[32m\"/opt/bitnami/spark/data/raw\"\u001b[0m,\n",
       "    \u001b[32m\"warehouse_directory\"\u001b[0m: \u001b[32m\"/opt/bitnami/spark/warehouse\"\u001b[0m\n",
       "  \u001b[1m}\u001b[0m,\n",
       "  \u001b[32m\"tables\"\u001b[0m: \u001b[1m{\u001b[0m\n",
       "    \u001b[32m\"source_transactions\"\u001b[0m: \u001b[32m\"Populated with multi-system transaction data\"\u001b[0m,\n",
       "    \u001b[32m\"reconciliation_results\"\u001b[0m: \u001b[32m\"Ready for reconciliation outcomes\"\u001b[0m,\n",
       "    \u001b[32m\"reconciliation_batches\"\u001b[0m: \u001b[32m\"Ready for batch metadata\"\u001b[0m\n",
       "  \u001b[1m}\u001b[0m,\n",
       "  \u001b[32m\"next_steps\"\u001b[0m: \u001b[1m[\u001b[0m\n",
       "    \u001b[32m\"Phase 3: Implement reconciliation logic\"\u001b[0m,\n",
       "    \u001b[32m\"Phase 4: Generate reconciliation reports\"\u001b[0m,\n",
       "    \u001b[32m\"Phase 5: Advanced Iceberg features\"\u001b[0m\n",
       "  \u001b[1m]\u001b[0m\n",
       "\u001b[1m}\u001b[0m\n"
      ]
     },
     "metadata": {},
     "output_type": "display_data"
    },
    {
     "data": {
      "text/html": [
       "<pre style=\"white-space:pre;overflow-x:auto;line-height:normal;font-family:Menlo,'DejaVu Sans Mono',consolas,'Courier New',monospace\">============================================================\n",
       "</pre>\n"
      ],
      "text/plain": [
       "============================================================\n"
      ]
     },
     "metadata": {},
     "output_type": "display_data"
    },
    {
     "data": {
      "text/html": [
       "<pre style=\"white-space:pre;overflow-x:auto;line-height:normal;font-family:Menlo,'DejaVu Sans Mono',consolas,'Courier New',monospace\">\n",
       " Learning Summary:\n",
       "</pre>\n"
      ],
      "text/plain": [
       "\n",
       " Learning Summary:\n"
      ]
     },
     "metadata": {},
     "output_type": "display_data"
    },
    {
     "data": {
      "text/html": [
       "<pre style=\"white-space:pre;overflow-x:auto;line-height:normal;font-family:Menlo,'DejaVu Sans Mono',consolas,'Courier New',monospace\">✅ Understanding of realistic data generation for banking scenarios\n",
       "</pre>\n"
      ],
      "text/plain": [
       "✅ Understanding of realistic data generation for banking scenarios\n"
      ]
     },
     "metadata": {},
     "output_type": "display_data"
    },
    {
     "data": {
      "text/html": [
       "<pre style=\"white-space:pre;overflow-x:auto;line-height:normal;font-family:Menlo,'DejaVu Sans Mono',consolas,'Courier New',monospace\">✅ Experience with multi-system data creation and discrepancy introduction\n",
       "</pre>\n"
      ],
      "text/plain": [
       "✅ Experience with multi-system data creation and discrepancy introduction\n"
      ]
     },
     "metadata": {},
     "output_type": "display_data"
    },
    {
     "data": {
      "text/html": [
       "<pre style=\"white-space:pre;overflow-x:auto;line-height:normal;font-family:Menlo,'DejaVu Sans Mono',consolas,'Courier New',monospace\">✅ Knowledge of CSV to Iceberg data ingestion process\n",
       "</pre>\n"
      ],
      "text/plain": [
       "✅ Knowledge of CSV to Iceberg data ingestion process\n"
      ]
     },
     "metadata": {},
     "output_type": "display_data"
    },
    {
     "data": {
      "text/html": [
       "<pre style=\"white-space:pre;overflow-x:auto;line-height:normal;font-family:Menlo,'DejaVu Sans Mono',consolas,'Courier New',monospace\">✅ Familiarity with Iceberg partitioning and data organization\n",
       "</pre>\n"
      ],
      "text/plain": [
       "✅ Familiarity with Iceberg partitioning and data organization\n"
      ]
     },
     "metadata": {},
     "output_type": "display_data"
    },
    {
     "data": {
      "text/html": [
       "<pre style=\"white-space:pre;overflow-x:auto;line-height:normal;font-family:Menlo,'DejaVu Sans Mono',consolas,'Courier New',monospace\">✅ Understanding of Iceberg file structure with populated data\n",
       "</pre>\n"
      ],
      "text/plain": [
       "✅ Understanding of Iceberg file structure with populated data\n"
      ]
     },
     "metadata": {},
     "output_type": "display_data"
    },
    {
     "data": {
      "text/html": [
       "<pre style=\"white-space:pre;overflow-x:auto;line-height:normal;font-family:Menlo,'DejaVu Sans Mono',consolas,'Courier New',monospace\">\n",
       "🚀 Next: Run Phase <span style=\"color: #008080; text-decoration-color: #008080; font-weight: bold\">3</span> notebook for reconciliation logic.\n",
       "</pre>\n"
      ],
      "text/plain": [
       "\n",
       "🚀 Next: Run Phase \u001b[1;36m3\u001b[0m notebook for reconciliation logic.\n"
      ]
     },
     "metadata": {},
     "output_type": "display_data"
    }
   ],
   "source": [
    "# Generate phase summary\n",
    "phase2_summary = {\n",
    "    \"timestamp\": datetime.now().isoformat(),\n",
    "    \"phase\": \"Phase 2 - Data Generation and Population\",\n",
    "    \"status\": \"completed\",\n",
    "    \"data\": {\n",
    "        \"total_transactions\": total_transactions,\n",
    "        \"systems\": {system: len(transactions) for system, transactions in all_transactions.items()},\n",
    "        \"date_range\": [start_date.strftime('%Y-%m-%d'), end_date.strftime('%Y-%m-%d')],\n",
    "        \"error_rate\": DATA_CONFIG['error_rate'],\n",
    "        \"extra_transactions_rate\": DATA_CONFIG['extra_transactions_rate']\n",
    "    },\n",
    "    \"files\": {\n",
    "        \"csv_files\": list(csv_files.values()),\n",
    "        \"data_directory\": data_dir,\n",
    "        \"warehouse_directory\": warehouse_dir\n",
    "    },\n",
    "    \"tables\": {\n",
    "        \"source_transactions\": \"Populated with multi-system transaction data\",\n",
    "        \"reconciliation_results\": \"Ready for reconciliation outcomes\",\n",
    "        \"reconciliation_batches\": \"Ready for batch metadata\"\n",
    "    },\n",
    "    \"next_steps\": [\n",
    "        \"Phase 3: Implement reconciliation logic\",\n",
    "        \"Phase 4: Generate reconciliation reports\",\n",
    "        \"Phase 5: Advanced Iceberg features\"\n",
    "    ]\n",
    "}\n",
    "\n",
    "print(\"🎉 Phase 2 Complete!\")\n",
    "print(\"=\" * 60)\n",
    "print(json.dumps(phase2_summary, indent=2))\n",
    "print(\"=\" * 60)\n",
    "print(\"\\n Learning Summary:\")\n",
    "print(\"✅ Understanding of realistic data generation for banking scenarios\")\n",
    "print(\"✅ Experience with multi-system data creation and discrepancy introduction\")\n",
    "print(\"✅ Knowledge of CSV to Iceberg data ingestion process\")\n",
    "print(\"✅ Familiarity with Iceberg partitioning and data organization\")\n",
    "print(\"✅ Understanding of Iceberg file structure with populated data\")\n",
    "print(\"\\n🚀 Next: Run Phase 3 notebook for reconciliation logic.\")"
   ]
  },
  {
   "cell_type": "code",
   "execution_count": 22,
   "metadata": {},
   "outputs": [],
   "source": [
    "spark.stop()"
   ]
  }
 ],
 "metadata": {
  "kernelspec": {
   "display_name": "Python 3 (ipykernel)",
   "language": "python",
   "name": "python3"
  },
  "language_info": {
   "codemirror_mode": {
    "name": "ipython",
    "version": 3
   },
   "file_extension": ".py",
   "mimetype": "text/x-python",
   "name": "python",
   "nbconvert_exporter": "python",
   "pygments_lexer": "ipython3",
   "version": "3.12.6"
  }
 },
 "nbformat": 4,
 "nbformat_minor": 4
}
